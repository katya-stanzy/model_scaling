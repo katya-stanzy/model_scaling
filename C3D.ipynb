{
 "cells": [
  {
   "cell_type": "code",
   "execution_count": 2,
   "metadata": {},
   "outputs": [],
   "source": [
    "import opensim as osim\n",
    "import os\n",
    "from simFunctions import *\n",
    "from subprocess import call\n",
    "from stan_utils import subject_specific_isometric_force\n",
    "from stan_utils import *\n",
    "import pandas as pd\n",
    "from ezc3d import c3d"
   ]
  },
  {
   "attachments": {},
   "cell_type": "markdown",
   "metadata": {},
   "source": [
    "# Export C3D markers, ground reaction forces and EMG"
   ]
  },
  {
   "attachments": {},
   "cell_type": "markdown",
   "metadata": {},
   "source": [
    "## Folder Iterator Class"
   ]
  },
  {
   "cell_type": "code",
   "execution_count": 10,
   "metadata": {},
   "outputs": [],
   "source": [
    "class c3d_folder_iterator:\n",
    "    def __init__(self, list_of_folders, working_dir, session_dir, import_img = False, plot=False):\n",
    "        self.list = list_of_folders\n",
    "        self.input = working_dir + '/' + session_dir\n",
    "        self.output = working_dir + '/' + session_dir\n",
    "        self.img = import_img\n",
    "        self.plot = plot\n",
    "\n",
    "    def apply(self):   \n",
    "        for folder in self.list:  \n",
    "            task_file = folder + '.c3d'  \n",
    "            input_dir = os.path.abspath(os.path.join(self.input, folder))\n",
    "            output_dir = os.path.abspath(os.path.join(self.output, folder))\n",
    "\n",
    "            # define order for ground reaction wrench\n",
    "            labels_wrench = ['ground_force_vx', 'ground_force_vy', 'ground_force_vz',\n",
    "                             'ground_force_px', 'ground_force_py', 'ground_force_pz',\n",
    "                             'ground_torque_x', 'ground_torque_y', 'ground_torque_z']\n",
    "            # the number of plates and the order of feet hitting them should be known in advance. Use Mokka to visualise C3D action.\n",
    "            # in this case, 5 plates are active, feet order is [right, left, right, left, right]\n",
    "            labels_force = ['plate1_' + label for label in labels_wrench] +\\\n",
    "                        ['plate2_'  + label for label in labels_wrench] +\\\n",
    "                        ['plate3_' + label for label in labels_wrench] +\\\n",
    "                        ['plate4_'  + label for label in labels_wrench] +\\\n",
    "                        ['plate5_' + label for label in labels_wrench] \n",
    "            \n",
    "            # OpenSim data adapters\n",
    "            adapter = osim.C3DFileAdapter()\n",
    "            adapter.setLocationForForceExpression(osim.C3DFileAdapter.ForceLocation_CenterOfPressure)\n",
    "            trc_adapter = osim.TRCFileAdapter()\n",
    "\n",
    "            # extract data for task (e.g., walk, run)\n",
    "            # get markers and forces\n",
    "            print(os.path.join(input_dir, task_file))\n",
    "            task = adapter.read(os.path.join(input_dir, task_file))\n",
    "            markers_task = adapter.getMarkersTable(task)\n",
    "            forces_task = adapter.getForcesTable(task)\n",
    "\n",
    "            # process markers of task and save to .trc file\n",
    "            rotate_data_table(markers_task, [1, 0, 0], -90)\n",
    "            rotate_data_table(markers_task, [0, 1, 0], -90)\n",
    "            trc_adapter = osim.TRCFileAdapter()\n",
    "            trc_adapter.write(markers_task, os.path.join(output_dir, 'task.trc'))\n",
    "\n",
    "            # process forces -- the rotation is lab-specific\n",
    "            rotate_data_table(forces_task, [1, 0, 0], -90)\n",
    "            rotate_data_table(forces_task, [0, 1, 0], -90)\n",
    "\n",
    "            # conversion of unit (f -> N, p -> mm, tau -> Nmm)\n",
    "            mm_to_m(forces_task, 'p1')\n",
    "            mm_to_m(forces_task, 'p2')\n",
    "            mm_to_m(forces_task, 'p3')\n",
    "            mm_to_m(forces_task, 'p4')\n",
    "            mm_to_m(forces_task, 'p5')\n",
    "\n",
    "            mm_to_m(forces_task, 'm1')\n",
    "            mm_to_m(forces_task, 'm2')\n",
    "            mm_to_m(forces_task, 'm3')\n",
    "            mm_to_m(forces_task, 'm4')\n",
    "            mm_to_m(forces_task, 'm5')\n",
    "\n",
    "            # refine ground reaction forces\n",
    "            refine_ground_reaction_wrench(forces_task, ['f1', 'p1', 'm1'],\n",
    "                                          stance_threshold=50, tau=0.001, debug=False)\n",
    "            refine_ground_reaction_wrench(forces_task, ['f2', 'p2', 'm2'],\n",
    "                                          stance_threshold=50, tau=0.001, debug=False)\n",
    "            refine_ground_reaction_wrench(forces_task, ['f3', 'p3', 'm3'],\n",
    "                                          stance_threshold=50, tau=0.001, debug=False)\n",
    "            refine_ground_reaction_wrench(forces_task, ['f4', 'p4', 'm4'],\n",
    "                                          stance_threshold=50, tau=0.001, debug=False)\n",
    "            refine_ground_reaction_wrench(forces_task, ['f5', 'p5', 'm5'],\n",
    "                                          stance_threshold=50, tau=0.001, debug=False)\n",
    "            \n",
    "            # export forces\n",
    "            time = forces_task.getIndependentColumn()\n",
    "            forces_task = forces_task.flatten(['x', 'y', 'z'])\n",
    "            force_sto = create_opensim_storage(time, forces_task.getMatrix(), labels_force)\n",
    "            force_sto.setName('GRF')\n",
    "            force_sto.printResult(force_sto, 'task_grf', output_dir, 0.01, '.mot')\n",
    "\n",
    "            # import emgs\n",
    "            if self.img == True:\n",
    "                importEMG(input_dir, task_file, output_dir)\n",
    "\n",
    "            # plot\n",
    "            if self.plot == True:\n",
    "                plot_sto_file(os.path.join(output_dir, 'task.trc'),\n",
    "                            os.path.join(output_dir, 'task.pdf'), 3)\n",
    "                plot_sto_file(os.path.join(output_dir, 'task_grf.mot'),\n",
    "                            os.path.join(output_dir, 'task_grf.pdf'), 3)\n",
    "            \n",
    "\n"
   ]
  },
  {
   "attachments": {},
   "cell_type": "markdown",
   "metadata": {},
   "source": [
    "## Parent directory\n",
    "Check the parent directory: working directory and session directory (if present) will have to be relative to it."
   ]
  },
  {
   "cell_type": "code",
   "execution_count": 4,
   "metadata": {},
   "outputs": [
    {
     "data": {
      "text/plain": [
       "'d:\\\\Docs_ASUS\\\\WORK\\\\hip\\\\MotionStudy\\\\MotionData\\\\001'"
      ]
     },
     "execution_count": 4,
     "metadata": {},
     "output_type": "execute_result"
    }
   ],
   "source": [
    "os.getcwd()"
   ]
  },
  {
   "cell_type": "markdown",
   "metadata": {},
   "source": [
    "### Static"
   ]
  },
  {
   "cell_type": "code",
   "execution_count": 5,
   "metadata": {},
   "outputs": [],
   "source": [
    "working_dir = 'P01/Python'\n",
    "session_dir = 'static' \n",
    "trial_names = ['Static03'] # static may have only one file or may have more"
   ]
  },
  {
   "cell_type": "code",
   "execution_count": 6,
   "metadata": {},
   "outputs": [],
   "source": [
    "import shutil\n",
    "\n",
    "for name in trial_names:\n",
    "    path = os.path.join(working_dir, session_dir, name)\n",
    "    if not os.path.exists(path):\n",
    "        os.makedirs(path)\n",
    "        filename = name + '.c3d'\n",
    "        shutil.move(os.path.join(working_dir, session_dir) + '/' + filename , path + '/' + filename)"
   ]
  },
  {
   "cell_type": "code",
   "execution_count": 12,
   "metadata": {},
   "outputs": [
    {
     "name": "stdout",
     "output_type": "stream",
     "text": [
      "d:\\Docs_ASUS\\WORK\\hip\\MotionStudy\\MotionData\\001\\P01\\Python\\static\\Static03\\Static03.c3d\n"
     ]
    }
   ],
   "source": [
    "list_of_folders = trial_names\n",
    "walking_iterator = c3d_folder_iterator(list_of_folders, working_dir, session_dir)\n",
    "walking_iterator.apply()"
   ]
  },
  {
   "attachments": {},
   "cell_type": "markdown",
   "metadata": {},
   "source": [
    "### Walking "
   ]
  },
  {
   "cell_type": "code",
   "execution_count": 23,
   "metadata": {},
   "outputs": [],
   "source": [
    "working_dir = 'P01/Python'\n",
    "session_dir = 'walking' \n",
    "trial_names = ['Walking16', 'Walking17', 'Walking18', 'Walking19', 'Walking20', 'Walking21']"
   ]
  },
  {
   "cell_type": "code",
   "execution_count": 24,
   "metadata": {},
   "outputs": [],
   "source": [
    "import shutil\n",
    "\n",
    "for name in trial_names:\n",
    "    path = os.path.join(working_dir, session_dir, name)\n",
    "    if not os.path.exists(path):\n",
    "        os.makedirs(path)\n",
    "        filename = name + '.c3d'\n",
    "        shutil.move(os.path.join(working_dir, session_dir) + '/' + filename , path + '/' + filename)"
   ]
  },
  {
   "cell_type": "code",
   "execution_count": 26,
   "metadata": {},
   "outputs": [
    {
     "name": "stdout",
     "output_type": "stream",
     "text": [
      "d:\\Docs_ASUS\\WORK\\hip\\MotionStudy\\MotionData\\001\\P01\\Python\\walking\\Walking16\\Walking16.c3d\n",
      "d:\\Docs_ASUS\\WORK\\hip\\MotionStudy\\MotionData\\001\\P01\\Python\\walking\\Walking17\\Walking17.c3d\n",
      "d:\\Docs_ASUS\\WORK\\hip\\MotionStudy\\MotionData\\001\\P01\\Python\\walking\\Walking18\\Walking18.c3d\n",
      "d:\\Docs_ASUS\\WORK\\hip\\MotionStudy\\MotionData\\001\\P01\\Python\\walking\\Walking19\\Walking19.c3d\n",
      "d:\\Docs_ASUS\\WORK\\hip\\MotionStudy\\MotionData\\001\\P01\\Python\\walking\\Walking20\\Walking20.c3d\n",
      "d:\\Docs_ASUS\\WORK\\hip\\MotionStudy\\MotionData\\001\\P01\\Python\\walking\\Walking21\\Walking21.c3d\n"
     ]
    }
   ],
   "source": [
    "list_of_folders = trial_names\n",
    "walking_iterator = c3d_folder_iterator(list_of_folders, working_dir, session_dir, import_img = True, plot=True)\n",
    "walking_iterator.apply()"
   ]
  },
  {
   "attachments": {},
   "cell_type": "markdown",
   "metadata": {},
   "source": [
    "### Running"
   ]
  },
  {
   "cell_type": "code",
   "execution_count": 32,
   "metadata": {},
   "outputs": [],
   "source": [
    "working_dir = 'P01/Python'\n",
    "session_dir = 'running' \n",
    "trial_names = ['Running01', 'Running03',  'Running04', 'Running06', 'Running07', 'Running08', 'Running15']"
   ]
  },
  {
   "cell_type": "code",
   "execution_count": 33,
   "metadata": {},
   "outputs": [
    {
     "name": "stdout",
     "output_type": "stream",
     "text": [
      "P01/Python\\running\\Running01\n",
      "P01/Python\\running\\Running03\n",
      "P01/Python\\running\\Running04\n",
      "P01/Python\\running\\Running06\n",
      "P01/Python\\running\\Running07\n",
      "P01/Python\\running\\Running08\n",
      "P01/Python\\running\\Running15\n"
     ]
    }
   ],
   "source": [
    "import shutil\n",
    "\n",
    "for name in trial_names:\n",
    "    path = os.path.join(working_dir, session_dir, name)\n",
    "    if not os.path.exists(path):\n",
    "        print(path)\n",
    "        os.makedirs(path)\n",
    "        filename = name + '.c3d'\n",
    "        shutil.move(os.path.join(working_dir, session_dir) + '/' + filename , path + '/' + filename)"
   ]
  },
  {
   "cell_type": "code",
   "execution_count": 34,
   "metadata": {},
   "outputs": [
    {
     "name": "stdout",
     "output_type": "stream",
     "text": [
      "d:\\Docs_ASUS\\WORK\\hip\\MotionStudy\\MotionData\\001\\P01\\Python\\running\\Running01\\Running01.c3d\n",
      "d:\\Docs_ASUS\\WORK\\hip\\MotionStudy\\MotionData\\001\\P01\\Python\\running\\Running03\\Running03.c3d\n",
      "d:\\Docs_ASUS\\WORK\\hip\\MotionStudy\\MotionData\\001\\P01\\Python\\running\\Running04\\Running04.c3d\n",
      "d:\\Docs_ASUS\\WORK\\hip\\MotionStudy\\MotionData\\001\\P01\\Python\\running\\Running06\\Running06.c3d\n",
      "d:\\Docs_ASUS\\WORK\\hip\\MotionStudy\\MotionData\\001\\P01\\Python\\running\\Running07\\Running07.c3d\n",
      "d:\\Docs_ASUS\\WORK\\hip\\MotionStudy\\MotionData\\001\\P01\\Python\\running\\Running08\\Running08.c3d\n",
      "d:\\Docs_ASUS\\WORK\\hip\\MotionStudy\\MotionData\\001\\P01\\Python\\running\\Running15\\Running15.c3d\n"
     ]
    }
   ],
   "source": [
    "running_iterator = c3d_folder_iterator(list_of_folders, working_dir, session_dir, import_img = True, plot=True)\n",
    "running_iterator.apply()"
   ]
  }
 ],
 "metadata": {
  "kernelspec": {
   "display_name": "py38",
   "language": "python",
   "name": "python3"
  },
  "language_info": {
   "codemirror_mode": {
    "name": "ipython",
    "version": 3
   },
   "file_extension": ".py",
   "mimetype": "text/x-python",
   "name": "python",
   "nbconvert_exporter": "python",
   "pygments_lexer": "ipython3",
   "version": "3.8.18"
  },
  "orig_nbformat": 4
 },
 "nbformat": 4,
 "nbformat_minor": 2
}
