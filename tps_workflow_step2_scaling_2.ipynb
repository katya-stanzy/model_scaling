{
 "cells": [
  {
   "attachments": {},
   "cell_type": "markdown",
   "metadata": {},
   "source": [
    "### +++ static +++"
   ]
  },
  {
   "cell_type": "code",
   "execution_count": 1,
   "metadata": {},
   "outputs": [],
   "source": [
    "import opensim as osim\n",
    "import os\n",
    "import sys\n",
    "\n",
    "from simFunctions import *\n",
    "from subprocess import call\n",
    "from stan_utils import subject_specific_isometric_force\n",
    "from stan_utils import *\n",
    "import pandas as pd"
   ]
  },
  {
   "cell_type": "code",
   "execution_count": 2,
   "metadata": {},
   "outputs": [
    {
     "data": {
      "text/plain": [
       "'d:\\\\Docs_ASUS\\\\WORK\\\\hip\\\\MotionStudy\\\\MotionData\\\\001'"
      ]
     },
     "execution_count": 2,
     "metadata": {},
     "output_type": "execute_result"
    }
   ],
   "source": [
    "os.getcwd()"
   ]
  },
  {
   "attachments": {},
   "cell_type": "markdown",
   "metadata": {},
   "source": [
    "# Scaling\n",
    "\n",
    "This file uses scaling scheme that is already given in scaling_setting.xml.\n",
    "\n",
    "For walking, the model is scaled following distances between external markers and muscle forces are scaled by a factor calculated with mass and height of the subject relative the mass and the height of the generic model."
   ]
  },
  {
   "cell_type": "code",
   "execution_count": 3,
   "metadata": {},
   "outputs": [],
   "source": [
    "# paths to and names of files\n",
    "\n",
    "# <model_file>\n",
    "path_to_generic_model = 'RajagopalModified_generic_copy.osim'\n",
    "\n",
    "# <marker_set_file>\n",
    "path_to_generic_marker_set = 'scaling_EXP_Markers_to_Scale_final_3.xml'\n",
    "\n",
    "# path to experimental .trc file : <marker_file>\n",
    "experimental_markers = r'D:\\Docs_ASUS\\WORK\\hip\\MotionStudy\\MotionData\\001\\P01\\Python\\static\\Static03\\task.trc'\n",
    "static_df = pd.read_csv(experimental_markers, delimiter='\\t', skiprows=3, header=[0,1], index_col=0)\n",
    "\n",
    "# <time_range>'\n",
    "time_range = f' 0 {list(static_df.loc[static_df.shape[0], \"Time\"])[0] }'\n",
    "\n",
    "# output model : <output_model_file>\n",
    "output_model_file = 'scaled_model_P01.osim'\n",
    "\n",
    "# <output_scale_file>\n",
    "output_scale_file = 'output_scale_file_P01.txt'\n",
    "\n",
    "mass_text = '52.4'\n",
    "\n",
    "height_text = '1.6'\n",
    "\n",
    "age_text = '33'"
   ]
  },
  {
   "cell_type": "code",
   "execution_count": 4,
   "metadata": {},
   "outputs": [],
   "source": [
    "import xml.etree.ElementTree as ET\n",
    "\n",
    "# parse the .xml with markers in body frames\n",
    "scaling_tree=ET.parse(\"scaling_setting.xml\")\n",
    "scaling_root = scaling_tree.getroot()\n",
    "\n",
    "for generic_model in scaling_root.iter('model_file'):\n",
    "    generic_model.text = path_to_generic_model\n",
    "\n",
    "for generic_marker_set in scaling_root.iter('marker_set_file'):\n",
    "    generic_marker_set.text = path_to_generic_marker_set\n",
    "\n",
    "for exp_markers in scaling_root.iter('marker_file'):\n",
    "    exp_markers.text = experimental_markers\n",
    "\n",
    "for time in scaling_root.iter('time_range'):\n",
    "    time.text = time_range\n",
    "\n",
    "for output in scaling_root.iter('output_model_file'):\n",
    "    output.text = output_model_file\n",
    "\n",
    "for scale in scaling_root.iter('output_scale_file'):\n",
    "    scale.text = output_scale_file\n",
    "\n",
    "for generic_marker_set in scaling_root.iter('marker_set_file'):\n",
    "    generic_marker_set.text = path_to_generic_marker_set\n",
    "\n",
    "for exp_markers in scaling_root.iter('marker_file'):\n",
    "    exp_markers.text = experimental_markers\n",
    "\n",
    "for time in scaling_root.iter('time_range'):\n",
    "    time.text = time_range\n",
    "\n",
    "for output in scaling_root.iter('output_model_file'):\n",
    "    output.text = output_model_file\n",
    "\n",
    "for scale in scaling_root.iter('output_scale_file'):\n",
    "    scale.text = output_scale_file"
   ]
  },
  {
   "cell_type": "code",
   "execution_count": 5,
   "metadata": {},
   "outputs": [],
   "source": [
    "for mass in scaling_root.iter('mass'):\n",
    "\tmass.text = mass_text\n",
    "\n",
    "for height in scaling_root.iter('height'):\n",
    "\theight.text = height_text\n",
    "\n",
    "for age in scaling_root.iter('age'):\n",
    "\tage.text = age_text"
   ]
  },
  {
   "cell_type": "code",
   "execution_count": 6,
   "metadata": {},
   "outputs": [],
   "source": [
    "scaling_tree.write(os.path.join('scaling_setting_P01.xml'))"
   ]
  },
  {
   "attachments": {},
   "cell_type": "markdown",
   "metadata": {},
   "source": [
    "## 2.1 Scale model to height and weight"
   ]
  },
  {
   "cell_type": "code",
   "execution_count": 7,
   "metadata": {},
   "outputs": [
    {
     "name": "stderr",
     "output_type": "stream",
     "text": [
      "c:\\Users\\Ekatarina\\miniconda3\\envs\\py38\\lib\\subprocess.py:848: RuntimeWarning: line buffering (buffering=1) isn't supported in binary mode, the default buffer size will be used\n",
      "  self.stdout = io.open(c2pread, 'rb', bufsize)\n"
     ]
    },
    {
     "name": "stdout",
     "output_type": "stream",
     "text": [
      "[info] Preparing to run ScaleTool.\n",
      "\n",
      "[info] Processing subject Rajagopal-generic-scaled...\n",
      "\n",
      "[info] Step 1: Loading generic model\n",
      "\n",
      "[info] Loaded model RajagopalModifiedGeneric from file d:\\Docs_ASUS\\WORK\\hip\\MotionStudy\\MotionData\\001\\RajagopalModified_generic_copy_with_joint_centers.osim\n",
      "\n",
      "[info] Loading marker set from 'scaling_EXP_Markers_to_Scale_final_3.xml'.\n",
      "\n",
      "[info] Updated markers in model RajagopalModifiedGeneric\n",
      "\n",
      "[info] Step 2: Scaling generic model\n",
      "\n",
      "[info] Loaded marker file D:\\Docs_ASUS\\WORK\\hip\\MotionStudy\\MotionData\\001\\P01\\Python\\static\\Static03\\task.trc (40 markers, 445 frames)\n",
      "\n",
      "[info] Measurement 'pelvis width'\n",
      "\n",
      "[info] \tpair 0 (LASI, RASI): model = 0.249129, experimental = 0.222911\n",
      "\n",
      "[info] \tpair 1 (LPSI, RPSI): model = 0.0880006, experimental = 0.0854253\n",
      "\n",
      "[info] \toverall scale factor = 0.932748\n",
      "\n",
      "[info] Measurement 'pelvis height'\n",
      "\n",
      "[info] \tpair 0 (LASI, LMKNE): model = 0.502243, experimental = 0.458841\n",
      "\n",
      "[info] \tpair 1 (RASI, RMKNE): model = 0.490209, experimental = 0.456198\n",
      "\n",
      "[info] \toverall scale factor = 0.922101\n",
      "\n",
      "[info] Measurement 'torso height'\n",
      "\n",
      "[info] \tpair 0 (PE01, C7): model = 0.439607, experimental = 0.400213\n",
      "\n",
      "[info] \toverall scale factor = 0.910389\n",
      "\n",
      "[info] Measurement 'torso depth'\n",
      "\n",
      "[info] \tpair 0 (T10, STRN): model = 0.197721, experimental = 0.221967\n",
      "\n",
      "[info] \toverall scale factor = 1.12263\n",
      "\n",
      "[info] Measurement 'femur_r_length'\n",
      "\n",
      "[info] \tpair 0 (RASI, RMKNE): model = 0.490209, experimental = 0.456198\n",
      "\n",
      "[info] \tpair 1 (RGT, RKNE): model = 0.388711, experimental = 0.34918\n",
      "\n",
      "[info] \toverall scale factor = 0.91446\n",
      "\n",
      "[info] Measurement 'femur_l_length'\n",
      "\n",
      "[info] \tpair 0 (LASI, LMKNE): model = 0.502243, experimental = 0.458841\n",
      "\n",
      "[info] \tpair 1 (LGT, LKNE): model = 0.388711, experimental = 0.347020\n",
      "\n",
      "[info] \toverall scale factor = 0.903164\n",
      "\n",
      "[info] Measurement 'tibia_r_length'\n",
      "\n",
      "[info] \tpair 0 (RKNE, RANK): model = 0.379254, experimental = 0.404129\n",
      "\n",
      "[info] \tpair 1 (RMKNE, RHEE): model = 0.433377, experimental = 0.447315\n",
      "\n",
      "[info] \toverall scale factor = 1.04888\n",
      "\n",
      "[info] Measurement 'tibia_l_length'\n",
      "\n",
      "[info] \tpair 0 (LKNE, LANK): model = 0.382658, experimental = 0.381486\n",
      "\n",
      "[info] \tpair 1 (LMKNE, LHEE): model = 0.433377, experimental = 0.433126\n",
      "\n",
      "[info] \toverall scale factor = 0.998178\n",
      "\n",
      "[info] Measurement 'foot_horiz_l'\n",
      "\n",
      "[info] \tpair 0 (LHEE, LTOE): model = 0.210644, experimental = 0.194699\n",
      "\n",
      "[info] \toverall scale factor = 0.924306\n",
      "\n",
      "[info] Measurement 'foot_horiz_r'\n",
      "\n",
      "[info] \tpair 0 (RHEE, RTOE): model = 0.203249, experimental = 0.189669\n",
      "\n",
      "[info] \toverall scale factor = 0.93319\n",
      "\n",
      "[info] Measurement 'foot_vertic_l'\n",
      "\n",
      "[info] \tpair 0 (LHEE, LANK): model = 0.0951554, experimental = 0.0723467\n",
      "\n",
      "[info] \tpair 1 (LHEE, LMMA): model = 0.105265, experimental = 0.0870646\n",
      "\n",
      "[info] \toverall scale factor = 0.793699\n",
      "\n",
      "[info] Measurement 'foot_vertic_r'\n",
      "\n",
      "[info] \tpair 0 (RHEE, RANK): model = 0.0966272, experimental = 0.0677337\n",
      "\n",
      "[info] \tpair 1 (RHEE, RMMA): model = 0.106704, experimental = 0.0861021\n",
      "\n",
      "[info] \toverall scale factor = 0.753953\n",
      "\n",
      "[info] Wrote model file 'scaled_model_P01.osim' from model.\n",
      "\n",
      "[info] Wrote scale file 'output_scale_file_P01.txt' for model Rajagopal-generic-scaled.\n",
      "\n",
      "[info] Step 3: Placing markers on model\n",
      "\n",
      "[info] Loaded marker file D:\\Docs_ASUS\\WORK\\hip\\MotionStudy\\MotionData\\001\\P01\\Python\\static\\Static03\\task.trc (40 markers, 445 frames)\n",
      "\n",
      "[info] Averaged frames from time 0.0 to 2.22 in D:\\Docs_ASUS\\WORK\\hip\\MotionStudy\\MotionData\\001\\P01\\Python\\static\\Static03\\task.trc (frames 1 to 445)\n",
      "\n",
      "[info] Deleted 16 unused markers from model Rajagopal-generic-scaled.\n",
      "\n",
      "[info] Frame at (t = 0.0):\t total squared error = 0.0289019, marker error: RMS = 0.032128, max = 0.0970625 (T10)\n",
      "\n",
      "[info] Moved markers in model Rajagopal-generic-scaled to match locations in marker file 'D:\\Docs_ASUS\\WORK\\hip\\MotionStudy\\MotionData\\001\\P01\\Python\\static\\Static03\\task.trc'.\n",
      "\n",
      "[info] Wrote model file 'scaled_model_P01.osim' from model Rajagopal-generic-scaled.\n",
      "\n",
      "\n",
      "Return code:  None \n",
      "\n"
     ]
    }
   ],
   "source": [
    "cmdprog = 'opensim-cmd'\n",
    "cmdtool = 'run-tool'\n",
    "cmdfile = 'scaling_setting_P01.xml'\n",
    "cmdfull = [cmdprog, cmdtool, cmdfile]\n",
    "rc = runProgram(cmdfull)"
   ]
  },
  {
   "cell_type": "markdown",
   "metadata": {},
   "source": [
    "<div class=\"alert alert-block alert-info\">\n",
    "<b>IN OPENSIM GUI</b> place centers of joints: \n",
    "    <li>torso_origin_in_pelvis</li>\n",
    "    <li>pelvis_origin_in_ground</li>\n",
    "    <li>femur_l_center_in_pelvis</li>\n",
    "    <li>femur_r_center_in_pelvis</li>\n",
    "    <li>knee_l_center_in_femur_l</li>\n",
    "    <li>knee_r_center_in_femur_r</li>\n",
    "    <li>patella_l_in_femur_l</li>\n",
    "    <li>patella_r_in_femur_r</li>\n",
    "    <li>ankle_l_tibia_l_offset</li>\n",
    "    <li>ankle_r_tibia_r_offset</li>\n",
    "\n",
    "</div>"
   ]
  },
  {
   "attachments": {},
   "cell_type": "markdown",
   "metadata": {},
   "source": [
    "## 2.2 Scale model muscle forces to height and weight for walking"
   ]
  },
  {
   "cell_type": "markdown",
   "metadata": {},
   "source": [
    "generic_model = osim.Model('RajagopalModified_generic_copy.osim')\n",
    "model=osim.Model(os.path.join('scaled_2.osim'))\n",
    "scaled = scaleOptimalForceSubjectSpecific(generic_model, model, 1.77, 1.60)"
   ]
  },
  {
   "cell_type": "markdown",
   "metadata": {},
   "source": [
    "pelvis_coordinates = model.getCoordinateSet().get('pelvis_tilt')\n",
    "pelvis_coordinates.setRangeMax(4)\n",
    "scaled.printToXML(os.path.join('forces_scaled_2.osim'))"
   ]
  },
  {
   "attachments": {},
   "cell_type": "markdown",
   "metadata": {},
   "source": [
    "## 2.3 Increase model muscle forces for running"
   ]
  },
  {
   "cell_type": "markdown",
   "metadata": {},
   "source": [
    "This step is to create a second model, specifically for running. It is not necessary if the first model works well for both."
   ]
  },
  {
   "cell_type": "markdown",
   "metadata": {},
   "source": [
    "model=osim.Model(os.path.join('forces_scaled_2.osim'))\n",
    "muscles=model.getMuscles()\n",
    "muscles.getSize()"
   ]
  },
  {
   "attachments": {},
   "cell_type": "markdown",
   "metadata": {},
   "source": [
    "'glmax1_l', 'glmax1_r', 'glmax2_l', 'glmax2_r', 'glmax3_l', 'glmax3_r', 'glmed1_l', 'glmed1_r', 'glmed1_2', 'glmed2_r', 'glmed3_l', 'glmed3_r', 'glmin1_l', 'glmin1_r', 'glmin2_l', 'glmin2_r', 'glmin3_l', 'glmin3_r', 'semimem_l', 'semimem_r', 'semiten_l', 'semiten_r', 'soleus_l', 'soleus_r', 'tibpost_l', 'tibpost_r', 'vaslat_l', 'vaslat_r', 'vasmed_l', 'vasmed_r', 'vasint_l', 'vasint_r'"
   ]
  },
  {
   "cell_type": "markdown",
   "metadata": {},
   "source": [
    "good_muscles = []"
   ]
  },
  {
   "cell_type": "markdown",
   "metadata": {},
   "source": [
    "for i in range(0, muscles.getSize()):\n",
    "    currentMuscle = muscles.get(i)\n",
    "    if currentMuscle.getName() not in good_muscles:\n",
    "        forceScaleFactor = 2\n",
    "        currentMuscle.setMaxIsometricForce(forceScaleFactor * currentMuscle.getMaxIsometricForce() )        "
   ]
  },
  {
   "cell_type": "markdown",
   "metadata": {},
   "source": [
    "pelvis_coordinates = model.getCoordinateSet().get('pelvis_tilt')\n",
    "pelvis_coordinates.setRangeMax(4)\n",
    "pelvis_coordinates.setRangeMin(-4)"
   ]
  },
  {
   "cell_type": "markdown",
   "metadata": {},
   "source": [
    "model.printToXML(os.path.join('forces_scaled_2_running.osim'))"
   ]
  }
 ],
 "metadata": {
  "kernelspec": {
   "display_name": "py38",
   "language": "python",
   "name": "python3"
  },
  "language_info": {
   "codemirror_mode": {
    "name": "ipython",
    "version": 3
   },
   "file_extension": ".py",
   "mimetype": "text/x-python",
   "name": "python",
   "nbconvert_exporter": "python",
   "pygments_lexer": "ipython3",
   "version": "3.8.18"
  },
  "orig_nbformat": 4
 },
 "nbformat": 4,
 "nbformat_minor": 2
}
