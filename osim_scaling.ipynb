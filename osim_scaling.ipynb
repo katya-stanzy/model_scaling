{
 "cells": [
  {
   "attachments": {},
   "cell_type": "markdown",
   "metadata": {},
   "source": [
    "### +++ P03 static +++"
   ]
  },
  {
   "cell_type": "code",
   "execution_count": 1,
   "metadata": {},
   "outputs": [],
   "source": [
    "import opensim as osim\n",
    "import os\n",
    "import sys\n",
    "from simFunctions import *\n",
    "from subprocess import call\n",
    "from stan_utils import subject_specific_isometric_force\n",
    "from stan_utils import *"
   ]
  },
  {
   "attachments": {},
   "cell_type": "markdown",
   "metadata": {},
   "source": [
    "# 2. Scaling\n",
    "\n",
    "For walking, the model is scaled following distances between external markers and muscle forces are scaled by a factor calculated with mass and height of the subject relative the mass and the height of the generic model."
   ]
  },
  {
   "attachments": {},
   "cell_type": "markdown",
   "metadata": {},
   "source": [
    "## 2.1 Scale model to height and weight"
   ]
  },
  {
   "cell_type": "code",
   "execution_count": 2,
   "metadata": {},
   "outputs": [],
   "source": [
    "# subject data\n",
    "subject_height = 1.6\n",
    "generic_height = 1.77"
   ]
  },
  {
   "cell_type": "code",
   "execution_count": 3,
   "metadata": {},
   "outputs": [
    {
     "name": "stderr",
     "output_type": "stream",
     "text": [
      "c:\\Users\\Ekatarina\\miniconda3\\envs\\py38\\lib\\subprocess.py:848: RuntimeWarning: line buffering (buffering=1) isn't supported in binary mode, the default buffer size will be used\n",
      "  self.stdout = io.open(c2pread, 'rb', bufsize)\n"
     ]
    },
    {
     "name": "stdout",
     "output_type": "stream",
     "text": [
      "[info] Preparing to run ScaleTool.\n",
      "\n",
      "[info] Processing subject Mixed_Marker_Ratio_Scale...\n",
      "\n",
      "[info] Step 1: Loading generic model\n",
      "\n",
      "[info] Loaded model RajagopalModifiedGeneric from file c:\\Users\\Ekatarina\\Dropbox\\My_PC_LAPTOP-OF7GLRAD\\Documents\\WORK\\hip\\MotionStudy\\MotionData\\003\\P03\\RajagopalModified_generic_copy.osim\n",
      "\n",
      "[info] Loading marker set from '../scaling_EXP_Markers_to_Scale_final_3.xml'.\n",
      "\n",
      "[info] Updated markers in model RajagopalModifiedGeneric\n",
      "\n",
      "[info] Step 2: Scaling generic model\n",
      "\n",
      "[info] Loaded marker file ../Session2/Static03/marker_experimental.trc (40 markers, 660 frames)\n",
      "\n",
      "[info] Measurement 'torso height'\n",
      "\n",
      "[info] \tpair 0 (PE01, C7): model = 0.439607, experimental = 0.410544\n",
      "\n",
      "[info] \toverall scale factor = 0.93389\n",
      "\n",
      "[info] Measurement 'foot_horiz_l'\n",
      "\n",
      "[info] \tpair 0 (LHEE, LTOE): model = 0.212119, experimental = 0.206409\n",
      "\n",
      "[info] \toverall scale factor = 0.973083\n",
      "\n",
      "[info] Measurement 'foot_horiz_r'\n",
      "\n",
      "[info] \tpair 0 (RHEE, RTOE): model = 0.204784, experimental = 0.204249\n",
      "\n",
      "[info] \toverall scale factor = 0.997386\n",
      "\n",
      "[info] Measurement 'foot_vertic_l'\n",
      "\n",
      "[info] \tpair 0 (LHEE, LANK): model = 0.0872756, experimental = 0.0762385\n",
      "\n",
      "[info] \tpair 1 (LHEE, LMMA): model = 0.0986505, experimental = 0.0849012\n",
      "\n",
      "[info] \toverall scale factor = 0.867082\n",
      "\n",
      "[info] Measurement 'foot_vertic_r'\n",
      "\n",
      "[info] \tpair 0 (RHEE, RANK): model = 0.0872756, experimental = 0.0744555\n",
      "\n",
      "[info] \tpair 1 (RHEE, RMMA): model = 0.0998134, experimental = 0.0843793\n",
      "\n",
      "[info] \toverall scale factor = 0.849239\n",
      "\n",
      "[info] Wrote model file 'C:\\Users\\Ekatarina\\Dropbox\\My_PC_LAPTOP-OF7GLRAD\\Documents\\WORK\\hip\\MotionStudy\\MotionData\\003\\P03\\p03_scaled_1.osim' from model.\n",
      "\n",
      "[info] Wrote scale file 'C:\\Users\\Ekatarina\\Dropbox\\My_PC_LAPTOP-OF7GLRAD\\Documents\\WORK\\hip\\MotionStudy\\MotionData\\003\\P03\\scale_factors_p03_1.txt' for model Mixed_Marker_Ratio_Scale.\n",
      "\n",
      "[info] Step 3: Placing markers on model\n",
      "\n",
      "[info] Loaded marker file ../Session2/Static03/marker_experimental.trc (40 markers, 660 frames)\n",
      "\n",
      "[info] Averaged frames from time 0.0 to 3.295 in ../Session2/Static03/marker_experimental.trc (frames 1 to 660)\n",
      "\n",
      "[info] Deleted 0 unused markers from model Mixed_Marker_Ratio_Scale.\n",
      "\n",
      "[info] Frame at (t = 0.0):\t total squared error = 0.0304683, marker error: RMS = 0.0329872, max = 0.0849099 (T10)\n",
      "\n",
      "[info] Moved markers in model Mixed_Marker_Ratio_Scale to match locations in marker file '../Session2/Static03/marker_experimental.trc'.\n",
      "\n",
      "[info] Wrote model file 'C:\\Users\\Ekatarina\\Dropbox\\My_PC_LAPTOP-OF7GLRAD\\Documents\\WORK\\hip\\MotionStudy\\MotionData\\003\\P03\\p03_scaled_2.osim' from model Mixed_Marker_Ratio_Scale.\n",
      "\n",
      "\n",
      "Return code:  None \n",
      "\n"
     ]
    }
   ],
   "source": [
    "cmdprog = 'opensim-cmd'\n",
    "cmdtool = 'run-tool'\n",
    "cmdfile = '..\\p03_scale_settings_2.xml'\n",
    "cmdfull = [cmdprog, cmdtool, cmdfile]\n",
    "rc = runProgram(cmdfull)"
   ]
  },
  {
   "attachments": {},
   "cell_type": "markdown",
   "metadata": {},
   "source": [
    "## 2.2 Scale model muscle forces to height and weight for walking"
   ]
  },
  {
   "cell_type": "code",
   "execution_count": 6,
   "metadata": {},
   "outputs": [],
   "source": [
    "generic_model = osim.Model('../RajagopalModified_generic_copy.osim')\n",
    "model=osim.Model(os.path.join('../p03_scaled_2.osim'))\n",
    "scaled = scaleOptimalForceSubjectSpecific(generic_model, model, 1.77, 1.60)"
   ]
  },
  {
   "cell_type": "code",
   "execution_count": 7,
   "metadata": {},
   "outputs": [
    {
     "data": {
      "text/plain": [
       "True"
      ]
     },
     "execution_count": 7,
     "metadata": {},
     "output_type": "execute_result"
    }
   ],
   "source": [
    "pelvis_coordinates = model.getCoordinateSet().get('pelvis_tilt')\n",
    "pelvis_coordinates.setRangeMax(4)\n",
    "scaled.printToXML(os.path.join('..\\\\p03_forces_scaled_2.osim'))"
   ]
  },
  {
   "attachments": {},
   "cell_type": "markdown",
   "metadata": {},
   "source": [
    "## 2.3 Increase model muscle forces for running"
   ]
  },
  {
   "cell_type": "code",
   "execution_count": 8,
   "metadata": {},
   "outputs": [
    {
     "data": {
      "text/plain": [
       "80"
      ]
     },
     "execution_count": 8,
     "metadata": {},
     "output_type": "execute_result"
    }
   ],
   "source": [
    "model=osim.Model(os.path.join('../p03_forces_scaled_2.osim'))\n",
    "muscles=model.getMuscles()\n",
    "muscles.getSize()"
   ]
  },
  {
   "attachments": {},
   "cell_type": "markdown",
   "metadata": {},
   "source": [
    "'glmax1_l', 'glmax1_r', 'glmax2_l', 'glmax2_r', 'glmax3_l', 'glmax3_r', 'glmed1_l', 'glmed1_r', 'glmed1_2', 'glmed2_r', 'glmed3_l', 'glmed3_r', 'glmin1_l', 'glmin1_r', 'glmin2_l', 'glmin2_r', 'glmin3_l', 'glmin3_r', 'semimem_l', 'semimem_r', 'semiten_l', 'semiten_r', 'soleus_l', 'soleus_r', 'tibpost_l', 'tibpost_r', 'vaslat_l', 'vaslat_r', 'vasmed_l', 'vasmed_r', 'vasint_l', 'vasint_r'"
   ]
  },
  {
   "cell_type": "code",
   "execution_count": 9,
   "metadata": {},
   "outputs": [],
   "source": [
    "good_muscles = []"
   ]
  },
  {
   "cell_type": "code",
   "execution_count": 10,
   "metadata": {},
   "outputs": [],
   "source": [
    "for i in range(0, muscles.getSize()):\n",
    "    currentMuscle = muscles.get(i)\n",
    "    if currentMuscle.getName() not in good_muscles:\n",
    "        forceScaleFactor = 2\n",
    "        currentMuscle.setMaxIsometricForce(forceScaleFactor * currentMuscle.getMaxIsometricForce() )        "
   ]
  },
  {
   "cell_type": "code",
   "execution_count": 11,
   "metadata": {},
   "outputs": [],
   "source": [
    "pelvis_coordinates = model.getCoordinateSet().get('pelvis_tilt')\n",
    "pelvis_coordinates.setRangeMax(4)\n",
    "pelvis_coordinates.setRangeMin(-4)"
   ]
  },
  {
   "cell_type": "code",
   "execution_count": 12,
   "metadata": {},
   "outputs": [
    {
     "data": {
      "text/plain": [
       "True"
      ]
     },
     "execution_count": 12,
     "metadata": {},
     "output_type": "execute_result"
    }
   ],
   "source": [
    "model.printToXML(os.path.join('../p03_forces_scaled_2_running.osim'))"
   ]
  },
  {
   "attachments": {},
   "cell_type": "markdown",
   "metadata": {},
   "source": []
  }
 ],
 "metadata": {
  "kernelspec": {
   "display_name": "py38",
   "language": "python",
   "name": "python3"
  },
  "language_info": {
   "codemirror_mode": {
    "name": "ipython",
    "version": 3
   },
   "file_extension": ".py",
   "mimetype": "text/x-python",
   "name": "python",
   "nbconvert_exporter": "python",
   "pygments_lexer": "ipython3",
   "version": "3.8.16"
  },
  "orig_nbformat": 4
 },
 "nbformat": 4,
 "nbformat_minor": 2
}
