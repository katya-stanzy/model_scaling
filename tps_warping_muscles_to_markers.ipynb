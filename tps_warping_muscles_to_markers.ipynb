{
 "cells": [
  {
   "cell_type": "code",
   "execution_count": 1,
   "metadata": {},
   "outputs": [],
   "source": [
    "import xml.etree.ElementTree as ET\n",
    "import numpy as np\n",
    "import pandas as pd\n",
    "import json\n",
    "import os\n",
    "from tps import ThinPlateSpline\n",
    "from skspatial.objects import Plane, Points"
   ]
  },
  {
   "cell_type": "code",
   "execution_count": 2,
   "metadata": {},
   "outputs": [],
   "source": [
    "import plotly.graph_objects as go\n",
    "import plotly.express as px\n",
    "\n",
    "import pyvista as pv\n",
    "# pip install --upgrade trame-vtk\n",
    "pv.set_jupyter_backend('trame')"
   ]
  },
  {
   "cell_type": "code",
   "execution_count": 3,
   "metadata": {},
   "outputs": [],
   "source": [
    "from rotation_utils import *"
   ]
  },
  {
   "cell_type": "code",
   "execution_count": 4,
   "metadata": {},
   "outputs": [
    {
     "data": {
      "text/plain": [
       "'d:\\\\Docs_ASUS\\\\WORK\\\\hip\\\\MotionStudy\\\\MotionData\\\\003\\\\P03'"
      ]
     },
     "execution_count": 4,
     "metadata": {},
     "output_type": "execute_result"
    }
   ],
   "source": [
    "os.getcwd()"
   ]
  },
  {
   "cell_type": "markdown",
   "metadata": {},
   "source": [
    "<div class=\"alert alert-block alert-info\">\n",
    "<b>REMEMBER:</b> OSIM works in meters, 3DSlicer works in milimeters - watch scaling of data!\n",
    "</div>"
   ]
  },
  {
   "cell_type": "markdown",
   "metadata": {},
   "source": [
    "## Import OSIM Markers from XML file"
   ]
  },
  {
   "cell_type": "code",
   "execution_count": 5,
   "metadata": {},
   "outputs": [
    {
     "name": "stdout",
     "output_type": "stream",
     "text": [
      "<Element 'OpenSimDocument' at 0x0000013AEF5C7DB0>\n"
     ]
    }
   ],
   "source": [
    "# parse the .xml with markers in body frames\n",
    "markers_tree=ET.parse(\"markers_and_bone_markers_in_bodies.xml\")\n",
    "markers_root = markers_tree.getroot()\n",
    "print(markers_root)"
   ]
  },
  {
   "cell_type": "code",
   "execution_count": 6,
   "metadata": {},
   "outputs": [
    {
     "data": {
      "text/plain": [
       "108"
      ]
     },
     "execution_count": 6,
     "metadata": {},
     "output_type": "execute_result"
    }
   ],
   "source": [
    "# extract markers and create a list of dictionaries\n",
    "mrkrs = []\n",
    "for Marker in markers_root.iter('Marker'):\n",
    "    dic = Marker.attrib\n",
    "    for child in Marker:\n",
    "        tagg = child.tag\n",
    "        dic[tagg] = child.text\n",
    "    mrkrs.append(dic)\n",
    "len(mrkrs)"
   ]
  },
  {
   "cell_type": "code",
   "execution_count": null,
   "metadata": {},
   "outputs": [],
   "source": [
    "# split information in preparation for data frame\n",
    "mrkrs_new = []\n",
    "keys = ['name', 'socket_parent_frame', 'location']\n",
    "for mrkr in mrkrs:\n",
    "    dic = {}\n",
    "    for key in keys:\n",
    "        if key == 'name':\n",
    "            dic[key] = mrkr[key]\n",
    "        if key == 'socket_parent_frame':\n",
    "            if '/bodyset' in mrkr[key]:\n",
    "                mrkr[key] = mrkr[key][9:]\n",
    "            elif '/' in mrkr[key]:\n",
    "                mrkr[key] = mrkr[key][1:]\n",
    "            dic[key] = mrkr[key]\n",
    "        if key == 'location':\n",
    "            a = mrkr[key].split()\n",
    "            a = [float(i) for i in a]\n",
    "            dic['r'] = a[0]*1000\n",
    "            dic['a'] = a[1]*1000\n",
    "            dic['s'] = a[2]*1000\n",
    "    mrkrs_new.append(dic)"
   ]
  },
  {
   "cell_type": "code",
   "execution_count": null,
   "metadata": {},
   "outputs": [],
   "source": [
    "# create the dataframe that contains all information\n",
    "df_markers = pd.DataFrame.from_dict(mrkrs_new)\n",
    "# df_markers.head()\n",
    "# export the dataframe to CVS\n",
    "# df_markers.to_csv('model_update/markers_in_child.csv')"
   ]
  },
  {
   "cell_type": "markdown",
   "metadata": {},
   "source": [
    "##  Import OSIM muscles and muscle wrapping surfaces from the Rajagopal model file"
   ]
  },
  {
   "cell_type": "code",
   "execution_count": null,
   "metadata": {},
   "outputs": [],
   "source": [
    "# Import and parse the original Rajagopal model with muscles\n",
    "tree_model = ET.parse('RajagopalModified_generic_copy.osim')\n",
    "root_model = tree_model.getroot()"
   ]
  },
  {
   "cell_type": "markdown",
   "metadata": {},
   "source": [
    "#### Import muscles"
   ]
  },
  {
   "cell_type": "code",
   "execution_count": null,
   "metadata": {},
   "outputs": [],
   "source": [
    "# Extract the muscle path points\n",
    "lst = []\n",
    "for PathPointSet in root_model.iter('PathPointSet'):\n",
    "    lst.append(PathPointSet)\n",
    "\n",
    "lm_groups = []\n",
    "for N in lst:\n",
    "    n = N[0]\n",
    "    l = []\n",
    "    for el in n:\n",
    "        dic = el.attrib\n",
    "        for child in el:\n",
    "            tagg = child.tag\n",
    "            dic[tagg] = child.text\n",
    "        l.append(dic)\n",
    "    lm_groups.append(l)"
   ]
  },
  {
   "cell_type": "code",
   "execution_count": null,
   "metadata": {},
   "outputs": [],
   "source": [
    "# Split information in preparation for a dataframe\n",
    "m_data = []\n",
    "for muscle in lm_groups:\n",
    "    for landmark in muscle:\n",
    "        entry = {}\n",
    "        lm = landmark['name']\n",
    "        entry['label'] = lm\n",
    "\n",
    "        msk = lm[:-3]\n",
    "        entry['muscle'] = msk\n",
    "  \n",
    "        a = landmark['location'].split()\n",
    "        a = [float(i) for i in a]\n",
    "        entry['r'] = a[0]*1000\n",
    "        entry['a'] = a[1]*1000\n",
    "        entry['s'] = a[2]*1000\n",
    "        \n",
    "        body = landmark['socket_parent_frame']\n",
    "        entry['description'] = body[9:]        \n",
    "        m_data.append(entry)"
   ]
  },
  {
   "cell_type": "code",
   "execution_count": null,
   "metadata": {},
   "outputs": [],
   "source": [
    "# create the dataframe with all muscles and their bodies\n",
    "df_muscles = pd.DataFrame(m_data)\n",
    "# df_muscles.head()"
   ]
  },
  {
   "cell_type": "markdown",
   "metadata": {},
   "source": [
    "#### Import muscle wrapping objects"
   ]
  },
  {
   "cell_type": "markdown",
   "metadata": {},
   "source": [
    "<div class=\"alert alert-block alert-info\"> <b>NOTE</b> The output dataframe does not split translation and rotation into axes. </div>"
   ]
  },
  {
   "cell_type": "code",
   "execution_count": null,
   "metadata": {},
   "outputs": [],
   "source": [
    "# Extract the muscle path points\n",
    "wrp_lst = []\n",
    "for Body in root_model.iter('Body'):\n",
    "    body_name = Body.get('name')\n",
    "    objs = Body.iter('WrapCylinder')\n",
    "    # print(objs)\n",
    "    for obj in objs:\n",
    "        ob = {}\n",
    "        obj_name = obj.get('name')\n",
    "        rotation = (obj.find('xyz_body_rotation').text).split()\n",
    "        rotation = np.array([float(i) for i in rotation])\n",
    "        translation = (obj.find('translation').text).split()\n",
    "        translation = np.array([float(i) for i in translation])\n",
    "        radius = float(obj.find('radius').text)\n",
    "        half_length = 0.5*float(obj.find('length').text)\n",
    "        ob['body'], ob['name'] = (body_name, obj_name)\n",
    "        ob['rotation'], ob['translation'] = (rotation, translation*1000) # rotation is in radians\n",
    "        ob['radius'], ob['half_length'] = (radius*1000, half_length*1000)\n",
    "        wrp_lst.append(ob)\n",
    "\n",
    "wrp_df = pd.DataFrame(wrp_lst)\n",
    "wrp_df.tail(10)"
   ]
  },
  {
   "cell_type": "code",
   "execution_count": null,
   "metadata": {},
   "outputs": [],
   "source": [
    "wrp_df['radius_point']=['']*wrp_df.shape[0]\n",
    "wrp_df['axis_point']=['']*wrp_df.shape[0]"
   ]
  },
  {
   "cell_type": "code",
   "execution_count": null,
   "metadata": {},
   "outputs": [],
   "source": [
    "for i, row in wrp_df.iterrows():\n",
    "    axes = np.array([[1,0,0],[0,1,0],[0,0,1]])\n",
    "    angles = row['rotation']\n",
    "    center = row['translation']\n",
    "\n",
    "    x_rotation=rotation_matrix(axes[0], angles[0])\n",
    "    y_rotation=rotation_matrix(axes[1], angles[1])\n",
    "    z_rotation=rotation_matrix(axes[2], angles[2])\n",
    "    R = np.matmul(z_rotation, x_rotation, y_rotation)\n",
    "\n",
    "    radius_point = np.matmul(R,axes[0])*row['radius'] + center\n",
    "    axis_point = np.matmul(R,axes[2])*row['half_length']*0.5 + center\n",
    "    # print(radius_point)\n",
    "    wrp_df._set_value(i,'radius_point', radius_point) # = \n",
    "    wrp_df._set_value(i,'axis_point', axis_point)"
   ]
  },
  {
   "cell_type": "code",
   "execution_count": null,
   "metadata": {},
   "outputs": [],
   "source": [
    "body_lst = wrp_df['body'].unique()\n",
    "for body in body_lst:\n",
    "    temp = []\n",
    "    temp.append((wrp_df[wrp_df['body']==body])[['name', 'translation','radius_point', 'axis_point']])\n",
    "    globals()[f'{body}_wrp'] = pd.concat(temp)"
   ]
  },
  {
   "cell_type": "code",
   "execution_count": null,
   "metadata": {},
   "outputs": [],
   "source": [
    "wrapping_surface_markers = [pelvis_wrp, femur_r_wrp, femur_l_wrp, tibia_r_wrp, tibia_l_wrp]"
   ]
  },
  {
   "cell_type": "markdown",
   "metadata": {},
   "source": [
    "## Import Markers from Sclicer3D file"
   ]
  },
  {
   "cell_type": "code",
   "execution_count": null,
   "metadata": {},
   "outputs": [],
   "source": [
    "# create a function for parsing info from a json file\n",
    "## !! ATTENTION: !! 3DSlicer json separates the position and orientation in two tensors. To obtain the Viewer's orientation one needs to multiply them.\n",
    "def load_orient_json(path_n_file, orient = True):\n",
    "    file = open(path_n_file)\n",
    "    data = json.load(file)\n",
    "    points = {}\n",
    "    for item in data['markups'][0]['controlPoints']:\n",
    "        orient = np.array(item['orientation'])\n",
    "        orient.shape = (3,3)\n",
    "        position = np.matmul(orient, np.array(item['position']))\n",
    "        points[item['label']] = position.tolist()\n",
    "    return points"
   ]
  },
  {
   "cell_type": "code",
   "execution_count": null,
   "metadata": {},
   "outputs": [],
   "source": [
    "path = os.path.abspath(\"../MRI/003-Anonymous/P03\")\n",
    "mri_bone_markers = load_orient_json(os.path.join(path, \"orientation.mrk.json\"), orient = True)"
   ]
  },
  {
   "cell_type": "markdown",
   "metadata": {},
   "source": [
    "## Match bone markers for TPS function"
   ]
  },
  {
   "cell_type": "code",
   "execution_count": null,
   "metadata": {},
   "outputs": [],
   "source": [
    "# match names of markers in 3DSlicer file with OSIM model\n",
    "rows = []\n",
    "not_in_mri = []\n",
    "for key in df_markers['name']:\n",
    "    if key in mri_bone_markers.keys():\n",
    "        rows.append(df_markers[df_markers['name']==key])\n",
    "    else: not_in_mri.append(df_markers[df_markers['name']==key])\n",
    "osim_bone_markers_df = pd.concat(rows)\n",
    "osim_not_in_mri_markers_df = pd.concat(not_in_mri)"
   ]
  },
  {
   "cell_type": "code",
   "execution_count": null,
   "metadata": {},
   "outputs": [],
   "source": [
    "# the support markers were created to control the position of joint centres in parent bodies\n",
    "# currently, they are not in the list of MRI markers\n",
    "\n",
    "osim_support_bone_markers_df = osim_not_in_mri_markers_df.iloc[-9:]\n",
    "print(osim_support_bone_markers_df['name'])"
   ]
  },
  {
   "cell_type": "code",
   "execution_count": null,
   "metadata": {},
   "outputs": [],
   "source": [
    "print(osim_bone_markers_df.shape[0])"
   ]
  },
  {
   "cell_type": "code",
   "execution_count": null,
   "metadata": {},
   "outputs": [],
   "source": [
    "bodies = osim_bone_markers_df['socket_parent_frame'].unique()\n",
    "for body in bodies:\n",
    "    globals()[f'{body}_list'] = []\n",
    "    globals()[f'{body}_list'].append(osim_bone_markers_df[osim_bone_markers_df['socket_parent_frame']==body])"
   ]
  },
  {
   "cell_type": "code",
   "execution_count": null,
   "metadata": {},
   "outputs": [],
   "source": [
    "# create dataframes for bone markers in separate bodies\n",
    "pelvis_osim = pd.concat(pelvis_list)[['name', 'r', 'a', 's']]\n",
    "femur_r_osim = pd.concat(femur_r_list)[['name', 'r', 'a', 's']]\n",
    "femur_l_osim = pd.concat(femur_l_list)[['name', 'r', 'a', 's']]\n",
    "tibia_r_osim = pd.concat(tibia_r_list)[['name', 'r', 'a', 's']]\n",
    "tibia_l_osim = pd.concat(tibia_l_list)[['name', 'r', 'a', 's']]\n",
    "patella_r_osim = pd.concat(patella_r_list)[['name', 'r', 'a', 's']]\n",
    "patella_l_osim = pd.concat(patella_l_list)[['name', 'r', 'a', 's']]"
   ]
  },
  {
   "cell_type": "code",
   "execution_count": null,
   "metadata": {},
   "outputs": [],
   "source": [
    "# create a function for extracting muscle paths\n",
    "def extract_data(df, body):\n",
    " rows = []\n",
    " rows.append(df[df['description']==body])\n",
    " df_rows = pd.concat(rows)[['label', 'r', 'a', 's']]\n",
    " df_new = df_rows.rename(columns={'label':'name',})\n",
    " return df_new"
   ]
  },
  {
   "cell_type": "code",
   "execution_count": null,
   "metadata": {},
   "outputs": [],
   "source": [
    "# muscles alone\n",
    "pelvis_osim_mscl = extract_data(df_muscles, 'pelvis')\n",
    "femur_r_osim_mscl = extract_data(df_muscles, 'femur_r')\n",
    "femur_l_osim_mscl = extract_data(df_muscles, 'femur_l')\n",
    "tibia_r_osim_mscl = extract_data(df_muscles, 'tibia_r')\n",
    "tibia_l_osim_mscl = extract_data(df_muscles, 'tibia_l')\n",
    "patella_r_osim_mscl = extract_data(df_muscles, 'patella_r')\n",
    "patella_l_osim_mscl = extract_data(df_muscles, 'patella_l')"
   ]
  },
  {
   "cell_type": "code",
   "execution_count": null,
   "metadata": {},
   "outputs": [],
   "source": [
    "#osim_support_bone_markers_df"
   ]
  },
  {
   "cell_type": "code",
   "execution_count": null,
   "metadata": {},
   "outputs": [],
   "source": [
    "pelvis_support = osim_support_bone_markers_df[osim_support_bone_markers_df['socket_parent_frame']=='pelvis'][['name', 'r', 'a', 's']]\n",
    "femur_r_support = osim_support_bone_markers_df[osim_support_bone_markers_df['socket_parent_frame']=='femur_r'][['name', 'r', 'a', 's']]\n",
    "femur_l_support = osim_support_bone_markers_df[osim_support_bone_markers_df['socket_parent_frame']=='femur_l'][['name', 'r', 'a', 's']]\n",
    "tibia_r_support = osim_support_bone_markers_df[osim_support_bone_markers_df['socket_parent_frame']=='tibia_r'][['name', 'r', 'a', 's']]\n",
    "tibia_l_support = osim_support_bone_markers_df[osim_support_bone_markers_df['socket_parent_frame']=='tibia_l'][['name', 'r', 'a', 's']]\n",
    "#patella_r_support = osim_support_bone_markers_df[osim_support_bone_markers_df['socket_parent_frame']=='patella_r'][['name', 'r', 'a', 's']]\n",
    "#patella_r_support = osim_support_bone_markers_df[osim_support_bone_markers_df['socket_parent_frame']=='patella_l'][['name', 'r', 'a', 's']]"
   ]
  },
  {
   "cell_type": "code",
   "execution_count": null,
   "metadata": {},
   "outputs": [],
   "source": [
    "tibia_l_support "
   ]
  },
  {
   "cell_type": "code",
   "execution_count": null,
   "metadata": {},
   "outputs": [],
   "source": [
    "# bone markers and muscles together\n",
    "pelvis_osim_mark_mscl = pd.concat([pelvis_osim, pelvis_support, pelvis_osim_mscl], ignore_index=True)\n",
    "femur_r_osim_mark_mscl = pd.concat([femur_r_osim, femur_r_support,  femur_r_osim_mscl], ignore_index=True)\n",
    "femur_l_osim_mark_mscl = pd.concat([femur_l_osim, femur_l_support, femur_l_osim_mscl], ignore_index=True)\n",
    "tibia_r_osim_mark_mscl = pd.concat([tibia_r_osim, tibia_r_support,  tibia_r_osim_mscl], ignore_index=True)\n",
    "tibia_l_osim_mark_mscl = pd.concat([tibia_l_osim, tibia_l_support, tibia_l_osim_mscl], ignore_index=True)\n",
    "patella_r_osim_mark_mscl = pd.concat([patella_r_osim, patella_r_osim_mscl], ignore_index=True)\n",
    "patella_l_osim_mark_mscl = pd.concat([patella_l_osim, patella_l_osim_mscl], ignore_index=True)"
   ]
  },
  {
   "cell_type": "markdown",
   "metadata": {},
   "source": [
    "## Separate 3DSlicer bone markers into bodies"
   ]
  },
  {
   "cell_type": "code",
   "execution_count": null,
   "metadata": {},
   "outputs": [],
   "source": [
    "# create a function for splitting the dataframe into bodies\n",
    "def choose_lms(dict_target, df_template):\n",
    "    names = df_template['name']\n",
    "    rows = []\n",
    "    for name in names:\n",
    "        rows.append({'name' : name, 'r' : dict_target[name][0], 'a' : dict_target[name][1], 's' : dict_target[name][2]})\n",
    "    return pd.DataFrame.from_dict(rows)"
   ]
  },
  {
   "cell_type": "code",
   "execution_count": null,
   "metadata": {},
   "outputs": [],
   "source": [
    "pelvis_mri = choose_lms(mri_bone_markers, pelvis_osim)\n",
    "femur_r_mri = choose_lms(mri_bone_markers, femur_r_osim)\n",
    "femur_l_mri = choose_lms(mri_bone_markers, femur_l_osim)\n",
    "tibia_r_mri = choose_lms(mri_bone_markers, tibia_r_osim)\n",
    "tibia_l_mri = choose_lms(mri_bone_markers, tibia_l_osim)\n",
    "patella_r_mri = choose_lms(mri_bone_markers, patella_r_osim)\n",
    "patella_l_mri = choose_lms(mri_bone_markers, patella_l_osim)"
   ]
  },
  {
   "cell_type": "markdown",
   "metadata": {},
   "source": [
    "## TPS markers and muscles"
   ]
  },
  {
   "cell_type": "markdown",
   "metadata": {},
   "source": [
    "<div class=\"alert alert-block alert-info\"> <b>NOTE</b> The transformed features are returned in mm. </div>"
   ]
  },
  {
   "cell_type": "markdown",
   "metadata": {},
   "source": [
    "#### _pelvis_"
   ]
  },
  {
   "cell_type": "code",
   "execution_count": null,
   "metadata": {},
   "outputs": [],
   "source": [
    "tps_pelvis = ThinPlateSpline(alpha = 0)\n",
    "tps_pelvis.fit(pelvis_osim[['r','a','s']].to_numpy(), pelvis_mri[['r','a','s']].to_numpy())\n",
    "pelvis_result = tps_pelvis.transform(pelvis_osim_mark_mscl[['r','a','s']].to_numpy())\n",
    "\n",
    "pelvis_mrkrs_mscls_names = list(pelvis_osim_mark_mscl['name'])\n"
   ]
  },
  {
   "cell_type": "markdown",
   "metadata": {},
   "source": [
    "### _femora_"
   ]
  },
  {
   "cell_type": "code",
   "execution_count": null,
   "metadata": {},
   "outputs": [],
   "source": [
    "tps_femur_r = ThinPlateSpline(alpha = 0)\n",
    "tps_femur_r.fit(femur_r_osim[['r','a','s']].to_numpy(), femur_r_mri[['r','a','s']].to_numpy())\n",
    "femur_r_result = tps_femur_r.transform(femur_r_osim_mark_mscl[['r','a','s']].to_numpy())\n",
    "\n",
    "femur_r_mrkrs_mscls_names = list(femur_r_osim_mark_mscl['name'])\n"
   ]
  },
  {
   "cell_type": "code",
   "execution_count": null,
   "metadata": {},
   "outputs": [],
   "source": [
    "tps_femur_l = ThinPlateSpline(alpha = 0)\n",
    "tps_femur_l.fit(femur_l_osim[['r','a','s']].to_numpy(), femur_l_mri[['r','a','s']].to_numpy())\n",
    "femur_l_result = tps_femur_l.transform(femur_l_osim_mark_mscl[['r','a','s']].to_numpy())\n",
    "\n",
    "femur_l_mrkrs_mscls_names = list(femur_l_osim_mark_mscl['name'])\n"
   ]
  },
  {
   "cell_type": "markdown",
   "metadata": {},
   "source": [
    "### _patellas_"
   ]
  },
  {
   "cell_type": "code",
   "execution_count": null,
   "metadata": {},
   "outputs": [],
   "source": [
    "tps_patella_r = ThinPlateSpline(alpha = 0)\n",
    "tps_patella_r.fit(patella_r_osim[['r','a','s']].to_numpy(), patella_r_mri[['r','a','s']].to_numpy())\n",
    "patella_r_result = tps_patella_r.transform(patella_r_osim_mark_mscl[['r','a','s']].to_numpy())\n",
    "\n",
    "patella_r_mrkrs_mscls_names = list(patella_r_osim_mark_mscl['name'])\n"
   ]
  },
  {
   "cell_type": "code",
   "execution_count": null,
   "metadata": {},
   "outputs": [],
   "source": [
    "tps_patella_l = ThinPlateSpline(alpha = 0)\n",
    "tps_patella_l.fit(patella_l_osim[['r','a','s']].to_numpy(), patella_l_mri[['r','a','s']].to_numpy())\n",
    "patella_l_result = tps_patella_l.transform(patella_l_osim_mark_mscl[['r','a','s']].to_numpy())\n",
    "\n",
    "patella_l_mrkrs_mscls_names = list(patella_l_osim_mark_mscl['name'])\n"
   ]
  },
  {
   "cell_type": "markdown",
   "metadata": {},
   "source": [
    "### _tibias_"
   ]
  },
  {
   "cell_type": "code",
   "execution_count": null,
   "metadata": {},
   "outputs": [],
   "source": [
    "tps_tibia_r = ThinPlateSpline(alpha = 0)\n",
    "tps_tibia_r.fit(tibia_r_osim[['r','a','s']].to_numpy(), tibia_r_mri[['r','a','s']].to_numpy())\n",
    "tibia_r_result = tps_tibia_r.transform(tibia_r_osim_mark_mscl[['r','a','s']].to_numpy())\n",
    "\n",
    "tibia_r_mrkrs_mscls_names = list(tibia_r_osim_mark_mscl['name'])\n"
   ]
  },
  {
   "cell_type": "code",
   "execution_count": null,
   "metadata": {},
   "outputs": [],
   "source": [
    "tps_tibia_l = ThinPlateSpline(alpha = 0)\n",
    "tps_tibia_l.fit(tibia_l_osim[['r','a','s']].to_numpy(), tibia_l_mri[['r','a','s']].to_numpy())\n",
    "tibia_l_result = tps_tibia_l.transform(tibia_l_osim_mark_mscl[['r','a','s']].to_numpy())\n",
    "\n",
    "tibia_l_mrkrs_mscls_names = list(tibia_l_osim_mark_mscl['name'])\n"
   ]
  },
  {
   "cell_type": "markdown",
   "metadata": {},
   "source": [
    "## TPS muscle wrapping surfaces"
   ]
  },
  {
   "cell_type": "markdown",
   "metadata": {},
   "source": [
    "#### _pelvis_"
   ]
  },
  {
   "cell_type": "code",
   "execution_count": null,
   "metadata": {},
   "outputs": [],
   "source": [
    "pl_n = list(pelvis_wrp['name'])\n",
    "pl_r = tps_pelvis.transform(np.array([i for i in pelvis_wrp['radius_point']]))\n",
    "pl_a = tps_pelvis.transform(np.array([i for i in pelvis_wrp['axis_point']]))\n",
    "pl_t = tps_pelvis.transform(np.array([i for i in pelvis_wrp['translation']]))"
   ]
  },
  {
   "cell_type": "markdown",
   "metadata": {},
   "source": [
    "#### _femur r_"
   ]
  },
  {
   "cell_type": "code",
   "execution_count": null,
   "metadata": {},
   "outputs": [],
   "source": [
    "fr_n = list(femur_r_wrp['name'])\n",
    "fr_r = tps_femur_r.transform(np.array([i for i in femur_r_wrp['radius_point']]))\n",
    "fr_a = tps_femur_r.transform(np.array([i for i in femur_r_wrp['axis_point']]))\n",
    "fr_t = tps_femur_r.transform(np.array([i for i in femur_r_wrp['translation']]))"
   ]
  },
  {
   "cell_type": "markdown",
   "metadata": {},
   "source": [
    "#### _femur l_"
   ]
  },
  {
   "cell_type": "code",
   "execution_count": null,
   "metadata": {},
   "outputs": [],
   "source": [
    "fl_n = list(femur_l_wrp['name'])\n",
    "fl_r = tps_femur_l.transform(np.array([i for i in femur_l_wrp['radius_point']]))\n",
    "fl_a = tps_femur_l.transform(np.array([i for i in femur_l_wrp['axis_point']]))\n",
    "fl_t = tps_femur_l.transform(np.array([i for i in femur_l_wrp['translation']]))"
   ]
  },
  {
   "cell_type": "markdown",
   "metadata": {},
   "source": [
    "#### _tibia r_"
   ]
  },
  {
   "cell_type": "code",
   "execution_count": null,
   "metadata": {},
   "outputs": [],
   "source": [
    "tr_n = list(tibia_r_wrp['name'])\n",
    "tr_r = tps_tibia_r.transform(np.array([i for i in tibia_r_wrp['radius_point']]))\n",
    "tr_a = tps_tibia_r.transform(np.array([i for i in tibia_r_wrp['axis_point']]))\n",
    "tr_t = tps_tibia_r.transform(np.array([i for i in tibia_r_wrp['translation']]))"
   ]
  },
  {
   "cell_type": "markdown",
   "metadata": {},
   "source": [
    "#### _tibia l_"
   ]
  },
  {
   "cell_type": "code",
   "execution_count": null,
   "metadata": {},
   "outputs": [],
   "source": [
    "tl_n = list(tibia_l_wrp['name'])\n",
    "tl_r = tps_tibia_l.transform(np.array([i for i in tibia_l_wrp['radius_point']]))\n",
    "tl_a = tps_tibia_l.transform(np.array([i for i in tibia_l_wrp['axis_point']]))\n",
    "tl_t = tps_tibia_l.transform(np.array([i for i in tibia_l_wrp['translation']]))"
   ]
  },
  {
   "cell_type": "markdown",
   "metadata": {},
   "source": [
    "## Import and TPS surfaces"
   ]
  },
  {
   "cell_type": "markdown",
   "metadata": {},
   "source": [
    "#### pelvis"
   ]
  },
  {
   "cell_type": "code",
   "execution_count": null,
   "metadata": {},
   "outputs": [],
   "source": [
    "pl_mesh = pv.read('Geometry/l_pelvis.vtp')\n",
    "pl_faces = pl_mesh.faces\n",
    "pr_mesh = pv.read('Geometry/r_pelvis.vtp')\n",
    "pr_faces = pr_mesh.faces\n",
    "sacrum_mesh = pv.read('Geometry/sacrum.vtp')\n",
    "sacrum_faces = sacrum_mesh.faces"
   ]
  },
  {
   "cell_type": "code",
   "execution_count": null,
   "metadata": {},
   "outputs": [],
   "source": [
    "pl_pts = tps_pelvis.transform(np.array(pl_mesh.points)*1000)\n",
    "pr_pts = tps_pelvis.transform(np.array(pr_mesh.points)*1000)\n",
    "sacrum_pts = tps_pelvis.transform(np.array(sacrum_mesh.points)*1000)"
   ]
  },
  {
   "cell_type": "markdown",
   "metadata": {},
   "source": [
    "#### femur_r"
   ]
  },
  {
   "cell_type": "code",
   "execution_count": null,
   "metadata": {},
   "outputs": [],
   "source": [
    "fr_mesh = pv.read('Geometry/r_femur.vtp')\n",
    "fr_pts = tps_femur_r.transform(np.array(fr_mesh.points)*1000)\n",
    "fr_faces = fr_mesh.faces"
   ]
  },
  {
   "cell_type": "code",
   "execution_count": null,
   "metadata": {},
   "outputs": [],
   "source": [
    "the_pts_transformed = fr_pts/1000\n",
    "new_mesh = pv.PolyData(the_pts_transformed, fr_mesh.faces)\n",
    "#new_mesh.save('model_update/femur_r.stl')\n",
    "plotter = pv.Plotter(window_size=(600, 400))\n",
    "\n",
    "plotter.background_color = 'w'\n",
    "plotter.enable_anti_aliasing()\n",
    "plotter.add_mesh(fr_mesh, color='lightblue', show_edges=True)\n",
    "plotter.add_mesh(new_mesh, color='red', show_edges=True)\n",
    "plotter.show(jupyter_backend='trame')"
   ]
  },
  {
   "cell_type": "markdown",
   "metadata": {},
   "source": [
    "#### femur_l"
   ]
  },
  {
   "cell_type": "code",
   "execution_count": null,
   "metadata": {},
   "outputs": [],
   "source": [
    "fl_mesh = pv.read('Geometry/l_femur.vtp')\n",
    "fl_pts = tps_femur_l.transform(np.array(fl_mesh.points)*1000)\n",
    "fl_faces = fl_mesh.faces"
   ]
  },
  {
   "cell_type": "markdown",
   "metadata": {},
   "source": [
    "#### tibia_r"
   ]
  },
  {
   "cell_type": "code",
   "execution_count": null,
   "metadata": {},
   "outputs": [],
   "source": [
    "tr_mesh = pv.read('Geometry/r_tibia.vtp')\n",
    "tr_pts = tps_tibia_r.transform(np.array(tr_mesh.points)*1000)\n",
    "tr_faces = tr_mesh.faces\n",
    "\n",
    "fib_r_mesh = pv.read('Geometry/r_fibula.vtp')\n",
    "fib_r_pts = tps_tibia_r.transform(np.array(fib_r_mesh.points)*1000)\n",
    "fib_r_faces = fib_r_mesh.faces"
   ]
  },
  {
   "cell_type": "code",
   "execution_count": null,
   "metadata": {},
   "outputs": [],
   "source": [
    "the_pts_transformed = tr_pts/1000\n",
    "new_mesh = pv.PolyData(the_pts_transformed, tr_faces)\n",
    "#new_mesh.save('model_update/femur_r.stl')\n",
    "plotter = pv.Plotter(window_size=(600, 400))\n",
    "\n",
    "plotter.background_color = 'w'\n",
    "plotter.enable_anti_aliasing()\n",
    "plotter.add_mesh(tr_mesh, color='lightblue', show_edges=True)\n",
    "plotter.add_mesh(new_mesh, color='red', show_edges=True)\n",
    "plotter.show(jupyter_backend='trame')"
   ]
  },
  {
   "cell_type": "markdown",
   "metadata": {},
   "source": [
    "#### tibia_l"
   ]
  },
  {
   "cell_type": "code",
   "execution_count": null,
   "metadata": {},
   "outputs": [],
   "source": [
    "tl_mesh = pv.read('Geometry/l_tibia.vtp')\n",
    "tl_pts = tps_tibia_l.transform(np.array(tl_mesh.points)*1000)\n",
    "tl_faces = tl_mesh.faces\n",
    "\n",
    "fib_l_mesh = pv.read('Geometry/l_fibula.vtp')\n",
    "fib_l_pts = tps_tibia_l.transform(np.array(fib_l_mesh.points)*1000)\n",
    "fib_l_faces = fib_l_mesh.faces"
   ]
  },
  {
   "cell_type": "code",
   "execution_count": null,
   "metadata": {},
   "outputs": [],
   "source": [
    "the_pts_transformed = tl_pts/1000\n",
    "new_mesh = pv.PolyData(the_pts_transformed, tl_faces)\n",
    "#new_mesh.save('model_update/femur_r.stl')\n",
    "plotter = pv.Plotter(window_size=(600, 400))\n",
    "\n",
    "plotter.background_color = 'w'\n",
    "plotter.enable_anti_aliasing()\n",
    "plotter.add_mesh(tl_mesh, color='lightblue', show_edges=True)\n",
    "plotter.add_mesh(new_mesh, color='red', show_edges=True)\n",
    "plotter.show(jupyter_backend='trame')"
   ]
  },
  {
   "cell_type": "markdown",
   "metadata": {},
   "source": [
    "#### patella_r"
   ]
  },
  {
   "cell_type": "code",
   "execution_count": null,
   "metadata": {},
   "outputs": [],
   "source": [
    "ptlr_mesh = pv.read('Geometry/r_patella.vtp')\n",
    "ptlr_pts = tps_patella_r.transform(np.array(ptlr_mesh.points)*1000)\n",
    "ptlr_faces = ptlr_mesh.faces"
   ]
  },
  {
   "cell_type": "markdown",
   "metadata": {},
   "source": [
    "#### patella_l"
   ]
  },
  {
   "cell_type": "code",
   "execution_count": null,
   "metadata": {},
   "outputs": [],
   "source": [
    "ptll_mesh = pv.read('Geometry/l_patella.vtp')\n",
    "ptll_pts = tps_patella_l.transform(np.array(ptll_mesh.points)*1000)\n",
    "ptll_faces = ptll_mesh.faces"
   ]
  },
  {
   "cell_type": "code",
   "execution_count": null,
   "metadata": {},
   "outputs": [],
   "source": [
    "import plotly.graph_objects as go\n",
    "import plotly.express as px\n",
    "\n",
    "fig = px.scatter()\n",
    "\n",
    "fig.add_trace(go.Scatter3d(\n",
    "x=ptlr_pts[:,0], \n",
    "y=ptlr_pts[:,1], \n",
    "z=ptlr_pts[:,2],\n",
    "marker=dict(\n",
    "    size=4,\n",
    "    opacity=0.8\n",
    "    ),\n",
    "mode = 'markers',\n",
    "))\n",
    "\n",
    "fig.add_trace(go.Scatter3d(\n",
    "x=patella_r_result[:,0], \n",
    "y=patella_r_result[:,1], \n",
    "z=patella_r_result[:,2],\n",
    "marker=dict(\n",
    "    size=4,\n",
    "    opacity=0.8\n",
    "),\n",
    "mode = 'markers + text',\n",
    "text=patella_r_osim_mark_mscl['name'],\n",
    "textposition=\"top center\"))\n",
    "\n",
    "fig.update_scenes(aspectmode=\"data\" )\n",
    "fig.show()"
   ]
  },
  {
   "cell_type": "markdown",
   "metadata": {},
   "source": [
    "## Rotate bodies to child frame"
   ]
  },
  {
   "cell_type": "code",
   "execution_count": null,
   "metadata": {},
   "outputs": [],
   "source": [
    "def plot_transformed(points_file, order_file, mrkr_mscl_names):\n",
    "   fig = px.scatter()\n",
    "   for key in order_file.keys():\n",
    "      if key == 'mrkrs_mscls':\n",
    "         fig.add_trace(go.Scatter3d(\n",
    "            x=points_file[order_file['mrkrs_mscls'],0], \n",
    "            y=points_file[order_file['mrkrs_mscls'],1], \n",
    "            z=points_file[order_file['mrkrs_mscls'],2],\n",
    "            marker=dict(\n",
    "               size=4,\n",
    "               opacity=0.8\n",
    "            ),\n",
    "            mode = 'markers + text',\n",
    "            text=mrkr_mscl_names,\n",
    "            textposition=\"top center\"))\n",
    "      else:\n",
    "         fig.add_trace(go.Scatter3d(\n",
    "            x=points_file[order_file[key],0], \n",
    "            y=points_file[order_file[key],1], \n",
    "            z=points_file[order_file[key],2],\n",
    "            marker=dict(\n",
    "               size=4,\n",
    "               opacity=0.8\n",
    "            ),\n",
    "            mode = 'markers',\n",
    "         ))\n",
    "\n",
    "   fig.update_scenes(aspectmode=\"data\" )\n",
    "   fig.show()"
   ]
  },
  {
   "cell_type": "code",
   "execution_count": null,
   "metadata": {},
   "outputs": [],
   "source": [
    "# Given that 3D sclicer interprets OSIM xyt as ras (left to right, posterior to anterior, inferior to superior), an adjustment should be made in order to obtain the correct\n",
    "# orientation of the imported data\n",
    "# pelvis_osim =  np.array(([1,0,0], [0,1,0], [0,0,1]))\n",
    "axes_swap = np.array([[0,0,1], [1,0,0], [0,1,0]])\n",
    "axes_osim = axes_swap*50"
   ]
  },
  {
   "cell_type": "code",
   "execution_count": null,
   "metadata": {},
   "outputs": [],
   "source": [
    "# check names of lms, create a table for all and extract eigenvalues to determine the major vertical axis\n",
    "li = []\n",
    "for key in mri_bone_markers.keys():\n",
    "    li.append(mri_bone_markers[key])\n",
    "eval, evec = np.linalg.eigh(np.array(li).T@np.array(li), UPLO='L')"
   ]
  },
  {
   "cell_type": "markdown",
   "metadata": {},
   "source": [
    "#### _pelvis_"
   ]
  },
  {
   "cell_type": "code",
   "execution_count": null,
   "metadata": {},
   "outputs": [],
   "source": [
    "mri_bone_markers.keys()"
   ]
  },
  {
   "cell_type": "code",
   "execution_count": null,
   "metadata": {},
   "outputs": [],
   "source": [
    "# rotation matrix\n",
    "p1 = np.array(mri_bone_markers['ASIS_r'])\n",
    "p2 =(np.array(mri_bone_markers['PSIS_l']) + np.array(mri_bone_markers['PSIS_r']))*0.5\n",
    "p3 = np.array(mri_bone_markers['ASIS_l'])\n",
    "p4 = mri_bone_markers['pelvis_origin']\n",
    "pelvis_location = p4\n",
    "\n",
    "pelvis_PA = (p4-p2)/np.linalg.norm(p4-p2) # PA stands for posterior -> anterior\n",
    "pelvis_IS = evec[:, 2]\n",
    "pelvis_LR = np.cross(pelvis_PA, pelvis_IS)# LR stand s for left -> right\n",
    "\n",
    "axes_image = (np.array((pelvis_LR, pelvis_PA, pelvis_IS)) * 50) + pelvis_location \n",
    "\n",
    "pelvis_R, pelvis_t, pelvis_center_osim, pelvis_center_image = axes_rotation(axes_osim, axes_image) # mri and osim are 3x3 matrices - second is transferred to the first"
   ]
  },
  {
   "cell_type": "code",
   "execution_count": null,
   "metadata": {},
   "outputs": [],
   "source": [
    "# assemble data for transformation and keep record of the order\n",
    "obj_order = ['mrkrs_mscls', 'wrp_rad', 'wrp_ax', 'wrp_transl', 'pelv_l_pts', 'pelv_r_pts', 'sacr_pts']\n",
    "pelvis_lm_order = {}\n",
    "n = 0\n",
    "for i, num in enumerate([pelvis_result.shape[0], pl_r.shape[0], pl_a.shape[0], pl_t.shape[0], pl_pts.shape[0], pr_pts.shape[0], sacrum_pts.shape[0]]):\n",
    "    pelvis_lm_order[obj_order[i]] = list(range(n, n+num))\n",
    "    n += num\n",
    "\n",
    "pelvis_to_transform = np.concatenate([pelvis_result, pl_r, pl_a, pl_t, pl_pts, pr_pts, sacrum_pts])"
   ]
  },
  {
   "cell_type": "code",
   "execution_count": null,
   "metadata": {},
   "outputs": [],
   "source": [
    "# rotate and shift origin to 0,0,0\n",
    "pelvis_rotated = apply_rotate_zero_origin(pelvis_to_transform, pelvis_R)\n",
    "pelvis_origin = np.mean(pelvis_rotated[:2], axis = 0) # mean of ASIS potins\n",
    "pelvis_transformed = pelvis_rotated - pelvis_origin"
   ]
  },
  {
   "cell_type": "code",
   "execution_count": null,
   "metadata": {},
   "outputs": [],
   "source": [
    "# scale surface for OpenSim and save\n",
    "l_pelvis_transformed = pv.PolyData(pelvis_transformed[pelvis_lm_order['pelv_l_pts']]/1000, pl_faces)\n",
    "r_pelvis_transformed = pv.PolyData(pelvis_transformed[pelvis_lm_order['pelv_r_pts']]/1000, pr_faces)\n",
    "sacrum_transformed = pv.PolyData(pelvis_transformed[pelvis_lm_order['sacr_pts']]/1000, sacrum_faces)\n",
    "\n",
    "l_pelvis_transformed.save('model_update/tps_warping_results/l_pelvis.stl')\n",
    "r_pelvis_transformed.save('model_update/tps_warping_results/r_pelvis.stl')\n",
    "sacrum_transformed.save('model_update/tps_warping_results/sacrum.stl')"
   ]
  },
  {
   "cell_type": "code",
   "execution_count": null,
   "metadata": {},
   "outputs": [],
   "source": [
    "# scale markers and muscles, create a dataframe for sorting and saving\n",
    "body = 'pelvis'\n",
    "pelvis_transformed_mrkr_mscl = {'body':[], 'name':[], 'location':[]}\n",
    "for i, n in enumerate(pelvis_mrkrs_mscls_names):\n",
    "    pelvis_transformed_mrkr_mscl['body'].append('pelvis'),\n",
    "    pelvis_transformed_mrkr_mscl['name'].append(n),\n",
    "    pelvis_transformed_mrkr_mscl['location'].append(pelvis_transformed[pelvis_lm_order['mrkrs_mscls']][i]/1000)\n",
    "pelvis_transformed_mrkr_mscl_df = pd.DataFrame(pelvis_transformed_mrkr_mscl)"
   ]
  },
  {
   "cell_type": "markdown",
   "metadata": {},
   "source": [
    "#### *femur_r*"
   ]
  },
  {
   "cell_type": "code",
   "execution_count": null,
   "metadata": {},
   "outputs": [],
   "source": [
    "# rotation matrix\n",
    "femur_r_location = np.array(mri_bone_markers['femur_r_center'])\n",
    "points = ['femur_r_center', 'knee_r_med', 'knee_r_lat']\n",
    "\n",
    "femur_r_pa = find_axis(mri_bone_markers, points)\n",
    "femur_r_is = (np.array(mri_bone_markers['femur_r_center']) - np.array(mri_bone_markers['knee_r_center']))/np.linalg.norm(np.array(mri_bone_markers['femur_r_center']) - np.array(mri_bone_markers['knee_r_center']))\n",
    "femur_r_lr = np.cross(femur_r_pa, femur_r_is)/np.linalg.norm(np.cross(femur_r_pa, femur_r_is))\n",
    "\n",
    "femur_r_axes = np.array((femur_r_lr, femur_r_pa, femur_r_is)) * 50 + femur_r_location\n",
    "\n",
    "femur_r_R, femur_r_t, femur_r_center_osim, femur_r_center_mri = axes_rotation(axes_osim, femur_r_axes)"
   ]
  },
  {
   "cell_type": "code",
   "execution_count": null,
   "metadata": {},
   "outputs": [],
   "source": [
    "# assemble data for transformation and keep record of the order\n",
    "obj_order = ['mrkrs_mscls', 'wrp_rad', 'wrp_ax', 'wrp_transl', 'surf_pts']\n",
    "femur_r_lm_order = {}\n",
    "n = 0\n",
    "for i, num in enumerate([femur_r_result.shape[0], fr_r.shape[0], fr_a.shape[0], fr_t.shape[0], fr_pts.shape[0]]):\n",
    "    femur_r_lm_order[obj_order[i]] = list(range(n, n+num))\n",
    "    n += num\n",
    "\n",
    "femur_r_to_transform = np.concatenate([femur_r_result, fr_r, fr_a, fr_t, fr_pts])"
   ]
  },
  {
   "cell_type": "code",
   "execution_count": null,
   "metadata": {},
   "outputs": [],
   "source": [
    "# rotate and shift origin to 0,0,0\n",
    "femur_r_rotated = apply_rotate_zero_origin(femur_r_to_transform, femur_r_R)\n",
    "femur_r_origin = femur_r_rotated[2] # femur head centre\n",
    "femur_r_transformed = femur_r_rotated - femur_r_origin"
   ]
  },
  {
   "cell_type": "code",
   "execution_count": null,
   "metadata": {},
   "outputs": [],
   "source": [
    "# scale surface for OpenSim and save\n",
    "the_pts_transformed = femur_r_transformed[femur_r_lm_order['surf_pts']]/1000\n",
    "new_mesh = pv.PolyData(the_pts_transformed, fr_faces)\n",
    "new_mesh.save('model_update/tps_warping_results/femur_r.stl')"
   ]
  },
  {
   "cell_type": "code",
   "execution_count": null,
   "metadata": {},
   "outputs": [],
   "source": [
    "# scale markers and muscles, create a dataframe for sorting and saving\n",
    "body = 'femur_r'\n",
    "femur_r_transformed_mrkr_mscl = {'body':[], 'name':[], 'location':[]}\n",
    "for i, n in enumerate(femur_r_mrkrs_mscls_names):\n",
    "    femur_r_transformed_mrkr_mscl['body'].append('femur_r'),\n",
    "    femur_r_transformed_mrkr_mscl['name'].append(n),\n",
    "    femur_r_transformed_mrkr_mscl['location'].append(femur_r_transformed[femur_r_lm_order['mrkrs_mscls']][i]/1000)\n",
    "femur_r_transformed_mrkr_mscl_df = pd.DataFrame(femur_r_transformed_mrkr_mscl)"
   ]
  },
  {
   "cell_type": "markdown",
   "metadata": {},
   "source": [
    "#### *femur_l*"
   ]
  },
  {
   "cell_type": "code",
   "execution_count": null,
   "metadata": {},
   "outputs": [],
   "source": [
    "# rotation matrix\n",
    "femur_l_location = np.array(mri_bone_markers['femur_l_center'])\n",
    "points = ['femur_l_center', 'knee_l_lat', 'knee_l_med']\n",
    "\n",
    "femur_l_pa = find_axis(mri_bone_markers, points)\n",
    "femur_l_is = (np.array(mri_bone_markers['femur_l_center']) - np.array(mri_bone_markers['knee_l_center']))/np.linalg.norm(np.array(mri_bone_markers['femur_l_center']) - np.array(mri_bone_markers['knee_l_center']))\n",
    "femur_l_lr = np.cross(femur_l_pa, femur_r_is)/np.linalg.norm(np.cross(femur_l_pa, femur_l_is))\n",
    "\n",
    "femur_l_axes = np.array((femur_l_lr, femur_l_pa, femur_l_is)) * 50 + femur_l_location\n",
    "\n",
    "femur_l_R, femur_l_t, femur_l_center_osim, femur_l_center_mri = axes_rotation(axes_osim, femur_l_axes)"
   ]
  },
  {
   "cell_type": "code",
   "execution_count": null,
   "metadata": {},
   "outputs": [],
   "source": [
    "# assemble data for transformation and keep record of the order\n",
    "obj_order = ['mrkrs_mscls', 'wrp_rad', 'wrp_ax', 'wrp_transl', 'surf_pts']\n",
    "femur_l_lm_order = {}\n",
    "n = 0\n",
    "for i, num in enumerate([femur_l_result.shape[0], fl_r.shape[0], fl_a.shape[0], fl_t.shape[0], fl_pts.shape[0]]):\n",
    "    femur_l_lm_order[obj_order[i]] = list(range(n, n+num))\n",
    "    n += num\n",
    "\n",
    "femur_l_to_transform = np.concatenate([femur_l_result, fl_r, fl_a, fl_t, fl_pts])"
   ]
  },
  {
   "cell_type": "code",
   "execution_count": null,
   "metadata": {},
   "outputs": [],
   "source": [
    "# rotate and shift origin to 0,0,0\n",
    "femur_l_rotated = apply_rotate_zero_origin(femur_l_to_transform, femur_l_R)\n",
    "femur_l_origin = femur_l_rotated[2] # femur head centre\n",
    "femur_l_transformed = femur_l_rotated - femur_l_origin"
   ]
  },
  {
   "cell_type": "code",
   "execution_count": null,
   "metadata": {},
   "outputs": [],
   "source": [
    "# scale surface for OpenSim and save\n",
    "the_pts_transformed = femur_l_transformed[femur_l_lm_order['surf_pts']]/1000\n",
    "new_mesh = pv.PolyData(the_pts_transformed, fl_faces)\n",
    "new_mesh.save('model_update/tps_warping_results/femur_l.stl')"
   ]
  },
  {
   "cell_type": "code",
   "execution_count": null,
   "metadata": {},
   "outputs": [],
   "source": [
    "# scale markers and muscles, create a dataframe for sorting and saving\n",
    "body = 'femur_l'\n",
    "femur_l_transformed_mrkr_mscl = {'body':[], 'name':[], 'location':[]}\n",
    "for i, n in enumerate(femur_l_mrkrs_mscls_names):\n",
    "    femur_l_transformed_mrkr_mscl['body'].append('femur_l'),\n",
    "    femur_l_transformed_mrkr_mscl['name'].append(n),\n",
    "    femur_l_transformed_mrkr_mscl['location'].append(femur_l_transformed[femur_l_lm_order['mrkrs_mscls']][i]/1000)\n",
    "femur_l_transformed_mrkr_mscl_df = pd.DataFrame(femur_l_transformed_mrkr_mscl)"
   ]
  },
  {
   "cell_type": "code",
   "execution_count": null,
   "metadata": {},
   "outputs": [],
   "source": [
    "fig = px.scatter()\n",
    "fig.add_trace(go.Scatter3d(\n",
    "x=femur_l_transformed[femur_l_lm_order['surf_pts'],0], \n",
    "y=femur_l_transformed[femur_l_lm_order['surf_pts'],1], \n",
    "z=femur_l_transformed[femur_l_lm_order['surf_pts'],2],\n",
    "marker=dict(size=4, opacity=0.8), mode = 'markers'))\n",
    "\n",
    "fig.add_trace(go.Scatter3d(\n",
    "x=femur_r_transformed[femur_l_lm_order['surf_pts'],0], \n",
    "y=femur_r_transformed[femur_l_lm_order['surf_pts'],1], \n",
    "z=femur_r_transformed[femur_l_lm_order['surf_pts'],2],\n",
    "marker=dict(size=4, opacity=0.8), mode = 'markers'))\n",
    "\n",
    "fig.update_scenes(aspectmode=\"data\" )\n",
    "fig.show()"
   ]
  },
  {
   "cell_type": "code",
   "execution_count": null,
   "metadata": {},
   "outputs": [],
   "source": [
    "# plot_transformed(femur_r_transformed, femur_r_lm_order, femur_r_mrkrs_mscls_names)\n",
    "# plot_transformed(femur_l_transformed, femur_l_lm_order, femur_l_mrkrs_mscls_names)"
   ]
  },
  {
   "cell_type": "markdown",
   "metadata": {},
   "source": [
    "#### *patella_r*"
   ]
  },
  {
   "cell_type": "code",
   "execution_count": null,
   "metadata": {},
   "outputs": [],
   "source": [
    "patella_r_mrkrs_mscls_names[0]"
   ]
  },
  {
   "cell_type": "code",
   "execution_count": null,
   "metadata": {},
   "outputs": [],
   "source": [
    "patella_r_mrkrs_mscls_names"
   ]
  },
  {
   "cell_type": "code",
   "execution_count": null,
   "metadata": {},
   "outputs": [],
   "source": [
    "# rotation matrix\n",
    "patella_r_location = np.array(mri_bone_markers['patella_r'])\n",
    "points = ['patella_med_r', 'patella_r', 'patella_lat_r']\n",
    "\n",
    "patella_r_pa = find_axis(mri_bone_markers, points)\n",
    "patella_r_is = (np.array(mri_bone_markers['patella_sup_r']) - np.array(mri_bone_markers['patella_r']))/np.linalg.norm(np.array(mri_bone_markers['patella_sup_r']) - np.array(mri_bone_markers['patella_r']))\n",
    "patella_r_lr = np.cross(patella_r_pa, patella_r_is)/np.linalg.norm(np.cross(patella_r_pa, patella_r_is))\n",
    "\n",
    "patella_r_axes = np.array((patella_r_lr, patella_r_pa, patella_r_is)) * 50 + patella_r_location\n",
    "\n",
    "patella_r_R, patella_r_t, patella_r_center_osim, patella_r_center_mri = axes_rotation(axes_osim, patella_r_axes)"
   ]
  },
  {
   "cell_type": "code",
   "execution_count": null,
   "metadata": {},
   "outputs": [],
   "source": [
    "# assemble data for transformation and keep record of the order\n",
    "obj_order = ['mrkrs_mscls','surf_pts']\n",
    "patella_r_lm_order = {}\n",
    "n = 0\n",
    "for i, num in enumerate([patella_r_result.shape[0], ptlr_pts.shape[0]]):\n",
    "    patella_r_lm_order[obj_order[i]] = list(range(n, n+num))\n",
    "    n += num\n",
    "\n",
    "patella_r_to_transform = np.concatenate([patella_r_result, ptlr_pts])"
   ]
  },
  {
   "cell_type": "code",
   "execution_count": null,
   "metadata": {},
   "outputs": [],
   "source": [
    "# rotate and shift origin to 0,0,0\n",
    "patella_r_rotated = apply_rotate_zero_origin(patella_r_to_transform, patella_r_R)\n",
    "patella_r_origin = patella_r_rotated[0] # patella origin\n",
    "patella_r_transformed = patella_r_rotated - patella_r_origin"
   ]
  },
  {
   "cell_type": "code",
   "execution_count": null,
   "metadata": {},
   "outputs": [],
   "source": [
    "# scale surface for OpenSim and save\n",
    "the_pts_transformed = patella_r_transformed[patella_r_lm_order['surf_pts']]/1000\n",
    "new_mesh = pv.PolyData(the_pts_transformed, ptlr_faces)\n",
    "new_mesh.save('model_update/tps_warping_results/patella_r.stl')"
   ]
  },
  {
   "cell_type": "code",
   "execution_count": null,
   "metadata": {},
   "outputs": [],
   "source": [
    "# scale markers and muscles, create a dataframe for sorting and saving\n",
    "body = 'patella_r'\n",
    "patella_r_transformed_mrkr_mscl = {'body':[], 'name':[], 'location':[]}\n",
    "for i, n in enumerate(patella_r_mrkrs_mscls_names):\n",
    "    patella_r_transformed_mrkr_mscl['body'].append('patella_r'),\n",
    "    patella_r_transformed_mrkr_mscl['name'].append(n),\n",
    "    patella_r_transformed_mrkr_mscl['location'].append(patella_r_transformed[patella_r_lm_order['mrkrs_mscls']][i]/1000)\n",
    "patella_r_transformed_mrkr_mscl_df = pd.DataFrame(patella_r_transformed_mrkr_mscl)"
   ]
  },
  {
   "cell_type": "markdown",
   "metadata": {},
   "source": [
    "#### *patella_l*"
   ]
  },
  {
   "cell_type": "code",
   "execution_count": null,
   "metadata": {},
   "outputs": [],
   "source": [
    "# rotation matrix\n",
    "patella_l_location = np.array(mri_bone_markers['patella_l'])\n",
    "points = ['patella_lat_l', 'patella_l', 'patella_med_l']\n",
    "\n",
    "patella_l_pa = find_axis(mri_bone_markers, points)\n",
    "patella_l_is = (np.array(mri_bone_markers['patella_sup_l']) - np.array(mri_bone_markers['patella_l']))/np.linalg.norm(np.array(mri_bone_markers['patella_sup_l']) - np.array(mri_bone_markers['patella_l']))\n",
    "patella_l_lr = np.cross(patella_l_pa, patella_l_is)/np.linalg.norm(np.cross(patella_l_pa, patella_l_is))\n",
    "\n",
    "patella_l_axes = np.array((patella_l_lr, patella_l_pa, patella_l_is)) * 50 + patella_l_location\n",
    "\n",
    "patella_l_R, patella_l_t, patella_l_center_osim, patella_l_center_mri = axes_rotation(axes_osim, patella_l_axes)"
   ]
  },
  {
   "cell_type": "code",
   "execution_count": null,
   "metadata": {},
   "outputs": [],
   "source": [
    "# assemble data for transformation and keep record of the order\n",
    "obj_order = ['mrkrs_mscls','surf_pts']\n",
    "patella_l_lm_order = {}\n",
    "n = 0\n",
    "for i, num in enumerate([patella_l_result.shape[0], ptll_pts.shape[0]]):\n",
    "    patella_l_lm_order[obj_order[i]] = list(range(n, n+num))\n",
    "    n += num\n",
    "\n",
    "patella_l_to_transform = np.concatenate([patella_l_result, ptll_pts])"
   ]
  },
  {
   "cell_type": "code",
   "execution_count": null,
   "metadata": {},
   "outputs": [],
   "source": [
    "# rotate and shift origin to 0,0,0\n",
    "patella_l_rotated = apply_rotate_zero_origin(patella_l_to_transform, patella_l_R)\n",
    "patella_l_origin = patella_l_rotated[0] # patella origin\n",
    "patella_l_transformed = patella_l_rotated - patella_l_origin"
   ]
  },
  {
   "cell_type": "code",
   "execution_count": null,
   "metadata": {},
   "outputs": [],
   "source": [
    "# scale surface for OpenSim and save\n",
    "the_pts_transformed = patella_l_transformed[patella_l_lm_order['surf_pts']]/1000\n",
    "new_mesh = pv.PolyData(the_pts_transformed, ptll_faces)\n",
    "new_mesh.save('model_update/tps_warping_results/patella_l.stl')"
   ]
  },
  {
   "cell_type": "code",
   "execution_count": null,
   "metadata": {},
   "outputs": [],
   "source": [
    "# scale markers and muscles, create a dataframe for sorting and saving\n",
    "body = 'patella_l'\n",
    "patella_l_transformed_mrkr_mscl = {'body':[], 'name':[], 'location':[]}\n",
    "for i, n in enumerate(patella_l_mrkrs_mscls_names):\n",
    "    patella_l_transformed_mrkr_mscl['body'].append('patella_r'),\n",
    "    patella_l_transformed_mrkr_mscl['name'].append(n),\n",
    "    patella_l_transformed_mrkr_mscl['location'].append(patella_l_transformed[patella_l_lm_order['mrkrs_mscls']][i]/1000)\n",
    "patella_l_transformed_mrkr_mscl_df = pd.DataFrame(patella_l_transformed_mrkr_mscl)"
   ]
  },
  {
   "cell_type": "code",
   "execution_count": null,
   "metadata": {},
   "outputs": [],
   "source": [
    "# fig = px.scatter()\n",
    "# fig.add_trace(go.Scatter3d(\n",
    "# x=patella_l_transformed[patella_l_lm_order['surf_pts'],0], \n",
    "# y=patella_l_transformed[patella_l_lm_order['surf_pts'],1], \n",
    "# z=patella_l_transformed[patella_l_lm_order['surf_pts'],2],\n",
    "# marker=dict(size=4, opacity=0.8), mode = 'markers'))\n",
    "\n",
    "# fig.add_trace(go.Scatter3d(\n",
    "# x=patella_r_transformed[patella_l_lm_order['surf_pts'],0], \n",
    "# y=patella_r_transformed[patella_l_lm_order['surf_pts'],1], \n",
    "# z=patella_r_transformed[patella_l_lm_order['surf_pts'],2],\n",
    "# marker=dict(size=4, opacity=0.8), mode = 'markers'))\n",
    "\n",
    "# fig.update_scenes(aspectmode=\"data\" )\n",
    "# fig.show()"
   ]
  },
  {
   "cell_type": "code",
   "execution_count": null,
   "metadata": {},
   "outputs": [],
   "source": [
    "plot_transformed(patella_r_transformed, patella_r_lm_order, patella_r_mrkrs_mscls_names)\n",
    "plot_transformed(patella_l_transformed, patella_l_lm_order, patella_l_mrkrs_mscls_names)"
   ]
  },
  {
   "cell_type": "markdown",
   "metadata": {},
   "source": [
    "#### *tibia_r*"
   ]
  },
  {
   "cell_type": "code",
   "execution_count": null,
   "metadata": {},
   "outputs": [],
   "source": [
    "tibia_r_mrkrs_mscls_names[4]"
   ]
  },
  {
   "cell_type": "code",
   "execution_count": null,
   "metadata": {},
   "outputs": [],
   "source": [
    "# rotation matrix\n",
    "tibia_r_location = np.array(mri_bone_markers['knee_r_center'])\n",
    "\n",
    "# points = [mri_bone_markers['knee_r_center'], mri_bone_markers['tibia_r_med'], mri_bone_markers['ankle_r_center'], mri_bone_markers['tibia_r_lat']]\n",
    "# plane = Plane.best_fit(points)\n",
    "# tibia_r_pa = np.array([plane.normal[0],plane.normal[1], plane.normal[2]])\n",
    "\n",
    "points = ['tibia_r_med', 'ankle_r_center', 'tibia_r_lat']\n",
    "tibia_r_pa = find_axis(mri_bone_markers, points)\n",
    "\n",
    "tibia_r_is = (np.array(mri_bone_markers['knee_r_center']) - np.array(mri_bone_markers['ankle_r_center']))/np.linalg.norm(np.array(mri_bone_markers['ankle_r_center']) - np.array(mri_bone_markers['knee_r_center']))\n",
    "tibia_r_lr = (np.cross(tibia_r_pa, tibia_r_is))/np.linalg.norm(np.cross(tibia_r_pa, tibia_r_is))\n",
    "\n",
    "tibia_r_axes = np.array((tibia_r_lr, tibia_r_pa, tibia_r_is)) * 50 + tibia_r_location\n",
    "\n",
    "tibia_r_R, tibia_r_t, tibia_r_center_osim, tibia_r_center_mri = axes_rotation(axes_osim, tibia_r_axes)"
   ]
  },
  {
   "cell_type": "code",
   "execution_count": null,
   "metadata": {},
   "outputs": [],
   "source": [
    "# assemble data for transformation and keep record of the order\n",
    "obj_order = ['mrkrs_mscls', 'wrp_rad', 'wrp_ax', 'wrp_transl', 'tib_surf_pts', 'fib_surf_pts']\n",
    "tibia_r_lm_order = {}\n",
    "n = 0\n",
    "for i, num in enumerate([tibia_r_result.shape[0], tr_r.shape[0], tr_a.shape[0], tr_t.shape[0], tr_pts.shape[0], fib_r_pts.shape[0]]):\n",
    "    tibia_r_lm_order[obj_order[i]] = list(range(n, n+num))\n",
    "    n += num\n",
    "\n",
    "tibia_r_to_transform = np.concatenate([tibia_r_result, tr_r, tr_a, tr_t, tr_pts, fib_r_pts])"
   ]
  },
  {
   "cell_type": "code",
   "execution_count": null,
   "metadata": {},
   "outputs": [],
   "source": [
    "# rotate and shift origin to 0,0,0\n",
    "tibia_r_rotated = apply_rotate_zero_origin(tibia_r_to_transform, tibia_r_R)\n",
    "tibia_r_origin = tibia_r_rotated[4] # knee right centre\n",
    "tibia_r_transformed = tibia_r_rotated - tibia_r_origin"
   ]
  },
  {
   "cell_type": "code",
   "execution_count": null,
   "metadata": {},
   "outputs": [],
   "source": [
    "# scale surface for OpenSim and save\n",
    "tr_pts_transformed = tibia_r_transformed[tibia_r_lm_order['tib_surf_pts']]/1000\n",
    "tr_new_mesh = pv.PolyData(tr_pts_transformed, tr_faces)\n",
    "tr_new_mesh.save('model_update/tps_warping_results/tibia_r.stl')\n",
    "\n",
    "fr_pts_transformed = tibia_r_transformed[tibia_r_lm_order['fib_surf_pts']]/1000\n",
    "fr_new_mesh = pv.PolyData(fr_pts_transformed, fib_r_faces )\n",
    "fr_new_mesh.save('model_update/tps_warping_results/fibula_r.stl')"
   ]
  },
  {
   "cell_type": "code",
   "execution_count": null,
   "metadata": {},
   "outputs": [],
   "source": [
    "# scale markers and muscles, create a dataframe for sorting and saving\n",
    "body = 'tibia_r'\n",
    "tibia_r_transformed_mrkr_mscl = {'body':[], 'name':[], 'location':[]}\n",
    "for i, n in enumerate(tibia_r_mrkrs_mscls_names):\n",
    "    tibia_r_transformed_mrkr_mscl['body'].append('tibia_r'),\n",
    "    tibia_r_transformed_mrkr_mscl['name'].append(n),\n",
    "    tibia_r_transformed_mrkr_mscl['location'].append(tibia_r_transformed[tibia_r_lm_order['mrkrs_mscls']][i]/1000)\n",
    "tibia_r_transformed_mrkr_mscl_df = pd.DataFrame(tibia_r_transformed_mrkr_mscl)"
   ]
  },
  {
   "cell_type": "markdown",
   "metadata": {},
   "source": [
    "#### *tibia_l*"
   ]
  },
  {
   "cell_type": "code",
   "execution_count": null,
   "metadata": {},
   "outputs": [],
   "source": [
    "from skspatial.objects import Plane, Points\n",
    "\n",
    "# rotation matrix\n",
    "tibia_l_location = np.array(mri_bone_markers['knee_l_center'])\n",
    "\n",
    "# points = [mri_bone_markers['knee_l_center'], mri_bone_markers['tibia_l_lat'], mri_bone_markers['ankle_l_center'], mri_bone_markers['tibia_l_med']]\n",
    "# plane = Plane.best_fit(points) # \n",
    "# tibia_l_pa = np.array([plane.normal[0],plane.normal[1],plane.normal[2]])\n",
    "\n",
    "points = ['tibia_l_lat', 'ankle_l_center', 'tibia_l_med']\n",
    "tibia_l_pa = find_axis(mri_bone_markers, points)\n",
    "\n",
    "tibia_l_is = (np.array(mri_bone_markers['knee_l_center'] - np.array(mri_bone_markers['ankle_l_center'])))/np.linalg.norm(np.array(mri_bone_markers['knee_l_center']) - np.array(mri_bone_markers['ankle_l_center']))\n",
    "tibia_l_lr = (np.cross(tibia_l_pa, tibia_l_is))/np.linalg.norm(np.cross(tibia_l_pa, tibia_l_is))\n",
    "\n",
    "tibia_l_axes = np.array((tibia_l_lr, tibia_l_pa, tibia_l_is)) * 50 + tibia_l_location\n",
    "\n",
    "tibia_l_R, tibia_l_t, tibia_l_center_osim, tibia_l_center_mri = axes_rotation(axes_osim, tibia_l_axes)"
   ]
  },
  {
   "cell_type": "code",
   "execution_count": null,
   "metadata": {},
   "outputs": [],
   "source": [
    "# assemble data for transformation and keep record of the order\n",
    "obj_order = ['mrkrs_mscls', 'wrp_rad', 'wrp_ax', 'wrp_transl', 'tib_surf_pts', 'fib_surf_pts']\n",
    "tibia_l_lm_order = {}\n",
    "n = 0\n",
    "for i, num in enumerate([tibia_l_result.shape[0], tl_r.shape[0], tl_a.shape[0], tl_t.shape[0], tl_pts.shape[0], fib_l_pts.shape[0]]):\n",
    "    tibia_l_lm_order[obj_order[i]] = list(range(n, n+num))\n",
    "    n += num\n",
    "\n",
    "tibia_l_to_transform = np.concatenate([tibia_l_result, tl_r, tl_a, tl_t, tl_pts, fib_l_pts])"
   ]
  },
  {
   "cell_type": "code",
   "execution_count": null,
   "metadata": {},
   "outputs": [],
   "source": [
    "# rotate and shift origin to 0,0,0\n",
    "tibia_l_rotated = apply_rotate_zero_origin(tibia_l_to_transform, tibia_l_R)\n",
    "tibia_l_origin = tibia_l_rotated[4] # knee right centre\n",
    "tibia_l_transformed = tibia_l_rotated - tibia_l_origin"
   ]
  },
  {
   "cell_type": "code",
   "execution_count": null,
   "metadata": {},
   "outputs": [],
   "source": [
    "# scale surface for OpenSim and save\n",
    "tl_pts_transformed = tibia_l_transformed[tibia_l_lm_order['tib_surf_pts']]/1000\n",
    "tl_new_mesh = pv.PolyData(tl_pts_transformed, tl_faces)\n",
    "tl_new_mesh.save('model_update/tps_warping_results/tibia_l.stl')\n",
    "\n",
    "fl_pts_transformed = tibia_l_transformed[tibia_l_lm_order['fib_surf_pts']]/1000\n",
    "fl_new_mesh = pv.PolyData(fl_pts_transformed, fib_l_faces )\n",
    "fl_new_mesh.save('model_update/tps_warping_results/fibula_l.stl')"
   ]
  },
  {
   "cell_type": "code",
   "execution_count": null,
   "metadata": {},
   "outputs": [],
   "source": [
    "# fig = px.scatter()\n",
    "# fig.add_trace(go.Scatter3d(\n",
    "# x=tibia_l_transformed[tibia_l_lm_order['tib_surf_pts'],0], \n",
    "# y=tibia_l_transformed[tibia_l_lm_order['tib_surf_pts'],1], \n",
    "# z=tibia_l_transformed[tibia_l_lm_order['tib_surf_pts'],2],\n",
    "# marker=dict(size=4, opacity=0.8), mode = 'markers'))\n",
    "\n",
    "# fig.add_trace(go.Scatter3d(\n",
    "# x=tibia_r_transformed[tibia_r_lm_order['tib_surf_pts'],0], \n",
    "# y=tibia_r_transformed[tibia_r_lm_order['tib_surf_pts'],1], \n",
    "# z=tibia_r_transformed[tibia_r_lm_order['tib_surf_pts'],2],\n",
    "# marker=dict(size=4, opacity=0.8), mode = 'markers'))\n",
    "\n",
    "# fig.update_scenes(aspectmode=\"data\" )\n",
    "# fig.show()"
   ]
  },
  {
   "cell_type": "code",
   "execution_count": null,
   "metadata": {},
   "outputs": [],
   "source": [
    "plot_transformed(tibia_r_transformed, tibia_r_lm_order, tibia_r_mrkrs_mscls_names)"
   ]
  },
  {
   "cell_type": "code",
   "execution_count": null,
   "metadata": {},
   "outputs": [],
   "source": [
    "plot_transformed(tibia_l_transformed, tibia_l_lm_order, tibia_l_mrkrs_mscls_names)"
   ]
  },
  {
   "cell_type": "markdown",
   "metadata": {},
   "source": [
    "### Display transformed results"
   ]
  },
  {
   "cell_type": "code",
   "execution_count": null,
   "metadata": {},
   "outputs": [],
   "source": [
    "#tibia_l_transformed\n",
    "tibia_l_lm_order.keys()"
   ]
  },
  {
   "cell_type": "code",
   "execution_count": null,
   "metadata": {},
   "outputs": [],
   "source": [
    "fig = px.scatter()\n",
    "\n",
    "fig.add_trace(go.Scatter3d(\n",
    "x=tibia_l_transformed[tibia_l_lm_order['mrkrs_mscls'],0], \n",
    "y=tibia_l_transformed[tibia_l_lm_order['mrkrs_mscls'],1], \n",
    "z=tibia_l_transformed[tibia_l_lm_order['mrkrs_mscls'],2],\n",
    "marker=dict(\n",
    "    size=4,\n",
    "    opacity=0.8\n",
    "),\n",
    "mode = 'markers + text',\n",
    "#text=tibia_l_mrkrs_mscls_names,\n",
    "textposition=\"top center\"))\n",
    "\n",
    "# for i, num in enumerate(tibia_l_lm_order['wrp_rad']):\n",
    "#     fig.add_trace(go.Scatter3d(\n",
    "#     x=[tibia_l_transformed[tibia_l_lm_order['wrp_rad'][i],0], tibia_l_transformed[tibia_l_lm_order['wrp_transl'][i],0],tibia_l_transformed[tibia_l_lm_order['wrp_ax'][i],0]],\n",
    "#     y=[tibia_l_transformed[tibia_l_lm_order['wrp_rad'][i],1],tibia_l_transformed[tibia_l_lm_order['wrp_transl'][i],1],tibia_l_transformed[tibia_l_lm_order['wrp_ax'][i],1]], \n",
    "#     z=[tibia_l_transformed[tibia_l_lm_order['wrp_rad'][i],2],tibia_l_transformed[tibia_l_lm_order['wrp_transl'][i],2],tibia_l_transformed[tibia_l_lm_order['wrp_ax'][i],2]],\n",
    "# marker=dict(\n",
    "#     size=4,\n",
    "#     opacity=0.8\n",
    "# )))\n",
    "\n",
    "fig.add_trace(go.Scatter3d(\n",
    "x=tibia_l_transformed[tibia_l_lm_order['wrp_rad'],0], \n",
    "y=tibia_l_transformed[tibia_l_lm_order['wrp_rad'],1], \n",
    "z=tibia_l_transformed[tibia_l_lm_order['wrp_rad'],2],\n",
    "marker=dict(\n",
    "    size=4,\n",
    "    opacity=0.8\n",
    "),\n",
    "mode = 'markers'))\n",
    "\n",
    "fig.add_trace(go.Scatter3d(\n",
    "x=tibia_l_transformed[[0,1],0], \n",
    "y=tibia_l_transformed[[0,1],1], \n",
    "z=tibia_l_transformed[[0,1],2],\n",
    "marker=dict(\n",
    "    size=4,\n",
    "    opacity=0.8\n",
    ")))\n",
    "\n",
    "fig.add_trace(go.Scatter3d(\n",
    "x=[0,0], \n",
    "y=[0,0], \n",
    "z=[-35,35],\n",
    "marker=dict(\n",
    "    size=4,\n",
    "    opacity=0.8\n",
    ")))\n",
    "\n",
    "fig.add_trace(go.Scatter3d(\n",
    "x=[tibia_l_transformed[tibia_l_lm_order['wrp_rad'][5],0], tibia_l_transformed[tibia_l_lm_order['wrp_transl'][5],0],tibia_l_transformed[tibia_l_lm_order['wrp_ax'][5],0]],\n",
    "y=[tibia_l_transformed[tibia_l_lm_order['wrp_rad'][5],1],tibia_l_transformed[tibia_l_lm_order['wrp_transl'][5],1],tibia_l_transformed[tibia_l_lm_order['wrp_ax'][5],1]], \n",
    "z=[tibia_l_transformed[tibia_l_lm_order['wrp_rad'][5],2],tibia_l_transformed[tibia_l_lm_order['wrp_transl'][5],2],tibia_l_transformed[tibia_l_lm_order['wrp_ax'][5],2]],\n",
    "marker=dict(\n",
    "size=4,\n",
    "opacity=0.8\n",
    ")))\n",
    "fig.update_scenes(aspectmode=\"data\" )\n",
    "fig.show()"
   ]
  },
  {
   "cell_type": "code",
   "execution_count": null,
   "metadata": {},
   "outputs": [],
   "source": [
    "# scale markers and muscles, create a dataframe for sorting and saving\n",
    "body = 'tibia_l'\n",
    "tibia_l_transformed_mrkr_mscl = {'body':[], 'name':[], 'location':[]}\n",
    "for i, n in enumerate(tibia_l_mrkrs_mscls_names):\n",
    "    tibia_l_transformed_mrkr_mscl['body'].append('tibia_l'),\n",
    "    tibia_l_transformed_mrkr_mscl['name'].append(n),\n",
    "    tibia_l_transformed_mrkr_mscl['location'].append(tibia_l_transformed[tibia_l_lm_order['mrkrs_mscls']][i]/1000)\n",
    "tibia_l_transformed_mrkr_mscl_df = pd.DataFrame(tibia_l_transformed_mrkr_mscl)"
   ]
  },
  {
   "cell_type": "code",
   "execution_count": null,
   "metadata": {},
   "outputs": [],
   "source": [
    "## collect all markers and muscles"
   ]
  },
  {
   "cell_type": "code",
   "execution_count": null,
   "metadata": {},
   "outputs": [],
   "source": [
    "mrkrs_mscls_transformed_df = pd.concat([pelvis_transformed_mrkr_mscl_df, femur_r_transformed_mrkr_mscl_df, femur_l_transformed_mrkr_mscl_df, patella_r_transformed_mrkr_mscl_df, patella_l_transformed_mrkr_mscl_df, tibia_r_transformed_mrkr_mscl_df, tibia_l_transformed_mrkr_mscl_df])"
   ]
  },
  {
   "cell_type": "code",
   "execution_count": null,
   "metadata": {},
   "outputs": [],
   "source": [
    "muscle_names = list(df_muscles['label'])\n",
    "marker_names = list(df_markers['name'])"
   ]
  },
  {
   "cell_type": "code",
   "execution_count": null,
   "metadata": {},
   "outputs": [],
   "source": [
    "list_of_rows = []\n",
    "for i, row in mrkrs_mscls_transformed_df.iterrows():\n",
    "    if row['name'] in muscle_names:\n",
    "        list_of_rows.append(row)\n",
    "mscls_transformed_df = pd.DataFrame(list_of_rows)\n",
    "mscls_transformed_df.to_csv('model_update/tps_warping_results/muscles_transformed.csv', index=False)"
   ]
  },
  {
   "cell_type": "code",
   "execution_count": null,
   "metadata": {},
   "outputs": [],
   "source": [
    "list_of_rows = []\n",
    "for i, row in mrkrs_mscls_transformed_df.iterrows():\n",
    "    if row['name'] in marker_names:\n",
    "        list_of_rows.append(row)\n",
    "markers_transformed_df = pd.DataFrame(list_of_rows)\n",
    "markers_transformed_df.to_csv('model_update/tps_warping_results/markers_transformed.csv', index=False)"
   ]
  },
  {
   "cell_type": "markdown",
   "metadata": {},
   "source": [
    "### Infer scaled parameters for muscle wrapping surfaces"
   ]
  },
  {
   "cell_type": "code",
   "execution_count": null,
   "metadata": {},
   "outputs": [],
   "source": [
    "#[pelvis_wrp, femur_r_wrp, femur_l_wrp, tibia_r_wrp, tibia_l_wrp]"
   ]
  },
  {
   "cell_type": "markdown",
   "metadata": {},
   "source": [
    "#### pelvis"
   ]
  },
  {
   "cell_type": "code",
   "execution_count": null,
   "metadata": {},
   "outputs": [],
   "source": [
    "body = 'pelvis'\n",
    "names_in_order = list(pelvis_wrp['name'])\n",
    "transformed_landmarks = pelvis_transformed\n",
    "landmark_order_dict = pelvis_lm_order\n",
    "transformed_wrp_pelvis_df=return_transformed_wrapping_surfaces(transformed_landmarks, landmark_order_dict, names_in_order, body, mm_to_m = True)\n",
    "# transformed_wrp_pelvis_d"
   ]
  },
  {
   "cell_type": "code",
   "execution_count": null,
   "metadata": {},
   "outputs": [],
   "source": [
    "# wrp_df[wrp_df['body']=='pelvis'][['name', 'translation', 'rotation', 'half_length', 'radius']]"
   ]
  },
  {
   "cell_type": "markdown",
   "metadata": {},
   "source": [
    "#### femur_l"
   ]
  },
  {
   "cell_type": "code",
   "execution_count": null,
   "metadata": {},
   "outputs": [],
   "source": [
    "body = 'femur_l'\n",
    "names_in_order = list(femur_l_wrp['name'])\n",
    "transformed_landmarks = femur_l_transformed\n",
    "landmark_order_dict = femur_l_lm_order\n",
    "transformed_wrp_femur_l_df=return_transformed_wrapping_surfaces(transformed_landmarks, landmark_order_dict, names_in_order, body, mm_to_m = True)\n",
    "# transformed_wrp_femur_l_df"
   ]
  },
  {
   "cell_type": "code",
   "execution_count": null,
   "metadata": {},
   "outputs": [],
   "source": [
    "# wrp_df[wrp_df['body']=='femur_l'][['name', 'translation', 'rotation', 'half_length', 'radius']]"
   ]
  },
  {
   "cell_type": "markdown",
   "metadata": {},
   "source": [
    "#### femur_r"
   ]
  },
  {
   "cell_type": "code",
   "execution_count": null,
   "metadata": {},
   "outputs": [],
   "source": [
    "body = 'femur_r'\n",
    "names_in_order = list(femur_r_wrp['name'])\n",
    "transformed_landmarks = femur_r_transformed\n",
    "landmark_order_dict = femur_r_lm_order\n",
    "transformed_wrp_femur_r_df=return_transformed_wrapping_surfaces(transformed_landmarks, landmark_order_dict, names_in_order, body, mm_to_m = True)\n",
    "# transformed_wrp_femur_r_df"
   ]
  },
  {
   "cell_type": "code",
   "execution_count": null,
   "metadata": {},
   "outputs": [],
   "source": [
    "# wrp_df[wrp_df['body']=='femur_r'][['name', 'translation', 'rotation', 'half_length', 'radius']]"
   ]
  },
  {
   "cell_type": "markdown",
   "metadata": {},
   "source": [
    "#### tibia_r"
   ]
  },
  {
   "cell_type": "code",
   "execution_count": null,
   "metadata": {},
   "outputs": [],
   "source": [
    "body = 'tibia_r'\n",
    "names_in_order = list(tibia_r_wrp['name'])\n",
    "transformed_landmarks = tibia_r_transformed\n",
    "landmark_order_dict = tibia_r_lm_order\n",
    "transformed_wrp_tibia_r_df=return_transformed_wrapping_surfaces(transformed_landmarks, landmark_order_dict, names_in_order, body, mm_to_m = True)\n",
    "#transformed_wrp_tibia_r_df"
   ]
  },
  {
   "cell_type": "code",
   "execution_count": null,
   "metadata": {},
   "outputs": [],
   "source": [
    "# wrp_df[wrp_df['body']=='tibia_r'][['name', 'translation', 'rotation', 'half_length', 'radius']]"
   ]
  },
  {
   "cell_type": "markdown",
   "metadata": {},
   "source": [
    "#### tibia_l"
   ]
  },
  {
   "cell_type": "code",
   "execution_count": null,
   "metadata": {},
   "outputs": [],
   "source": [
    "body = 'tibia_l'\n",
    "names_in_order = list(tibia_l_wrp['name'])\n",
    "transformed_landmarks = tibia_l_transformed\n",
    "landmark_order_dict = tibia_l_lm_order\n",
    "transformed_wrp_tibia_l_df=return_transformed_wrapping_surfaces(transformed_landmarks, landmark_order_dict, names_in_order, body, mm_to_m = True)\n",
    "# transformed_wrp_tibia_l_df"
   ]
  },
  {
   "cell_type": "code",
   "execution_count": null,
   "metadata": {},
   "outputs": [],
   "source": [
    "# wrp_df[wrp_df['body']=='tibia_l'][['name', 'translation', 'rotation', 'half_length', 'radius']]"
   ]
  },
  {
   "cell_type": "code",
   "execution_count": null,
   "metadata": {},
   "outputs": [],
   "source": [
    "wrp_transformed_df = pd.concat([transformed_wrp_pelvis_df, transformed_wrp_femur_r_df, transformed_wrp_femur_l_df,transformed_wrp_tibia_r_df,transformed_wrp_tibia_l_df])\n",
    "wrp_transformed_df.to_csv('model_update/tps_warping_results/wrp_transformed.csv', index=False)"
   ]
  },
  {
   "cell_type": "markdown",
   "metadata": {},
   "source": [
    "## Impute muscles to a scaled model\n",
    "this does not guarantee the correct position of join centres. It only transfers muscles to the space of the 3DSlicer, where the muscles can be checked, corrected and then transformed together with bone markers to child body frame axes."
   ]
  },
  {
   "cell_type": "code",
   "execution_count": null,
   "metadata": {},
   "outputs": [],
   "source": []
  }
 ],
 "metadata": {
  "kernelspec": {
   "display_name": "py38",
   "language": "python",
   "name": "python3"
  },
  "language_info": {
   "codemirror_mode": {
    "name": "ipython",
    "version": 3
   },
   "file_extension": ".py",
   "mimetype": "text/x-python",
   "name": "python",
   "nbconvert_exporter": "python",
   "pygments_lexer": "ipython3",
   "version": "3.8.18"
  }
 },
 "nbformat": 4,
 "nbformat_minor": 2
}
