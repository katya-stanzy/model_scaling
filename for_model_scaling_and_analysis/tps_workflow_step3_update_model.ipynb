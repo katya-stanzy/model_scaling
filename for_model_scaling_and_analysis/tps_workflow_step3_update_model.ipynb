{
 "cells": [
  {
   "cell_type": "code",
   "execution_count": 1,
   "metadata": {},
   "outputs": [],
   "source": [
    "import numpy as np\n",
    "import math as m"
   ]
  },
  {
   "cell_type": "code",
   "execution_count": 2,
   "metadata": {},
   "outputs": [],
   "source": [
    "\n",
    "import opensim as osim\n",
    "import xml.etree.ElementTree as ET\n",
    "import numpy as np\n",
    "import pandas as pd\n",
    "import json\n",
    "import os"
   ]
  },
  {
   "cell_type": "markdown",
   "metadata": {},
   "source": [
    "### Import Transformed Markers"
   ]
  },
  {
   "cell_type": "code",
   "execution_count": 3,
   "metadata": {},
   "outputs": [],
   "source": [
    "markers_df = pd.read_csv('model_update/tps_warping_results/markers_transformed.csv', index_col=0)"
   ]
  },
  {
   "cell_type": "code",
   "execution_count": 4,
   "metadata": {},
   "outputs": [
    {
     "data": {
      "text/html": [
       "<div>\n",
       "<style scoped>\n",
       "    .dataframe tbody tr th:only-of-type {\n",
       "        vertical-align: middle;\n",
       "    }\n",
       "\n",
       "    .dataframe tbody tr th {\n",
       "        vertical-align: top;\n",
       "    }\n",
       "\n",
       "    .dataframe thead th {\n",
       "        text-align: right;\n",
       "    }\n",
       "</style>\n",
       "<table border=\"1\" class=\"dataframe\">\n",
       "  <thead>\n",
       "    <tr style=\"text-align: right;\">\n",
       "      <th></th>\n",
       "      <th>body</th>\n",
       "      <th>location</th>\n",
       "    </tr>\n",
       "    <tr>\n",
       "      <th>name</th>\n",
       "      <th></th>\n",
       "      <th></th>\n",
       "    </tr>\n",
       "  </thead>\n",
       "  <tbody>\n",
       "    <tr>\n",
       "      <th>ASIS_l</th>\n",
       "      <td>pelvis</td>\n",
       "      <td>[-7.18673236e-05  2.39908737e-05 -1.09069255e-01]</td>\n",
       "    </tr>\n",
       "    <tr>\n",
       "      <th>ASIS_r</th>\n",
       "      <td>pelvis</td>\n",
       "      <td>[ 7.18673236e-05 -2.39908737e-05  1.09069255e-01]</td>\n",
       "    </tr>\n",
       "    <tr>\n",
       "      <th>PSIS_l</th>\n",
       "      <td>pelvis</td>\n",
       "      <td>[-0.12422751 -0.00100463 -0.05171399]</td>\n",
       "    </tr>\n",
       "    <tr>\n",
       "      <th>PSIS_r</th>\n",
       "      <td>pelvis</td>\n",
       "      <td>[-0.12231541  0.00105886  0.05155155]</td>\n",
       "    </tr>\n",
       "    <tr>\n",
       "      <th>pelvis_origin</th>\n",
       "      <td>pelvis</td>\n",
       "      <td>[8.17044429e-09 2.61787435e-09 3.18476136e-09]</td>\n",
       "    </tr>\n",
       "    <tr>\n",
       "      <th>ilium_r</th>\n",
       "      <td>pelvis</td>\n",
       "      <td>[-0.07435212  0.04666253  0.09570157]</td>\n",
       "    </tr>\n",
       "    <tr>\n",
       "      <th>ilium_l</th>\n",
       "      <td>pelvis</td>\n",
       "      <td>[-0.07203954  0.0393926  -0.10045404]</td>\n",
       "    </tr>\n",
       "    <tr>\n",
       "      <th>isch_spine_r</th>\n",
       "      <td>pelvis</td>\n",
       "      <td>[-0.07183451 -0.08881641  0.05315165]</td>\n",
       "    </tr>\n",
       "    <tr>\n",
       "      <th>isch_spine_l</th>\n",
       "      <td>pelvis</td>\n",
       "      <td>[-0.07022732 -0.08781739 -0.04701425]</td>\n",
       "    </tr>\n",
       "    <tr>\n",
       "      <th>isch_tuber_r</th>\n",
       "      <td>pelvis</td>\n",
       "      <td>[-0.07726729 -0.13415787  0.06548262]</td>\n",
       "    </tr>\n",
       "    <tr>\n",
       "      <th>isch_tuber_l</th>\n",
       "      <td>pelvis</td>\n",
       "      <td>[-0.07281589 -0.130793   -0.06333472]</td>\n",
       "    </tr>\n",
       "    <tr>\n",
       "      <th>isch_infer_r</th>\n",
       "      <td>pelvis</td>\n",
       "      <td>[-0.0283525  -0.14142767  0.04209368]</td>\n",
       "    </tr>\n",
       "    <tr>\n",
       "      <th>isch_infer_l</th>\n",
       "      <td>pelvis</td>\n",
       "      <td>[-0.0270451  -0.1409325  -0.03902933]</td>\n",
       "    </tr>\n",
       "    <tr>\n",
       "      <th>pub_infer_c</th>\n",
       "      <td>pelvis</td>\n",
       "      <td>[-0.00214027 -0.11614184  0.00210159]</td>\n",
       "    </tr>\n",
       "    <tr>\n",
       "      <th>femur_r_center_in_pelvis</th>\n",
       "      <td>pelvis</td>\n",
       "      <td>[-0.03280726 -0.08525383  0.08542795]</td>\n",
       "    </tr>\n",
       "    <tr>\n",
       "      <th>femur_l_center_in_pelvis</th>\n",
       "      <td>pelvis</td>\n",
       "      <td>[-0.02544698 -0.08390898 -0.07778181]</td>\n",
       "    </tr>\n",
       "    <tr>\n",
       "      <th>torso_origin_in_pelvis</th>\n",
       "      <td>pelvis</td>\n",
       "      <td>[-0.08491701  0.03505046 -0.00099898]</td>\n",
       "    </tr>\n",
       "  </tbody>\n",
       "</table>\n",
       "</div>"
      ],
      "text/plain": [
       "                            body  \\\n",
       "name                               \n",
       "ASIS_l                    pelvis   \n",
       "ASIS_r                    pelvis   \n",
       "PSIS_l                    pelvis   \n",
       "PSIS_r                    pelvis   \n",
       "pelvis_origin             pelvis   \n",
       "ilium_r                   pelvis   \n",
       "ilium_l                   pelvis   \n",
       "isch_spine_r              pelvis   \n",
       "isch_spine_l              pelvis   \n",
       "isch_tuber_r              pelvis   \n",
       "isch_tuber_l              pelvis   \n",
       "isch_infer_r              pelvis   \n",
       "isch_infer_l              pelvis   \n",
       "pub_infer_c               pelvis   \n",
       "femur_r_center_in_pelvis  pelvis   \n",
       "femur_l_center_in_pelvis  pelvis   \n",
       "torso_origin_in_pelvis    pelvis   \n",
       "\n",
       "                                                                   location  \n",
       "name                                                                         \n",
       "ASIS_l                    [-7.18673236e-05  2.39908737e-05 -1.09069255e-01]  \n",
       "ASIS_r                    [ 7.18673236e-05 -2.39908737e-05  1.09069255e-01]  \n",
       "PSIS_l                                [-0.12422751 -0.00100463 -0.05171399]  \n",
       "PSIS_r                                [-0.12231541  0.00105886  0.05155155]  \n",
       "pelvis_origin                [8.17044429e-09 2.61787435e-09 3.18476136e-09]  \n",
       "ilium_r                               [-0.07435212  0.04666253  0.09570157]  \n",
       "ilium_l                               [-0.07203954  0.0393926  -0.10045404]  \n",
       "isch_spine_r                          [-0.07183451 -0.08881641  0.05315165]  \n",
       "isch_spine_l                          [-0.07022732 -0.08781739 -0.04701425]  \n",
       "isch_tuber_r                          [-0.07726729 -0.13415787  0.06548262]  \n",
       "isch_tuber_l                          [-0.07281589 -0.130793   -0.06333472]  \n",
       "isch_infer_r                          [-0.0283525  -0.14142767  0.04209368]  \n",
       "isch_infer_l                          [-0.0270451  -0.1409325  -0.03902933]  \n",
       "pub_infer_c                           [-0.00214027 -0.11614184  0.00210159]  \n",
       "femur_r_center_in_pelvis              [-0.03280726 -0.08525383  0.08542795]  \n",
       "femur_l_center_in_pelvis              [-0.02544698 -0.08390898 -0.07778181]  \n",
       "torso_origin_in_pelvis                [-0.08491701  0.03505046 -0.00099898]  "
      ]
     },
     "execution_count": 4,
     "metadata": {},
     "output_type": "execute_result"
    }
   ],
   "source": [
    "markers_df[markers_df['body']=='pelvis']"
   ]
  },
  {
   "cell_type": "markdown",
   "metadata": {},
   "source": [
    "### Import Transformed Muscle Paths"
   ]
  },
  {
   "cell_type": "code",
   "execution_count": 5,
   "metadata": {},
   "outputs": [
    {
     "data": {
      "text/html": [
       "<div>\n",
       "<style scoped>\n",
       "    .dataframe tbody tr th:only-of-type {\n",
       "        vertical-align: middle;\n",
       "    }\n",
       "\n",
       "    .dataframe tbody tr th {\n",
       "        vertical-align: top;\n",
       "    }\n",
       "\n",
       "    .dataframe thead th {\n",
       "        text-align: right;\n",
       "    }\n",
       "</style>\n",
       "<table border=\"1\" class=\"dataframe\">\n",
       "  <thead>\n",
       "    <tr style=\"text-align: right;\">\n",
       "      <th></th>\n",
       "      <th>body</th>\n",
       "      <th>location</th>\n",
       "    </tr>\n",
       "    <tr>\n",
       "      <th>name</th>\n",
       "      <th></th>\n",
       "      <th></th>\n",
       "    </tr>\n",
       "  </thead>\n",
       "  <tbody>\n",
       "    <tr>\n",
       "      <th>addbrev_r-P1</th>\n",
       "      <td>pelvis</td>\n",
       "      <td>[ 0.00090114 -0.09667376  0.01693799]</td>\n",
       "    </tr>\n",
       "    <tr>\n",
       "      <th>addlong_r-P1</th>\n",
       "      <td>pelvis</td>\n",
       "      <td>[ 0.00818057 -0.08844186  0.01996903]</td>\n",
       "    </tr>\n",
       "    <tr>\n",
       "      <th>addmagDist_r-P1</th>\n",
       "      <td>pelvis</td>\n",
       "      <td>[-0.02191218 -0.13458107  0.03836024]</td>\n",
       "    </tr>\n",
       "    <tr>\n",
       "      <th>addmagIsch_r-P1</th>\n",
       "      <td>pelvis</td>\n",
       "      <td>[-0.03598057 -0.14105504  0.04186994]</td>\n",
       "    </tr>\n",
       "    <tr>\n",
       "      <th>addmagMid_r-P1</th>\n",
       "      <td>pelvis</td>\n",
       "      <td>[-0.01001184 -0.12573645  0.02820166]</td>\n",
       "    </tr>\n",
       "  </tbody>\n",
       "</table>\n",
       "</div>"
      ],
      "text/plain": [
       "                   body                               location\n",
       "name                                                          \n",
       "addbrev_r-P1     pelvis  [ 0.00090114 -0.09667376  0.01693799]\n",
       "addlong_r-P1     pelvis  [ 0.00818057 -0.08844186  0.01996903]\n",
       "addmagDist_r-P1  pelvis  [-0.02191218 -0.13458107  0.03836024]\n",
       "addmagIsch_r-P1  pelvis  [-0.03598057 -0.14105504  0.04186994]\n",
       "addmagMid_r-P1   pelvis  [-0.01001184 -0.12573645  0.02820166]"
      ]
     },
     "execution_count": 5,
     "metadata": {},
     "output_type": "execute_result"
    }
   ],
   "source": [
    "mscles_df = pd.read_csv('model_update/tps_warping_results/muscles_transformed.csv', index_col=0)\n",
    "mscles_df.head()"
   ]
  },
  {
   "cell_type": "markdown",
   "metadata": {},
   "source": [
    "### Import Transformed Wrapping Surfaces"
   ]
  },
  {
   "cell_type": "code",
   "execution_count": 6,
   "metadata": {},
   "outputs": [
    {
     "data": {
      "text/html": [
       "<div>\n",
       "<style scoped>\n",
       "    .dataframe tbody tr th:only-of-type {\n",
       "        vertical-align: middle;\n",
       "    }\n",
       "\n",
       "    .dataframe tbody tr th {\n",
       "        vertical-align: top;\n",
       "    }\n",
       "\n",
       "    .dataframe thead th {\n",
       "        text-align: right;\n",
       "    }\n",
       "</style>\n",
       "<table border=\"1\" class=\"dataframe\">\n",
       "  <thead>\n",
       "    <tr style=\"text-align: right;\">\n",
       "      <th></th>\n",
       "      <th>body</th>\n",
       "      <th>translation</th>\n",
       "      <th>rotation</th>\n",
       "      <th>length</th>\n",
       "      <th>radius</th>\n",
       "    </tr>\n",
       "    <tr>\n",
       "      <th>name</th>\n",
       "      <th></th>\n",
       "      <th></th>\n",
       "      <th></th>\n",
       "      <th></th>\n",
       "      <th></th>\n",
       "    </tr>\n",
       "  </thead>\n",
       "  <tbody>\n",
       "    <tr>\n",
       "      <th>Gmax1_at_pelvis_r</th>\n",
       "      <td>pelvis</td>\n",
       "      <td>[-0.0406, -0.1113, 0.0669]</td>\n",
       "      <td>[-0.56813, -0.30577, 0.0186]</td>\n",
       "      <td>0.1700</td>\n",
       "      <td>0.0321</td>\n",
       "    </tr>\n",
       "    <tr>\n",
       "      <th>Gmax2_at_pelvis_r</th>\n",
       "      <td>pelvis</td>\n",
       "      <td>[-0.0486, -0.0963, 0.0755]</td>\n",
       "      <td>[-0.75703, -0.33133, 0.0176]</td>\n",
       "      <td>0.1104</td>\n",
       "      <td>0.0324</td>\n",
       "    </tr>\n",
       "    <tr>\n",
       "      <th>Gmax3_at_pelvis_r</th>\n",
       "      <td>pelvis</td>\n",
       "      <td>[-0.0502, -0.1022, 0.0757]</td>\n",
       "      <td>[-0.13198, -0.18094, 0.00784]</td>\n",
       "      <td>0.1122</td>\n",
       "      <td>0.0327</td>\n",
       "    </tr>\n",
       "    <tr>\n",
       "      <th>Gmax1_at_pelvis_l</th>\n",
       "      <td>pelvis</td>\n",
       "      <td>[-0.0356, -0.1097, -0.0609]</td>\n",
       "      <td>[0.51118, 0.26581, 0.01389]</td>\n",
       "      <td>0.1658</td>\n",
       "      <td>0.0323</td>\n",
       "    </tr>\n",
       "    <tr>\n",
       "      <th>Gmax2_at_pelvis_l</th>\n",
       "      <td>pelvis</td>\n",
       "      <td>[-0.0431, -0.0947, -0.0686]</td>\n",
       "      <td>[0.70918, 0.29079, 0.01311]</td>\n",
       "      <td>0.1090</td>\n",
       "      <td>0.0330</td>\n",
       "    </tr>\n",
       "  </tbody>\n",
       "</table>\n",
       "</div>"
      ],
      "text/plain": [
       "                     body                  translation  \\\n",
       "name                                                     \n",
       "Gmax1_at_pelvis_r  pelvis   [-0.0406, -0.1113, 0.0669]   \n",
       "Gmax2_at_pelvis_r  pelvis   [-0.0486, -0.0963, 0.0755]   \n",
       "Gmax3_at_pelvis_r  pelvis   [-0.0502, -0.1022, 0.0757]   \n",
       "Gmax1_at_pelvis_l  pelvis  [-0.0356, -0.1097, -0.0609]   \n",
       "Gmax2_at_pelvis_l  pelvis  [-0.0431, -0.0947, -0.0686]   \n",
       "\n",
       "                                        rotation  length  radius  \n",
       "name                                                              \n",
       "Gmax1_at_pelvis_r   [-0.56813, -0.30577, 0.0186]  0.1700  0.0321  \n",
       "Gmax2_at_pelvis_r   [-0.75703, -0.33133, 0.0176]  0.1104  0.0324  \n",
       "Gmax3_at_pelvis_r  [-0.13198, -0.18094, 0.00784]  0.1122  0.0327  \n",
       "Gmax1_at_pelvis_l    [0.51118, 0.26581, 0.01389]  0.1658  0.0323  \n",
       "Gmax2_at_pelvis_l    [0.70918, 0.29079, 0.01311]  0.1090  0.0330  "
      ]
     },
     "execution_count": 6,
     "metadata": {},
     "output_type": "execute_result"
    }
   ],
   "source": [
    "wrp_df = pd.read_csv('model_update/tps_warping_results/wrp_transformed.csv', index_col=1)\n",
    "wrp_df.head()"
   ]
  },
  {
   "cell_type": "markdown",
   "metadata": {},
   "source": [
    "### Parse current scaled model"
   ]
  },
  {
   "cell_type": "code",
   "execution_count": 7,
   "metadata": {},
   "outputs": [],
   "source": [
    "tree=ET.parse(\"scaled_model_P01.osim\")\n",
    "root = tree.getroot()"
   ]
  },
  {
   "cell_type": "markdown",
   "metadata": {},
   "source": [
    "### Update reference geometry"
   ]
  },
  {
   "cell_type": "code",
   "execution_count": 8,
   "metadata": {},
   "outputs": [],
   "source": [
    "ref_geom_dic = {'body': [], 'Mesh name' : [], 'Mesh file' : []}\n",
    "\n",
    "ref_geom_dic['body'].append(\"pelvis\"); ref_geom_dic['Mesh name'].append(\"pelvis_geom_1\"); ref_geom_dic['Mesh file'].append('model_update\\\\tps_warping_results\\\\r_pelvis.stl')\n",
    "ref_geom_dic['body'].append(\"pelvis\"); ref_geom_dic['Mesh name'].append(\"pelvis_geom_2\"); ref_geom_dic['Mesh file'].append('model_update\\\\tps_warping_results\\\\l_pelvis.stl')\n",
    "ref_geom_dic['body'].append(\"pelvis\"); ref_geom_dic['Mesh name'].append(\"pelvis_geom_3\"); ref_geom_dic['Mesh file'].append('model_update\\\\tps_warping_results\\\\sacrum.stl')\n",
    "\n",
    "ref_geom_dic['body'].append(\"femur_r\"); ref_geom_dic['Mesh name'].append(\"femur_r_geom_1\"); ref_geom_dic['Mesh file'].append('model_update\\\\tps_warping_results\\\\femur_r.stl')\n",
    "ref_geom_dic['body'].append(\"femur_l\"); ref_geom_dic['Mesh name'].append(\"femur_l_geom_1\"); ref_geom_dic['Mesh file'].append('model_update\\\\tps_warping_results\\\\femur_l.stl')\n",
    "\n",
    "ref_geom_dic['body'].append(\"tibia_r\"); ref_geom_dic['Mesh name'].append(\"tibia_r_geom_1\"); ref_geom_dic['Mesh file'].append('model_update\\\\tps_warping_results\\\\tibia_r.stl')\n",
    "ref_geom_dic['body'].append(\"tibia_r\"); ref_geom_dic['Mesh name'].append(\"tibia_r_geom_2\"); ref_geom_dic['Mesh file'].append('model_update\\\\tps_warping_results\\\\fibula_r.stl')\n",
    "\n",
    "ref_geom_dic['body'].append(\"tibia_l\"); ref_geom_dic['Mesh name'].append(\"tibia_l_geom_1\"); ref_geom_dic['Mesh file'].append('model_update\\\\tps_warping_results\\\\tibia_l.stl')\n",
    "ref_geom_dic['body'].append(\"tibia_l\"); ref_geom_dic['Mesh name'].append(\"tibia_l_geom_2\"); ref_geom_dic['Mesh file'].append('model_update\\\\tps_warping_results\\\\fibula_l.stl')\n",
    "\n",
    "ref_geom_dic['body'].append(\"patella_r\"); ref_geom_dic['Mesh name'].append(\"patella_r_geom_1\"); ref_geom_dic['Mesh file'].append('model_update\\\\tps_warping_results\\\\patella_r.stl')\n",
    "ref_geom_dic['body'].append(\"patella_l\"); ref_geom_dic['Mesh name'].append(\"patella_l_geom_1\"); ref_geom_dic['Mesh file'].append('model_update\\\\tps_warping_results\\\\patella_l.stl')"
   ]
  },
  {
   "cell_type": "code",
   "execution_count": 9,
   "metadata": {},
   "outputs": [],
   "source": [
    "ref_geom_df = pd.DataFrame(ref_geom_dic).set_index('Mesh name')"
   ]
  },
  {
   "cell_type": "code",
   "execution_count": 10,
   "metadata": {},
   "outputs": [],
   "source": [
    "for Mesh in root.iter('Mesh'):\n",
    "    point = Mesh.attrib['name']\n",
    "    if point in ref_geom_df.index:\n",
    "        new_text = ref_geom_df.loc[point, 'Mesh file']\n",
    "        # print(point, new_text)\n",
    "        Mesh.find('mesh_file').text = new_text\n",
    "        Mesh.find('scale_factors').text = '1 1 1'\n",
    "    else: pass"
   ]
  },
  {
   "cell_type": "markdown",
   "metadata": {},
   "source": [
    "### Update muscle paths"
   ]
  },
  {
   "cell_type": "code",
   "execution_count": 11,
   "metadata": {},
   "outputs": [],
   "source": [
    "for PathPoint in root.iter('PathPoint'):\n",
    "    point = PathPoint.attrib['name']\n",
    "    if point in mscles_df.index:\n",
    "        location = mscles_df.loc[point, 'location']\n",
    "        new_text = location[1:-1]\n",
    "        # print(point, new_text)\n",
    "        PathPoint.find('location').text = new_text\n",
    "    else: pass"
   ]
  },
  {
   "cell_type": "markdown",
   "metadata": {},
   "source": [
    "### Update locations of muscle wrapping surfaces"
   ]
  },
  {
   "cell_type": "code",
   "execution_count": 12,
   "metadata": {},
   "outputs": [],
   "source": [
    "for WrapCylinder in root.iter('WrapCylinder'):\n",
    "    point = WrapCylinder.attrib['name']\n",
    "    if point in wrp_df.index:\n",
    "        translation = wrp_df.loc[point, 'translation']\n",
    "        new_text = translation[1:-1]\n",
    "        # print(point, new_text)\n",
    "        WrapCylinder.find('translation').text = new_text\n",
    "    else: pass"
   ]
  },
  {
   "cell_type": "markdown",
   "metadata": {},
   "source": [
    "### Update Translation of joint centres"
   ]
  },
  {
   "cell_type": "code",
   "execution_count": 13,
   "metadata": {},
   "outputs": [],
   "source": [
    "femur_r_center_in_pelvis = markers_df.loc['femur_r_center_in_pelvis', 'location']\n",
    "femur_l_center_in_pelvis = markers_df.loc['femur_l_center_in_pelvis', 'location']\n",
    "knee_l_center_in_femur = markers_df.loc['knee_l_center_in_femur_l', 'location']\n",
    "knee_r_center_in_femur = markers_df.loc['knee_r_center_in_femur_r', 'location']\n",
    "patella_l_center_in_femur = markers_df.loc['patella_l_in_femur_l', 'location']\n",
    "patella_r_center_in_femur = markers_df.loc['patella_r_in_femur_r', 'location']\n",
    "\n",
    "talus_l_center_in_tibia = markers_df.loc['talus_l_center_in_tibia', 'location']\n",
    "talus_r_center_in_tibia = markers_df.loc['talus_r_center_in_tibia', 'location']"
   ]
  },
  {
   "cell_type": "code",
   "execution_count": 14,
   "metadata": {},
   "outputs": [
    {
     "name": "stdout",
     "output_type": "stream",
     "text": [
      "old r hip translation 0 0 0\n",
      "new r hip translation -0.03280726 -0.08525383  0.08542795\n",
      "old r hip translation -0.052491341063049979 -0.072375734846084103 0.072064130544659197\n",
      "new r hip translation -0.03280726 -0.08525383  0.08542795\n",
      "old r walker knee translation in femur -0.0073979812802869782 -0.37306309556314898 -0.0025147649593064507\n",
      "new r walker knee translation in femur -5.50670620e-17 -3.79492327e-01  3.55271368e-18\n",
      "patellofemoral r old -0.0073979812802869782 -0.37306309556314898 -0.0025147649593064507\n",
      "patellofemoral r new -5.50670620e-17 -3.79492327e-01  3.55271368e-18\n",
      "ankle r old -0.01048876039206271 -0.41955041568250845 0\n",
      "ankle r new -0.00498055 -0.39347991 -0.0023595 \n"
     ]
    }
   ],
   "source": [
    "for joint in root.iter('CustomJoint'):\n",
    "    \n",
    "    name = joint.attrib['name']\n",
    "    #ground_pelvis\n",
    "    if joint.attrib['name'] ==  \"ground_pelvis\":\n",
    "        for frame in joint.iter('PhysicalOffsetFrame'):\n",
    "            if frame.attrib['name'] == \"pelvis_offset\":\n",
    "                new_text = femur_r_center_in_pelvis[1:-1]\n",
    "                print('old r hip translation', frame.find('translation').text)\n",
    "                frame.find('translation').text = new_text\n",
    "                print('new r hip translation', frame.find('translation').text)\n",
    "            else: pass\n",
    "\n",
    "    if joint.attrib['name'] ==  \"hip_r\":\n",
    "        for frame in joint.iter('PhysicalOffsetFrame'):\n",
    "            if frame.attrib['name'] == \"pelvis_offset\":\n",
    "                new_text = femur_r_center_in_pelvis[1:-1]\n",
    "                print('old r hip translation', frame.find('translation').text)\n",
    "                frame.find('translation').text = new_text\n",
    "                print('new r hip translation', frame.find('translation').text)\n",
    "            else: pass\n",
    "    \n",
    "    elif joint.attrib['name'] ==  \"hip_l\":\n",
    "        for frame in joint.iter('PhysicalOffsetFrame'):\n",
    "            if frame.attrib['name'] == \"pelvis_offset\":\n",
    "                new_text = femur_l_center_in_pelvis[1:-1]\n",
    "                frame.find('translation').text = new_text\n",
    "            else: pass\n",
    "            \n",
    "    elif joint.attrib['name'] ==  \"walker_knee_r\":\n",
    "        for frame in joint.iter('PhysicalOffsetFrame'):\n",
    "            if frame.attrib['name'] == \"femur_r_offset\":\n",
    "                new_text = knee_r_center_in_femur[1:-1]\n",
    "                print('old r walker knee translation in femur',frame.find('translation').text)\n",
    "                frame.find('translation').text = new_text\n",
    "                print('new r walker knee translation in femur',frame.find('translation').text)\n",
    "            #if frame.attrib['name'] == \"tibia_r_offset\":\n",
    "            #    new_text = f\"{walker_knee_r_tibia_r_offset[0]}, {walker_knee_r_tibia_r_offset[1]}, {walker_knee_r_tibia_r_offset[2]}\"\n",
    "            #    print ('old r tibia translation', frame.find('translation').text)\n",
    "            #    frame.find('translation').text = new_text\n",
    "            #    print ('new r tibia translation', frame.find('translation').text)\n",
    "            else: pass    \n",
    "    \n",
    "    elif joint.attrib['name'] ==  \"walker_knee_l\":\n",
    "        for frame in joint.iter('PhysicalOffsetFrame'):\n",
    "            if frame.attrib['name'] == \"femur_l_offset\":\n",
    "                new_text = knee_l_center_in_femur[1:-1]\n",
    "                frame.find('translation').text = new_text\n",
    "    #        if frame.attrib['name'] == \"tibia_l_offset\":\n",
    "    #            new_text = f\"{walker_knee_l_tibia_l_offset[0]}, {walker_knee_l_tibia_l_offset[1]}, {walker_knee_l_tibia_l_offset[2]}\"\n",
    "    #            frame.find('translation').text = new_text\n",
    "            else: pass\n",
    "\n",
    "    elif joint.attrib['name'] ==  \"patellofemoral_r\":\n",
    "       for frame in joint.iter('PhysicalOffsetFrame'):\n",
    "           if frame.attrib['name'] == \"femur_r_offset\":\n",
    "               new_text = knee_r_center_in_femur[1:-1]\n",
    "               print('patellofemoral r old', frame.find('translation').text)\n",
    "               frame.find('translation').text = new_text\n",
    "               print('patellofemoral r new', frame.find('translation').text)\n",
    "           else: pass\n",
    "    \n",
    "    elif joint.attrib['name'] ==  \"patellofemoral_l\":\n",
    "       for frame in joint.iter('PhysicalOffsetFrame'):\n",
    "           if frame.attrib['name'] == \"femur_l_offset\":\n",
    "               new_text = knee_l_center_in_femur[1:-1]\n",
    "               frame.find('translation').text = new_text\n",
    "           else: pass\n",
    "\n",
    "# for joint in root.iter('PinJoint'):\n",
    "    \n",
    "#     name = joint.attrib['name']\n",
    "\n",
    "#     if joint.attrib['name'] ==  \"ankle_r\":\n",
    "#        for frame in joint.iter('PhysicalOffsetFrame'):\n",
    "#            if frame.attrib['name'] == \"tibia_r_offset\":\n",
    "#                new_text = talus_r_center_in_tibia [1:-1]\n",
    "#                print('ankle r old', frame.find('translation').text)\n",
    "#                frame.find('translation').text = new_text\n",
    "#                print('ankle r new', frame.find('translation').text)\n",
    "#            else: pass\n",
    "    \n",
    "#     elif joint.attrib['name'] ==  \"ankle_l\":\n",
    "#        for frame in joint.iter('PhysicalOffsetFrame'):\n",
    "#            if frame.attrib['name'] == \"tibia_l_offset\":\n",
    "#                new_text = talus_l_center_in_tibia [1:-1]\n",
    "#                frame.find('translation').text = new_text\n",
    "#            else: pass\n",
    "#     else: pass"
   ]
  },
  {
   "cell_type": "markdown",
   "metadata": {},
   "source": [
    "### Update Markers for Joint Positions in Parent"
   ]
  },
  {
   "cell_type": "code",
   "execution_count": null,
   "metadata": {},
   "outputs": [
    {
     "data": {
      "text/plain": [
       "['torso_origin_in_pelvis',\n",
       " 'femur_l_center_in_pelvis',\n",
       " 'femur_r_center_in_pelvis',\n",
       " 'knee_l_center_in_femur_l',\n",
       " 'patella_l_in_femur_l',\n",
       " 'knee_r_center_in_femur_r',\n",
       " 'patella_r_in_femur_r',\n",
       " 'ankle_l_tibia_l_offset',\n",
       " 'ankle_r_tibia_r_offset']"
      ]
     },
     "metadata": {},
     "output_type": "display_data"
    }
   ],
   "source": [
    "['torso_origin_in_pelvis','femur_l_center_in_pelvis', 'femur_r_center_in_pelvis',  'knee_l_center_in_femur_l', 'patella_l_in_femur_l', 'knee_r_center_in_femur_r', 'patella_r_in_femur_r'] # , 'ankle_l_tibia_l_offset', 'ankle_r_tibia_r_offset' ankle_l_tibia_l_offset = talus_l_center_in_tibia; ankle_r_tibia_r_offset = talus_r_center_in_tibia"
   ]
  },
  {
   "cell_type": "code",
   "execution_count": null,
   "metadata": {},
   "outputs": [],
   "source": [
    "m_names = ['torso_origin_in_pelvis','femur_l_center_in_pelvis', 'femur_r_center_in_pelvis',  'knee_l_center_in_femur_l', 'patella_l_in_femur_l', 'knee_r_center_in_femur_r', 'patella_r_in_femur_r']\n",
    "\n",
    "for marker in root.iter('Marker'):\n",
    "    name = marker.attrib['name']\n",
    "    if name in m_names:\n",
    "        old_text = marker.find('location').text\n",
    "        new_text = markers_df.loc[name, 'location']\n",
    "        marker.find('location').text = new_text[1:-1]\n"
   ]
  },
  {
   "cell_type": "markdown",
   "metadata": {},
   "source": [
    "### Export transformed model"
   ]
  },
  {
   "cell_type": "code",
   "execution_count": 15,
   "metadata": {},
   "outputs": [],
   "source": [
    "tree.write('p01_tps_transformed.osim')"
   ]
  }
 ],
 "metadata": {
  "kernelspec": {
   "display_name": "py38",
   "language": "python",
   "name": "python3"
  },
  "language_info": {
   "codemirror_mode": {
    "name": "ipython",
    "version": 3
   },
   "file_extension": ".py",
   "mimetype": "text/x-python",
   "name": "python",
   "nbconvert_exporter": "python",
   "pygments_lexer": "ipython3",
   "version": "3.8.18"
  }
 },
 "nbformat": 4,
 "nbformat_minor": 2
}
