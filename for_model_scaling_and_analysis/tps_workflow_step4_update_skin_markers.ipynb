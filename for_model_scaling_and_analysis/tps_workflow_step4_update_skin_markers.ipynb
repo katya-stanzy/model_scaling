{
 "cells": [
  {
   "cell_type": "code",
   "execution_count": 134,
   "metadata": {},
   "outputs": [],
   "source": [
    "import opensim as osim"
   ]
  },
  {
   "cell_type": "code",
   "execution_count": 135,
   "metadata": {},
   "outputs": [],
   "source": [
    "import numpy as np\n",
    "import math as m\n",
    "\n",
    "import xml.etree.ElementTree as ET\n",
    "import numpy as np\n",
    "import pandas as pd"
   ]
  },
  {
   "cell_type": "markdown",
   "metadata": {},
   "source": [
    "### Import Transformed Markers"
   ]
  },
  {
   "cell_type": "code",
   "execution_count": 136,
   "metadata": {},
   "outputs": [
    {
     "data": {
      "text/html": [
       "<div>\n",
       "<style scoped>\n",
       "    .dataframe tbody tr th:only-of-type {\n",
       "        vertical-align: middle;\n",
       "    }\n",
       "\n",
       "    .dataframe tbody tr th {\n",
       "        vertical-align: top;\n",
       "    }\n",
       "\n",
       "    .dataframe thead th {\n",
       "        text-align: right;\n",
       "    }\n",
       "</style>\n",
       "<table border=\"1\" class=\"dataframe\">\n",
       "  <thead>\n",
       "    <tr style=\"text-align: right;\">\n",
       "      <th></th>\n",
       "      <th>body</th>\n",
       "      <th>location</th>\n",
       "    </tr>\n",
       "    <tr>\n",
       "      <th>name</th>\n",
       "      <th></th>\n",
       "      <th></th>\n",
       "    </tr>\n",
       "  </thead>\n",
       "  <tbody>\n",
       "    <tr>\n",
       "      <th>ASIS_l</th>\n",
       "      <td>pelvis</td>\n",
       "      <td>[ 1.91379638e-09  1.91379640e-09 -1.08574441e-01]</td>\n",
       "    </tr>\n",
       "    <tr>\n",
       "      <th>ASIS_r</th>\n",
       "      <td>pelvis</td>\n",
       "      <td>[-1.91379637e-09 -1.91379640e-09  1.08574441e-01]</td>\n",
       "    </tr>\n",
       "    <tr>\n",
       "      <th>PSIS_l</th>\n",
       "      <td>pelvis</td>\n",
       "      <td>[-0.12953896  0.01857114 -0.0453012 ]</td>\n",
       "    </tr>\n",
       "    <tr>\n",
       "      <th>PSIS_r</th>\n",
       "      <td>pelvis</td>\n",
       "      <td>[-0.12796796  0.01822429  0.04270595]</td>\n",
       "    </tr>\n",
       "    <tr>\n",
       "      <th>pub_infer_c</th>\n",
       "      <td>pelvis</td>\n",
       "      <td>[-0.03031937 -0.10349564  0.00052657]</td>\n",
       "    </tr>\n",
       "  </tbody>\n",
       "</table>\n",
       "</div>"
      ],
      "text/plain": [
       "               body                                           location\n",
       "name                                                                  \n",
       "ASIS_l       pelvis  [ 1.91379638e-09  1.91379640e-09 -1.08574441e-01]\n",
       "ASIS_r       pelvis  [-1.91379637e-09 -1.91379640e-09  1.08574441e-01]\n",
       "PSIS_l       pelvis              [-0.12953896  0.01857114 -0.0453012 ]\n",
       "PSIS_r       pelvis              [-0.12796796  0.01822429  0.04270595]\n",
       "pub_infer_c  pelvis              [-0.03031937 -0.10349564  0.00052657]"
      ]
     },
     "execution_count": 136,
     "metadata": {},
     "output_type": "execute_result"
    }
   ],
   "source": [
    "markers_df = pd.read_csv('model_update/tps_warping_results/markers_transformed.csv', index_col=0)\n",
    "markers_df.head()"
   ]
  },
  {
   "cell_type": "code",
   "execution_count": 137,
   "metadata": {},
   "outputs": [],
   "source": [
    "def return_dataframe(markers_df, body):\n",
    "    extract_df = markers_df[markers_df['body']== body]['location']\n",
    "    ind = extract_df.index\n",
    "    col = ['x', 'y', 'z']\n",
    "    list_of_data = [row[1:-1].split() for row in extract_df]\n",
    "    #print(list_of_data)\n",
    "    convert = lambda x: 0 if x == '.' else float(x)\n",
    "    data = np.array([[convert(x) for x in row] for row in list_of_data])\n",
    "    data_df = pd.DataFrame(data, index=ind, columns=col)\n",
    "    return data_df\n"
   ]
  },
  {
   "cell_type": "code",
   "execution_count": 138,
   "metadata": {},
   "outputs": [
    {
     "data": {
      "text/html": [
       "<div>\n",
       "<style scoped>\n",
       "    .dataframe tbody tr th:only-of-type {\n",
       "        vertical-align: middle;\n",
       "    }\n",
       "\n",
       "    .dataframe tbody tr th {\n",
       "        vertical-align: top;\n",
       "    }\n",
       "\n",
       "    .dataframe thead th {\n",
       "        text-align: right;\n",
       "    }\n",
       "</style>\n",
       "<table border=\"1\" class=\"dataframe\">\n",
       "  <thead>\n",
       "    <tr style=\"text-align: right;\">\n",
       "      <th></th>\n",
       "      <th>x</th>\n",
       "      <th>y</th>\n",
       "      <th>z</th>\n",
       "    </tr>\n",
       "    <tr>\n",
       "      <th>name</th>\n",
       "      <th></th>\n",
       "      <th></th>\n",
       "      <th></th>\n",
       "    </tr>\n",
       "  </thead>\n",
       "  <tbody>\n",
       "    <tr>\n",
       "      <th>ilium_l</th>\n",
       "      <td>-0.065411</td>\n",
       "      <td>0.055832</td>\n",
       "      <td>-0.108336</td>\n",
       "    </tr>\n",
       "    <tr>\n",
       "      <th>isch_spine_r</th>\n",
       "      <td>-0.096107</td>\n",
       "      <td>-0.071231</td>\n",
       "      <td>0.051982</td>\n",
       "    </tr>\n",
       "    <tr>\n",
       "      <th>isch_spine_l</th>\n",
       "      <td>-0.096069</td>\n",
       "      <td>-0.068601</td>\n",
       "      <td>-0.051277</td>\n",
       "    </tr>\n",
       "    <tr>\n",
       "      <th>isch_tuber_r</th>\n",
       "      <td>-0.100033</td>\n",
       "      <td>-0.106089</td>\n",
       "      <td>0.059559</td>\n",
       "    </tr>\n",
       "    <tr>\n",
       "      <th>isch_tuber_l</th>\n",
       "      <td>-0.097093</td>\n",
       "      <td>-0.100014</td>\n",
       "      <td>-0.066277</td>\n",
       "    </tr>\n",
       "    <tr>\n",
       "      <th>isch_infer_r</th>\n",
       "      <td>-0.059252</td>\n",
       "      <td>-0.126569</td>\n",
       "      <td>0.037440</td>\n",
       "    </tr>\n",
       "    <tr>\n",
       "      <th>isch_infer_l</th>\n",
       "      <td>-0.056334</td>\n",
       "      <td>-0.125948</td>\n",
       "      <td>-0.041044</td>\n",
       "    </tr>\n",
       "    <tr>\n",
       "      <th>femur_r_center_in_pelvis</th>\n",
       "      <td>-0.049354</td>\n",
       "      <td>-0.071971</td>\n",
       "      <td>0.086060</td>\n",
       "    </tr>\n",
       "    <tr>\n",
       "      <th>femur_l_center_in_pelvis</th>\n",
       "      <td>-0.045814</td>\n",
       "      <td>-0.069148</td>\n",
       "      <td>-0.086186</td>\n",
       "    </tr>\n",
       "    <tr>\n",
       "      <th>torso_origin_in_pelvis</th>\n",
       "      <td>-0.076231</td>\n",
       "      <td>0.070163</td>\n",
       "      <td>-0.002477</td>\n",
       "    </tr>\n",
       "  </tbody>\n",
       "</table>\n",
       "</div>"
      ],
      "text/plain": [
       "                                 x         y         z\n",
       "name                                                  \n",
       "ilium_l                  -0.065411  0.055832 -0.108336\n",
       "isch_spine_r             -0.096107 -0.071231  0.051982\n",
       "isch_spine_l             -0.096069 -0.068601 -0.051277\n",
       "isch_tuber_r             -0.100033 -0.106089  0.059559\n",
       "isch_tuber_l             -0.097093 -0.100014 -0.066277\n",
       "isch_infer_r             -0.059252 -0.126569  0.037440\n",
       "isch_infer_l             -0.056334 -0.125948 -0.041044\n",
       "femur_r_center_in_pelvis -0.049354 -0.071971  0.086060\n",
       "femur_l_center_in_pelvis -0.045814 -0.069148 -0.086186\n",
       "torso_origin_in_pelvis   -0.076231  0.070163 -0.002477"
      ]
     },
     "execution_count": 138,
     "metadata": {},
     "output_type": "execute_result"
    }
   ],
   "source": [
    "pelvis_df = return_dataframe(markers_df, 'pelvis')\n",
    "femur_r_df =  return_dataframe(markers_df, 'femur_r')\n",
    "femur_l_df =  return_dataframe(markers_df, 'femur_l')\n",
    "tibia_r_df =  return_dataframe(markers_df, 'tibia_r')\n",
    "tibia_l_df =  return_dataframe(markers_df, 'tibia_l')\n",
    "patella_r_df =  return_dataframe(markers_df, 'patella_r')\n",
    "patella_l_df =  return_dataframe(markers_df, 'patella_l')\n",
    "pelvis_df.tail(10)"
   ]
  },
  {
   "cell_type": "markdown",
   "metadata": {},
   "source": [
    "### Parse OSIM scaled model"
   ]
  },
  {
   "cell_type": "code",
   "execution_count": 139,
   "metadata": {},
   "outputs": [],
   "source": [
    "tree=ET.parse(\"scaled_model_P03.osim\")\n",
    "root = tree.getroot()\n",
    "# temp = mean_skin_markers_df*mean_skin_markers_df"
   ]
  },
  {
   "cell_type": "markdown",
   "metadata": {},
   "source": [
    "#### Location of skin markers in child body frames"
   ]
  },
  {
   "cell_type": "code",
   "execution_count": 140,
   "metadata": {},
   "outputs": [],
   "source": [
    "imported_markers_dict = {}\n",
    "for marker in root.iter('Marker'):\n",
    "    name = marker.attrib['name']\n",
    "    body = marker.find('socket_parent_frame').text[9:]\n",
    "    location = [float(val) for val in (marker.find('location').text).split()]\n",
    "    imported_markers_dict[name] = [body] + location\n",
    "    \n",
    "imported_markers_df = pd.DataFrame.from_dict(imported_markers_dict).T\n",
    "imported_markers_df = imported_markers_df.rename(columns={0:'body', 1:'x', 2:'y', 3:'z'})"
   ]
  },
  {
   "cell_type": "code",
   "execution_count": 141,
   "metadata": {},
   "outputs": [
    {
     "data": {
      "text/plain": [
       "Index(['C7', 'RBAK', 'CLAV', 'STRN', 'T10', 'RASI', 'RPSI', 'LPSI', 'LASI',\n",
       "       'PE01', 'PE02', 'PE03', 'RTH1', 'RTH2', 'RTH3', 'RGT', 'RKNE', 'RMKNE',\n",
       "       'LTH1', 'LTH2', 'LTH3', 'LGT', 'LKNE', 'LMKNE', 'RTB1', 'RTB2', 'RTB3',\n",
       "       'RANK', 'RMMA', 'LTB1', 'LTB2', 'LTB3', 'LANK', 'LMMA', 'RHEE', 'RD5M',\n",
       "       'RTOE', 'LHEE', 'LD5M', 'LTOE', 'torso_origin_in_pelvis',\n",
       "       'pelvis_origin_in_ground', 'femur_l_center_in_pelvis',\n",
       "       'femur_r_center_in_pelvis', 'knee_l_center_in_femur_l',\n",
       "       'knee_r_center_in_femur_r', 'patella_l_in_femur_l',\n",
       "       'patella_r_in_femur_r', 'ankle_l_tibia_l_offset',\n",
       "       'ankle_r_tibia_r_offset'],\n",
       "      dtype='object')"
      ]
     },
     "execution_count": 141,
     "metadata": {},
     "output_type": "execute_result"
    }
   ],
   "source": [
    "imported_markers_df.index"
   ]
  },
  {
   "cell_type": "code",
   "execution_count": 142,
   "metadata": {},
   "outputs": [],
   "source": [
    "mrkrs_torso = imported_markers_df[imported_markers_df['body'] == 'torso'][['x', 'y', 'z']]\n",
    "mrkrs_pelvis = imported_markers_df[imported_markers_df['body'] == 'pelvis'][['x', 'y', 'z']]\n",
    "mrkrs_femur_r = imported_markers_df[imported_markers_df['body'] == 'femur_r'][['x', 'y', 'z']]\n",
    "mrkrs_femur_l = imported_markers_df[imported_markers_df['body'] == 'femur_l'][['x', 'y', 'z']]\n",
    "mrkrs_tibia_r = imported_markers_df[imported_markers_df['body'] == 'tibia_r'][['x', 'y', 'z']]\n",
    "mrkrs_tibia_l = imported_markers_df[imported_markers_df['body'] == 'tibia_l'][['x', 'y', 'z']]\n",
    "mrkrs_foot_r = imported_markers_df.loc[['RHEE', 'RD5M','RTOE'], ['x', 'y', 'z']]\n",
    "mrkrs_foot_l = imported_markers_df.loc[['LHEE', 'LD5M', 'LTOE'], ['x', 'y', 'z']]\n",
    "                                         "
   ]
  },
  {
   "cell_type": "code",
   "execution_count": 143,
   "metadata": {},
   "outputs": [
    {
     "data": {
      "text/html": [
       "<div>\n",
       "<style scoped>\n",
       "    .dataframe tbody tr th:only-of-type {\n",
       "        vertical-align: middle;\n",
       "    }\n",
       "\n",
       "    .dataframe tbody tr th {\n",
       "        vertical-align: top;\n",
       "    }\n",
       "\n",
       "    .dataframe thead th {\n",
       "        text-align: right;\n",
       "    }\n",
       "</style>\n",
       "<table border=\"1\" class=\"dataframe\">\n",
       "  <thead>\n",
       "    <tr style=\"text-align: right;\">\n",
       "      <th></th>\n",
       "      <th>x</th>\n",
       "      <th>y</th>\n",
       "      <th>z</th>\n",
       "    </tr>\n",
       "  </thead>\n",
       "  <tbody>\n",
       "    <tr>\n",
       "      <th>RTH1</th>\n",
       "      <td>-0.016029</td>\n",
       "      <td>-0.21608</td>\n",
       "      <td>0.096395</td>\n",
       "    </tr>\n",
       "    <tr>\n",
       "      <th>RTH2</th>\n",
       "      <td>-0.000393</td>\n",
       "      <td>-0.289999</td>\n",
       "      <td>0.071181</td>\n",
       "    </tr>\n",
       "    <tr>\n",
       "      <th>RTH3</th>\n",
       "      <td>0.026236</td>\n",
       "      <td>-0.234511</td>\n",
       "      <td>0.077276</td>\n",
       "    </tr>\n",
       "    <tr>\n",
       "      <th>RGT</th>\n",
       "      <td>0.001705</td>\n",
       "      <td>0.022386</td>\n",
       "      <td>0.111934</td>\n",
       "    </tr>\n",
       "    <tr>\n",
       "      <th>RKNE</th>\n",
       "      <td>-0.000538</td>\n",
       "      <td>-0.367112</td>\n",
       "      <td>0.055837</td>\n",
       "    </tr>\n",
       "    <tr>\n",
       "      <th>RMKNE</th>\n",
       "      <td>-0.012286</td>\n",
       "      <td>-0.370174</td>\n",
       "      <td>-0.057258</td>\n",
       "    </tr>\n",
       "    <tr>\n",
       "      <th>knee_r_center_in_femur_r</th>\n",
       "      <td>0.000293</td>\n",
       "      <td>-0.379892</td>\n",
       "      <td>-0.001135</td>\n",
       "    </tr>\n",
       "    <tr>\n",
       "      <th>patella_r_in_femur_r</th>\n",
       "      <td>0.041636</td>\n",
       "      <td>-0.39349</td>\n",
       "      <td>0.0</td>\n",
       "    </tr>\n",
       "  </tbody>\n",
       "</table>\n",
       "</div>"
      ],
      "text/plain": [
       "                                 x         y         z\n",
       "RTH1                     -0.016029  -0.21608  0.096395\n",
       "RTH2                     -0.000393 -0.289999  0.071181\n",
       "RTH3                      0.026236 -0.234511  0.077276\n",
       "RGT                       0.001705  0.022386  0.111934\n",
       "RKNE                     -0.000538 -0.367112  0.055837\n",
       "RMKNE                    -0.012286 -0.370174 -0.057258\n",
       "knee_r_center_in_femur_r  0.000293 -0.379892 -0.001135\n",
       "patella_r_in_femur_r      0.041636  -0.39349       0.0"
      ]
     },
     "execution_count": 143,
     "metadata": {},
     "output_type": "execute_result"
    }
   ],
   "source": [
    "mrkrs_femur_r"
   ]
  },
  {
   "cell_type": "code",
   "execution_count": 144,
   "metadata": {},
   "outputs": [
    {
     "data": {
      "application/vnd.plotly.v1+json": {
       "config": {
        "plotlyServerURL": "https://plot.ly"
       },
       "data": [
        {
         "hovertemplate": "<extra></extra>",
         "legendgroup": "",
         "marker": {
          "color": "#636efa",
          "symbol": "circle"
         },
         "mode": "markers",
         "name": "",
         "orientation": "v",
         "showlegend": false,
         "type": "scatter",
         "xaxis": "x",
         "yaxis": "y"
        },
        {
         "mode": "markers",
         "name": "pelvis_df",
         "type": "scatter3d",
         "x": [
          1.91379638e-9,
          -1.91379637e-9,
          -0.12953896,
          -0.12796796,
          -0.03031937,
          -0.06335398,
          -0.06541147,
          -0.09610691,
          -0.09606921,
          -0.10003298,
          -0.09709289,
          -0.059252,
          -0.05633396,
          -0.04935395,
          -0.04581382,
          -0.0762313
         ],
         "y": [
          1.9137964e-9,
          -1.9137964e-9,
          0.01857114,
          0.01822429,
          -0.10349564,
          0.05435231,
          0.05583238,
          -0.07123064,
          -0.06860052,
          -0.10608861,
          -0.10001367,
          -0.12656941,
          -0.12594821,
          -0.07197149,
          -0.06914785,
          0.07016325
         ],
         "z": [
          -0.108574441,
          0.108574441,
          -0.0453012,
          0.04270595,
          0.00052657,
          0.10381587,
          -0.10833634,
          0.05198209,
          -0.051277,
          0.0595589,
          -0.06627721,
          0.03744029,
          -0.0410445,
          0.08605985,
          -0.08618644,
          -0.00247692
         ]
        },
        {
         "mode": "markers",
         "name": "osim skin mrkrs",
         "type": "scatter3d",
         "x": [
          0.011610703253755988,
          -0.15448897650662588,
          -0.15205380156144885,
          0.0160640075947147,
          -0.13414959882463015,
          -0.16559297146369953,
          -0.1641665871444882,
          -0.09202104762299676,
          -0.051425784270424685,
          -0.051425784270424685
         ],
         "y": [
          -0.004317718044357988,
          0.0547238349208492,
          0.06442658001264179,
          0.0022338245088522335,
          0.09514634082809992,
          0.03938843270474579,
          0.045201573781582405,
          0.0696777560422226,
          -0.06710438124851603,
          -0.06710438124851603
         ],
         "z": [
          0.1166237169469787,
          0.045671036711265045,
          -0.037304016775078885,
          -0.10798069785651121,
          0.008382222645168191,
          0.025961065750499834,
          -0.024316309858057106,
          0,
          -0.07060125262515124,
          0.07060125262515124
         ]
        }
       ],
       "layout": {
        "height": 600,
        "legend": {
         "tracegroupgap": 0
        },
        "margin": {
         "t": 60
        },
        "scene": {
         "aspectmode": "data",
         "camera": {
          "center": {
           "x": 0,
           "y": 0,
           "z": 0
          },
          "eye": {
           "x": 2,
           "y": 2,
           "z": 2
          },
          "up": {
           "x": 0,
           "y": 0,
           "z": 1
          }
         }
        },
        "template": {
         "data": {
          "bar": [
           {
            "error_x": {
             "color": "#2a3f5f"
            },
            "error_y": {
             "color": "#2a3f5f"
            },
            "marker": {
             "line": {
              "color": "#E5ECF6",
              "width": 0.5
             },
             "pattern": {
              "fillmode": "overlay",
              "size": 10,
              "solidity": 0.2
             }
            },
            "type": "bar"
           }
          ],
          "barpolar": [
           {
            "marker": {
             "line": {
              "color": "#E5ECF6",
              "width": 0.5
             },
             "pattern": {
              "fillmode": "overlay",
              "size": 10,
              "solidity": 0.2
             }
            },
            "type": "barpolar"
           }
          ],
          "carpet": [
           {
            "aaxis": {
             "endlinecolor": "#2a3f5f",
             "gridcolor": "white",
             "linecolor": "white",
             "minorgridcolor": "white",
             "startlinecolor": "#2a3f5f"
            },
            "baxis": {
             "endlinecolor": "#2a3f5f",
             "gridcolor": "white",
             "linecolor": "white",
             "minorgridcolor": "white",
             "startlinecolor": "#2a3f5f"
            },
            "type": "carpet"
           }
          ],
          "choropleth": [
           {
            "colorbar": {
             "outlinewidth": 0,
             "ticks": ""
            },
            "type": "choropleth"
           }
          ],
          "contour": [
           {
            "colorbar": {
             "outlinewidth": 0,
             "ticks": ""
            },
            "colorscale": [
             [
              0,
              "#0d0887"
             ],
             [
              0.1111111111111111,
              "#46039f"
             ],
             [
              0.2222222222222222,
              "#7201a8"
             ],
             [
              0.3333333333333333,
              "#9c179e"
             ],
             [
              0.4444444444444444,
              "#bd3786"
             ],
             [
              0.5555555555555556,
              "#d8576b"
             ],
             [
              0.6666666666666666,
              "#ed7953"
             ],
             [
              0.7777777777777778,
              "#fb9f3a"
             ],
             [
              0.8888888888888888,
              "#fdca26"
             ],
             [
              1,
              "#f0f921"
             ]
            ],
            "type": "contour"
           }
          ],
          "contourcarpet": [
           {
            "colorbar": {
             "outlinewidth": 0,
             "ticks": ""
            },
            "type": "contourcarpet"
           }
          ],
          "heatmap": [
           {
            "colorbar": {
             "outlinewidth": 0,
             "ticks": ""
            },
            "colorscale": [
             [
              0,
              "#0d0887"
             ],
             [
              0.1111111111111111,
              "#46039f"
             ],
             [
              0.2222222222222222,
              "#7201a8"
             ],
             [
              0.3333333333333333,
              "#9c179e"
             ],
             [
              0.4444444444444444,
              "#bd3786"
             ],
             [
              0.5555555555555556,
              "#d8576b"
             ],
             [
              0.6666666666666666,
              "#ed7953"
             ],
             [
              0.7777777777777778,
              "#fb9f3a"
             ],
             [
              0.8888888888888888,
              "#fdca26"
             ],
             [
              1,
              "#f0f921"
             ]
            ],
            "type": "heatmap"
           }
          ],
          "heatmapgl": [
           {
            "colorbar": {
             "outlinewidth": 0,
             "ticks": ""
            },
            "colorscale": [
             [
              0,
              "#0d0887"
             ],
             [
              0.1111111111111111,
              "#46039f"
             ],
             [
              0.2222222222222222,
              "#7201a8"
             ],
             [
              0.3333333333333333,
              "#9c179e"
             ],
             [
              0.4444444444444444,
              "#bd3786"
             ],
             [
              0.5555555555555556,
              "#d8576b"
             ],
             [
              0.6666666666666666,
              "#ed7953"
             ],
             [
              0.7777777777777778,
              "#fb9f3a"
             ],
             [
              0.8888888888888888,
              "#fdca26"
             ],
             [
              1,
              "#f0f921"
             ]
            ],
            "type": "heatmapgl"
           }
          ],
          "histogram": [
           {
            "marker": {
             "pattern": {
              "fillmode": "overlay",
              "size": 10,
              "solidity": 0.2
             }
            },
            "type": "histogram"
           }
          ],
          "histogram2d": [
           {
            "colorbar": {
             "outlinewidth": 0,
             "ticks": ""
            },
            "colorscale": [
             [
              0,
              "#0d0887"
             ],
             [
              0.1111111111111111,
              "#46039f"
             ],
             [
              0.2222222222222222,
              "#7201a8"
             ],
             [
              0.3333333333333333,
              "#9c179e"
             ],
             [
              0.4444444444444444,
              "#bd3786"
             ],
             [
              0.5555555555555556,
              "#d8576b"
             ],
             [
              0.6666666666666666,
              "#ed7953"
             ],
             [
              0.7777777777777778,
              "#fb9f3a"
             ],
             [
              0.8888888888888888,
              "#fdca26"
             ],
             [
              1,
              "#f0f921"
             ]
            ],
            "type": "histogram2d"
           }
          ],
          "histogram2dcontour": [
           {
            "colorbar": {
             "outlinewidth": 0,
             "ticks": ""
            },
            "colorscale": [
             [
              0,
              "#0d0887"
             ],
             [
              0.1111111111111111,
              "#46039f"
             ],
             [
              0.2222222222222222,
              "#7201a8"
             ],
             [
              0.3333333333333333,
              "#9c179e"
             ],
             [
              0.4444444444444444,
              "#bd3786"
             ],
             [
              0.5555555555555556,
              "#d8576b"
             ],
             [
              0.6666666666666666,
              "#ed7953"
             ],
             [
              0.7777777777777778,
              "#fb9f3a"
             ],
             [
              0.8888888888888888,
              "#fdca26"
             ],
             [
              1,
              "#f0f921"
             ]
            ],
            "type": "histogram2dcontour"
           }
          ],
          "mesh3d": [
           {
            "colorbar": {
             "outlinewidth": 0,
             "ticks": ""
            },
            "type": "mesh3d"
           }
          ],
          "parcoords": [
           {
            "line": {
             "colorbar": {
              "outlinewidth": 0,
              "ticks": ""
             }
            },
            "type": "parcoords"
           }
          ],
          "pie": [
           {
            "automargin": true,
            "type": "pie"
           }
          ],
          "scatter": [
           {
            "fillpattern": {
             "fillmode": "overlay",
             "size": 10,
             "solidity": 0.2
            },
            "type": "scatter"
           }
          ],
          "scatter3d": [
           {
            "line": {
             "colorbar": {
              "outlinewidth": 0,
              "ticks": ""
             }
            },
            "marker": {
             "colorbar": {
              "outlinewidth": 0,
              "ticks": ""
             }
            },
            "type": "scatter3d"
           }
          ],
          "scattercarpet": [
           {
            "marker": {
             "colorbar": {
              "outlinewidth": 0,
              "ticks": ""
             }
            },
            "type": "scattercarpet"
           }
          ],
          "scattergeo": [
           {
            "marker": {
             "colorbar": {
              "outlinewidth": 0,
              "ticks": ""
             }
            },
            "type": "scattergeo"
           }
          ],
          "scattergl": [
           {
            "marker": {
             "colorbar": {
              "outlinewidth": 0,
              "ticks": ""
             }
            },
            "type": "scattergl"
           }
          ],
          "scattermapbox": [
           {
            "marker": {
             "colorbar": {
              "outlinewidth": 0,
              "ticks": ""
             }
            },
            "type": "scattermapbox"
           }
          ],
          "scatterpolar": [
           {
            "marker": {
             "colorbar": {
              "outlinewidth": 0,
              "ticks": ""
             }
            },
            "type": "scatterpolar"
           }
          ],
          "scatterpolargl": [
           {
            "marker": {
             "colorbar": {
              "outlinewidth": 0,
              "ticks": ""
             }
            },
            "type": "scatterpolargl"
           }
          ],
          "scatterternary": [
           {
            "marker": {
             "colorbar": {
              "outlinewidth": 0,
              "ticks": ""
             }
            },
            "type": "scatterternary"
           }
          ],
          "surface": [
           {
            "colorbar": {
             "outlinewidth": 0,
             "ticks": ""
            },
            "colorscale": [
             [
              0,
              "#0d0887"
             ],
             [
              0.1111111111111111,
              "#46039f"
             ],
             [
              0.2222222222222222,
              "#7201a8"
             ],
             [
              0.3333333333333333,
              "#9c179e"
             ],
             [
              0.4444444444444444,
              "#bd3786"
             ],
             [
              0.5555555555555556,
              "#d8576b"
             ],
             [
              0.6666666666666666,
              "#ed7953"
             ],
             [
              0.7777777777777778,
              "#fb9f3a"
             ],
             [
              0.8888888888888888,
              "#fdca26"
             ],
             [
              1,
              "#f0f921"
             ]
            ],
            "type": "surface"
           }
          ],
          "table": [
           {
            "cells": {
             "fill": {
              "color": "#EBF0F8"
             },
             "line": {
              "color": "white"
             }
            },
            "header": {
             "fill": {
              "color": "#C8D4E3"
             },
             "line": {
              "color": "white"
             }
            },
            "type": "table"
           }
          ]
         },
         "layout": {
          "annotationdefaults": {
           "arrowcolor": "#2a3f5f",
           "arrowhead": 0,
           "arrowwidth": 1
          },
          "autotypenumbers": "strict",
          "coloraxis": {
           "colorbar": {
            "outlinewidth": 0,
            "ticks": ""
           }
          },
          "colorscale": {
           "diverging": [
            [
             0,
             "#8e0152"
            ],
            [
             0.1,
             "#c51b7d"
            ],
            [
             0.2,
             "#de77ae"
            ],
            [
             0.3,
             "#f1b6da"
            ],
            [
             0.4,
             "#fde0ef"
            ],
            [
             0.5,
             "#f7f7f7"
            ],
            [
             0.6,
             "#e6f5d0"
            ],
            [
             0.7,
             "#b8e186"
            ],
            [
             0.8,
             "#7fbc41"
            ],
            [
             0.9,
             "#4d9221"
            ],
            [
             1,
             "#276419"
            ]
           ],
           "sequential": [
            [
             0,
             "#0d0887"
            ],
            [
             0.1111111111111111,
             "#46039f"
            ],
            [
             0.2222222222222222,
             "#7201a8"
            ],
            [
             0.3333333333333333,
             "#9c179e"
            ],
            [
             0.4444444444444444,
             "#bd3786"
            ],
            [
             0.5555555555555556,
             "#d8576b"
            ],
            [
             0.6666666666666666,
             "#ed7953"
            ],
            [
             0.7777777777777778,
             "#fb9f3a"
            ],
            [
             0.8888888888888888,
             "#fdca26"
            ],
            [
             1,
             "#f0f921"
            ]
           ],
           "sequentialminus": [
            [
             0,
             "#0d0887"
            ],
            [
             0.1111111111111111,
             "#46039f"
            ],
            [
             0.2222222222222222,
             "#7201a8"
            ],
            [
             0.3333333333333333,
             "#9c179e"
            ],
            [
             0.4444444444444444,
             "#bd3786"
            ],
            [
             0.5555555555555556,
             "#d8576b"
            ],
            [
             0.6666666666666666,
             "#ed7953"
            ],
            [
             0.7777777777777778,
             "#fb9f3a"
            ],
            [
             0.8888888888888888,
             "#fdca26"
            ],
            [
             1,
             "#f0f921"
            ]
           ]
          },
          "colorway": [
           "#636efa",
           "#EF553B",
           "#00cc96",
           "#ab63fa",
           "#FFA15A",
           "#19d3f3",
           "#FF6692",
           "#B6E880",
           "#FF97FF",
           "#FECB52"
          ],
          "font": {
           "color": "#2a3f5f"
          },
          "geo": {
           "bgcolor": "white",
           "lakecolor": "white",
           "landcolor": "#E5ECF6",
           "showlakes": true,
           "showland": true,
           "subunitcolor": "white"
          },
          "hoverlabel": {
           "align": "left"
          },
          "hovermode": "closest",
          "mapbox": {
           "style": "light"
          },
          "paper_bgcolor": "white",
          "plot_bgcolor": "#E5ECF6",
          "polar": {
           "angularaxis": {
            "gridcolor": "white",
            "linecolor": "white",
            "ticks": ""
           },
           "bgcolor": "#E5ECF6",
           "radialaxis": {
            "gridcolor": "white",
            "linecolor": "white",
            "ticks": ""
           }
          },
          "scene": {
           "xaxis": {
            "backgroundcolor": "#E5ECF6",
            "gridcolor": "white",
            "gridwidth": 2,
            "linecolor": "white",
            "showbackground": true,
            "ticks": "",
            "zerolinecolor": "white"
           },
           "yaxis": {
            "backgroundcolor": "#E5ECF6",
            "gridcolor": "white",
            "gridwidth": 2,
            "linecolor": "white",
            "showbackground": true,
            "ticks": "",
            "zerolinecolor": "white"
           },
           "zaxis": {
            "backgroundcolor": "#E5ECF6",
            "gridcolor": "white",
            "gridwidth": 2,
            "linecolor": "white",
            "showbackground": true,
            "ticks": "",
            "zerolinecolor": "white"
           }
          },
          "shapedefaults": {
           "line": {
            "color": "#2a3f5f"
           }
          },
          "ternary": {
           "aaxis": {
            "gridcolor": "white",
            "linecolor": "white",
            "ticks": ""
           },
           "baxis": {
            "gridcolor": "white",
            "linecolor": "white",
            "ticks": ""
           },
           "bgcolor": "#E5ECF6",
           "caxis": {
            "gridcolor": "white",
            "linecolor": "white",
            "ticks": ""
           }
          },
          "title": {
           "x": 0.05
          },
          "xaxis": {
           "automargin": true,
           "gridcolor": "white",
           "linecolor": "white",
           "ticks": "",
           "title": {
            "standoff": 15
           },
           "zerolinecolor": "white",
           "zerolinewidth": 2
          },
          "yaxis": {
           "automargin": true,
           "gridcolor": "white",
           "linecolor": "white",
           "ticks": "",
           "title": {
            "standoff": 15
           },
           "zerolinecolor": "white",
           "zerolinewidth": 2
          }
         }
        },
        "width": 800,
        "xaxis": {
         "anchor": "y",
         "domain": [
          0,
          1
         ]
        },
        "yaxis": {
         "anchor": "x",
         "domain": [
          0,
          1
         ]
        }
       }
      }
     },
     "metadata": {},
     "output_type": "display_data"
    }
   ],
   "source": [
    "import plotly.express as px\n",
    "import plotly.graph_objects as go\n",
    "fig = px.scatter(width = 800, height = 600)\n",
    "fig.add_trace(go.Scatter3d(x = pelvis_df['x'], y = pelvis_df['y'], z=pelvis_df['z'], mode = 'markers', name = 'pelvis_df'))\n",
    "fig.add_trace(go.Scatter3d(x = mrkrs_pelvis['x'],  \n",
    "                           y = mrkrs_pelvis['y'], \n",
    "                           z = mrkrs_pelvis['z'], mode = 'markers', name = 'osim skin mrkrs'))\n",
    "fig.update_scenes(aspectmode=\"data\" )\n",
    "camera = dict(\n",
    "    up=dict(x=0, y=0, z=1),\n",
    "    center=dict(x=0, y=0, z=0),\n",
    "    eye=dict(x=2, y=2, z=2)\n",
    ")\n",
    "fig.update_layout(scene_camera=camera)\n",
    "fig.show()"
   ]
  },
  {
   "cell_type": "markdown",
   "metadata": {},
   "source": [
    "Skin markers and transformed muscles and markers fall essentially into the same set of axes. However, PE markers seem to indicate a significant lordosis..."
   ]
  },
  {
   "cell_type": "markdown",
   "metadata": {},
   "source": [
    "### Translation of joint centres"
   ]
  },
  {
   "cell_type": "code",
   "execution_count": 145,
   "metadata": {},
   "outputs": [],
   "source": [
    "# transfomed markers\n",
    "femur_r_center_in_pelvis = pelvis_df.loc['femur_r_center_in_pelvis']\n",
    "femur_l_center_in_pelvis = pelvis_df.loc['femur_l_center_in_pelvis']\n",
    "\n",
    "knee_l_center_in_femur = femur_l_df.loc['knee_l_center_in_femur_l']\n",
    "knee_r_center_in_femur = femur_r_df.loc['knee_r_center_in_femur_r']\n",
    "\n",
    "patella_l_center_in_femur = femur_l_df.loc['patella_l_in_femur_l']\n",
    "patella_r_center_in_femur = femur_r_df.loc['patella_r_in_femur_r']\n",
    "\n",
    "tibia_l_center_in_tibia = tibia_l_df.loc['tibia_l_center']\n",
    "tibia_r_center_in_tibia = tibia_r_df.loc['tibia_r_center']\n",
    "\n",
    "talus_l_center_in_tibia = tibia_l_df.loc['talus_l_center_in_tibia']\n",
    "talus_r_center_in_tibia = tibia_r_df.loc['talus_r_center_in_tibia']\n",
    "\n",
    "torso_origin_in_pelvis = pelvis_df.loc['torso_origin_in_pelvis']"
   ]
  },
  {
   "cell_type": "code",
   "execution_count": 146,
   "metadata": {},
   "outputs": [
    {
     "data": {
      "text/html": [
       "<div>\n",
       "<style scoped>\n",
       "    .dataframe tbody tr th:only-of-type {\n",
       "        vertical-align: middle;\n",
       "    }\n",
       "\n",
       "    .dataframe tbody tr th {\n",
       "        vertical-align: top;\n",
       "    }\n",
       "\n",
       "    .dataframe thead th {\n",
       "        text-align: right;\n",
       "    }\n",
       "</style>\n",
       "<table border=\"1\" class=\"dataframe\">\n",
       "  <thead>\n",
       "    <tr style=\"text-align: right;\">\n",
       "      <th></th>\n",
       "      <th>x</th>\n",
       "      <th>y</th>\n",
       "      <th>z</th>\n",
       "    </tr>\n",
       "  </thead>\n",
       "  <tbody>\n",
       "    <tr>\n",
       "      <th>RTH1</th>\n",
       "      <td>-0.016029</td>\n",
       "      <td>-0.21608</td>\n",
       "      <td>0.096395</td>\n",
       "    </tr>\n",
       "    <tr>\n",
       "      <th>RTH2</th>\n",
       "      <td>-0.000393</td>\n",
       "      <td>-0.289999</td>\n",
       "      <td>0.071181</td>\n",
       "    </tr>\n",
       "    <tr>\n",
       "      <th>RTH3</th>\n",
       "      <td>0.026236</td>\n",
       "      <td>-0.234511</td>\n",
       "      <td>0.077276</td>\n",
       "    </tr>\n",
       "    <tr>\n",
       "      <th>RGT</th>\n",
       "      <td>0.001705</td>\n",
       "      <td>0.022386</td>\n",
       "      <td>0.111934</td>\n",
       "    </tr>\n",
       "    <tr>\n",
       "      <th>RKNE</th>\n",
       "      <td>-0.000538</td>\n",
       "      <td>-0.367112</td>\n",
       "      <td>0.055837</td>\n",
       "    </tr>\n",
       "    <tr>\n",
       "      <th>RMKNE</th>\n",
       "      <td>-0.012286</td>\n",
       "      <td>-0.370174</td>\n",
       "      <td>-0.057258</td>\n",
       "    </tr>\n",
       "    <tr>\n",
       "      <th>knee_r_center_in_femur_r</th>\n",
       "      <td>0.000293</td>\n",
       "      <td>-0.379892</td>\n",
       "      <td>-0.001135</td>\n",
       "    </tr>\n",
       "    <tr>\n",
       "      <th>patella_r_in_femur_r</th>\n",
       "      <td>0.041636</td>\n",
       "      <td>-0.39349</td>\n",
       "      <td>0.0</td>\n",
       "    </tr>\n",
       "  </tbody>\n",
       "</table>\n",
       "</div>"
      ],
      "text/plain": [
       "                                 x         y         z\n",
       "RTH1                     -0.016029  -0.21608  0.096395\n",
       "RTH2                     -0.000393 -0.289999  0.071181\n",
       "RTH3                      0.026236 -0.234511  0.077276\n",
       "RGT                       0.001705  0.022386  0.111934\n",
       "RKNE                     -0.000538 -0.367112  0.055837\n",
       "RMKNE                    -0.012286 -0.370174 -0.057258\n",
       "knee_r_center_in_femur_r  0.000293 -0.379892 -0.001135\n",
       "patella_r_in_femur_r      0.041636  -0.39349       0.0"
      ]
     },
     "execution_count": 146,
     "metadata": {},
     "output_type": "execute_result"
    }
   ],
   "source": [
    "mrkrs_femur_r"
   ]
  },
  {
   "cell_type": "code",
   "execution_count": 147,
   "metadata": {},
   "outputs": [],
   "source": [
    "# markers in the current OSIM scaled model\n",
    "old_femur_r_in_pelvis = mrkrs_pelvis.loc['femur_r_center_in_pelvis']\n",
    "old_femur_l_in_pelvis = mrkrs_pelvis.loc['femur_l_center_in_pelvis']\n",
    "\n",
    "old_knee_r_in_femur_r = mrkrs_femur_r.loc['knee_r_center_in_femur_r']\n",
    "old_knee_l_in_femur_l = mrkrs_femur_l.loc['knee_l_center_in_femur_l']\n",
    "\n",
    "old_patellofemoral_r_in_femur_r = mrkrs_femur_r.loc['patella_r_in_femur_r']\n",
    "old_patellofemoral_l_in_femur_l = mrkrs_femur_l.loc['patella_l_in_femur_l']\n",
    "\n",
    "# old_walker_knee_r_in_tibia_r = mrkrs_tibia_r.loc['walker_knee_r_in_tibia_r']\n",
    "# old_walker_knee_l_in_tibia_l = mrkrs_tibia_l.loc['walker_knee_l_in_tibia_l']\n",
    "\n",
    "old_ankle_r_tibia_r_offset = mrkrs_tibia_r.loc['ankle_r_tibia_r_offset']\n",
    "old_ankle_l_tibia_l_offset = mrkrs_tibia_l.loc['ankle_l_tibia_l_offset']\n",
    "\n",
    "old_torso_origin_in_pelvis = mrkrs_pelvis.loc['torso_origin_in_pelvis']"
   ]
  },
  {
   "cell_type": "code",
   "execution_count": 148,
   "metadata": {},
   "outputs": [
    {
     "name": "stdout",
     "output_type": "stream",
     "text": [
      "new [-0.04935395, -0.07197149, 0.08605985] old [-0.051425784270424685, -0.06710438124851603, 0.07060125262515124]\n"
     ]
    }
   ],
   "source": [
    "print('new', list(femur_r_center_in_pelvis), 'old', list(old_femur_r_in_pelvis) )"
   ]
  },
  {
   "cell_type": "code",
   "execution_count": 149,
   "metadata": {},
   "outputs": [],
   "source": [
    "new_skin_mrkrs_femur_r = mrkrs_femur_r - (old_femur_r_in_pelvis - femur_r_center_in_pelvis)\n",
    "new_skin_mrkrs_femur_l = mrkrs_femur_l - (old_femur_l_in_pelvis - femur_l_center_in_pelvis)\n",
    "#new_skin_mrkrs_femur_r\n",
    "#new_skin_mrkrs_femur_l"
   ]
  },
  {
   "cell_type": "code",
   "execution_count": 150,
   "metadata": {},
   "outputs": [
    {
     "data": {
      "application/vnd.plotly.v1+json": {
       "config": {
        "plotlyServerURL": "https://plot.ly"
       },
       "data": [
        {
         "hovertemplate": "<extra></extra>",
         "legendgroup": "",
         "marker": {
          "color": "#636efa",
          "symbol": "circle"
         },
         "mode": "markers",
         "name": "",
         "orientation": "v",
         "showlegend": false,
         "type": "scatter",
         "xaxis": "x",
         "yaxis": "y"
        },
        {
         "mode": "markers",
         "name": "osim skin markers",
         "type": "scatter3d",
         "x": [
          -0.016029225585880658,
          -0.00039307182028011645,
          0.026235911410700835,
          0.0017047520087244694,
          -0.0005381359774676298,
          -0.012285534058352685,
          0.000293036398895892,
          0.041636172510813786
         ],
         "y": [
          -0.21607964695173532,
          -0.28999949823132626,
          -0.23451083946700846,
          0.022385578867057165,
          -0.36711163569638766,
          -0.3701742458221535,
          -0.3798924701539057,
          -0.39349048974561907
         ],
         "z": [
          0.0963952168849288,
          0.07118136946985776,
          0.07727616082495525,
          0.111933576865202,
          0.0558374075314636,
          -0.0572580283467391,
          -0.0011350468629633542,
          0
         ]
        },
        {
         "mode": "markers",
         "name": "new_skin_mrkrs_femur_r mscl and mrkrs",
         "type": "scatter3d",
         "x": [
          -0.013957391315455973,
          0.0016787624501445678,
          0.02830774568112552,
          0.0037765862791491536,
          0.0015336982929570545,
          -0.010213699787928,
          0.002364870669320576,
          0.04370800678123847
         ],
         "y": [
          -0.22094675570321928,
          -0.2948666069828102,
          -0.23937794821849243,
          0.017518470115573198,
          -0.3719787444478716,
          -0.3750413545736375,
          -0.3847595789053897,
          -0.39835759849710306
         ],
         "z": [
          0.11185381425977756,
          0.08663996684470651,
          0.09273475819980401,
          0.12739217424005075,
          0.07129600490631235,
          -0.041799430971890345,
          0.0143235505118854,
          0.015458597374848754
         ]
        },
        {
         "marker": {
          "opacity": 0.8,
          "size": 4
         },
         "mode": "markers",
         "name": "transformed mrkrs",
         "type": "scatter3d",
         "x": [
          9.78772619e-16,
          2.61124455e-16,
          0,
          -0.01033387,
          -0.0063225,
          0.03546402,
          0.00693571,
          0.04891588,
          6.44817533e-16
         ],
         "y": [
          -0.373126078,
          -0.3780478,
          0,
          0.00261472,
          -0.02376006,
          -0.18779347,
          -0.18779347,
          -0.39362437,
          -0.375586939
         ],
         "z": [
          -0.038549866,
          0.038549866,
          0,
          0.04999318,
          0.06068593,
          0.01999983,
          0.01738268,
          -0.00240115,
          -2.84217094e-17
         ]
        }
       ],
       "layout": {
        "height": 600,
        "legend": {
         "tracegroupgap": 0
        },
        "margin": {
         "t": 60
        },
        "scene": {
         "aspectmode": "data",
         "camera": {
          "center": {
           "x": 0,
           "y": 0,
           "z": 0
          },
          "eye": {
           "x": 2,
           "y": 2,
           "z": 2
          },
          "up": {
           "x": 0,
           "y": 0,
           "z": 1
          }
         }
        },
        "template": {
         "data": {
          "bar": [
           {
            "error_x": {
             "color": "#2a3f5f"
            },
            "error_y": {
             "color": "#2a3f5f"
            },
            "marker": {
             "line": {
              "color": "#E5ECF6",
              "width": 0.5
             },
             "pattern": {
              "fillmode": "overlay",
              "size": 10,
              "solidity": 0.2
             }
            },
            "type": "bar"
           }
          ],
          "barpolar": [
           {
            "marker": {
             "line": {
              "color": "#E5ECF6",
              "width": 0.5
             },
             "pattern": {
              "fillmode": "overlay",
              "size": 10,
              "solidity": 0.2
             }
            },
            "type": "barpolar"
           }
          ],
          "carpet": [
           {
            "aaxis": {
             "endlinecolor": "#2a3f5f",
             "gridcolor": "white",
             "linecolor": "white",
             "minorgridcolor": "white",
             "startlinecolor": "#2a3f5f"
            },
            "baxis": {
             "endlinecolor": "#2a3f5f",
             "gridcolor": "white",
             "linecolor": "white",
             "minorgridcolor": "white",
             "startlinecolor": "#2a3f5f"
            },
            "type": "carpet"
           }
          ],
          "choropleth": [
           {
            "colorbar": {
             "outlinewidth": 0,
             "ticks": ""
            },
            "type": "choropleth"
           }
          ],
          "contour": [
           {
            "colorbar": {
             "outlinewidth": 0,
             "ticks": ""
            },
            "colorscale": [
             [
              0,
              "#0d0887"
             ],
             [
              0.1111111111111111,
              "#46039f"
             ],
             [
              0.2222222222222222,
              "#7201a8"
             ],
             [
              0.3333333333333333,
              "#9c179e"
             ],
             [
              0.4444444444444444,
              "#bd3786"
             ],
             [
              0.5555555555555556,
              "#d8576b"
             ],
             [
              0.6666666666666666,
              "#ed7953"
             ],
             [
              0.7777777777777778,
              "#fb9f3a"
             ],
             [
              0.8888888888888888,
              "#fdca26"
             ],
             [
              1,
              "#f0f921"
             ]
            ],
            "type": "contour"
           }
          ],
          "contourcarpet": [
           {
            "colorbar": {
             "outlinewidth": 0,
             "ticks": ""
            },
            "type": "contourcarpet"
           }
          ],
          "heatmap": [
           {
            "colorbar": {
             "outlinewidth": 0,
             "ticks": ""
            },
            "colorscale": [
             [
              0,
              "#0d0887"
             ],
             [
              0.1111111111111111,
              "#46039f"
             ],
             [
              0.2222222222222222,
              "#7201a8"
             ],
             [
              0.3333333333333333,
              "#9c179e"
             ],
             [
              0.4444444444444444,
              "#bd3786"
             ],
             [
              0.5555555555555556,
              "#d8576b"
             ],
             [
              0.6666666666666666,
              "#ed7953"
             ],
             [
              0.7777777777777778,
              "#fb9f3a"
             ],
             [
              0.8888888888888888,
              "#fdca26"
             ],
             [
              1,
              "#f0f921"
             ]
            ],
            "type": "heatmap"
           }
          ],
          "heatmapgl": [
           {
            "colorbar": {
             "outlinewidth": 0,
             "ticks": ""
            },
            "colorscale": [
             [
              0,
              "#0d0887"
             ],
             [
              0.1111111111111111,
              "#46039f"
             ],
             [
              0.2222222222222222,
              "#7201a8"
             ],
             [
              0.3333333333333333,
              "#9c179e"
             ],
             [
              0.4444444444444444,
              "#bd3786"
             ],
             [
              0.5555555555555556,
              "#d8576b"
             ],
             [
              0.6666666666666666,
              "#ed7953"
             ],
             [
              0.7777777777777778,
              "#fb9f3a"
             ],
             [
              0.8888888888888888,
              "#fdca26"
             ],
             [
              1,
              "#f0f921"
             ]
            ],
            "type": "heatmapgl"
           }
          ],
          "histogram": [
           {
            "marker": {
             "pattern": {
              "fillmode": "overlay",
              "size": 10,
              "solidity": 0.2
             }
            },
            "type": "histogram"
           }
          ],
          "histogram2d": [
           {
            "colorbar": {
             "outlinewidth": 0,
             "ticks": ""
            },
            "colorscale": [
             [
              0,
              "#0d0887"
             ],
             [
              0.1111111111111111,
              "#46039f"
             ],
             [
              0.2222222222222222,
              "#7201a8"
             ],
             [
              0.3333333333333333,
              "#9c179e"
             ],
             [
              0.4444444444444444,
              "#bd3786"
             ],
             [
              0.5555555555555556,
              "#d8576b"
             ],
             [
              0.6666666666666666,
              "#ed7953"
             ],
             [
              0.7777777777777778,
              "#fb9f3a"
             ],
             [
              0.8888888888888888,
              "#fdca26"
             ],
             [
              1,
              "#f0f921"
             ]
            ],
            "type": "histogram2d"
           }
          ],
          "histogram2dcontour": [
           {
            "colorbar": {
             "outlinewidth": 0,
             "ticks": ""
            },
            "colorscale": [
             [
              0,
              "#0d0887"
             ],
             [
              0.1111111111111111,
              "#46039f"
             ],
             [
              0.2222222222222222,
              "#7201a8"
             ],
             [
              0.3333333333333333,
              "#9c179e"
             ],
             [
              0.4444444444444444,
              "#bd3786"
             ],
             [
              0.5555555555555556,
              "#d8576b"
             ],
             [
              0.6666666666666666,
              "#ed7953"
             ],
             [
              0.7777777777777778,
              "#fb9f3a"
             ],
             [
              0.8888888888888888,
              "#fdca26"
             ],
             [
              1,
              "#f0f921"
             ]
            ],
            "type": "histogram2dcontour"
           }
          ],
          "mesh3d": [
           {
            "colorbar": {
             "outlinewidth": 0,
             "ticks": ""
            },
            "type": "mesh3d"
           }
          ],
          "parcoords": [
           {
            "line": {
             "colorbar": {
              "outlinewidth": 0,
              "ticks": ""
             }
            },
            "type": "parcoords"
           }
          ],
          "pie": [
           {
            "automargin": true,
            "type": "pie"
           }
          ],
          "scatter": [
           {
            "fillpattern": {
             "fillmode": "overlay",
             "size": 10,
             "solidity": 0.2
            },
            "type": "scatter"
           }
          ],
          "scatter3d": [
           {
            "line": {
             "colorbar": {
              "outlinewidth": 0,
              "ticks": ""
             }
            },
            "marker": {
             "colorbar": {
              "outlinewidth": 0,
              "ticks": ""
             }
            },
            "type": "scatter3d"
           }
          ],
          "scattercarpet": [
           {
            "marker": {
             "colorbar": {
              "outlinewidth": 0,
              "ticks": ""
             }
            },
            "type": "scattercarpet"
           }
          ],
          "scattergeo": [
           {
            "marker": {
             "colorbar": {
              "outlinewidth": 0,
              "ticks": ""
             }
            },
            "type": "scattergeo"
           }
          ],
          "scattergl": [
           {
            "marker": {
             "colorbar": {
              "outlinewidth": 0,
              "ticks": ""
             }
            },
            "type": "scattergl"
           }
          ],
          "scattermapbox": [
           {
            "marker": {
             "colorbar": {
              "outlinewidth": 0,
              "ticks": ""
             }
            },
            "type": "scattermapbox"
           }
          ],
          "scatterpolar": [
           {
            "marker": {
             "colorbar": {
              "outlinewidth": 0,
              "ticks": ""
             }
            },
            "type": "scatterpolar"
           }
          ],
          "scatterpolargl": [
           {
            "marker": {
             "colorbar": {
              "outlinewidth": 0,
              "ticks": ""
             }
            },
            "type": "scatterpolargl"
           }
          ],
          "scatterternary": [
           {
            "marker": {
             "colorbar": {
              "outlinewidth": 0,
              "ticks": ""
             }
            },
            "type": "scatterternary"
           }
          ],
          "surface": [
           {
            "colorbar": {
             "outlinewidth": 0,
             "ticks": ""
            },
            "colorscale": [
             [
              0,
              "#0d0887"
             ],
             [
              0.1111111111111111,
              "#46039f"
             ],
             [
              0.2222222222222222,
              "#7201a8"
             ],
             [
              0.3333333333333333,
              "#9c179e"
             ],
             [
              0.4444444444444444,
              "#bd3786"
             ],
             [
              0.5555555555555556,
              "#d8576b"
             ],
             [
              0.6666666666666666,
              "#ed7953"
             ],
             [
              0.7777777777777778,
              "#fb9f3a"
             ],
             [
              0.8888888888888888,
              "#fdca26"
             ],
             [
              1,
              "#f0f921"
             ]
            ],
            "type": "surface"
           }
          ],
          "table": [
           {
            "cells": {
             "fill": {
              "color": "#EBF0F8"
             },
             "line": {
              "color": "white"
             }
            },
            "header": {
             "fill": {
              "color": "#C8D4E3"
             },
             "line": {
              "color": "white"
             }
            },
            "type": "table"
           }
          ]
         },
         "layout": {
          "annotationdefaults": {
           "arrowcolor": "#2a3f5f",
           "arrowhead": 0,
           "arrowwidth": 1
          },
          "autotypenumbers": "strict",
          "coloraxis": {
           "colorbar": {
            "outlinewidth": 0,
            "ticks": ""
           }
          },
          "colorscale": {
           "diverging": [
            [
             0,
             "#8e0152"
            ],
            [
             0.1,
             "#c51b7d"
            ],
            [
             0.2,
             "#de77ae"
            ],
            [
             0.3,
             "#f1b6da"
            ],
            [
             0.4,
             "#fde0ef"
            ],
            [
             0.5,
             "#f7f7f7"
            ],
            [
             0.6,
             "#e6f5d0"
            ],
            [
             0.7,
             "#b8e186"
            ],
            [
             0.8,
             "#7fbc41"
            ],
            [
             0.9,
             "#4d9221"
            ],
            [
             1,
             "#276419"
            ]
           ],
           "sequential": [
            [
             0,
             "#0d0887"
            ],
            [
             0.1111111111111111,
             "#46039f"
            ],
            [
             0.2222222222222222,
             "#7201a8"
            ],
            [
             0.3333333333333333,
             "#9c179e"
            ],
            [
             0.4444444444444444,
             "#bd3786"
            ],
            [
             0.5555555555555556,
             "#d8576b"
            ],
            [
             0.6666666666666666,
             "#ed7953"
            ],
            [
             0.7777777777777778,
             "#fb9f3a"
            ],
            [
             0.8888888888888888,
             "#fdca26"
            ],
            [
             1,
             "#f0f921"
            ]
           ],
           "sequentialminus": [
            [
             0,
             "#0d0887"
            ],
            [
             0.1111111111111111,
             "#46039f"
            ],
            [
             0.2222222222222222,
             "#7201a8"
            ],
            [
             0.3333333333333333,
             "#9c179e"
            ],
            [
             0.4444444444444444,
             "#bd3786"
            ],
            [
             0.5555555555555556,
             "#d8576b"
            ],
            [
             0.6666666666666666,
             "#ed7953"
            ],
            [
             0.7777777777777778,
             "#fb9f3a"
            ],
            [
             0.8888888888888888,
             "#fdca26"
            ],
            [
             1,
             "#f0f921"
            ]
           ]
          },
          "colorway": [
           "#636efa",
           "#EF553B",
           "#00cc96",
           "#ab63fa",
           "#FFA15A",
           "#19d3f3",
           "#FF6692",
           "#B6E880",
           "#FF97FF",
           "#FECB52"
          ],
          "font": {
           "color": "#2a3f5f"
          },
          "geo": {
           "bgcolor": "white",
           "lakecolor": "white",
           "landcolor": "#E5ECF6",
           "showlakes": true,
           "showland": true,
           "subunitcolor": "white"
          },
          "hoverlabel": {
           "align": "left"
          },
          "hovermode": "closest",
          "mapbox": {
           "style": "light"
          },
          "paper_bgcolor": "white",
          "plot_bgcolor": "#E5ECF6",
          "polar": {
           "angularaxis": {
            "gridcolor": "white",
            "linecolor": "white",
            "ticks": ""
           },
           "bgcolor": "#E5ECF6",
           "radialaxis": {
            "gridcolor": "white",
            "linecolor": "white",
            "ticks": ""
           }
          },
          "scene": {
           "xaxis": {
            "backgroundcolor": "#E5ECF6",
            "gridcolor": "white",
            "gridwidth": 2,
            "linecolor": "white",
            "showbackground": true,
            "ticks": "",
            "zerolinecolor": "white"
           },
           "yaxis": {
            "backgroundcolor": "#E5ECF6",
            "gridcolor": "white",
            "gridwidth": 2,
            "linecolor": "white",
            "showbackground": true,
            "ticks": "",
            "zerolinecolor": "white"
           },
           "zaxis": {
            "backgroundcolor": "#E5ECF6",
            "gridcolor": "white",
            "gridwidth": 2,
            "linecolor": "white",
            "showbackground": true,
            "ticks": "",
            "zerolinecolor": "white"
           }
          },
          "shapedefaults": {
           "line": {
            "color": "#2a3f5f"
           }
          },
          "ternary": {
           "aaxis": {
            "gridcolor": "white",
            "linecolor": "white",
            "ticks": ""
           },
           "baxis": {
            "gridcolor": "white",
            "linecolor": "white",
            "ticks": ""
           },
           "bgcolor": "#E5ECF6",
           "caxis": {
            "gridcolor": "white",
            "linecolor": "white",
            "ticks": ""
           }
          },
          "title": {
           "x": 0.05
          },
          "xaxis": {
           "automargin": true,
           "gridcolor": "white",
           "linecolor": "white",
           "ticks": "",
           "title": {
            "standoff": 15
           },
           "zerolinecolor": "white",
           "zerolinewidth": 2
          },
          "yaxis": {
           "automargin": true,
           "gridcolor": "white",
           "linecolor": "white",
           "ticks": "",
           "title": {
            "standoff": 15
           },
           "zerolinecolor": "white",
           "zerolinewidth": 2
          }
         }
        },
        "width": 800,
        "xaxis": {
         "anchor": "y",
         "domain": [
          0,
          1
         ]
        },
        "yaxis": {
         "anchor": "x",
         "domain": [
          0,
          1
         ]
        }
       }
      }
     },
     "metadata": {},
     "output_type": "display_data"
    }
   ],
   "source": [
    "import plotly.express as px\n",
    "import plotly.graph_objects as go\n",
    "fig = px.scatter(width = 800, height = 600)\n",
    "fig.add_trace(go.Scatter3d(x = mrkrs_femur_r['x'], y = mrkrs_femur_r['y'], z=mrkrs_femur_r['z'], mode = 'markers', name = 'osim skin markers'))\n",
    "fig.add_trace(go.Scatter3d(x = new_skin_mrkrs_femur_r['x'],  y = new_skin_mrkrs_femur_r['y'], z=new_skin_mrkrs_femur_r['z'], mode = 'markers', name = 'new_skin_mrkrs_femur_r mscl and mrkrs'))\n",
    "fig.add_trace(go.Scatter3d(x = femur_r_df['x'],  y = femur_r_df['y'], z=femur_r_df['z'], mode = 'markers', marker=dict(size=4, opacity=0.8), name = 'transformed mrkrs'))\n",
    "\n",
    "fig.update_scenes(aspectmode=\"data\" )\n",
    "camera = dict(\n",
    "    up=dict(x=0, y=0, z=1),\n",
    "    center=dict(x=0, y=0, z=0),\n",
    "    eye=dict(x=2, y=2, z=2)\n",
    ")\n",
    "fig.update_layout(scene_camera=camera)\n",
    "fig.show()"
   ]
  },
  {
   "cell_type": "code",
   "execution_count": 151,
   "metadata": {},
   "outputs": [
    {
     "data": {
      "application/vnd.plotly.v1+json": {
       "config": {
        "plotlyServerURL": "https://plot.ly"
       },
       "data": [
        {
         "hovertemplate": "<extra></extra>",
         "legendgroup": "",
         "marker": {
          "color": "#636efa",
          "symbol": "circle"
         },
         "mode": "markers",
         "name": "",
         "orientation": "v",
         "showlegend": false,
         "type": "scatter",
         "xaxis": "x",
         "yaxis": "y"
        },
        {
         "mode": "markers",
         "name": "osim skin markers",
         "type": "scatter3d",
         "x": [
          -0.015379745587356664,
          -0.022324577123866984,
          0.01858329382647761,
          -0.005518887253246674,
          -0.017817935646065153,
          -0.007755865911154958,
          0.00021116778973619132,
          0.040737403202469935
         ],
         "y": [
          -0.20520790608941253,
          -0.2817259524422371,
          -0.2532978405780728,
          0.013127306075558565,
          -0.37005725333580575,
          -0.3586435139967844,
          -0.37172502118540296,
          -0.38499650112990996
         ],
         "z": [
          -0.10351823984137126,
          -0.08204211200265515,
          -0.0832255982776754,
          -0.12013204939049055,
          -0.06684242778365551,
          0.05048285282895093,
          0.0011244104833873086,
          0
         ]
        },
        {
         "mode": "markers",
         "name": "new_skin_mrkrs_femur_r mscl and mrkrs",
         "type": "scatter3d",
         "x": [
          -0.009767781316931977,
          -0.016712612853442298,
          0.024195258096902296,
          0.00009307701717801292,
          -0.012205971375640466,
          -0.002143901640730271,
          0.005823132060160878,
          0.04634936747289462
         ],
         "y": [
          -0.2072513748408965,
          -0.28376942119372106,
          -0.2553413093295568,
          0.0110838373240746,
          -0.3721007220872897,
          -0.3606869827482684,
          -0.37376848993688694,
          -0.38703996988139394
         ],
         "z": [
          -0.11910342721622003,
          -0.09762729937750392,
          -0.09881078565252416,
          -0.1357172367653393,
          -0.08242761515850427,
          0.03489766545410217,
          -0.014460776891461455,
          -0.015585187374848763
         ]
        },
        {
         "marker": {
          "opacity": 0.8,
          "size": 4
         },
         "mode": "markers",
         "name": "transformed mrkrs",
         "type": "scatter3d",
         "x": [
          0.00745924,
          0.00908631,
          0,
          -0.01503956,
          -0.01022449,
          0.03224424,
          0.0050643,
          0.05311633,
          0.00827277
         ],
         "y": [
          -0.3732845,
          -0.3707033,
          0,
          0.00972828,
          -0.0193989,
          -0.18352332,
          -0.18457381,
          -0.38525145,
          -0.3719939
         ],
         "z": [
          0.01575714,
          -0.06487483,
          0,
          -0.04787621,
          -0.06359523,
          -0.04027938,
          -0.03352328,
          -0.0263343,
          -0.02455884
         ]
        }
       ],
       "layout": {
        "height": 600,
        "legend": {
         "tracegroupgap": 0
        },
        "margin": {
         "t": 60
        },
        "scene": {
         "aspectmode": "data",
         "camera": {
          "center": {
           "x": 0,
           "y": 0,
           "z": 0
          },
          "eye": {
           "x": 2,
           "y": 2,
           "z": 2
          },
          "up": {
           "x": 0,
           "y": 0,
           "z": 1
          }
         }
        },
        "template": {
         "data": {
          "bar": [
           {
            "error_x": {
             "color": "#2a3f5f"
            },
            "error_y": {
             "color": "#2a3f5f"
            },
            "marker": {
             "line": {
              "color": "#E5ECF6",
              "width": 0.5
             },
             "pattern": {
              "fillmode": "overlay",
              "size": 10,
              "solidity": 0.2
             }
            },
            "type": "bar"
           }
          ],
          "barpolar": [
           {
            "marker": {
             "line": {
              "color": "#E5ECF6",
              "width": 0.5
             },
             "pattern": {
              "fillmode": "overlay",
              "size": 10,
              "solidity": 0.2
             }
            },
            "type": "barpolar"
           }
          ],
          "carpet": [
           {
            "aaxis": {
             "endlinecolor": "#2a3f5f",
             "gridcolor": "white",
             "linecolor": "white",
             "minorgridcolor": "white",
             "startlinecolor": "#2a3f5f"
            },
            "baxis": {
             "endlinecolor": "#2a3f5f",
             "gridcolor": "white",
             "linecolor": "white",
             "minorgridcolor": "white",
             "startlinecolor": "#2a3f5f"
            },
            "type": "carpet"
           }
          ],
          "choropleth": [
           {
            "colorbar": {
             "outlinewidth": 0,
             "ticks": ""
            },
            "type": "choropleth"
           }
          ],
          "contour": [
           {
            "colorbar": {
             "outlinewidth": 0,
             "ticks": ""
            },
            "colorscale": [
             [
              0,
              "#0d0887"
             ],
             [
              0.1111111111111111,
              "#46039f"
             ],
             [
              0.2222222222222222,
              "#7201a8"
             ],
             [
              0.3333333333333333,
              "#9c179e"
             ],
             [
              0.4444444444444444,
              "#bd3786"
             ],
             [
              0.5555555555555556,
              "#d8576b"
             ],
             [
              0.6666666666666666,
              "#ed7953"
             ],
             [
              0.7777777777777778,
              "#fb9f3a"
             ],
             [
              0.8888888888888888,
              "#fdca26"
             ],
             [
              1,
              "#f0f921"
             ]
            ],
            "type": "contour"
           }
          ],
          "contourcarpet": [
           {
            "colorbar": {
             "outlinewidth": 0,
             "ticks": ""
            },
            "type": "contourcarpet"
           }
          ],
          "heatmap": [
           {
            "colorbar": {
             "outlinewidth": 0,
             "ticks": ""
            },
            "colorscale": [
             [
              0,
              "#0d0887"
             ],
             [
              0.1111111111111111,
              "#46039f"
             ],
             [
              0.2222222222222222,
              "#7201a8"
             ],
             [
              0.3333333333333333,
              "#9c179e"
             ],
             [
              0.4444444444444444,
              "#bd3786"
             ],
             [
              0.5555555555555556,
              "#d8576b"
             ],
             [
              0.6666666666666666,
              "#ed7953"
             ],
             [
              0.7777777777777778,
              "#fb9f3a"
             ],
             [
              0.8888888888888888,
              "#fdca26"
             ],
             [
              1,
              "#f0f921"
             ]
            ],
            "type": "heatmap"
           }
          ],
          "heatmapgl": [
           {
            "colorbar": {
             "outlinewidth": 0,
             "ticks": ""
            },
            "colorscale": [
             [
              0,
              "#0d0887"
             ],
             [
              0.1111111111111111,
              "#46039f"
             ],
             [
              0.2222222222222222,
              "#7201a8"
             ],
             [
              0.3333333333333333,
              "#9c179e"
             ],
             [
              0.4444444444444444,
              "#bd3786"
             ],
             [
              0.5555555555555556,
              "#d8576b"
             ],
             [
              0.6666666666666666,
              "#ed7953"
             ],
             [
              0.7777777777777778,
              "#fb9f3a"
             ],
             [
              0.8888888888888888,
              "#fdca26"
             ],
             [
              1,
              "#f0f921"
             ]
            ],
            "type": "heatmapgl"
           }
          ],
          "histogram": [
           {
            "marker": {
             "pattern": {
              "fillmode": "overlay",
              "size": 10,
              "solidity": 0.2
             }
            },
            "type": "histogram"
           }
          ],
          "histogram2d": [
           {
            "colorbar": {
             "outlinewidth": 0,
             "ticks": ""
            },
            "colorscale": [
             [
              0,
              "#0d0887"
             ],
             [
              0.1111111111111111,
              "#46039f"
             ],
             [
              0.2222222222222222,
              "#7201a8"
             ],
             [
              0.3333333333333333,
              "#9c179e"
             ],
             [
              0.4444444444444444,
              "#bd3786"
             ],
             [
              0.5555555555555556,
              "#d8576b"
             ],
             [
              0.6666666666666666,
              "#ed7953"
             ],
             [
              0.7777777777777778,
              "#fb9f3a"
             ],
             [
              0.8888888888888888,
              "#fdca26"
             ],
             [
              1,
              "#f0f921"
             ]
            ],
            "type": "histogram2d"
           }
          ],
          "histogram2dcontour": [
           {
            "colorbar": {
             "outlinewidth": 0,
             "ticks": ""
            },
            "colorscale": [
             [
              0,
              "#0d0887"
             ],
             [
              0.1111111111111111,
              "#46039f"
             ],
             [
              0.2222222222222222,
              "#7201a8"
             ],
             [
              0.3333333333333333,
              "#9c179e"
             ],
             [
              0.4444444444444444,
              "#bd3786"
             ],
             [
              0.5555555555555556,
              "#d8576b"
             ],
             [
              0.6666666666666666,
              "#ed7953"
             ],
             [
              0.7777777777777778,
              "#fb9f3a"
             ],
             [
              0.8888888888888888,
              "#fdca26"
             ],
             [
              1,
              "#f0f921"
             ]
            ],
            "type": "histogram2dcontour"
           }
          ],
          "mesh3d": [
           {
            "colorbar": {
             "outlinewidth": 0,
             "ticks": ""
            },
            "type": "mesh3d"
           }
          ],
          "parcoords": [
           {
            "line": {
             "colorbar": {
              "outlinewidth": 0,
              "ticks": ""
             }
            },
            "type": "parcoords"
           }
          ],
          "pie": [
           {
            "automargin": true,
            "type": "pie"
           }
          ],
          "scatter": [
           {
            "fillpattern": {
             "fillmode": "overlay",
             "size": 10,
             "solidity": 0.2
            },
            "type": "scatter"
           }
          ],
          "scatter3d": [
           {
            "line": {
             "colorbar": {
              "outlinewidth": 0,
              "ticks": ""
             }
            },
            "marker": {
             "colorbar": {
              "outlinewidth": 0,
              "ticks": ""
             }
            },
            "type": "scatter3d"
           }
          ],
          "scattercarpet": [
           {
            "marker": {
             "colorbar": {
              "outlinewidth": 0,
              "ticks": ""
             }
            },
            "type": "scattercarpet"
           }
          ],
          "scattergeo": [
           {
            "marker": {
             "colorbar": {
              "outlinewidth": 0,
              "ticks": ""
             }
            },
            "type": "scattergeo"
           }
          ],
          "scattergl": [
           {
            "marker": {
             "colorbar": {
              "outlinewidth": 0,
              "ticks": ""
             }
            },
            "type": "scattergl"
           }
          ],
          "scattermapbox": [
           {
            "marker": {
             "colorbar": {
              "outlinewidth": 0,
              "ticks": ""
             }
            },
            "type": "scattermapbox"
           }
          ],
          "scatterpolar": [
           {
            "marker": {
             "colorbar": {
              "outlinewidth": 0,
              "ticks": ""
             }
            },
            "type": "scatterpolar"
           }
          ],
          "scatterpolargl": [
           {
            "marker": {
             "colorbar": {
              "outlinewidth": 0,
              "ticks": ""
             }
            },
            "type": "scatterpolargl"
           }
          ],
          "scatterternary": [
           {
            "marker": {
             "colorbar": {
              "outlinewidth": 0,
              "ticks": ""
             }
            },
            "type": "scatterternary"
           }
          ],
          "surface": [
           {
            "colorbar": {
             "outlinewidth": 0,
             "ticks": ""
            },
            "colorscale": [
             [
              0,
              "#0d0887"
             ],
             [
              0.1111111111111111,
              "#46039f"
             ],
             [
              0.2222222222222222,
              "#7201a8"
             ],
             [
              0.3333333333333333,
              "#9c179e"
             ],
             [
              0.4444444444444444,
              "#bd3786"
             ],
             [
              0.5555555555555556,
              "#d8576b"
             ],
             [
              0.6666666666666666,
              "#ed7953"
             ],
             [
              0.7777777777777778,
              "#fb9f3a"
             ],
             [
              0.8888888888888888,
              "#fdca26"
             ],
             [
              1,
              "#f0f921"
             ]
            ],
            "type": "surface"
           }
          ],
          "table": [
           {
            "cells": {
             "fill": {
              "color": "#EBF0F8"
             },
             "line": {
              "color": "white"
             }
            },
            "header": {
             "fill": {
              "color": "#C8D4E3"
             },
             "line": {
              "color": "white"
             }
            },
            "type": "table"
           }
          ]
         },
         "layout": {
          "annotationdefaults": {
           "arrowcolor": "#2a3f5f",
           "arrowhead": 0,
           "arrowwidth": 1
          },
          "autotypenumbers": "strict",
          "coloraxis": {
           "colorbar": {
            "outlinewidth": 0,
            "ticks": ""
           }
          },
          "colorscale": {
           "diverging": [
            [
             0,
             "#8e0152"
            ],
            [
             0.1,
             "#c51b7d"
            ],
            [
             0.2,
             "#de77ae"
            ],
            [
             0.3,
             "#f1b6da"
            ],
            [
             0.4,
             "#fde0ef"
            ],
            [
             0.5,
             "#f7f7f7"
            ],
            [
             0.6,
             "#e6f5d0"
            ],
            [
             0.7,
             "#b8e186"
            ],
            [
             0.8,
             "#7fbc41"
            ],
            [
             0.9,
             "#4d9221"
            ],
            [
             1,
             "#276419"
            ]
           ],
           "sequential": [
            [
             0,
             "#0d0887"
            ],
            [
             0.1111111111111111,
             "#46039f"
            ],
            [
             0.2222222222222222,
             "#7201a8"
            ],
            [
             0.3333333333333333,
             "#9c179e"
            ],
            [
             0.4444444444444444,
             "#bd3786"
            ],
            [
             0.5555555555555556,
             "#d8576b"
            ],
            [
             0.6666666666666666,
             "#ed7953"
            ],
            [
             0.7777777777777778,
             "#fb9f3a"
            ],
            [
             0.8888888888888888,
             "#fdca26"
            ],
            [
             1,
             "#f0f921"
            ]
           ],
           "sequentialminus": [
            [
             0,
             "#0d0887"
            ],
            [
             0.1111111111111111,
             "#46039f"
            ],
            [
             0.2222222222222222,
             "#7201a8"
            ],
            [
             0.3333333333333333,
             "#9c179e"
            ],
            [
             0.4444444444444444,
             "#bd3786"
            ],
            [
             0.5555555555555556,
             "#d8576b"
            ],
            [
             0.6666666666666666,
             "#ed7953"
            ],
            [
             0.7777777777777778,
             "#fb9f3a"
            ],
            [
             0.8888888888888888,
             "#fdca26"
            ],
            [
             1,
             "#f0f921"
            ]
           ]
          },
          "colorway": [
           "#636efa",
           "#EF553B",
           "#00cc96",
           "#ab63fa",
           "#FFA15A",
           "#19d3f3",
           "#FF6692",
           "#B6E880",
           "#FF97FF",
           "#FECB52"
          ],
          "font": {
           "color": "#2a3f5f"
          },
          "geo": {
           "bgcolor": "white",
           "lakecolor": "white",
           "landcolor": "#E5ECF6",
           "showlakes": true,
           "showland": true,
           "subunitcolor": "white"
          },
          "hoverlabel": {
           "align": "left"
          },
          "hovermode": "closest",
          "mapbox": {
           "style": "light"
          },
          "paper_bgcolor": "white",
          "plot_bgcolor": "#E5ECF6",
          "polar": {
           "angularaxis": {
            "gridcolor": "white",
            "linecolor": "white",
            "ticks": ""
           },
           "bgcolor": "#E5ECF6",
           "radialaxis": {
            "gridcolor": "white",
            "linecolor": "white",
            "ticks": ""
           }
          },
          "scene": {
           "xaxis": {
            "backgroundcolor": "#E5ECF6",
            "gridcolor": "white",
            "gridwidth": 2,
            "linecolor": "white",
            "showbackground": true,
            "ticks": "",
            "zerolinecolor": "white"
           },
           "yaxis": {
            "backgroundcolor": "#E5ECF6",
            "gridcolor": "white",
            "gridwidth": 2,
            "linecolor": "white",
            "showbackground": true,
            "ticks": "",
            "zerolinecolor": "white"
           },
           "zaxis": {
            "backgroundcolor": "#E5ECF6",
            "gridcolor": "white",
            "gridwidth": 2,
            "linecolor": "white",
            "showbackground": true,
            "ticks": "",
            "zerolinecolor": "white"
           }
          },
          "shapedefaults": {
           "line": {
            "color": "#2a3f5f"
           }
          },
          "ternary": {
           "aaxis": {
            "gridcolor": "white",
            "linecolor": "white",
            "ticks": ""
           },
           "baxis": {
            "gridcolor": "white",
            "linecolor": "white",
            "ticks": ""
           },
           "bgcolor": "#E5ECF6",
           "caxis": {
            "gridcolor": "white",
            "linecolor": "white",
            "ticks": ""
           }
          },
          "title": {
           "x": 0.05
          },
          "xaxis": {
           "automargin": true,
           "gridcolor": "white",
           "linecolor": "white",
           "ticks": "",
           "title": {
            "standoff": 15
           },
           "zerolinecolor": "white",
           "zerolinewidth": 2
          },
          "yaxis": {
           "automargin": true,
           "gridcolor": "white",
           "linecolor": "white",
           "ticks": "",
           "title": {
            "standoff": 15
           },
           "zerolinecolor": "white",
           "zerolinewidth": 2
          }
         }
        },
        "width": 800,
        "xaxis": {
         "anchor": "y",
         "domain": [
          0,
          1
         ]
        },
        "yaxis": {
         "anchor": "x",
         "domain": [
          0,
          1
         ]
        }
       }
      }
     },
     "metadata": {},
     "output_type": "display_data"
    }
   ],
   "source": [
    "import plotly.express as px\n",
    "import plotly.graph_objects as go\n",
    "fig = px.scatter(width = 800, height = 600)\n",
    "fig.add_trace(go.Scatter3d(x = mrkrs_femur_l['x'], \n",
    "                           y = mrkrs_femur_l['y'], \n",
    "                           z = mrkrs_femur_l['z'], mode = 'markers', name = 'osim skin markers'))\n",
    "fig.add_trace(go.Scatter3d(x = new_skin_mrkrs_femur_l['x'],  y = new_skin_mrkrs_femur_l['y'], z=new_skin_mrkrs_femur_l['z'], mode = 'markers', name = 'new_skin_mrkrs_femur_r mscl and mrkrs'))\n",
    "fig.add_trace(go.Scatter3d(x = femur_l_df['x'],  y = femur_l_df['y'], z=femur_l_df['z'], mode = 'markers', marker=dict(size=4, opacity=0.8), name = 'transformed mrkrs'))\n",
    "\n",
    "fig.update_scenes(aspectmode=\"data\" )\n",
    "camera = dict(\n",
    "    up=dict(x=0, y=0, z=1),\n",
    "    center=dict(x=0, y=0, z=0),\n",
    "    eye=dict(x=2, y=2, z=2)\n",
    ")\n",
    "fig.update_layout(scene_camera=camera)\n",
    "fig.show()"
   ]
  },
  {
   "cell_type": "code",
   "execution_count": 152,
   "metadata": {},
   "outputs": [],
   "source": [
    "new_skin_mrkrs_tibia_r = mrkrs_tibia_r - (old_knee_r_in_femur_r - knee_r_center_in_femur)\n",
    "new_skin_mrkrs_tibia_l = mrkrs_tibia_l - (old_knee_r_in_femur_r - knee_r_center_in_femur)"
   ]
  },
  {
   "cell_type": "code",
   "execution_count": 153,
   "metadata": {},
   "outputs": [
    {
     "data": {
      "application/vnd.plotly.v1+json": {
       "config": {
        "plotlyServerURL": "https://plot.ly"
       },
       "data": [
        {
         "hovertemplate": "<extra></extra>",
         "legendgroup": "",
         "marker": {
          "color": "#636efa",
          "symbol": "circle"
         },
         "mode": "markers",
         "name": "",
         "orientation": "v",
         "showlegend": false,
         "type": "scatter",
         "xaxis": "x",
         "yaxis": "y"
        },
        {
         "mode": "markers",
         "name": "osim skin markers",
         "type": "scatter3d",
         "x": [
          -0.050961208593445495,
          -0.017693734263779293,
          0.002299727413294206,
          -0.008621740665662625,
          -0.011226578450071023,
          -0.009455287600527057
         ],
         "y": [
          -0.15202654698976575,
          -0.22130500197136263,
          -0.17509877951797864,
          -0.3695189477878823,
          -0.3544277475581766,
          -0.37821150402108167
         ],
         "z": [
          -0.0867615587663283,
          -0.06824067018993024,
          -0.06632150214376603,
          -0.03864660598025205,
          0.040161776353092926,
          5.806417517952324e-18
         ]
        },
        {
         "mode": "markers",
         "name": "new_skin_mrkrs_femur_r mscl and mrkrs",
         "type": "scatter3d",
         "x": [
          -0.05125424499234074,
          -0.01798677066267454,
          0.0020066910143989587,
          -0.008914777064557872,
          -0.01151961484896627,
          -0.009748323999422303
         ],
         "y": [
          -0.14772101583586006,
          -0.21699947081745694,
          -0.17079324836407295,
          -0.3652134166339766,
          -0.3501222164042709,
          -0.373905972867176
         ],
         "z": [
          -0.08562651190336497,
          -0.06710562332696692,
          -0.0651864552808027,
          -0.03751155911728872,
          0.04129682321605625,
          0.0011350468629633317
         ]
        },
        {
         "marker": {
          "opacity": 0.8,
          "size": 4
         },
         "mode": "markers",
         "name": "transformed mrkrs",
         "type": "scatter3d",
         "x": [
          -0.00745221,
          0.00707307,
          0,
          -0.00036218,
          -0.000189571972,
          -0.00049666,
          -0.02105392,
          0.0241126,
          -0.0021911,
          -0.00603028,
          -0.00036825,
          -0.00035612,
          -0.01633083,
          0.02567647,
          0.03057101,
          0.01803185,
          -0.01124692,
          -0.00769805,
          0.01384409,
          0.00307302
         ],
         "y": [
          -0.38200347,
          -0.37280271,
          0,
          -0.03537745,
          -0.37740309,
          -0.05649308,
          -0.04374988,
          -0.18871471,
          -0.18869957,
          -0.18870426,
          -0.03538352,
          -0.03537139,
          -0.04381628,
          -0.03326718,
          -0.05459613,
          -0.35892989,
          -0.04816386,
          -0.39430732,
          -0.3817079,
          -0.38800761
         ],
         "z": [
          -0.02918314,
          0.02930954,
          0,
          -0.00477398,
          0.0000631976948,
          -0.03708014,
          -0.03879943,
          -0.00595256,
          0.00551784,
          -0.0339817,
          -0.04101128,
          0.03146331,
          -0.00563907,
          -0.00564787,
          -0.00564512,
          -0.00564455,
          0.02092342,
          -0.02622955,
          0.021262,
          -0.00248378
         ]
        }
       ],
       "layout": {
        "height": 600,
        "legend": {
         "tracegroupgap": 0
        },
        "margin": {
         "t": 60
        },
        "scene": {
         "aspectmode": "data",
         "camera": {
          "center": {
           "x": 0,
           "y": 0,
           "z": 0
          },
          "eye": {
           "x": 2,
           "y": 2,
           "z": 2
          },
          "up": {
           "x": 0,
           "y": 0,
           "z": 1
          }
         }
        },
        "template": {
         "data": {
          "bar": [
           {
            "error_x": {
             "color": "#2a3f5f"
            },
            "error_y": {
             "color": "#2a3f5f"
            },
            "marker": {
             "line": {
              "color": "#E5ECF6",
              "width": 0.5
             },
             "pattern": {
              "fillmode": "overlay",
              "size": 10,
              "solidity": 0.2
             }
            },
            "type": "bar"
           }
          ],
          "barpolar": [
           {
            "marker": {
             "line": {
              "color": "#E5ECF6",
              "width": 0.5
             },
             "pattern": {
              "fillmode": "overlay",
              "size": 10,
              "solidity": 0.2
             }
            },
            "type": "barpolar"
           }
          ],
          "carpet": [
           {
            "aaxis": {
             "endlinecolor": "#2a3f5f",
             "gridcolor": "white",
             "linecolor": "white",
             "minorgridcolor": "white",
             "startlinecolor": "#2a3f5f"
            },
            "baxis": {
             "endlinecolor": "#2a3f5f",
             "gridcolor": "white",
             "linecolor": "white",
             "minorgridcolor": "white",
             "startlinecolor": "#2a3f5f"
            },
            "type": "carpet"
           }
          ],
          "choropleth": [
           {
            "colorbar": {
             "outlinewidth": 0,
             "ticks": ""
            },
            "type": "choropleth"
           }
          ],
          "contour": [
           {
            "colorbar": {
             "outlinewidth": 0,
             "ticks": ""
            },
            "colorscale": [
             [
              0,
              "#0d0887"
             ],
             [
              0.1111111111111111,
              "#46039f"
             ],
             [
              0.2222222222222222,
              "#7201a8"
             ],
             [
              0.3333333333333333,
              "#9c179e"
             ],
             [
              0.4444444444444444,
              "#bd3786"
             ],
             [
              0.5555555555555556,
              "#d8576b"
             ],
             [
              0.6666666666666666,
              "#ed7953"
             ],
             [
              0.7777777777777778,
              "#fb9f3a"
             ],
             [
              0.8888888888888888,
              "#fdca26"
             ],
             [
              1,
              "#f0f921"
             ]
            ],
            "type": "contour"
           }
          ],
          "contourcarpet": [
           {
            "colorbar": {
             "outlinewidth": 0,
             "ticks": ""
            },
            "type": "contourcarpet"
           }
          ],
          "heatmap": [
           {
            "colorbar": {
             "outlinewidth": 0,
             "ticks": ""
            },
            "colorscale": [
             [
              0,
              "#0d0887"
             ],
             [
              0.1111111111111111,
              "#46039f"
             ],
             [
              0.2222222222222222,
              "#7201a8"
             ],
             [
              0.3333333333333333,
              "#9c179e"
             ],
             [
              0.4444444444444444,
              "#bd3786"
             ],
             [
              0.5555555555555556,
              "#d8576b"
             ],
             [
              0.6666666666666666,
              "#ed7953"
             ],
             [
              0.7777777777777778,
              "#fb9f3a"
             ],
             [
              0.8888888888888888,
              "#fdca26"
             ],
             [
              1,
              "#f0f921"
             ]
            ],
            "type": "heatmap"
           }
          ],
          "heatmapgl": [
           {
            "colorbar": {
             "outlinewidth": 0,
             "ticks": ""
            },
            "colorscale": [
             [
              0,
              "#0d0887"
             ],
             [
              0.1111111111111111,
              "#46039f"
             ],
             [
              0.2222222222222222,
              "#7201a8"
             ],
             [
              0.3333333333333333,
              "#9c179e"
             ],
             [
              0.4444444444444444,
              "#bd3786"
             ],
             [
              0.5555555555555556,
              "#d8576b"
             ],
             [
              0.6666666666666666,
              "#ed7953"
             ],
             [
              0.7777777777777778,
              "#fb9f3a"
             ],
             [
              0.8888888888888888,
              "#fdca26"
             ],
             [
              1,
              "#f0f921"
             ]
            ],
            "type": "heatmapgl"
           }
          ],
          "histogram": [
           {
            "marker": {
             "pattern": {
              "fillmode": "overlay",
              "size": 10,
              "solidity": 0.2
             }
            },
            "type": "histogram"
           }
          ],
          "histogram2d": [
           {
            "colorbar": {
             "outlinewidth": 0,
             "ticks": ""
            },
            "colorscale": [
             [
              0,
              "#0d0887"
             ],
             [
              0.1111111111111111,
              "#46039f"
             ],
             [
              0.2222222222222222,
              "#7201a8"
             ],
             [
              0.3333333333333333,
              "#9c179e"
             ],
             [
              0.4444444444444444,
              "#bd3786"
             ],
             [
              0.5555555555555556,
              "#d8576b"
             ],
             [
              0.6666666666666666,
              "#ed7953"
             ],
             [
              0.7777777777777778,
              "#fb9f3a"
             ],
             [
              0.8888888888888888,
              "#fdca26"
             ],
             [
              1,
              "#f0f921"
             ]
            ],
            "type": "histogram2d"
           }
          ],
          "histogram2dcontour": [
           {
            "colorbar": {
             "outlinewidth": 0,
             "ticks": ""
            },
            "colorscale": [
             [
              0,
              "#0d0887"
             ],
             [
              0.1111111111111111,
              "#46039f"
             ],
             [
              0.2222222222222222,
              "#7201a8"
             ],
             [
              0.3333333333333333,
              "#9c179e"
             ],
             [
              0.4444444444444444,
              "#bd3786"
             ],
             [
              0.5555555555555556,
              "#d8576b"
             ],
             [
              0.6666666666666666,
              "#ed7953"
             ],
             [
              0.7777777777777778,
              "#fb9f3a"
             ],
             [
              0.8888888888888888,
              "#fdca26"
             ],
             [
              1,
              "#f0f921"
             ]
            ],
            "type": "histogram2dcontour"
           }
          ],
          "mesh3d": [
           {
            "colorbar": {
             "outlinewidth": 0,
             "ticks": ""
            },
            "type": "mesh3d"
           }
          ],
          "parcoords": [
           {
            "line": {
             "colorbar": {
              "outlinewidth": 0,
              "ticks": ""
             }
            },
            "type": "parcoords"
           }
          ],
          "pie": [
           {
            "automargin": true,
            "type": "pie"
           }
          ],
          "scatter": [
           {
            "fillpattern": {
             "fillmode": "overlay",
             "size": 10,
             "solidity": 0.2
            },
            "type": "scatter"
           }
          ],
          "scatter3d": [
           {
            "line": {
             "colorbar": {
              "outlinewidth": 0,
              "ticks": ""
             }
            },
            "marker": {
             "colorbar": {
              "outlinewidth": 0,
              "ticks": ""
             }
            },
            "type": "scatter3d"
           }
          ],
          "scattercarpet": [
           {
            "marker": {
             "colorbar": {
              "outlinewidth": 0,
              "ticks": ""
             }
            },
            "type": "scattercarpet"
           }
          ],
          "scattergeo": [
           {
            "marker": {
             "colorbar": {
              "outlinewidth": 0,
              "ticks": ""
             }
            },
            "type": "scattergeo"
           }
          ],
          "scattergl": [
           {
            "marker": {
             "colorbar": {
              "outlinewidth": 0,
              "ticks": ""
             }
            },
            "type": "scattergl"
           }
          ],
          "scattermapbox": [
           {
            "marker": {
             "colorbar": {
              "outlinewidth": 0,
              "ticks": ""
             }
            },
            "type": "scattermapbox"
           }
          ],
          "scatterpolar": [
           {
            "marker": {
             "colorbar": {
              "outlinewidth": 0,
              "ticks": ""
             }
            },
            "type": "scatterpolar"
           }
          ],
          "scatterpolargl": [
           {
            "marker": {
             "colorbar": {
              "outlinewidth": 0,
              "ticks": ""
             }
            },
            "type": "scatterpolargl"
           }
          ],
          "scatterternary": [
           {
            "marker": {
             "colorbar": {
              "outlinewidth": 0,
              "ticks": ""
             }
            },
            "type": "scatterternary"
           }
          ],
          "surface": [
           {
            "colorbar": {
             "outlinewidth": 0,
             "ticks": ""
            },
            "colorscale": [
             [
              0,
              "#0d0887"
             ],
             [
              0.1111111111111111,
              "#46039f"
             ],
             [
              0.2222222222222222,
              "#7201a8"
             ],
             [
              0.3333333333333333,
              "#9c179e"
             ],
             [
              0.4444444444444444,
              "#bd3786"
             ],
             [
              0.5555555555555556,
              "#d8576b"
             ],
             [
              0.6666666666666666,
              "#ed7953"
             ],
             [
              0.7777777777777778,
              "#fb9f3a"
             ],
             [
              0.8888888888888888,
              "#fdca26"
             ],
             [
              1,
              "#f0f921"
             ]
            ],
            "type": "surface"
           }
          ],
          "table": [
           {
            "cells": {
             "fill": {
              "color": "#EBF0F8"
             },
             "line": {
              "color": "white"
             }
            },
            "header": {
             "fill": {
              "color": "#C8D4E3"
             },
             "line": {
              "color": "white"
             }
            },
            "type": "table"
           }
          ]
         },
         "layout": {
          "annotationdefaults": {
           "arrowcolor": "#2a3f5f",
           "arrowhead": 0,
           "arrowwidth": 1
          },
          "autotypenumbers": "strict",
          "coloraxis": {
           "colorbar": {
            "outlinewidth": 0,
            "ticks": ""
           }
          },
          "colorscale": {
           "diverging": [
            [
             0,
             "#8e0152"
            ],
            [
             0.1,
             "#c51b7d"
            ],
            [
             0.2,
             "#de77ae"
            ],
            [
             0.3,
             "#f1b6da"
            ],
            [
             0.4,
             "#fde0ef"
            ],
            [
             0.5,
             "#f7f7f7"
            ],
            [
             0.6,
             "#e6f5d0"
            ],
            [
             0.7,
             "#b8e186"
            ],
            [
             0.8,
             "#7fbc41"
            ],
            [
             0.9,
             "#4d9221"
            ],
            [
             1,
             "#276419"
            ]
           ],
           "sequential": [
            [
             0,
             "#0d0887"
            ],
            [
             0.1111111111111111,
             "#46039f"
            ],
            [
             0.2222222222222222,
             "#7201a8"
            ],
            [
             0.3333333333333333,
             "#9c179e"
            ],
            [
             0.4444444444444444,
             "#bd3786"
            ],
            [
             0.5555555555555556,
             "#d8576b"
            ],
            [
             0.6666666666666666,
             "#ed7953"
            ],
            [
             0.7777777777777778,
             "#fb9f3a"
            ],
            [
             0.8888888888888888,
             "#fdca26"
            ],
            [
             1,
             "#f0f921"
            ]
           ],
           "sequentialminus": [
            [
             0,
             "#0d0887"
            ],
            [
             0.1111111111111111,
             "#46039f"
            ],
            [
             0.2222222222222222,
             "#7201a8"
            ],
            [
             0.3333333333333333,
             "#9c179e"
            ],
            [
             0.4444444444444444,
             "#bd3786"
            ],
            [
             0.5555555555555556,
             "#d8576b"
            ],
            [
             0.6666666666666666,
             "#ed7953"
            ],
            [
             0.7777777777777778,
             "#fb9f3a"
            ],
            [
             0.8888888888888888,
             "#fdca26"
            ],
            [
             1,
             "#f0f921"
            ]
           ]
          },
          "colorway": [
           "#636efa",
           "#EF553B",
           "#00cc96",
           "#ab63fa",
           "#FFA15A",
           "#19d3f3",
           "#FF6692",
           "#B6E880",
           "#FF97FF",
           "#FECB52"
          ],
          "font": {
           "color": "#2a3f5f"
          },
          "geo": {
           "bgcolor": "white",
           "lakecolor": "white",
           "landcolor": "#E5ECF6",
           "showlakes": true,
           "showland": true,
           "subunitcolor": "white"
          },
          "hoverlabel": {
           "align": "left"
          },
          "hovermode": "closest",
          "mapbox": {
           "style": "light"
          },
          "paper_bgcolor": "white",
          "plot_bgcolor": "#E5ECF6",
          "polar": {
           "angularaxis": {
            "gridcolor": "white",
            "linecolor": "white",
            "ticks": ""
           },
           "bgcolor": "#E5ECF6",
           "radialaxis": {
            "gridcolor": "white",
            "linecolor": "white",
            "ticks": ""
           }
          },
          "scene": {
           "xaxis": {
            "backgroundcolor": "#E5ECF6",
            "gridcolor": "white",
            "gridwidth": 2,
            "linecolor": "white",
            "showbackground": true,
            "ticks": "",
            "zerolinecolor": "white"
           },
           "yaxis": {
            "backgroundcolor": "#E5ECF6",
            "gridcolor": "white",
            "gridwidth": 2,
            "linecolor": "white",
            "showbackground": true,
            "ticks": "",
            "zerolinecolor": "white"
           },
           "zaxis": {
            "backgroundcolor": "#E5ECF6",
            "gridcolor": "white",
            "gridwidth": 2,
            "linecolor": "white",
            "showbackground": true,
            "ticks": "",
            "zerolinecolor": "white"
           }
          },
          "shapedefaults": {
           "line": {
            "color": "#2a3f5f"
           }
          },
          "ternary": {
           "aaxis": {
            "gridcolor": "white",
            "linecolor": "white",
            "ticks": ""
           },
           "baxis": {
            "gridcolor": "white",
            "linecolor": "white",
            "ticks": ""
           },
           "bgcolor": "#E5ECF6",
           "caxis": {
            "gridcolor": "white",
            "linecolor": "white",
            "ticks": ""
           }
          },
          "title": {
           "x": 0.05
          },
          "xaxis": {
           "automargin": true,
           "gridcolor": "white",
           "linecolor": "white",
           "ticks": "",
           "title": {
            "standoff": 15
           },
           "zerolinecolor": "white",
           "zerolinewidth": 2
          },
          "yaxis": {
           "automargin": true,
           "gridcolor": "white",
           "linecolor": "white",
           "ticks": "",
           "title": {
            "standoff": 15
           },
           "zerolinecolor": "white",
           "zerolinewidth": 2
          }
         }
        },
        "width": 800,
        "xaxis": {
         "anchor": "y",
         "domain": [
          0,
          1
         ]
        },
        "yaxis": {
         "anchor": "x",
         "domain": [
          0,
          1
         ]
        }
       }
      }
     },
     "metadata": {},
     "output_type": "display_data"
    }
   ],
   "source": [
    "import plotly.express as px\n",
    "import plotly.graph_objects as go\n",
    "fig = px.scatter(width = 800, height = 600)\n",
    "fig.add_trace(go.Scatter3d(x = mrkrs_tibia_l['x'], \n",
    "                           y = mrkrs_tibia_l['y'], \n",
    "                           z = mrkrs_tibia_l['z'], mode = 'markers', name = 'osim skin markers'))\n",
    "fig.add_trace(go.Scatter3d(x = new_skin_mrkrs_tibia_l['x'],  y = new_skin_mrkrs_tibia_l['y'], z=new_skin_mrkrs_tibia_l['z'], mode = 'markers', name = 'new_skin_mrkrs_femur_r mscl and mrkrs'))\n",
    "fig.add_trace(go.Scatter3d(x = tibia_l_df['x'],  y = tibia_l_df['y'], z=tibia_l_df['z'], mode = 'markers', marker=dict(size=4, opacity=0.8), name = 'transformed mrkrs'))\n",
    "\n",
    "fig.update_scenes(aspectmode=\"data\" )\n",
    "camera = dict(\n",
    "    up=dict(x=0, y=0, z=1),\n",
    "    center=dict(x=0, y=0, z=0),\n",
    "    eye=dict(x=2, y=2, z=2)\n",
    ")\n",
    "fig.update_layout(scene_camera=camera)\n",
    "fig.show()"
   ]
  },
  {
   "cell_type": "code",
   "execution_count": 154,
   "metadata": {},
   "outputs": [
    {
     "name": "stdout",
     "output_type": "stream",
     "text": [
      "[0.00236077, -0.38991173, 0.00219256]\n",
      "[-0.009759338856214965, -0.39037355424859804, -5.993132995256607e-18]\n"
     ]
    }
   ],
   "source": [
    "print(list(talus_r_center_in_tibia))\n",
    "print(list(old_ankle_r_tibia_r_offset))"
   ]
  },
  {
   "cell_type": "code",
   "execution_count": 155,
   "metadata": {},
   "outputs": [],
   "source": [
    "# new_skin_mrkrs_foot_r = mrkrs_foot_r - (old_ankle_r_tibia_r_offset - talus_r_center_in_tibia)\n",
    "# new_skin_mrkrs_foot_l = mrkrs_foot_l - (old_ankle_l_tibia_l_offset - talus_l_center_in_tibia)"
   ]
  },
  {
   "cell_type": "code",
   "execution_count": 156,
   "metadata": {},
   "outputs": [],
   "source": [
    "new_skin_mrkrs_torso = mrkrs_torso - (old_torso_origin_in_pelvis - torso_origin_in_pelvis)"
   ]
  },
  {
   "cell_type": "code",
   "execution_count": 157,
   "metadata": {},
   "outputs": [],
   "source": [
    "new_skin_mrkrs_pelvis = mrkrs_pelvis - (old_torso_origin_in_pelvis - torso_origin_in_pelvis)"
   ]
  },
  {
   "cell_type": "code",
   "execution_count": 158,
   "metadata": {},
   "outputs": [
    {
     "data": {
      "text/plain": [
       "0.015990214728619816"
      ]
     },
     "execution_count": 158,
     "metadata": {},
     "output_type": "execute_result"
    }
   ],
   "source": [
    "np.linalg.norm(old_torso_origin_in_pelvis - torso_origin_in_pelvis)"
   ]
  },
  {
   "cell_type": "code",
   "execution_count": 159,
   "metadata": {},
   "outputs": [
    {
     "data": {
      "application/vnd.plotly.v1+json": {
       "config": {
        "plotlyServerURL": "https://plot.ly"
       },
       "data": [
        {
         "hovertemplate": "<extra></extra>",
         "legendgroup": "",
         "marker": {
          "color": "#636efa",
          "symbol": "circle"
         },
         "mode": "markers",
         "name": "",
         "orientation": "v",
         "showlegend": false,
         "type": "scatter",
         "xaxis": "x",
         "yaxis": "y"
        },
        {
         "mode": "markers",
         "name": "pelvis_df",
         "type": "scatter3d",
         "x": [
          1.91379638e-9,
          -1.91379637e-9,
          -0.12953896,
          -0.12796796,
          -0.03031937,
          -0.06335398,
          -0.06541147,
          -0.09610691,
          -0.09606921,
          -0.10003298,
          -0.09709289,
          -0.059252,
          -0.05633396,
          -0.04935395,
          -0.04581382,
          -0.0762313
         ],
         "y": [
          1.9137964e-9,
          -1.9137964e-9,
          0.01857114,
          0.01822429,
          -0.10349564,
          0.05435231,
          0.05583238,
          -0.07123064,
          -0.06860052,
          -0.10608861,
          -0.10001367,
          -0.12656941,
          -0.12594821,
          -0.07197149,
          -0.06914785,
          0.07016325
         ],
         "z": [
          -0.108574441,
          0.108574441,
          -0.0453012,
          0.04270595,
          0.00052657,
          0.10381587,
          -0.10833634,
          0.05198209,
          -0.051277,
          0.0595589,
          -0.06627721,
          0.03744029,
          -0.0410445,
          0.08605985,
          -0.08618644,
          -0.00247692
         ]
        },
        {
         "mode": "markers",
         "name": "osim skin mrkrs",
         "type": "scatter3d",
         "x": [
          0.011610703253755988,
          -0.15448897650662588,
          -0.15205380156144885,
          0.0160640075947147,
          -0.13414959882463015,
          -0.16559297146369953,
          -0.1641665871444882,
          -0.09202104762299676,
          -0.051425784270424685,
          -0.051425784270424685
         ],
         "y": [
          -0.004317718044357988,
          0.0547238349208492,
          0.06442658001264179,
          0.0022338245088522335,
          0.09514634082809992,
          0.03938843270474579,
          0.045201573781582405,
          0.0696777560422226,
          -0.06710438124851603,
          -0.06710438124851603
         ],
         "z": [
          0.1166237169469787,
          0.045671036711265045,
          -0.037304016775078885,
          -0.10798069785651121,
          0.008382222645168191,
          0.025961065750499834,
          -0.024316309858057106,
          0,
          -0.07060125262515124,
          0.07060125262515124
         ]
        },
        {
         "mode": "markers",
         "name": "new_skin_mrkrs_pelvis",
         "type": "scatter3d",
         "x": [
          0.027400450876752747,
          -0.13869922888362912,
          -0.1362640539384521,
          0.03185375521771146,
          -0.11835985120163339,
          -0.14980322384070277,
          -0.14837683952149144,
          -0.0762313,
          -0.03563603664742793,
          -0.03563603664742793
         ],
         "y": [
          -0.003832224086580585,
          0.055209328878626604,
          0.06491207397041919,
          0.002719318466629636,
          0.09563183478587732,
          0.03987392666252319,
          0.04568706773935981,
          0.07016325,
          -0.06661888729073863,
          -0.06661888729073863
         ],
         "z": [
          0.11414679694697871,
          0.043194116711265045,
          -0.039780936775078886,
          -0.1104576178565112,
          0.005905302645168191,
          0.023484145750499834,
          -0.026793229858057106,
          -0.00247692,
          -0.07307817262515123,
          0.06812433262515125
         ]
        }
       ],
       "layout": {
        "height": 600,
        "legend": {
         "tracegroupgap": 0
        },
        "margin": {
         "t": 60
        },
        "scene": {
         "aspectmode": "data",
         "camera": {
          "center": {
           "x": 0,
           "y": 0,
           "z": 0
          },
          "eye": {
           "x": 2,
           "y": 2,
           "z": 2
          },
          "up": {
           "x": 0,
           "y": 0,
           "z": 1
          }
         }
        },
        "template": {
         "data": {
          "bar": [
           {
            "error_x": {
             "color": "#2a3f5f"
            },
            "error_y": {
             "color": "#2a3f5f"
            },
            "marker": {
             "line": {
              "color": "#E5ECF6",
              "width": 0.5
             },
             "pattern": {
              "fillmode": "overlay",
              "size": 10,
              "solidity": 0.2
             }
            },
            "type": "bar"
           }
          ],
          "barpolar": [
           {
            "marker": {
             "line": {
              "color": "#E5ECF6",
              "width": 0.5
             },
             "pattern": {
              "fillmode": "overlay",
              "size": 10,
              "solidity": 0.2
             }
            },
            "type": "barpolar"
           }
          ],
          "carpet": [
           {
            "aaxis": {
             "endlinecolor": "#2a3f5f",
             "gridcolor": "white",
             "linecolor": "white",
             "minorgridcolor": "white",
             "startlinecolor": "#2a3f5f"
            },
            "baxis": {
             "endlinecolor": "#2a3f5f",
             "gridcolor": "white",
             "linecolor": "white",
             "minorgridcolor": "white",
             "startlinecolor": "#2a3f5f"
            },
            "type": "carpet"
           }
          ],
          "choropleth": [
           {
            "colorbar": {
             "outlinewidth": 0,
             "ticks": ""
            },
            "type": "choropleth"
           }
          ],
          "contour": [
           {
            "colorbar": {
             "outlinewidth": 0,
             "ticks": ""
            },
            "colorscale": [
             [
              0,
              "#0d0887"
             ],
             [
              0.1111111111111111,
              "#46039f"
             ],
             [
              0.2222222222222222,
              "#7201a8"
             ],
             [
              0.3333333333333333,
              "#9c179e"
             ],
             [
              0.4444444444444444,
              "#bd3786"
             ],
             [
              0.5555555555555556,
              "#d8576b"
             ],
             [
              0.6666666666666666,
              "#ed7953"
             ],
             [
              0.7777777777777778,
              "#fb9f3a"
             ],
             [
              0.8888888888888888,
              "#fdca26"
             ],
             [
              1,
              "#f0f921"
             ]
            ],
            "type": "contour"
           }
          ],
          "contourcarpet": [
           {
            "colorbar": {
             "outlinewidth": 0,
             "ticks": ""
            },
            "type": "contourcarpet"
           }
          ],
          "heatmap": [
           {
            "colorbar": {
             "outlinewidth": 0,
             "ticks": ""
            },
            "colorscale": [
             [
              0,
              "#0d0887"
             ],
             [
              0.1111111111111111,
              "#46039f"
             ],
             [
              0.2222222222222222,
              "#7201a8"
             ],
             [
              0.3333333333333333,
              "#9c179e"
             ],
             [
              0.4444444444444444,
              "#bd3786"
             ],
             [
              0.5555555555555556,
              "#d8576b"
             ],
             [
              0.6666666666666666,
              "#ed7953"
             ],
             [
              0.7777777777777778,
              "#fb9f3a"
             ],
             [
              0.8888888888888888,
              "#fdca26"
             ],
             [
              1,
              "#f0f921"
             ]
            ],
            "type": "heatmap"
           }
          ],
          "heatmapgl": [
           {
            "colorbar": {
             "outlinewidth": 0,
             "ticks": ""
            },
            "colorscale": [
             [
              0,
              "#0d0887"
             ],
             [
              0.1111111111111111,
              "#46039f"
             ],
             [
              0.2222222222222222,
              "#7201a8"
             ],
             [
              0.3333333333333333,
              "#9c179e"
             ],
             [
              0.4444444444444444,
              "#bd3786"
             ],
             [
              0.5555555555555556,
              "#d8576b"
             ],
             [
              0.6666666666666666,
              "#ed7953"
             ],
             [
              0.7777777777777778,
              "#fb9f3a"
             ],
             [
              0.8888888888888888,
              "#fdca26"
             ],
             [
              1,
              "#f0f921"
             ]
            ],
            "type": "heatmapgl"
           }
          ],
          "histogram": [
           {
            "marker": {
             "pattern": {
              "fillmode": "overlay",
              "size": 10,
              "solidity": 0.2
             }
            },
            "type": "histogram"
           }
          ],
          "histogram2d": [
           {
            "colorbar": {
             "outlinewidth": 0,
             "ticks": ""
            },
            "colorscale": [
             [
              0,
              "#0d0887"
             ],
             [
              0.1111111111111111,
              "#46039f"
             ],
             [
              0.2222222222222222,
              "#7201a8"
             ],
             [
              0.3333333333333333,
              "#9c179e"
             ],
             [
              0.4444444444444444,
              "#bd3786"
             ],
             [
              0.5555555555555556,
              "#d8576b"
             ],
             [
              0.6666666666666666,
              "#ed7953"
             ],
             [
              0.7777777777777778,
              "#fb9f3a"
             ],
             [
              0.8888888888888888,
              "#fdca26"
             ],
             [
              1,
              "#f0f921"
             ]
            ],
            "type": "histogram2d"
           }
          ],
          "histogram2dcontour": [
           {
            "colorbar": {
             "outlinewidth": 0,
             "ticks": ""
            },
            "colorscale": [
             [
              0,
              "#0d0887"
             ],
             [
              0.1111111111111111,
              "#46039f"
             ],
             [
              0.2222222222222222,
              "#7201a8"
             ],
             [
              0.3333333333333333,
              "#9c179e"
             ],
             [
              0.4444444444444444,
              "#bd3786"
             ],
             [
              0.5555555555555556,
              "#d8576b"
             ],
             [
              0.6666666666666666,
              "#ed7953"
             ],
             [
              0.7777777777777778,
              "#fb9f3a"
             ],
             [
              0.8888888888888888,
              "#fdca26"
             ],
             [
              1,
              "#f0f921"
             ]
            ],
            "type": "histogram2dcontour"
           }
          ],
          "mesh3d": [
           {
            "colorbar": {
             "outlinewidth": 0,
             "ticks": ""
            },
            "type": "mesh3d"
           }
          ],
          "parcoords": [
           {
            "line": {
             "colorbar": {
              "outlinewidth": 0,
              "ticks": ""
             }
            },
            "type": "parcoords"
           }
          ],
          "pie": [
           {
            "automargin": true,
            "type": "pie"
           }
          ],
          "scatter": [
           {
            "fillpattern": {
             "fillmode": "overlay",
             "size": 10,
             "solidity": 0.2
            },
            "type": "scatter"
           }
          ],
          "scatter3d": [
           {
            "line": {
             "colorbar": {
              "outlinewidth": 0,
              "ticks": ""
             }
            },
            "marker": {
             "colorbar": {
              "outlinewidth": 0,
              "ticks": ""
             }
            },
            "type": "scatter3d"
           }
          ],
          "scattercarpet": [
           {
            "marker": {
             "colorbar": {
              "outlinewidth": 0,
              "ticks": ""
             }
            },
            "type": "scattercarpet"
           }
          ],
          "scattergeo": [
           {
            "marker": {
             "colorbar": {
              "outlinewidth": 0,
              "ticks": ""
             }
            },
            "type": "scattergeo"
           }
          ],
          "scattergl": [
           {
            "marker": {
             "colorbar": {
              "outlinewidth": 0,
              "ticks": ""
             }
            },
            "type": "scattergl"
           }
          ],
          "scattermapbox": [
           {
            "marker": {
             "colorbar": {
              "outlinewidth": 0,
              "ticks": ""
             }
            },
            "type": "scattermapbox"
           }
          ],
          "scatterpolar": [
           {
            "marker": {
             "colorbar": {
              "outlinewidth": 0,
              "ticks": ""
             }
            },
            "type": "scatterpolar"
           }
          ],
          "scatterpolargl": [
           {
            "marker": {
             "colorbar": {
              "outlinewidth": 0,
              "ticks": ""
             }
            },
            "type": "scatterpolargl"
           }
          ],
          "scatterternary": [
           {
            "marker": {
             "colorbar": {
              "outlinewidth": 0,
              "ticks": ""
             }
            },
            "type": "scatterternary"
           }
          ],
          "surface": [
           {
            "colorbar": {
             "outlinewidth": 0,
             "ticks": ""
            },
            "colorscale": [
             [
              0,
              "#0d0887"
             ],
             [
              0.1111111111111111,
              "#46039f"
             ],
             [
              0.2222222222222222,
              "#7201a8"
             ],
             [
              0.3333333333333333,
              "#9c179e"
             ],
             [
              0.4444444444444444,
              "#bd3786"
             ],
             [
              0.5555555555555556,
              "#d8576b"
             ],
             [
              0.6666666666666666,
              "#ed7953"
             ],
             [
              0.7777777777777778,
              "#fb9f3a"
             ],
             [
              0.8888888888888888,
              "#fdca26"
             ],
             [
              1,
              "#f0f921"
             ]
            ],
            "type": "surface"
           }
          ],
          "table": [
           {
            "cells": {
             "fill": {
              "color": "#EBF0F8"
             },
             "line": {
              "color": "white"
             }
            },
            "header": {
             "fill": {
              "color": "#C8D4E3"
             },
             "line": {
              "color": "white"
             }
            },
            "type": "table"
           }
          ]
         },
         "layout": {
          "annotationdefaults": {
           "arrowcolor": "#2a3f5f",
           "arrowhead": 0,
           "arrowwidth": 1
          },
          "autotypenumbers": "strict",
          "coloraxis": {
           "colorbar": {
            "outlinewidth": 0,
            "ticks": ""
           }
          },
          "colorscale": {
           "diverging": [
            [
             0,
             "#8e0152"
            ],
            [
             0.1,
             "#c51b7d"
            ],
            [
             0.2,
             "#de77ae"
            ],
            [
             0.3,
             "#f1b6da"
            ],
            [
             0.4,
             "#fde0ef"
            ],
            [
             0.5,
             "#f7f7f7"
            ],
            [
             0.6,
             "#e6f5d0"
            ],
            [
             0.7,
             "#b8e186"
            ],
            [
             0.8,
             "#7fbc41"
            ],
            [
             0.9,
             "#4d9221"
            ],
            [
             1,
             "#276419"
            ]
           ],
           "sequential": [
            [
             0,
             "#0d0887"
            ],
            [
             0.1111111111111111,
             "#46039f"
            ],
            [
             0.2222222222222222,
             "#7201a8"
            ],
            [
             0.3333333333333333,
             "#9c179e"
            ],
            [
             0.4444444444444444,
             "#bd3786"
            ],
            [
             0.5555555555555556,
             "#d8576b"
            ],
            [
             0.6666666666666666,
             "#ed7953"
            ],
            [
             0.7777777777777778,
             "#fb9f3a"
            ],
            [
             0.8888888888888888,
             "#fdca26"
            ],
            [
             1,
             "#f0f921"
            ]
           ],
           "sequentialminus": [
            [
             0,
             "#0d0887"
            ],
            [
             0.1111111111111111,
             "#46039f"
            ],
            [
             0.2222222222222222,
             "#7201a8"
            ],
            [
             0.3333333333333333,
             "#9c179e"
            ],
            [
             0.4444444444444444,
             "#bd3786"
            ],
            [
             0.5555555555555556,
             "#d8576b"
            ],
            [
             0.6666666666666666,
             "#ed7953"
            ],
            [
             0.7777777777777778,
             "#fb9f3a"
            ],
            [
             0.8888888888888888,
             "#fdca26"
            ],
            [
             1,
             "#f0f921"
            ]
           ]
          },
          "colorway": [
           "#636efa",
           "#EF553B",
           "#00cc96",
           "#ab63fa",
           "#FFA15A",
           "#19d3f3",
           "#FF6692",
           "#B6E880",
           "#FF97FF",
           "#FECB52"
          ],
          "font": {
           "color": "#2a3f5f"
          },
          "geo": {
           "bgcolor": "white",
           "lakecolor": "white",
           "landcolor": "#E5ECF6",
           "showlakes": true,
           "showland": true,
           "subunitcolor": "white"
          },
          "hoverlabel": {
           "align": "left"
          },
          "hovermode": "closest",
          "mapbox": {
           "style": "light"
          },
          "paper_bgcolor": "white",
          "plot_bgcolor": "#E5ECF6",
          "polar": {
           "angularaxis": {
            "gridcolor": "white",
            "linecolor": "white",
            "ticks": ""
           },
           "bgcolor": "#E5ECF6",
           "radialaxis": {
            "gridcolor": "white",
            "linecolor": "white",
            "ticks": ""
           }
          },
          "scene": {
           "xaxis": {
            "backgroundcolor": "#E5ECF6",
            "gridcolor": "white",
            "gridwidth": 2,
            "linecolor": "white",
            "showbackground": true,
            "ticks": "",
            "zerolinecolor": "white"
           },
           "yaxis": {
            "backgroundcolor": "#E5ECF6",
            "gridcolor": "white",
            "gridwidth": 2,
            "linecolor": "white",
            "showbackground": true,
            "ticks": "",
            "zerolinecolor": "white"
           },
           "zaxis": {
            "backgroundcolor": "#E5ECF6",
            "gridcolor": "white",
            "gridwidth": 2,
            "linecolor": "white",
            "showbackground": true,
            "ticks": "",
            "zerolinecolor": "white"
           }
          },
          "shapedefaults": {
           "line": {
            "color": "#2a3f5f"
           }
          },
          "ternary": {
           "aaxis": {
            "gridcolor": "white",
            "linecolor": "white",
            "ticks": ""
           },
           "baxis": {
            "gridcolor": "white",
            "linecolor": "white",
            "ticks": ""
           },
           "bgcolor": "#E5ECF6",
           "caxis": {
            "gridcolor": "white",
            "linecolor": "white",
            "ticks": ""
           }
          },
          "title": {
           "x": 0.05
          },
          "xaxis": {
           "automargin": true,
           "gridcolor": "white",
           "linecolor": "white",
           "ticks": "",
           "title": {
            "standoff": 15
           },
           "zerolinecolor": "white",
           "zerolinewidth": 2
          },
          "yaxis": {
           "automargin": true,
           "gridcolor": "white",
           "linecolor": "white",
           "ticks": "",
           "title": {
            "standoff": 15
           },
           "zerolinecolor": "white",
           "zerolinewidth": 2
          }
         }
        },
        "width": 800,
        "xaxis": {
         "anchor": "y",
         "domain": [
          0,
          1
         ]
        },
        "yaxis": {
         "anchor": "x",
         "domain": [
          0,
          1
         ]
        }
       }
      }
     },
     "metadata": {},
     "output_type": "display_data"
    }
   ],
   "source": [
    "import plotly.express as px\n",
    "import plotly.graph_objects as go\n",
    "fig = px.scatter(width = 800, height = 600)\n",
    "fig.add_trace(go.Scatter3d(x = pelvis_df['x'], y = pelvis_df['y'], z=pelvis_df['z'], mode = 'markers', name = 'pelvis_df'))\n",
    "fig.add_trace(go.Scatter3d(x = mrkrs_pelvis['x'],  \n",
    "                           y = mrkrs_pelvis['y'], \n",
    "                           z = mrkrs_pelvis['z'], mode = 'markers', name = 'osim skin mrkrs'))\n",
    "fig.add_trace(go.Scatter3d(x = new_skin_mrkrs_pelvis['x'], y = new_skin_mrkrs_pelvis['y'], z=new_skin_mrkrs_pelvis['z'], mode = 'markers', name = 'new_skin_mrkrs_pelvis'))\n",
    "fig.update_scenes(aspectmode=\"data\" )\n",
    "camera = dict(\n",
    "    up=dict(x=0, y=0, z=1),\n",
    "    center=dict(x=0, y=0, z=0),\n",
    "    eye=dict(x=2, y=2, z=2)\n",
    ")\n",
    "fig.update_layout(scene_camera=camera)\n",
    "fig.show()"
   ]
  },
  {
   "cell_type": "markdown",
   "metadata": {},
   "source": [
    "## Parse TPS updated model"
   ]
  },
  {
   "cell_type": "code",
   "execution_count": 160,
   "metadata": {},
   "outputs": [],
   "source": [
    "tree=ET.parse(\"p03_tps_transformed.osim\")\n",
    "root = tree.getroot()"
   ]
  },
  {
   "cell_type": "code",
   "execution_count": 161,
   "metadata": {},
   "outputs": [],
   "source": [
    "new_skin_mrkrs_df = pd.concat([new_skin_mrkrs_femur_r, new_skin_mrkrs_femur_l, new_skin_mrkrs_tibia_r, new_skin_mrkrs_tibia_l]) #new_skin_mrkrs_torso,  new_skin_mrkrs_pelvis, new_skin_mrkrs_foot_r, new_skin_mrkrs_foot_l"
   ]
  },
  {
   "cell_type": "code",
   "execution_count": 162,
   "metadata": {},
   "outputs": [],
   "source": [
    "joint_centers_in_parent = ['torso_origin_in_pelvis','femur_l_center_in_pelvis', 'femur_r_center_in_pelvis',  'knee_l_center_in_femur_l', 'patella_l_in_femur_l', 'knee_r_center_in_femur_r', 'patella_r_in_femur_r', 'ankle_l_tibia_l_offset', 'ankle_r_tibia_r_offset'] "
   ]
  },
  {
   "cell_type": "code",
   "execution_count": 163,
   "metadata": {},
   "outputs": [],
   "source": [
    "markers_to_update = list(set(new_skin_mrkrs_df.index) - set(joint_centers_in_parent))"
   ]
  },
  {
   "cell_type": "code",
   "execution_count": 164,
   "metadata": {},
   "outputs": [
    {
     "data": {
      "text/html": [
       "<div>\n",
       "<style scoped>\n",
       "    .dataframe tbody tr th:only-of-type {\n",
       "        vertical-align: middle;\n",
       "    }\n",
       "\n",
       "    .dataframe tbody tr th {\n",
       "        vertical-align: top;\n",
       "    }\n",
       "\n",
       "    .dataframe thead th {\n",
       "        text-align: right;\n",
       "    }\n",
       "</style>\n",
       "<table border=\"1\" class=\"dataframe\">\n",
       "  <thead>\n",
       "    <tr style=\"text-align: right;\">\n",
       "      <th></th>\n",
       "      <th>x</th>\n",
       "      <th>y</th>\n",
       "      <th>z</th>\n",
       "    </tr>\n",
       "  </thead>\n",
       "  <tbody>\n",
       "    <tr>\n",
       "      <th>RTH2</th>\n",
       "      <td>0.001679</td>\n",
       "      <td>-0.294867</td>\n",
       "      <td>0.08664</td>\n",
       "    </tr>\n",
       "    <tr>\n",
       "      <th>LTB2</th>\n",
       "      <td>-0.017987</td>\n",
       "      <td>-0.216999</td>\n",
       "      <td>-0.067106</td>\n",
       "    </tr>\n",
       "    <tr>\n",
       "      <th>RKNE</th>\n",
       "      <td>0.001534</td>\n",
       "      <td>-0.371979</td>\n",
       "      <td>0.071296</td>\n",
       "    </tr>\n",
       "    <tr>\n",
       "      <th>RMKNE</th>\n",
       "      <td>-0.010214</td>\n",
       "      <td>-0.375041</td>\n",
       "      <td>-0.041799</td>\n",
       "    </tr>\n",
       "    <tr>\n",
       "      <th>RANK</th>\n",
       "      <td>-0.016438</td>\n",
       "      <td>-0.375831</td>\n",
       "      <td>0.041953</td>\n",
       "    </tr>\n",
       "    <tr>\n",
       "      <th>LTB3</th>\n",
       "      <td>0.002007</td>\n",
       "      <td>-0.170793</td>\n",
       "      <td>-0.065186</td>\n",
       "    </tr>\n",
       "    <tr>\n",
       "      <th>RTB2</th>\n",
       "      <td>-0.033774</td>\n",
       "      <td>-0.197574</td>\n",
       "      <td>0.076463</td>\n",
       "    </tr>\n",
       "    <tr>\n",
       "      <th>LANK</th>\n",
       "      <td>-0.008915</td>\n",
       "      <td>-0.365213</td>\n",
       "      <td>-0.037512</td>\n",
       "    </tr>\n",
       "    <tr>\n",
       "      <th>LMMA</th>\n",
       "      <td>-0.01152</td>\n",
       "      <td>-0.350122</td>\n",
       "      <td>0.041297</td>\n",
       "    </tr>\n",
       "    <tr>\n",
       "      <th>LKNE</th>\n",
       "      <td>-0.012206</td>\n",
       "      <td>-0.372101</td>\n",
       "      <td>-0.082428</td>\n",
       "    </tr>\n",
       "    <tr>\n",
       "      <th>LGT</th>\n",
       "      <td>0.000093</td>\n",
       "      <td>0.011084</td>\n",
       "      <td>-0.135717</td>\n",
       "    </tr>\n",
       "    <tr>\n",
       "      <th>LMKNE</th>\n",
       "      <td>-0.002144</td>\n",
       "      <td>-0.360687</td>\n",
       "      <td>0.034898</td>\n",
       "    </tr>\n",
       "    <tr>\n",
       "      <th>RMMA</th>\n",
       "      <td>-0.003291</td>\n",
       "      <td>-0.363442</td>\n",
       "      <td>-0.037506</td>\n",
       "    </tr>\n",
       "    <tr>\n",
       "      <th>LTH2</th>\n",
       "      <td>-0.016713</td>\n",
       "      <td>-0.283769</td>\n",
       "      <td>-0.097627</td>\n",
       "    </tr>\n",
       "    <tr>\n",
       "      <th>RTH3</th>\n",
       "      <td>0.028308</td>\n",
       "      <td>-0.239378</td>\n",
       "      <td>0.092735</td>\n",
       "    </tr>\n",
       "    <tr>\n",
       "      <th>RTB1</th>\n",
       "      <td>0.00447</td>\n",
       "      <td>-0.148961</td>\n",
       "      <td>0.069752</td>\n",
       "    </tr>\n",
       "    <tr>\n",
       "      <th>LTH1</th>\n",
       "      <td>-0.009768</td>\n",
       "      <td>-0.207251</td>\n",
       "      <td>-0.119103</td>\n",
       "    </tr>\n",
       "    <tr>\n",
       "      <th>LTB1</th>\n",
       "      <td>-0.051254</td>\n",
       "      <td>-0.147721</td>\n",
       "      <td>-0.085627</td>\n",
       "    </tr>\n",
       "    <tr>\n",
       "      <th>RTH1</th>\n",
       "      <td>-0.013957</td>\n",
       "      <td>-0.220947</td>\n",
       "      <td>0.111854</td>\n",
       "    </tr>\n",
       "    <tr>\n",
       "      <th>RGT</th>\n",
       "      <td>0.003777</td>\n",
       "      <td>0.017518</td>\n",
       "      <td>0.127392</td>\n",
       "    </tr>\n",
       "    <tr>\n",
       "      <th>LTH3</th>\n",
       "      <td>0.024195</td>\n",
       "      <td>-0.255341</td>\n",
       "      <td>-0.098811</td>\n",
       "    </tr>\n",
       "    <tr>\n",
       "      <th>RTB3</th>\n",
       "      <td>0.003036</td>\n",
       "      <td>-0.227747</td>\n",
       "      <td>0.06096</td>\n",
       "    </tr>\n",
       "  </tbody>\n",
       "</table>\n",
       "</div>"
      ],
      "text/plain": [
       "              x         y         z\n",
       "RTH2   0.001679 -0.294867   0.08664\n",
       "LTB2  -0.017987 -0.216999 -0.067106\n",
       "RKNE   0.001534 -0.371979  0.071296\n",
       "RMKNE -0.010214 -0.375041 -0.041799\n",
       "RANK  -0.016438 -0.375831  0.041953\n",
       "LTB3   0.002007 -0.170793 -0.065186\n",
       "RTB2  -0.033774 -0.197574  0.076463\n",
       "LANK  -0.008915 -0.365213 -0.037512\n",
       "LMMA   -0.01152 -0.350122  0.041297\n",
       "LKNE  -0.012206 -0.372101 -0.082428\n",
       "LGT    0.000093  0.011084 -0.135717\n",
       "LMKNE -0.002144 -0.360687  0.034898\n",
       "RMMA  -0.003291 -0.363442 -0.037506\n",
       "LTH2  -0.016713 -0.283769 -0.097627\n",
       "RTH3   0.028308 -0.239378  0.092735\n",
       "RTB1    0.00447 -0.148961  0.069752\n",
       "LTH1  -0.009768 -0.207251 -0.119103\n",
       "LTB1  -0.051254 -0.147721 -0.085627\n",
       "RTH1  -0.013957 -0.220947  0.111854\n",
       "RGT    0.003777  0.017518  0.127392\n",
       "LTH3   0.024195 -0.255341 -0.098811\n",
       "RTB3   0.003036 -0.227747   0.06096"
      ]
     },
     "execution_count": 164,
     "metadata": {},
     "output_type": "execute_result"
    }
   ],
   "source": [
    "new_skin_mrkrs_df.loc[markers_to_update]"
   ]
  },
  {
   "cell_type": "code",
   "execution_count": 165,
   "metadata": {},
   "outputs": [],
   "source": [
    "for marker in root.iter('Marker'):\n",
    "    name = marker.attrib['name']\n",
    "    # print(name)\n",
    "    if name in markers_to_update:\n",
    "        old_text = marker.find('location').text\n",
    "        new_text = f\"{new_skin_mrkrs_df.loc[name, 'x']} {new_skin_mrkrs_df.loc[name, 'y']} {new_skin_mrkrs_df.loc[name, 'z']}\"\n",
    "        marker.find('location').text = new_text"
   ]
  },
  {
   "cell_type": "code",
   "execution_count": 166,
   "metadata": {},
   "outputs": [],
   "source": [
    "tree.write('p03_tps_transformed_skin_updated.osim')"
   ]
  },
  {
   "cell_type": "markdown",
   "metadata": {},
   "source": [
    "______________________________________________"
   ]
  },
  {
   "cell_type": "markdown",
   "metadata": {},
   "source": [
    "### Import  skin markers static TRC"
   ]
  },
  {
   "cell_type": "markdown",
   "metadata": {},
   "source": [
    "# import .trc file with experimental static marker positions\n",
    "path_to_static = 'Session2/Static03/task.trc'\n",
    "static_df = pd.read_csv(path_to_static, delimiter='\\t', skiprows=3, header=[0,1], index_col=0)\n",
    "static_df=static_df.drop('Time', axis = 1)\n",
    "\n",
    "# adjust marker names\n",
    "old_lst = list(static_df.columns)\n",
    "new_lst = []\n",
    "for i, value in enumerate(old_lst):\n",
    "    if old_lst[i][0][:2] != 'Un':\n",
    "        remember = value[0]\n",
    "        new_lst.append(value)\n",
    "    else:\n",
    "        new_lst.append((remember, old_lst[i][1]))\n",
    "static_df.columns = new_lst\n",
    "\n",
    "# calculate a series of mean values for each makrer's coordinate\n",
    "static_means = static_df.mean()[:-1]/1000"
   ]
  },
  {
   "cell_type": "markdown",
   "metadata": {},
   "source": [
    "# create a dataframe from markers\n",
    "key = \"\"\n",
    "mean_dict = {}\n",
    "for i, entry in enumerate(static_means.index):\n",
    "    if entry[0] != key:\n",
    "        key = entry[0]\n",
    "        mean_dict[key] = [static_means[i]]\n",
    "    else:\n",
    "        mean_dict[key].append(static_means[i])\n",
    "mean_skin_markers_df = (pd.DataFrame.from_dict(mean_dict)).T\n",
    "mean_skin_markers_df = mean_skin_markers_df.rename(columns={0:'x', 1:'y', 2:'z'})\n"
   ]
  }
 ],
 "metadata": {
  "kernelspec": {
   "display_name": "py38",
   "language": "python",
   "name": "python3"
  },
  "language_info": {
   "codemirror_mode": {
    "name": "ipython",
    "version": 3
   },
   "file_extension": ".py",
   "mimetype": "text/x-python",
   "name": "python",
   "nbconvert_exporter": "python",
   "pygments_lexer": "ipython3",
   "version": "3.8.18"
  }
 },
 "nbformat": 4,
 "nbformat_minor": 2
}
