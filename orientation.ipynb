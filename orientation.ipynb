{
 "cells": [
  {
   "cell_type": "markdown",
   "id": "3f8c3339",
   "metadata": {},
   "source": [
    "<div class=\"alert alert-block alert-info\">\n",
    "<b>In3dSlicer GUI</b>:\n",
    "Load MRI last folder\n",
    "Load markers templateSave project and files in a new folder inside the individual, make sure to change the default folder for all files.\n",
    "In markup module, create two point lists: femur_head_right and femur_head_left.\n",
    "\n",
    "For each, left and right accordingly, collect lms on femur heads circular outline, red and green slices: move slices to the level of the largest femur head radius (approximately near fovea).\n",
    "\n",
    "Create a new empty markups ladmark list 'lms'.\n",
    "\n",
    "Once finished, follow instructions below: either or execute code or interact with <b>GUI</b>.\n",
    "</div>"
   ]
  },
  {
   "cell_type": "code",
   "execution_count": null,
   "id": "2985d819",
   "metadata": {},
   "outputs": [],
   "source": [
    "import numpy as np\n",
    "import slicer\n",
    "import math\n",
    "import vtk"
   ]
  },
  {
   "cell_type": "code",
   "execution_count": null,
   "id": "ff16560d",
   "metadata": {},
   "outputs": [],
   "source": [
    "# helper functions:\n",
    "\n",
    "def sphereFit(data):\n",
    "\n",
    "    #   Assemble the A matrix\n",
    "    spX = np.array(data[:,0])\n",
    "    spY = np.array(data[:,1])\n",
    "    spZ = np.array(data[:,2])\n",
    "    A = np.zeros((len(spX),4))\n",
    "    A[:,0] = spX*2\n",
    "    A[:,1] = spY*2\n",
    "    A[:,2] = spZ*2\n",
    "    A[:,3] = 1\n",
    "\n",
    "    #   Assemble the f matrix\n",
    "    f = np.zeros((len(spX),1))\n",
    "    f[:,0] = (spX*spX) + (spY*spY) + (spZ*spZ)\n",
    "    C, residules, rank, singval = np.linalg.lstsq(A,f, rcond = None)\n",
    "\n",
    "    #   solve for the radius\n",
    "    t = np.dot(C[0],C[0])+np.dot(C[1],C[1])+np.dot(C[2],C[2])+C[3]\n",
    " \n",
    "    radius = math.sqrt(t[0])\n",
    "    center = np.array([C[0], C[1], C[2]])\n",
    "\n",
    "    return radius, center\n",
    "\n",
    "def setSlicePoseFromSliceNormalAndPosition(sliceNode, sliceNormal, slicePosition, defaultViewUpDirection=None, backupViewRightDirection=None):\n",
    "    \n",
    "    ## Fix up input directions\n",
    "    if defaultViewUpDirection is None:\n",
    "        defaultViewUpDirection = [0,0,1]\n",
    "    if backupViewRightDirection is None:\n",
    "        backupViewRightDirection = [-1,0,0]\n",
    "    if sliceNormal[1]>=0:\n",
    "        sliceNormalStandardized = sliceNormal\n",
    "    else:\n",
    "        sliceNormalStandardized = [-sliceNormal[0], -sliceNormal[1], -sliceNormal[2]]\n",
    "\n",
    "        ## Compute slice axes\n",
    "    sliceNormalViewUpAngle = vtk.vtkMath.AngleBetweenVectors(sliceNormalStandardized, defaultViewUpDirection)\n",
    "    angleTooSmallThresholdRad = 0.25 # about 15 degrees\n",
    "    if sliceNormalViewUpAngle > angleTooSmallThresholdRad and sliceNormalViewUpAngle < vtk.vtkMath.Pi() - angleTooSmallThresholdRad:\n",
    "        viewUpDirection = defaultViewUpDirection\n",
    "        sliceAxisY = viewUpDirection\n",
    "        sliceAxisX = [0, 0, 0]\n",
    "        vtk.vtkMath.Cross(sliceAxisY, sliceNormalStandardized, sliceAxisX)\n",
    "    else:\n",
    "        sliceAxisX = backupViewRightDirection\n",
    "    \n",
    "    ## Set slice axes\n",
    "    sliceNode.SetSliceToRASByNTP(sliceNormalStandardized[0], sliceNormalStandardized[1], sliceNormalStandardized[2],\n",
    "        sliceAxisX[0], sliceAxisX[1], sliceAxisX[2],\n",
    "        slicePosition[0], slicePosition[1], slicePosition[2], 0)"
   ]
  },
  {
   "cell_type": "code",
   "execution_count": null,
   "id": "c670f6bc",
   "metadata": {},
   "outputs": [],
   "source": [
    "# left femur\n",
    "left_fh = slicer.util.getNode('femur_head_left')\n",
    "left_fh = slicer.util.arrayFromMarkupsControlPoints(left_fh)\n",
    "left_radius, left_center = sphereFit(left_fh)\n",
    "left_center"
   ]
  },
  {
   "cell_type": "code",
   "execution_count": null,
   "id": "207dbfab",
   "metadata": {},
   "outputs": [],
   "source": [
    "# right femur\n",
    "right_fh = slicer.util.getNode('femur_head_right')\n",
    "right_fh = slicer.util.arrayFromMarkupsControlPoints(right_fh)\n",
    "right_radius, right_center = sphereFit(right_fh)\n",
    "right_radius"
   ]
  },
  {
   "cell_type": "code",
   "execution_count": null,
   "id": "e42f9414",
   "metadata": {},
   "outputs": [],
   "source": [
    "# Import lms and add center points to it\n",
    "lms = slicer.util.getNode('lms')\n",
    "left_center_point = lms.AddControlPoint(left_center)\n",
    "lms.SetNthControlPointLabel(left_center_point, 'femur_l_center')\n",
    "right_center_point = lms.AddControlPoint(right_center)\n",
    "lms.SetNthControlPointLabel(right_center_point, 'femur_r_center')"
   ]
  },
  {
   "cell_type": "markdown",
   "id": "67302caf",
   "metadata": {},
   "source": [
    "<div class=\"alert alert-block alert-info\">\n",
    "    <b>In 3dSlicer GUI</b>, place the following key markers:\n",
    "    \n",
    " 1) _ASIS_l_ and _ASIS_r_ : defined as the anteriormost point of the iliac blades that touches skin on the red slice; on the green slice, the same point should look like as small round shadow and on the yellow slice it is anteroinferior point of the iliac blade.\n",
    "    \n",
    " 2) _PSIS_l and _PSIS_r_ : <b>CAREFUL! these are essential and an error will propagate through the rest of data collection.</b> defined as posterior and iferior points of iliac blades. They should be positioned posterior to sacrum. On the red slice, the sacrum must still be visible, probably it's uppermost vertebra.\n",
    "</div>"
   ]
  },
  {
   "cell_type": "code",
   "execution_count": null,
   "id": "04c5a3f5",
   "metadata": {},
   "outputs": [],
   "source": [
    "# re-load lms node\n",
    "lms = slicer.util.getNode('lms')\n",
    "lms_list = slicer.util.arrayFromMarkupsControlPoints(lms)\n",
    "asis_l = lms_list[lms.GetControlPointIndexByLabel('ASIS_l')]\n",
    "asis_r = lms_list[lms.GetControlPointIndexByLabel('ASIS_r')]\n",
    "pelvis_origin = np.mean((asis_l, asis_r), axis = 0)\n",
    "pelvis_origin_point = lms.AddControlPoint(vtk.vtkVector3d(pelvis_origin))\n",
    "lms.SetNthControlPointLabel(pelvis_origin_point, 'pelvis_origin')\n",
    "psis_l = lms_list[lms.GetControlPointIndexByLabel('PSIS_l')]\n",
    "psis_r = lms_list[lms.GetControlPointIndexByLabel('PSIS_r')]"
   ]
  },
  {
   "cell_type": "code",
   "execution_count": null,
   "id": "aa1c66fd",
   "metadata": {
    "scrolled": true
   },
   "outputs": [],
   "source": [
    "# define new normal for the red slice\n",
    "red_slice_new_normal = np.cross((pelvis_origin - psis_l), (pelvis_origin - psis_r))\n",
    "red_slice_new_normal = red_slice_new_normal/np.linalg.norm(red_slice_new_normal)"
   ]
  },
  {
   "cell_type": "code",
   "execution_count": null,
   "id": "589b017a",
   "metadata": {},
   "outputs": [],
   "source": [
    "red_slice_new_normal"
   ]
  },
  {
   "cell_type": "code",
   "execution_count": null,
   "id": "0f069126",
   "metadata": {},
   "outputs": [],
   "source": [
    "# reorient red slice\n",
    "redSliceNode = slicer.util.getNode(\"vtkMRMLSliceNodeRed\")\n",
    "setSlicePoseFromSliceNormalAndPosition(\n",
    "    redSliceNode, red_slice_new_normal, \n",
    "    np.mean((psis_l, psis_r, pelvis_origin), \n",
    "            axis = 0)) ## red slice now shows PSIS_l, PSIS_r and pelvis_origin points"
   ]
  },
  {
   "cell_type": "code",
   "execution_count": null,
   "id": "cdc87d2c",
   "metadata": {},
   "outputs": [],
   "source": [
    "# reorient green slice\n",
    "greenSliceNode = slicer.util.getNode(\"vtkMRMLSliceNodeGreen\")\n",
    "setSlicePoseFromSliceNormalAndPosition(\n",
    "    greenSliceNode, np.array([0,-1,0]), \n",
    "    np.mean((psis_l, psis_r, pelvis_origin), \n",
    "            axis = 0)) ## green slice now crossects pelvis in the middle"
   ]
  },
  {
   "cell_type": "markdown",
   "id": "a3ea5c54",
   "metadata": {},
   "source": [
    "<div class=\"alert alert-block alert-info\">\n",
    "<b>In 3dSclier GUI, collect a number of key markers:</b>\n",
    "    \n",
    "1)  _ilium_l_ and _ilium_r_ : move the red slice up so that it touches the tops of iliac crests. The green slice position marks the centre between psis and pelvis origin markers. The red slice should show an elongated shadow of the left or/and right iliac crests are visible but do not quite reach the green line, which marks the position of the green slice when observed on the red. The points should be placed at the anterior corner of the right or left iliac crest shadow. Once done, return the red slice to default poisiton (see panel above the slice, change 'reformat' to 'axial'). \n",
    "\n",
    "2) _knee_l_lat_ and _knee_r_lat_ : these shoule be placed on the lateralmost points of lateral femoral epicondyles.\n",
    "\n",
    "3) _ankle_l_lat_ and _ankle_l_lat_ : these should be placed on lateralmost points of fibulas# lateral malleolae.\n",
    "\n",
    "<b> Create a new lm markup, name it any way you like, and do the following:</b>\n",
    "    \n",
    "1) From _orientation_template_, copy points that match those already in lms to the new lm markup; \n",
    "2) Change the list position of the points so that your new markup is identical to lms;\n",
    "3) Use module 'IGT' -> 'fiducial registration' to create new transform from your new markup to lms (warping); \n",
    "4) Move the _orientation_template_ landmarks to the transform dependancy to check points fit the image; \n",
    "5) If the above answer is 'yes', return _orientation_template_ to the independent position, clone it and rename the clone to 'orientation'.\n",
    "6) Move the 'orientation' clone to the transform dependentcy and harden the transform.\n",
    "\n",
    "Superimposed landmarks should fit exactly.\n",
    "</div>"
   ]
  },
  {
   "cell_type": "markdown",
   "id": "858720fe",
   "metadata": {},
   "source": [
    "<div class=\"alert alert-block alert-info\">\n",
    "<b>Adjust location of projected landmarks, starting from the top:</b>\n",
    "\n",
    "_gr_troch_as_l_ and _gr_troch_as_r_** -- greater trochanter anterosuperior -- defined as the anterior point on the smallest red crossection through the greater trochanter, roughly corresponds with the superior point of the greater trochanter anatomically; one needs to be careful to distinguish between the bone, fat and tendons\n",
    "\n",
    "_gr_troch_lat_l_ and _gr_troch_lat_r_** -- greater trochanter lateral -- defined as the lateralmost point on the green slice through greater trochanter, it should lie posteriorly to the gr_troch_as point\n",
    "\n",
    "**__NB position of trochanter points is likely to be influenced by the rotaion of the femur: watch the effects__\n",
    "\n",
    "_isch_tuber_l_ and _isch_tuber_r_ -- ischial tuberosity -- defined as the posteriormost landmark on ischial tuberosity, on the green slice is marked as black endpoint of the bone\n",
    "\n",
    "_pub_infer_c_ -- pubis inferior central -- inferiormost point of the pubic sympysis impriz on the central yellow slice (controlled by the red and green)\n",
    "\n",
    "_isch_infer_l_ and _isch_infer-r_ -- ischial [bone] inferior -- defined as infero-anteriormost point of the imprint of the ischio-pubic arch on the red slice (control on the green and yellow)\n",
    "\n",
    "**__Here, one needs to skip midshaft points as their position depends on the axis of the femur and therefore its inclination relative to slices - they will be adjusted later__\n",
    "\n",
    "_knee_l_med_ and _knee_r_med_ -- knee medial, defined as the medial-most point of femur medial epicondyle on the red slice; this point should be roughly inline with the lateral knee point and the center of the intercondylar fossa\n",
    "\n",
    "_ankle_l_med_ and _ankle_r_med_ -- medial malleolus on left and right tibias; defined as the most medially prominent point on tibial malleolus\n",
    "</div>"
   ]
  },
  {
   "cell_type": "code",
   "execution_count": null,
   "id": "9e3db2f3",
   "metadata": {},
   "outputs": [],
   "source": [
    "# Calculate and update central points for the knee and the ankle\n",
    "## note that knee needs two sets of points updated: the ones that will be in child and the ones that will be in parent frames\n",
    "\n",
    "lms = slicer.util.getNode('orientation')\n",
    "lms_list = slicer.util.arrayFromMarkupsControlPoints(lms)\n",
    "\n",
    "knee_l_lat = lms_list[lms.GetControlPointIndexByLabel('knee_l_lat')]\n",
    "knee_l_med = lms_list[lms.GetControlPointIndexByLabel('knee_l_med')]\n",
    "knee_l_center = lms.GetControlPointIndexByLabel('knee_l_center')\n",
    "knee_l_center_in_femur_l = lms.GetControlPointIndexByLabel('knee_l_center_in_femur_l')\n",
    "temp1 = np.mean((knee_l_lat, knee_l_med), axis = 0)\n",
    "lms.SetNthControlPointPosition(knee_l_center, temp1[0], temp1[1], temp1[2])\n",
    "lms.SetNthControlPointPosition(knee_l_center_in_femur_l, temp1[0], temp1[1], temp1[2])\n",
    "\n",
    "knee_r_lat = lms_list[lms.GetControlPointIndexByLabel('knee_r_lat')]\n",
    "knee_r_med = lms_list[lms.GetControlPointIndexByLabel('knee_r_med')]\n",
    "knee_r_center = lms.GetControlPointIndexByLabel('knee_r_center')\n",
    "knee_r_center_in_femur_r = lms.GetControlPointIndexByLabel('knee_r_center_in_femur_r')\n",
    "temp2 = np.mean((knee_r_lat, knee_r_med), axis = 0)\n",
    "lms.SetNthControlPointPosition(knee_r_center, temp2[0], temp2[1], temp2[2])\n",
    "lms.SetNthControlPointPosition(knee_r_center_in_femur_r, temp2[0], temp2[1], temp2[2])\n",
    "\n",
    "ankle_l_lat = lms_list[lms.GetControlPointIndexByLabel('ankle_l_lat')]\n",
    "ankle_l_med = lms_list[lms.GetControlPointIndexByLabel('ankle_l_med')]\n",
    "ankle_l_center = lms.GetControlPointIndexByLabel('ankle_l_center')\n",
    "temp3 = np.mean((ankle_l_lat, ankle_l_med), axis = 0)\n",
    "lms.SetNthControlPointPosition(ankle_l_center, temp3[0], temp3[1], temp3[2])\n",
    "\n",
    "ankle_r_lat = lms_list[lms.GetControlPointIndexByLabel('ankle_r_lat')]\n",
    "ankle_r_med = lms_list[lms.GetControlPointIndexByLabel('ankle_r_med')]\n",
    "ankle_r_center = lms.GetControlPointIndexByLabel('ankle_r_center')\n",
    "temp4 = np.mean((ankle_r_lat, ankle_r_med), axis = 0)\n",
    "lms.SetNthControlPointPosition(ankle_r_center, temp4[0], temp4[1], temp4[2])"
   ]
  },
  {
   "cell_type": "markdown",
   "id": "f44e8c81",
   "metadata": {},
   "source": [
    "## Locate lat and med points on tibias"
   ]
  },
  {
   "cell_type": "code",
   "execution_count": null,
   "id": "0eacc37a",
   "metadata": {},
   "outputs": [],
   "source": [
    "# First, calculate tibial axes\n",
    "lms = getNode('orientation')\n",
    "lms_list = slicer.util.arrayFromMarkupsControlPoints(lms)\n",
    "\n",
    "knee_l_center = lms_list[lms.GetControlPointIndexByLabel('knee_l_center')]\n",
    "knee_r_center = lms_list[lms.GetControlPointIndexByLabel('knee_r_center')]\n",
    "\n",
    "ankle_l_center = lms_list[lms.GetControlPointIndexByLabel('ankle_l_center')]\n",
    "ankle_r_center = lms_list[lms.GetControlPointIndexByLabel('ankle_r_center')]\n",
    "\n",
    "tibia_l_normal = (knee_l_center-ankle_l_center)/np.linalg.norm(knee_l_center-ankle_l_center)\n",
    "tibia_r_normal = (knee_r_center-ankle_r_center)/np.linalg.norm(knee_r_center-ankle_r_center)b"
   ]
  },
  {
   "cell_type": "markdown",
   "id": "4ec91b91",
   "metadata": {},
   "source": [
    "### Left tibia"
   ]
  },
  {
   "cell_type": "code",
   "execution_count": null,
   "id": "7ba83332",
   "metadata": {},
   "outputs": [],
   "source": [
    "# Second, reorient red slice perpendicular to ankle-knee axis for the left tibia\n",
    "redSliceNode = getNode(\"vtkMRMLSliceNodeRed\")\n",
    "setSlicePoseFromSliceNormalAndPosition(redSliceNode, tibia_l_normal, knee_l_center)"
   ]
  },
  {
   "cell_type": "markdown",
   "id": "9e6e2084",
   "metadata": {},
   "source": [
    "<div class=\"alert alert-block alert-info\">\n",
    "    <b>In 3dSclicer GUI</b>, move red slice to intersect with the uppermost part of tibial plateau, place lat med and central points across the longest axis with the central point roughly under the lateral intercondylar tubercle.\n",
    "</div>"
   ]
  },
  {
   "cell_type": "markdown",
   "id": "069430d2",
   "metadata": {},
   "source": [
    "### Right tibia"
   ]
  },
  {
   "cell_type": "code",
   "execution_count": null,
   "id": "212139a1",
   "metadata": {},
   "outputs": [],
   "source": [
    "# Third, reorient red slice perpendicular to ankle-knee axis for the right tibia\n",
    "\n",
    "redSliceNode = getNode(\"vtkMRMLSliceNodeRed\")\n",
    "setSlicePoseFromSliceNormalAndPosition(redSliceNode, tibia_r_normal, knee_r_center)\n"
   ]
  },
  {
   "cell_type": "markdown",
   "id": "f7cb64a5",
   "metadata": {},
   "source": [
    "<div class=\"alert alert-block alert-info\">\n",
    "    <b>In3dSlicer GUI</b>, move red slice to intersect with the uppermost part of tibial plateau, place lat med and central points across the longest axis with the central point roughly under the lateral intercondylar tubercle.\n",
    "</div>"
   ]
  },
  {
   "cell_type": "markdown",
   "id": "ebfa6c4d",
   "metadata": {},
   "source": [
    "## Locate midshaft points on tibias, fibulas and femora"
   ]
  },
  {
   "cell_type": "code",
   "execution_count": null,
   "id": "14a85b41",
   "metadata": {},
   "outputs": [],
   "source": [
    "## Left tibia\n",
    "fibula_l_midshaft_anter = lms.GetControlPointIndexByLabel('fibula_l_midshaft_anter')\n",
    "tibia_l_midshaft_anter = lms.GetControlPointIndexByLabel('tibia_l_midshaft_anter')\n",
    "tibia_l_midshaft_poster = lms.GetControlPointIndexByLabel('tibia_l_midshaft_poster')\n",
    "tibia_l_mean = np.mean((knee_l_center,ankle_l_center), axis=0)"
   ]
  },
  {
   "cell_type": "code",
   "execution_count": null,
   "id": "6b128dc7",
   "metadata": {},
   "outputs": [],
   "source": [
    "### the next step will locate midshaft landmarks APPROXIMATELY in the middle of diaphisis\n",
    "lms.SetNthControlPointPosition(fibula_l_midshaft_anter, \n",
    "                               lms_list[fibula_l_midshaft_anter][0], \n",
    "                               lms_list[fibula_l_midshaft_anter][1], \n",
    "                               tibia_l_mean[2])\n",
    "lms.SetNthControlPointPosition(tibia_l_midshaft_anter, \n",
    "                               lms_list[tibia_l_midshaft_anter][0], \n",
    "                               lms_list[tibia_l_midshaft_anter][1], \n",
    "                               tibia_l_mean[2])\n",
    "lms.SetNthControlPointPosition(tibia_l_midshaft_poster, \n",
    "                               lms_list[tibia_l_midshaft_poster][0], \n",
    "                               lms_list[tibia_l_midshaft_poster][1], \n",
    "                               tibia_l_mean[2])"
   ]
  },
  {
   "cell_type": "code",
   "execution_count": null,
   "id": "f13b4a76",
   "metadata": {},
   "outputs": [],
   "source": [
    "### reorient the red slice:\n",
    "setSlicePoseFromSliceNormalAndPosition(redSliceNode, tibia_l_normal, tibia_l_mean)"
   ]
  },
  {
   "cell_type": "markdown",
   "id": "e3f2e737",
   "metadata": {},
   "source": [
    "<div class=\"alert alert-block alert-info\">\n",
    "<b>In 3dSlicer GUI</b>, adjust landmarks position to fit on the above slice exactly anterior or posterior of the shaft.\n",
    "</div>"
   ]
  },
  {
   "cell_type": "code",
   "execution_count": null,
   "id": "f792a06c",
   "metadata": {},
   "outputs": [],
   "source": [
    "## Right tibia\n",
    "fibula_r_midshaft_anter = lms.GetControlPointIndexByLabel('fibula_r_midshaft_anter')\n",
    "tibia_r_midshaft_anter = lms.GetControlPointIndexByLabel('tibia_r_midshaft_anter')\n",
    "tibia_r_midshaft_poster = lms.GetControlPointIndexByLabel('tibia_r_midshaft_poster')\n",
    "tibia_r_mean = np.mean((knee_r_center,ankle_r_center), axis=0)"
   ]
  },
  {
   "cell_type": "code",
   "execution_count": null,
   "id": "0d0f1024",
   "metadata": {},
   "outputs": [],
   "source": [
    "### the next step will locate midshaft landmars APPROXIMATELY in the middle of diaphisis\n",
    "lms.SetNthControlPointPosition(fibula_r_midshaft_anter, \n",
    "                               lms_list[fibula_r_midshaft_anter][0], \n",
    "                               lms_list[fibula_r_midshaft_anter][1], \n",
    "                               tibia_r_mean[2])\n",
    "lms.SetNthControlPointPosition(tibia_r_midshaft_anter, \n",
    "                               lms_list[tibia_r_midshaft_anter][0], \n",
    "                               lms_list[tibia_r_midshaft_anter][1], \n",
    "                               tibia_r_mean[2])\n",
    "lms.SetNthControlPointPosition(tibia_r_midshaft_poster, \n",
    "                               lms_list[tibia_r_midshaft_poster][0], \n",
    "                               lms_list[tibia_r_midshaft_poster][1], \n",
    "                               tibia_r_mean[2])"
   ]
  },
  {
   "cell_type": "code",
   "execution_count": null,
   "id": "85a7b62a",
   "metadata": {},
   "outputs": [],
   "source": [
    "### reorient the red slice:\n",
    "setSlicePoseFromSliceNormalAndPosition(redSliceNode, tibia_r_normal, tibia_r_mean)"
   ]
  },
  {
   "cell_type": "markdown",
   "id": "18a3b5b5",
   "metadata": {},
   "source": [
    "<div class=\"alert alert-block alert-info\">\n",
    "<b>In 3dSlicer GUI</b>, adjust landmarks position to fit on this slice\n",
    "</div>"
   ]
  },
  {
   "cell_type": "code",
   "execution_count": null,
   "id": "5a623d8a",
   "metadata": {},
   "outputs": [],
   "source": [
    "## Left femur\n",
    "lms = getNode('orientation')\n",
    "lms_list = slicer.util.arrayFromMarkupsControlPoints(lms)\n",
    "\n",
    "knee_l_center_coords = lms_list[lms.GetControlPointIndexByLabel('knee_l_center')]\n",
    "femur_l_center_coords = lms_list[lms.GetControlPointIndexByLabel('femur_l_center')]\n",
    "femur_l_mean = np.mean((knee_l_center_coords, femur_l_center_coords), axis = 0)\n",
    "\n",
    "femur_l_midshaft_anter = lms.GetControlPointIndexByLabel('femur_l_midshaft_anter')\n",
    "lms.SetNthControlPointPosition(femur_l_midshaft_anter, \n",
    "                               lms_list[femur_l_midshaft_anter][0], \n",
    "                               lms_list[femur_l_midshaft_anter][1], \n",
    "                               femur_l_mean[2])\n",
    "\n",
    "femur_l_midshaft_poster = lms.GetControlPointIndexByLabel('femur_l_midshaft_poster')\n",
    "lms.SetNthControlPointPosition(femur_l_midshaft_poster, \n",
    "                               lms_list[femur_l_midshaft_poster][0], \n",
    "                               lms_list[femur_l_midshaft_poster][1], \n",
    "                               femur_l_mean[2])"
   ]
  },
  {
   "cell_type": "code",
   "execution_count": null,
   "id": "d2dd4e81",
   "metadata": {},
   "outputs": [],
   "source": [
    "### reorient the red slice:\n",
    "femur_l_normal = (femur_l_center_coords-knee_l_center_coords)/np.linalg.norm(femur_l_center_coords - knee_l_center_coords)\n",
    "setSlicePoseFromSliceNormalAndPosition(redSliceNode, femur_l_normal, femur_l_mean)"
   ]
  },
  {
   "cell_type": "markdown",
   "id": "45a60592",
   "metadata": {},
   "source": [
    "<div class=\"alert alert-block alert-info\">\n",
    "<b>In 3dSlicer</b>, adjust landmarks position to fit on the above slice.\n",
    "</div>"
   ]
  },
  {
   "cell_type": "code",
   "execution_count": null,
   "id": "3bcb3f3e",
   "metadata": {},
   "outputs": [],
   "source": [
    "## Right femur\n",
    "lms = getNode('orientation')\n",
    "lms_list = slicer.util.arrayFromMarkupsControlPoints(lms)\n",
    "\n",
    "knee_r_center_coords = lms_list[lms.GetControlPointIndexByLabel('knee_r_center')]\n",
    "femur_r_center_coords = lms_list[lms.GetControlPointIndexByLabel('femur_r_center')]\n",
    "femur_r_mean = np.mean((knee_r_center_coords, femur_r_center_coords), axis = 0)\n",
    "\n",
    "femur_r_midshaft_anter = lms.GetControlPointIndexByLabel('femur_r_midshaft_anter')\n",
    "lms.SetNthControlPointPosition(femur_r_midshaft_anter, \n",
    "                               lms_list[femur_r_midshaft_anter][0], \n",
    "                               lms_list[femur_r_midshaft_anter][1], \n",
    "                               femur_r_mean[2])\n",
    "\n",
    "femur_r_midshaft_poster = lms.GetControlPointIndexByLabel('femur_r_midshaft_poster')\n",
    "lms.SetNthControlPointPosition(femur_r_midshaft_poster, \n",
    "                               lms_list[femur_r_midshaft_poster][0], \n",
    "                               lms_list[femur_r_midshaft_poster][1], f\n",
    "                               emur_r_mean[2])"
   ]
  },
  {
   "cell_type": "code",
   "execution_count": null,
   "id": "7bdf8d03",
   "metadata": {},
   "outputs": [],
   "source": [
    "### reorient the red slice:\n",
    "femur_r_normal = (femur_r_center_coords-knee_r_center_coords)/np.linalg.norm(femur_r_center_coords - knee_r_center_coords)\n",
    "setSlicePoseFromSliceNormalAndPosition(redSliceNode, femur_r_normal, femur_r_mean)"
   ]
  },
  {
   "cell_type": "markdown",
   "id": "b5696275",
   "metadata": {},
   "source": [
    "<div class=\"alert alert-block alert-info\">\n",
    "<b>In 3dSlicer</b>, adjust landmarks position to fit on the above slice.\n",
    "</div>"
   ]
  },
  {
   "cell_type": "code",
   "execution_count": null,
   "id": "1c1bfa7e",
   "metadata": {},
   "outputs": [],
   "source": [
    "### return red slice to normal orientation\n",
    "setSlicePoseFromSliceNormalAndPosition(redSliceNode, np.array([0,0,1]), femur_r_mean)"
   ]
  },
  {
   "cell_type": "markdown",
   "id": "e4da19e9",
   "metadata": {},
   "source": [
    "<div class=\"alert alert-block alert-info\">\n",
    "<b>Patellas -- special attention!</b>\n",
    "Adjust the position of patella markers manually. Note that lateral and medial points shoul be approximately on one line. Also, _patella__[side]_ and _patella__[side]_in_femur__[side]_ -- the same position at the lowest point of the left patella\n",
    "</div>"
   ]
  },
  {
   "cell_type": "code",
   "execution_count": null,
   "id": "17ac03c5",
   "metadata": {},
   "outputs": [],
   "source": [
    "# Update location of joints in parent frames that were previousely omitted -- these should have been projected into the correct location anyway but just to make sure\n",
    "lms = getNode('orientation')\n",
    "lms_list = slicer.util.arrayFromMarkupsControlPoints(lms)\n",
    "\n",
    "pelvis_origin_in_ground_index = lms.GetControlPointIndexByLabel('pelvis_origin_in_ground')\n",
    "pelvis_origin_coords = lms_list[lms.GetControlPointIndexByLabel('pelvis_origin')]\n",
    "lms.SetNthControlPointPosition(pelvis_origin_in_ground_index, \n",
    "                               pelvis_origin_coords[0], \n",
    "                               pelvis_origin_coords[1], \n",
    "                               pelvis_origin_coords[2])\n",
    "\n",
    "femur_l_center_coords = lms_list[lms.GetControlPointIndexByLabel('femur_l_center')]\n",
    "femur_l_center_in_pelvis_index = lms.GetControlPointIndexByLabel('femur_l_center_in_pelvis')\n",
    "lms.SetNthControlPointPosition(femur_l_center_in_pelvis_index, \n",
    "                               femur_l_center_coords[0], \n",
    "                               femur_l_center_coords[1], \n",
    "                               femur_l_center_coords[2])\n",
    "\n",
    "femur_r_center_coords = lms_list[lms.GetControlPointIndexByLabel('femur_r_center')]\n",
    "femur_r_center_in_pelvis_index = lms.GetControlPointIndexByLabel('femur_r_center_in_pelvis')\n",
    "lms.SetNthControlPointPosition(femur_r_center_in_pelvis_index, \n",
    "                               femur_r_center_coords[0], \n",
    "                               femur_r_center_coords[1], \n",
    "                               femur_r_center_coords[2])"
   ]
  }
 ],
 "metadata": {
  "kernelspec": {
   "display_name": "Slicer 5.4",
   "language": "python",
   "name": "slicer-5.4"
  },
  "language_info": {
   "file_extension": ".py",
   "mimetype": "text/x-python",
   "name": "python",
   "version": "3.9.10"
  }
 },
 "nbformat": 4,
 "nbformat_minor": 5
}
