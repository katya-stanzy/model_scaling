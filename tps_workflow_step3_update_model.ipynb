{
 "cells": [
  {
   "cell_type": "code",
   "execution_count": 98,
   "metadata": {},
   "outputs": [],
   "source": [
    "import numpy as np\n",
    "import math as m"
   ]
  },
  {
   "cell_type": "code",
   "execution_count": 99,
   "metadata": {},
   "outputs": [],
   "source": [
    "\n",
    "import opensim as osim\n",
    "import xml.etree.ElementTree as ET\n",
    "import numpy as np\n",
    "import pandas as pd\n",
    "import json\n",
    "import os"
   ]
  },
  {
   "cell_type": "markdown",
   "metadata": {},
   "source": [
    "### Import Transformed Markers"
   ]
  },
  {
   "cell_type": "code",
   "execution_count": 100,
   "metadata": {},
   "outputs": [],
   "source": [
    "markers_df = pd.read_csv('model_update/tps_warping_results/markers_transformed.csv', index_col=0)"
   ]
  },
  {
   "cell_type": "code",
   "execution_count": 101,
   "metadata": {},
   "outputs": [
    {
     "data": {
      "text/html": [
       "<div>\n",
       "<style scoped>\n",
       "    .dataframe tbody tr th:only-of-type {\n",
       "        vertical-align: middle;\n",
       "    }\n",
       "\n",
       "    .dataframe tbody tr th {\n",
       "        vertical-align: top;\n",
       "    }\n",
       "\n",
       "    .dataframe thead th {\n",
       "        text-align: right;\n",
       "    }\n",
       "</style>\n",
       "<table border=\"1\" class=\"dataframe\">\n",
       "  <thead>\n",
       "    <tr style=\"text-align: right;\">\n",
       "      <th></th>\n",
       "      <th>body</th>\n",
       "      <th>location</th>\n",
       "    </tr>\n",
       "    <tr>\n",
       "      <th>name</th>\n",
       "      <th></th>\n",
       "      <th></th>\n",
       "    </tr>\n",
       "  </thead>\n",
       "  <tbody>\n",
       "    <tr>\n",
       "      <th>ASIS_l</th>\n",
       "      <td>pelvis</td>\n",
       "      <td>[ 0.00279209  0.006827   -0.1093674 ]</td>\n",
       "    </tr>\n",
       "    <tr>\n",
       "      <th>ASIS_r</th>\n",
       "      <td>pelvis</td>\n",
       "      <td>[-0.00279209 -0.006827    0.1093674 ]</td>\n",
       "    </tr>\n",
       "    <tr>\n",
       "      <th>PSIS_l</th>\n",
       "      <td>pelvis</td>\n",
       "      <td>[-0.12774221  0.01410826 -0.04601452]</td>\n",
       "    </tr>\n",
       "    <tr>\n",
       "      <th>PSIS_r</th>\n",
       "      <td>pelvis</td>\n",
       "      <td>[-0.12988813  0.00789047  0.03996727]</td>\n",
       "    </tr>\n",
       "    <tr>\n",
       "      <th>pelvis_origin</th>\n",
       "      <td>pelvis</td>\n",
       "      <td>[1.42108547e-17 2.27373675e-16 7.99360578e-17]</td>\n",
       "    </tr>\n",
       "    <tr>\n",
       "      <th>ilium_r</th>\n",
       "      <td>pelvis</td>\n",
       "      <td>[-0.0621728   0.0392263   0.11088392]</td>\n",
       "    </tr>\n",
       "    <tr>\n",
       "      <th>ilium_l</th>\n",
       "      <td>pelvis</td>\n",
       "      <td>[-0.0585356   0.05442049 -0.11038004]</td>\n",
       "    </tr>\n",
       "    <tr>\n",
       "      <th>isch_spine_r</th>\n",
       "      <td>pelvis</td>\n",
       "      <td>[-0.09318305 -0.08050016  0.04363959]</td>\n",
       "    </tr>\n",
       "    <tr>\n",
       "      <th>isch_spine_l</th>\n",
       "      <td>pelvis</td>\n",
       "      <td>[-0.08988851 -0.07266706 -0.05943559]</td>\n",
       "    </tr>\n",
       "    <tr>\n",
       "      <th>isch_tuber_r</th>\n",
       "      <td>pelvis</td>\n",
       "      <td>[-0.0939862  -0.11544616  0.05014004]</td>\n",
       "    </tr>\n",
       "    <tr>\n",
       "      <th>isch_tuber_l</th>\n",
       "      <td>pelvis</td>\n",
       "      <td>[-0.08888493 -0.10708868 -0.07273063]</td>\n",
       "    </tr>\n",
       "    <tr>\n",
       "      <th>isch_infer_r</th>\n",
       "      <td>pelvis</td>\n",
       "      <td>[-0.06211167 -0.13741183  0.03295085]</td>\n",
       "    </tr>\n",
       "    <tr>\n",
       "      <th>isch_infer_l</th>\n",
       "      <td>pelvis</td>\n",
       "      <td>[-0.05901981 -0.13028531 -0.0597949 ]</td>\n",
       "    </tr>\n",
       "    <tr>\n",
       "      <th>pub_infer_c</th>\n",
       "      <td>pelvis</td>\n",
       "      <td>[-0.02156785 -0.10691737 -0.00679299]</td>\n",
       "    </tr>\n",
       "    <tr>\n",
       "      <th>femur_r_center_in_pelvis</th>\n",
       "      <td>pelvis</td>\n",
       "      <td>[-0.04875945 -0.08137492  0.07899979]</td>\n",
       "    </tr>\n",
       "    <tr>\n",
       "      <th>femur_l_center_in_pelvis</th>\n",
       "      <td>pelvis</td>\n",
       "      <td>[-0.03951082 -0.07010434 -0.09239859]</td>\n",
       "    </tr>\n",
       "  </tbody>\n",
       "</table>\n",
       "</div>"
      ],
      "text/plain": [
       "                            body   \n",
       "name                               \n",
       "ASIS_l                    pelvis  \\\n",
       "ASIS_r                    pelvis   \n",
       "PSIS_l                    pelvis   \n",
       "PSIS_r                    pelvis   \n",
       "pelvis_origin             pelvis   \n",
       "ilium_r                   pelvis   \n",
       "ilium_l                   pelvis   \n",
       "isch_spine_r              pelvis   \n",
       "isch_spine_l              pelvis   \n",
       "isch_tuber_r              pelvis   \n",
       "isch_tuber_l              pelvis   \n",
       "isch_infer_r              pelvis   \n",
       "isch_infer_l              pelvis   \n",
       "pub_infer_c               pelvis   \n",
       "femur_r_center_in_pelvis  pelvis   \n",
       "femur_l_center_in_pelvis  pelvis   \n",
       "\n",
       "                                                                location  \n",
       "name                                                                      \n",
       "ASIS_l                             [ 0.00279209  0.006827   -0.1093674 ]  \n",
       "ASIS_r                             [-0.00279209 -0.006827    0.1093674 ]  \n",
       "PSIS_l                             [-0.12774221  0.01410826 -0.04601452]  \n",
       "PSIS_r                             [-0.12988813  0.00789047  0.03996727]  \n",
       "pelvis_origin             [1.42108547e-17 2.27373675e-16 7.99360578e-17]  \n",
       "ilium_r                            [-0.0621728   0.0392263   0.11088392]  \n",
       "ilium_l                            [-0.0585356   0.05442049 -0.11038004]  \n",
       "isch_spine_r                       [-0.09318305 -0.08050016  0.04363959]  \n",
       "isch_spine_l                       [-0.08988851 -0.07266706 -0.05943559]  \n",
       "isch_tuber_r                       [-0.0939862  -0.11544616  0.05014004]  \n",
       "isch_tuber_l                       [-0.08888493 -0.10708868 -0.07273063]  \n",
       "isch_infer_r                       [-0.06211167 -0.13741183  0.03295085]  \n",
       "isch_infer_l                       [-0.05901981 -0.13028531 -0.0597949 ]  \n",
       "pub_infer_c                        [-0.02156785 -0.10691737 -0.00679299]  \n",
       "femur_r_center_in_pelvis           [-0.04875945 -0.08137492  0.07899979]  \n",
       "femur_l_center_in_pelvis           [-0.03951082 -0.07010434 -0.09239859]  "
      ]
     },
     "execution_count": 101,
     "metadata": {},
     "output_type": "execute_result"
    }
   ],
   "source": [
    "markers_df[markers_df['body']=='pelvis']"
   ]
  },
  {
   "cell_type": "markdown",
   "metadata": {},
   "source": [
    "### Import Transformed Muscle Paths"
   ]
  },
  {
   "cell_type": "code",
   "execution_count": 102,
   "metadata": {},
   "outputs": [
    {
     "data": {
      "text/html": [
       "<div>\n",
       "<style scoped>\n",
       "    .dataframe tbody tr th:only-of-type {\n",
       "        vertical-align: middle;\n",
       "    }\n",
       "\n",
       "    .dataframe tbody tr th {\n",
       "        vertical-align: top;\n",
       "    }\n",
       "\n",
       "    .dataframe thead th {\n",
       "        text-align: right;\n",
       "    }\n",
       "</style>\n",
       "<table border=\"1\" class=\"dataframe\">\n",
       "  <thead>\n",
       "    <tr style=\"text-align: right;\">\n",
       "      <th></th>\n",
       "      <th>body</th>\n",
       "      <th>location</th>\n",
       "    </tr>\n",
       "    <tr>\n",
       "      <th>name</th>\n",
       "      <th></th>\n",
       "      <th></th>\n",
       "    </tr>\n",
       "  </thead>\n",
       "  <tbody>\n",
       "    <tr>\n",
       "      <th>addbrev_r-P1</th>\n",
       "      <td>pelvis</td>\n",
       "      <td>[-0.01408893 -0.08933111  0.011272  ]</td>\n",
       "    </tr>\n",
       "    <tr>\n",
       "      <th>addlong_r-P1</th>\n",
       "      <td>pelvis</td>\n",
       "      <td>[-0.00480958 -0.08225254  0.01527821]</td>\n",
       "    </tr>\n",
       "    <tr>\n",
       "      <th>addmagDist_r-P1</th>\n",
       "      <td>pelvis</td>\n",
       "      <td>[-0.05477775 -0.13145287  0.03016987]</td>\n",
       "    </tr>\n",
       "    <tr>\n",
       "      <th>addmagIsch_r-P1</th>\n",
       "      <td>pelvis</td>\n",
       "      <td>[-0.06770683 -0.13476444  0.03174436]</td>\n",
       "    </tr>\n",
       "    <tr>\n",
       "      <th>addmagMid_r-P1</th>\n",
       "      <td>pelvis</td>\n",
       "      <td>[-0.03845459 -0.12162965  0.02065152]</td>\n",
       "    </tr>\n",
       "  </tbody>\n",
       "</table>\n",
       "</div>"
      ],
      "text/plain": [
       "                   body                               location\n",
       "name                                                          \n",
       "addbrev_r-P1     pelvis  [-0.01408893 -0.08933111  0.011272  ]\n",
       "addlong_r-P1     pelvis  [-0.00480958 -0.08225254  0.01527821]\n",
       "addmagDist_r-P1  pelvis  [-0.05477775 -0.13145287  0.03016987]\n",
       "addmagIsch_r-P1  pelvis  [-0.06770683 -0.13476444  0.03174436]\n",
       "addmagMid_r-P1   pelvis  [-0.03845459 -0.12162965  0.02065152]"
      ]
     },
     "execution_count": 102,
     "metadata": {},
     "output_type": "execute_result"
    }
   ],
   "source": [
    "mscles_df = pd.read_csv('model_update/tps_warping_results/muscles_transformed.csv', index_col=0)\n",
    "mscles_df.head()"
   ]
  },
  {
   "cell_type": "markdown",
   "metadata": {},
   "source": [
    "### Import Transformed Wrapping Surfaces"
   ]
  },
  {
   "cell_type": "code",
   "execution_count": 103,
   "metadata": {},
   "outputs": [
    {
     "data": {
      "text/html": [
       "<div>\n",
       "<style scoped>\n",
       "    .dataframe tbody tr th:only-of-type {\n",
       "        vertical-align: middle;\n",
       "    }\n",
       "\n",
       "    .dataframe tbody tr th {\n",
       "        vertical-align: top;\n",
       "    }\n",
       "\n",
       "    .dataframe thead th {\n",
       "        text-align: right;\n",
       "    }\n",
       "</style>\n",
       "<table border=\"1\" class=\"dataframe\">\n",
       "  <thead>\n",
       "    <tr style=\"text-align: right;\">\n",
       "      <th></th>\n",
       "      <th>body</th>\n",
       "      <th>translation</th>\n",
       "      <th>rotation</th>\n",
       "      <th>length</th>\n",
       "      <th>radius</th>\n",
       "    </tr>\n",
       "    <tr>\n",
       "      <th>name</th>\n",
       "      <th></th>\n",
       "      <th></th>\n",
       "      <th></th>\n",
       "      <th></th>\n",
       "      <th></th>\n",
       "    </tr>\n",
       "  </thead>\n",
       "  <tbody>\n",
       "    <tr>\n",
       "      <th>Gmax1_at_pelvis_r</th>\n",
       "      <td>pelvis</td>\n",
       "      <td>[-0.0627, -0.1045, 0.0585]</td>\n",
       "      <td>[-0.54652, -0.11717, 0.00128]</td>\n",
       "      <td>0.1612</td>\n",
       "      <td>0.0337</td>\n",
       "    </tr>\n",
       "    <tr>\n",
       "      <th>Gmax2_at_pelvis_r</th>\n",
       "      <td>pelvis</td>\n",
       "      <td>[-0.0676, -0.0897, 0.0672]</td>\n",
       "      <td>[-0.69825, -0.12925, 0.00126]</td>\n",
       "      <td>0.1030</td>\n",
       "      <td>0.0341</td>\n",
       "    </tr>\n",
       "    <tr>\n",
       "      <th>Gmax3_at_pelvis_r</th>\n",
       "      <td>pelvis</td>\n",
       "      <td>[-0.0696, -0.0948, 0.0668]</td>\n",
       "      <td>[-0.12098, -0.05866, 0.00067]</td>\n",
       "      <td>0.1068</td>\n",
       "      <td>0.0340</td>\n",
       "    </tr>\n",
       "    <tr>\n",
       "      <th>Gmax1_at_pelvis_l</th>\n",
       "      <td>pelvis</td>\n",
       "      <td>[-0.0564, -0.095, -0.0772]</td>\n",
       "      <td>[0.63549, 0.0186, 0.0]</td>\n",
       "      <td>0.1662</td>\n",
       "      <td>0.0345</td>\n",
       "    </tr>\n",
       "    <tr>\n",
       "      <th>Gmax2_at_pelvis_l</th>\n",
       "      <td>pelvis</td>\n",
       "      <td>[-0.0605, -0.0793, -0.0833]</td>\n",
       "      <td>[0.79192, 0.04765, 5e-05]</td>\n",
       "      <td>0.1064</td>\n",
       "      <td>0.0351</td>\n",
       "    </tr>\n",
       "  </tbody>\n",
       "</table>\n",
       "</div>"
      ],
      "text/plain": [
       "                     body                  translation   \n",
       "name                                                     \n",
       "Gmax1_at_pelvis_r  pelvis   [-0.0627, -0.1045, 0.0585]  \\\n",
       "Gmax2_at_pelvis_r  pelvis   [-0.0676, -0.0897, 0.0672]   \n",
       "Gmax3_at_pelvis_r  pelvis   [-0.0696, -0.0948, 0.0668]   \n",
       "Gmax1_at_pelvis_l  pelvis   [-0.0564, -0.095, -0.0772]   \n",
       "Gmax2_at_pelvis_l  pelvis  [-0.0605, -0.0793, -0.0833]   \n",
       "\n",
       "                                        rotation  length  radius  \n",
       "name                                                              \n",
       "Gmax1_at_pelvis_r  [-0.54652, -0.11717, 0.00128]  0.1612  0.0337  \n",
       "Gmax2_at_pelvis_r  [-0.69825, -0.12925, 0.00126]  0.1030  0.0341  \n",
       "Gmax3_at_pelvis_r  [-0.12098, -0.05866, 0.00067]  0.1068  0.0340  \n",
       "Gmax1_at_pelvis_l         [0.63549, 0.0186, 0.0]  0.1662  0.0345  \n",
       "Gmax2_at_pelvis_l      [0.79192, 0.04765, 5e-05]  0.1064  0.0351  "
      ]
     },
     "execution_count": 103,
     "metadata": {},
     "output_type": "execute_result"
    }
   ],
   "source": [
    "wrp_df = pd.read_csv('model_update/tps_warping_results/wrp_transformed.csv', index_col=1)\n",
    "wrp_df.head()"
   ]
  },
  {
   "cell_type": "markdown",
   "metadata": {},
   "source": [
    "### Parse current scaled model"
   ]
  },
  {
   "cell_type": "code",
   "execution_count": 104,
   "metadata": {},
   "outputs": [],
   "source": [
    "tree=ET.parse(\"p03_scaled_2.osim\")\n",
    "root = tree.getroot()"
   ]
  },
  {
   "cell_type": "markdown",
   "metadata": {},
   "source": [
    "### Update reference geometry"
   ]
  },
  {
   "cell_type": "code",
   "execution_count": 105,
   "metadata": {},
   "outputs": [],
   "source": [
    "ref_geom_dic = {'body': [], 'Mesh name' : [], 'Mesh file' : []}\n",
    "\n",
    "ref_geom_dic['body'].append(\"pelvis\"); ref_geom_dic['Mesh name'].append(\"pelvis_geom_1\"); ref_geom_dic['Mesh file'].append('model_update\\\\tps_warping_results\\\\r_pelvis.stl')\n",
    "ref_geom_dic['body'].append(\"pelvis\"); ref_geom_dic['Mesh name'].append(\"pelvis_geom_2\"); ref_geom_dic['Mesh file'].append('model_update\\\\tps_warping_results\\\\l_pelvis.stl')\n",
    "ref_geom_dic['body'].append(\"pelvis\"); ref_geom_dic['Mesh name'].append(\"pelvis_geom_3\"); ref_geom_dic['Mesh file'].append('model_update\\\\tps_warping_results\\\\sacrum.stl')\n",
    "\n",
    "ref_geom_dic['body'].append(\"femur_r\"); ref_geom_dic['Mesh name'].append(\"femur_r_geom_1\"); ref_geom_dic['Mesh file'].append('model_update\\\\tps_warping_results\\\\femur_r.stl')\n",
    "ref_geom_dic['body'].append(\"femur_l\"); ref_geom_dic['Mesh name'].append(\"femur_l_geom_1\"); ref_geom_dic['Mesh file'].append('model_update\\\\tps_warping_results\\\\femur_l.stl')\n",
    "\n",
    "ref_geom_dic['body'].append(\"tibia_r\"); ref_geom_dic['Mesh name'].append(\"tibia_r_geom_1\"); ref_geom_dic['Mesh file'].append('model_update\\\\tps_warping_results\\\\tibia_r.stl')\n",
    "ref_geom_dic['body'].append(\"tibia_r\"); ref_geom_dic['Mesh name'].append(\"tibia_r_geom_2\"); ref_geom_dic['Mesh file'].append('model_update\\\\tps_warping_results\\\\fibula_r.stl')\n",
    "\n",
    "ref_geom_dic['body'].append(\"tibia_l\"); ref_geom_dic['Mesh name'].append(\"tibia_l_geom_1\"); ref_geom_dic['Mesh file'].append('model_update\\\\tps_warping_results\\\\tibia_l.stl')\n",
    "ref_geom_dic['body'].append(\"tibia_l\"); ref_geom_dic['Mesh name'].append(\"tibia_l_geom_2\"); ref_geom_dic['Mesh file'].append('model_update\\\\tps_warping_results\\\\fibula_l.stl')\n",
    "\n",
    "ref_geom_dic['body'].append(\"patella_r\"); ref_geom_dic['Mesh name'].append(\"patella_r_geom_1\"); ref_geom_dic['Mesh file'].append('model_update\\\\tps_warping_results\\\\patella_r.stl')\n",
    "ref_geom_dic['body'].append(\"patella_l\"); ref_geom_dic['Mesh name'].append(\"patella_l_geom_1\"); ref_geom_dic['Mesh file'].append('model_update\\\\tps_warping_results\\\\patella_l.stl')"
   ]
  },
  {
   "cell_type": "code",
   "execution_count": 106,
   "metadata": {},
   "outputs": [],
   "source": [
    "ref_geom_df = pd.DataFrame(ref_geom_dic).set_index('Mesh name')"
   ]
  },
  {
   "cell_type": "code",
   "execution_count": 107,
   "metadata": {},
   "outputs": [],
   "source": [
    "for Mesh in root.iter('Mesh'):\n",
    "    point = Mesh.attrib['name']\n",
    "    if point in ref_geom_df.index:\n",
    "        new_text = ref_geom_df.loc[point, 'Mesh file']\n",
    "        # print(point, new_text)\n",
    "        Mesh.find('mesh_file').text = new_text\n",
    "        Mesh.find('scale_factors').text = '1 1 1'\n",
    "    else: pass"
   ]
  },
  {
   "cell_type": "markdown",
   "metadata": {},
   "source": [
    "### Update muscle paths"
   ]
  },
  {
   "cell_type": "code",
   "execution_count": 108,
   "metadata": {},
   "outputs": [],
   "source": [
    "for PathPoint in root.iter('PathPoint'):\n",
    "    point = PathPoint.attrib['name']\n",
    "    if point in mscles_df.index:\n",
    "        location = mscles_df.loc[point, 'location']\n",
    "        new_text = location[1:-1]\n",
    "        # print(point, new_text)\n",
    "        PathPoint.find('location').text = new_text\n",
    "    else: pass"
   ]
  },
  {
   "cell_type": "markdown",
   "metadata": {},
   "source": [
    "### Update locations of muscle wrapping surfaces"
   ]
  },
  {
   "cell_type": "code",
   "execution_count": 109,
   "metadata": {},
   "outputs": [],
   "source": [
    "for WrapCylinder in root.iter('WrapCylinder'):\n",
    "    point = WrapCylinder.attrib['name']\n",
    "    if point in wrp_df.index:\n",
    "        translation = wrp_df.loc[point, 'translation']\n",
    "        new_text = translation[1:-1]\n",
    "        # print(point, new_text)\n",
    "        WrapCylinder.find('translation').text = new_text\n",
    "    else: pass"
   ]
  },
  {
   "cell_type": "markdown",
   "metadata": {},
   "source": [
    "### Update Translation of joint centres"
   ]
  },
  {
   "cell_type": "code",
   "execution_count": 110,
   "metadata": {},
   "outputs": [],
   "source": [
    "femur_r_center_in_pelvis = markers_df.loc['femur_r_center_in_pelvis', 'location']\n",
    "femur_l_center_in_pelvis = markers_df.loc['femur_l_center_in_pelvis', 'location']\n",
    "knee_l_center_in_femur = markers_df.loc['knee_l_center_in_femur_l', 'location']\n",
    "knee_r_center_in_femur = markers_df.loc['knee_r_center_in_femur_r', 'location']\n",
    "patella_l_center_in_femur = markers_df.loc['patella_l_in_femur_l', 'location']\n",
    "patella_r_center_in_femur = markers_df.loc['patella_r_in_femur_r', 'location']\n",
    "\n",
    "talus_l_center_in_tibia = markers_df.loc['talus_l_center_in_tibia', 'location']\n",
    "talus_r_center_in_tibia = markers_df.loc['talus_r_center_in_tibia', 'location']"
   ]
  },
  {
   "cell_type": "code",
   "execution_count": 111,
   "metadata": {},
   "outputs": [
    {
     "name": "stdout",
     "output_type": "stream",
     "text": [
      "old r hip translation 0 0 0\n",
      "new r hip translation -0.04875945 -0.08137492  0.07899979\n",
      "old r hip translation -0.051914880492713651 -0.076863039529902713 0.067095888509770066\n",
      "new r hip translation -0.04875945 -0.08137492  0.07899979\n",
      "old r walker knee translation in femur -0.0085383115771507628 -0.3745937333511688 -0.0029023926869177498\n",
      "new r walker knee translation in femur  2.84217094e-17 -3.74675888e-01 -2.30926389e-16\n",
      "patellofemoral r old -0.0085383115771507628 -0.3745937333511688 -0.0029023926869177498\n",
      "patellofemoral r new  2.84217094e-17 -3.74675888e-01 -2.30926389e-16\n",
      "ankle r old -0.010554155225155456 -0.38168963542236845 0\n",
      "ankle r new -0.0024925  -0.39919596 -0.00219105\n"
     ]
    }
   ],
   "source": [
    "for joint in root.iter('CustomJoint'):\n",
    "    \n",
    "    name = joint.attrib['name']\n",
    "    #ground_pelvis\n",
    "    if joint.attrib['name'] ==  \"ground_pelvis\":\n",
    "        for frame in joint.iter('PhysicalOffsetFrame'):\n",
    "            if frame.attrib['name'] == \"pelvis_offset\":\n",
    "                new_text = femur_r_center_in_pelvis[1:-1]\n",
    "                print('old r hip translation', frame.find('translation').text)\n",
    "                frame.find('translation').text = new_text\n",
    "                print('new r hip translation', frame.find('translation').text)\n",
    "            else: pass\n",
    "\n",
    "    if joint.attrib['name'] ==  \"hip_r\":\n",
    "        for frame in joint.iter('PhysicalOffsetFrame'):\n",
    "            if frame.attrib['name'] == \"pelvis_offset\":\n",
    "                new_text = femur_r_center_in_pelvis[1:-1]\n",
    "                print('old r hip translation', frame.find('translation').text)\n",
    "                frame.find('translation').text = new_text\n",
    "                print('new r hip translation', frame.find('translation').text)\n",
    "            else: pass\n",
    "    \n",
    "    elif joint.attrib['name'] ==  \"hip_l\":\n",
    "        for frame in joint.iter('PhysicalOffsetFrame'):\n",
    "            if frame.attrib['name'] == \"pelvis_offset\":\n",
    "                new_text = femur_l_center_in_pelvis[1:-1]\n",
    "                frame.find('translation').text = new_text\n",
    "            else: pass\n",
    "            \n",
    "    elif joint.attrib['name'] ==  \"walker_knee_r\":\n",
    "        for frame in joint.iter('PhysicalOffsetFrame'):\n",
    "            if frame.attrib['name'] == \"femur_r_offset\":\n",
    "                new_text = knee_r_center_in_femur[1:-1]\n",
    "                print('old r walker knee translation in femur',frame.find('translation').text)\n",
    "                frame.find('translation').text = new_text\n",
    "                print('new r walker knee translation in femur',frame.find('translation').text)\n",
    "            #if frame.attrib['name'] == \"tibia_r_offset\":\n",
    "            #    new_text = f\"{walker_knee_r_tibia_r_offset[0]}, {walker_knee_r_tibia_r_offset[1]}, {walker_knee_r_tibia_r_offset[2]}\"\n",
    "            #    print ('old r tibia translation', frame.find('translation').text)\n",
    "            #    frame.find('translation').text = new_text\n",
    "            #    print ('new r tibia translation', frame.find('translation').text)\n",
    "            else: pass    \n",
    "    \n",
    "    elif joint.attrib['name'] ==  \"walker_knee_l\":\n",
    "        for frame in joint.iter('PhysicalOffsetFrame'):\n",
    "            if frame.attrib['name'] == \"femur_l_offset\":\n",
    "                new_text = knee_l_center_in_femur[1:-1]\n",
    "                frame.find('translation').text = new_text\n",
    "    #        if frame.attrib['name'] == \"tibia_l_offset\":\n",
    "    #            new_text = f\"{walker_knee_l_tibia_l_offset[0]}, {walker_knee_l_tibia_l_offset[1]}, {walker_knee_l_tibia_l_offset[2]}\"\n",
    "    #            frame.find('translation').text = new_text\n",
    "            else: pass\n",
    "\n",
    "    elif joint.attrib['name'] ==  \"patellofemoral_r\":\n",
    "       for frame in joint.iter('PhysicalOffsetFrame'):\n",
    "           if frame.attrib['name'] == \"femur_r_offset\":\n",
    "               new_text = knee_r_center_in_femur[1:-1]\n",
    "               print('patellofemoral r old', frame.find('translation').text)\n",
    "               frame.find('translation').text = new_text\n",
    "               print('patellofemoral r new', frame.find('translation').text)\n",
    "           else: pass\n",
    "    \n",
    "    elif joint.attrib['name'] ==  \"patellofemoral_l\":\n",
    "       for frame in joint.iter('PhysicalOffsetFrame'):\n",
    "           if frame.attrib['name'] == \"femur_l_offset\":\n",
    "               new_text = knee_l_center_in_femur[1:-1]\n",
    "               frame.find('translation').text = new_text\n",
    "           else: pass\n",
    "\n",
    "for joint in root.iter('PinJoint'):\n",
    "    \n",
    "    name = joint.attrib['name']\n",
    "\n",
    "    if joint.attrib['name'] ==  \"ankle_r\":\n",
    "       for frame in joint.iter('PhysicalOffsetFrame'):\n",
    "           if frame.attrib['name'] == \"tibia_r_offset\":\n",
    "               new_text = talus_r_center_in_tibia [1:-1]\n",
    "               print('ankle r old', frame.find('translation').text)\n",
    "               frame.find('translation').text = new_text\n",
    "               print('ankle r new', frame.find('translation').text)\n",
    "           else: pass\n",
    "    \n",
    "    elif joint.attrib['name'] ==  \"ankle_l\":\n",
    "       for frame in joint.iter('PhysicalOffsetFrame'):\n",
    "           if frame.attrib['name'] == \"tibia_l_offset\":\n",
    "               new_text = talus_l_center_in_tibia [1:-1]\n",
    "               frame.find('translation').text = new_text\n",
    "           else: pass\n",
    "    else: pass"
   ]
  },
  {
   "cell_type": "markdown",
   "metadata": {},
   "source": [
    "### Export transformed model"
   ]
  },
  {
   "cell_type": "code",
   "execution_count": 112,
   "metadata": {},
   "outputs": [],
   "source": [
    "tree.write('p03_tps_transformed.osim')"
   ]
  }
 ],
 "metadata": {
  "kernelspec": {
   "display_name": "py38",
   "language": "python",
   "name": "python3"
  },
  "language_info": {
   "codemirror_mode": {
    "name": "ipython",
    "version": 3
   },
   "file_extension": ".py",
   "mimetype": "text/x-python",
   "name": "python",
   "nbconvert_exporter": "python",
   "pygments_lexer": "ipython3",
   "version": "3.8.18"
  }
 },
 "nbformat": 4,
 "nbformat_minor": 2
}
