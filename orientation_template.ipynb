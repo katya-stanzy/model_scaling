{
 "cells": [
  {
   "cell_type": "markdown",
   "id": "bdba2610",
   "metadata": {},
   "source": [
    "# Start \n",
    "# Create Point Clouds to Calclulate Femur Head Centers"
   ]
  },
  {
   "cell_type": "markdown",
   "id": "3f8c3339",
   "metadata": {},
   "source": [
    "<div class=\"alert alert-block alert-info\">\n",
    "<b>In3dSlicer GUI</b>:\n",
    "<p>1. Load MRI last folder</p>\n",
    "<p>2. Load markers template. Save project and files in a new folder inside the individual, make sure to change the default folder for all files.</p>\n",
    "<p>3. In markup module, create two point lists: <emp>femur_head_right</emp> and <emp>femur_head_left</emp>.</p>\n",
    "\n",
    "<p>4. For each, left and right accordingly, collect lms on femur heads circular outline, red and green slices: move slices to the level of the largest femur head radius (approximately near fovea).</p>\n",
    "\n",
    "<p>5. Create a new empty markups ladmark list 'lms'.</p>\n",
    "\n",
    "<p>Once finished, follow instructions below: either or execute code or interact with <b>GUI</b>.</p>\n",
    "</div>"
   ]
  },
  {
   "cell_type": "markdown",
   "id": "6dde710c",
   "metadata": {},
   "source": [
    "# Load libraries and initiate functions"
   ]
  },
  {
   "cell_type": "code",
   "execution_count": 2,
   "id": "2985d819",
   "metadata": {},
   "outputs": [],
   "source": [
    "import numpy as np\n",
    "import slicer\n",
    "import math\n",
    "import vtk"
   ]
  },
  {
   "cell_type": "code",
   "execution_count": 3,
   "id": "ff16560d",
   "metadata": {},
   "outputs": [],
   "source": [
    "# helper functions:\n",
    "\n",
    "def sphereFit(data):\n",
    "\n",
    "    #   Assemble the A matrix\n",
    "    spX = np.array(data[:,0])\n",
    "    spY = np.array(data[:,1])\n",
    "    spZ = np.array(data[:,2])\n",
    "    A = np.zeros((len(spX),4))\n",
    "    A[:,0] = spX*2\n",
    "    A[:,1] = spY*2\n",
    "    A[:,2] = spZ*2\n",
    "    A[:,3] = 1\n",
    "\n",
    "    #   Assemble the f matrix\n",
    "    f = np.zeros((len(spX),1))\n",
    "    f[:,0] = (spX*spX) + (spY*spY) + (spZ*spZ)\n",
    "    C, residules, rank, singval = np.linalg.lstsq(A,f, rcond = None)\n",
    "\n",
    "    #   solve for the radius\n",
    "    t = np.dot(C[0],C[0])+np.dot(C[1],C[1])+np.dot(C[2],C[2])+C[3]\n",
    " \n",
    "    radius = math.sqrt(t[0])\n",
    "    center = np.array([C[0], C[1], C[2]])\n",
    "\n",
    "    return radius, center\n",
    "\n",
    "def setSlicePoseFromSliceNormalAndPosition(sliceNode, sliceNormal, slicePosition, defaultViewUpDirection=None, backupViewRightDirection=None):\n",
    "    \n",
    "    ## Fix up input directions\n",
    "    if defaultViewUpDirection is None:\n",
    "        defaultViewUpDirection = [0,0,1]\n",
    "    if backupViewRightDirection is None:\n",
    "        backupViewRightDirection = [-1,0,0]\n",
    "    if sliceNormal[1]>=0:\n",
    "        sliceNormalStandardized = sliceNormal\n",
    "    else:\n",
    "        sliceNormalStandardized = [-sliceNormal[0], -sliceNormal[1], -sliceNormal[2]]\n",
    "\n",
    "        ## Compute slice axes\n",
    "    sliceNormalViewUpAngle = vtk.vtkMath.AngleBetweenVectors(sliceNormalStandardized, defaultViewUpDirection)\n",
    "    angleTooSmallThresholdRad = 0.25 # about 15 degrees\n",
    "    if sliceNormalViewUpAngle > angleTooSmallThresholdRad and sliceNormalViewUpAngle < vtk.vtkMath.Pi() - angleTooSmallThresholdRad:\n",
    "        viewUpDirection = defaultViewUpDirection\n",
    "        sliceAxisY = viewUpDirection\n",
    "        sliceAxisX = [0, 0, 0]\n",
    "        vtk.vtkMath.Cross(sliceAxisY, sliceNormalStandardized, sliceAxisX)\n",
    "    else:\n",
    "        sliceAxisX = backupViewRightDirection\n",
    "    \n",
    "    ## Set slice axes\n",
    "    sliceNode.SetSliceToRASByNTP(sliceNormalStandardized[0], sliceNormalStandardized[1], sliceNormalStandardized[2],\n",
    "        sliceAxisX[0], sliceAxisX[1], sliceAxisX[2],\n",
    "        slicePosition[0], slicePosition[1], slicePosition[2], 0)"
   ]
  },
  {
   "cell_type": "markdown",
   "id": "b7c4ff1a",
   "metadata": {},
   "source": [
    "# Collect Key Starting Landmarks "
   ]
  },
  {
   "cell_type": "code",
   "execution_count": null,
   "id": "c670f6bc",
   "metadata": {
    "scrolled": true
   },
   "outputs": [],
   "source": [
    "# left femur\n",
    "left_fh = slicer.util.getNode('femur_head_left')\n",
    "left_fh = slicer.util.arrayFromMarkupsControlPoints(left_fh)\n",
    "left_radius, left_center = sphereFit(left_fh)\n",
    "left_center"
   ]
  },
  {
   "cell_type": "code",
   "execution_count": 7,
   "id": "207dbfab",
   "metadata": {},
   "outputs": [
    {
     "data": {
      "text/plain": [
       "21.431554854401803"
      ]
     },
     "execution_count": 4,
     "metadata": {},
     "output_type": "execute_result"
    }
   ],
   "source": [
    "# right femur\n",
    "right_fh = slicer.util.getNode('femur_head_right')\n",
    "right_fh = slicer.util.arrayFromMarkupsControlPoints(right_fh)\n",
    "right_radius, right_center = sphereFit(right_fh)\n",
    "right_radius"
   ]
  },
  {
   "cell_type": "code",
   "execution_count": 8,
   "id": "e42f9414",
   "metadata": {},
   "outputs": [
    {
     "name": "stderr",
     "output_type": "stream",
     "text": [
      "C:/Users/EKATAR~1/AppData/Local/Temp/xpython_18636/379390962.py:3: DeprecationWarning: Conversion of an array with ndim > 0 to a scalar is deprecated, and will error in future. Ensure you extract a single element from your array before performing this operation. (Deprecated NumPy 1.25.)\n",
      "  left_center_point = lms.AddControlPoint(left_center)\n",
      "C:/Users/EKATAR~1/AppData/Local/Temp/xpython_18636/379390962.py:5: DeprecationWarning: Conversion of an array with ndim > 0 to a scalar is deprecated, and will error in future. Ensure you extract a single element from your array before performing this operation. (Deprecated NumPy 1.25.)\n",
      "  right_center_point = lms.AddControlPoint(right_center)\n"
     ]
    }
   ],
   "source": [
    "# Import lms and add center points to it\n",
    "lms = slicer.util.getNode('lms')\n",
    "left_center_point = lms.AddControlPoint(left_center)\n",
    "lms.SetNthControlPointLabel(left_center_point, 'femur_l_center')\n",
    "right_center_point = lms.AddControlPoint(right_center)\n",
    "lms.SetNthControlPointLabel(right_center_point, 'femur_r_center')"
   ]
  },
  {
   "cell_type": "markdown",
   "id": "67302caf",
   "metadata": {},
   "source": [
    "<div class=\"alert alert-block alert-info\">\n",
    "    <b>In 3dSlicer GUI</b>, place the following key markers:\n",
    "    \n",
    " 1) _torso_origin_in_pelvis_ : defined as a point at the posterior edge of the intervertebral disk between L5 and sacrum on the yellow mid-sagittal slice. This point must later be in the same slice as _pelvis_origin_ and _pelvis_origin_in_ground_ .\n",
    "   \n",
    " 3) _ASIS_l_ and _ASIS_r_ : defined as the anteriormost point of the iliac blades that touches skin on the red slice; on the green slice, the same point should look like as small round shadow and on the yellow slice it is anteroinferior point of the iliac blade.\n",
    "    \n",
    " 4) _PSIS_l and _PSIS_r_ : defined as posterior and iferior points of iliac blades. They should be positioned posterior to sacrum. On the red slice, the sacrum must still be visible, probably it's uppermost vertebra.\n",
    "    \n",
    " 5) _pub_infer_c_ and _pub_super_c_ : defined as the inferior and superior point on the sagittal optline of the pubic symphysis. Please note that the two points should lie along the longest axis of the sympysis.\n",
    "    \n",
    "</div>"
   ]
  },
  {
   "cell_type": "code",
   "execution_count": 18,
   "id": "04c5a3f5",
   "metadata": {},
   "outputs": [],
   "source": [
    "# re-load lms node\n",
    "lms = slicer.util.getNode('lms')\n",
    "lms_list = slicer.util.arrayFromMarkupsControlPoints(lms)\n",
    "\n",
    "asis_l = lms_list[lms.GetControlPointIndexByLabel('ASIS_l')]\n",
    "asis_r = lms_list[lms.GetControlPointIndexByLabel('ASIS_r')]\n",
    "\n",
    "pelvis_origin = np.mean((asis_l, asis_r), axis = 0)\n",
    "pelvis_origin_point = lms.AddControlPoint(vtk.vtkVector3d(pelvis_origin))\n",
    "lms.SetNthControlPointLabel(pelvis_origin_point, 'pelvis_origin')\n",
    "\n",
    "psis_l = lms_list[lms.GetControlPointIndexByLabel('PSIS_l')]\n",
    "psis_r = lms_list[lms.GetControlPointIndexByLabel('PSIS_r')]\n",
    "psis_c = np.mean((psis_l, psis_r), axis = 0)\n",
    "\n",
    "pub_infer_c = lms_list[lms.GetControlPointIndexByLabel('pub_infer_c')]\n",
    "pub_super_c = lms_list[lms.GetControlPointIndexByLabel('pub_super_c')]"
   ]
  },
  {
   "cell_type": "code",
   "execution_count": 4,
   "id": "aa1c66fd",
   "metadata": {
    "scrolled": true
   },
   "outputs": [],
   "source": [
    "# define new normal for the red slice\n",
    "red_slice_new_normal = np.cross((pelvis_origin - psis_l), (pelvis_origin - psis_r))\n",
    "red_slice_new_normal = red_slice_new_normal/np.linalg.norm(red_slice_new_normal)"
   ]
  },
  {
   "cell_type": "code",
   "execution_count": 6,
   "id": "0f069126",
   "metadata": {},
   "outputs": [],
   "source": [
    "# reorient red slice\n",
    "redSliceNode = slicer.util.getNode(\"vtkMRMLSliceNodeRed\")\n",
    "setSlicePoseFromSliceNormalAndPosition(\n",
    "    redSliceNode, red_slice_new_normal, \n",
    "    np.mean((psis_l, psis_r, pelvis_origin), \n",
    "            axis = 0)) ## red slice now shows PSIS_l, PSIS_r and pelvis_origin points"
   ]
  },
  {
   "cell_type": "code",
   "execution_count": 7,
   "id": "cdc87d2c",
   "metadata": {},
   "outputs": [],
   "source": [
    "# reorient green slice\n",
    "greenSliceNode = slicer.util.getNode(\"vtkMRMLSliceNodeGreen\")\n",
    "setSlicePoseFromSliceNormalAndPosition(\n",
    "    greenSliceNode, np.array([0,-1,0]), \n",
    "    np.mean((psis_l, psis_r, pelvis_origin), \n",
    "            axis = 0)) ## green slice now crossects pelvis in the middle"
   ]
  },
  {
   "cell_type": "markdown",
   "id": "ea4d63f8",
   "metadata": {},
   "source": [
    "<div class=\"alert alert-block alert-info\">\n",
    "<b>In 3dSclier GUI, collect a number of key markers:</b>\n",
    "    \n",
    "1)  _ilium_l_ and _ilium_r_ : move the red slice up so that it touches the tops of iliac crests. The green slice position marks the centre between psis and pelvis origin markers. The red slice should show an elongated shadow of the left or/and right iliac crests are visible but do not quite reach the green line, which marks the position of the green slice when observed on the red. The points should be placed at the anterior corner of the right or left iliac crest shadow. Once done, return the red slice to default poisiton (see panel above the slice, change 'reformat' to 'axial'). \n",
    "\n",
    "2) _knee_l_lat_ and _knee_r_lat_ : these shoule be placed on the lateralmost points of lateral femoral epicondyles.\n",
    "\n",
    "3) _ankle_l_lat_ and _ankle_l_lat_ : these should be placed on lateralmost points of fibulas# lateral malleolae.\n",
    "    \n",
    "   </div>"
   ]
  },
  {
   "cell_type": "code",
   "execution_count": 27,
   "id": "e66b0660",
   "metadata": {},
   "outputs": [],
   "source": [
    "# reorient yellow slice to be perpendicular ASIS axis:\n",
    "yellowSliceNode = slicer.util.getNode(\"vtkMRMLSliceNodeYellow\")\n",
    "asis_axis = (asis_r - asis_l)/np.linalg.norm(asis_r - asis_l)\n",
    "setSlicePoseFromSliceNormalAndPosition(yellowSliceNode, asis_axis , pub_super_c)"
   ]
  },
  {
   "cell_type": "code",
   "execution_count": 23,
   "id": "c4da352d",
   "metadata": {},
   "outputs": [],
   "source": [
    "# reorient green slice again so that it is perpendicular to the pubic symphyis and passess through pub_sup_c:\n",
    "greenSliceNode = slicer.util.getNode(\"vtkMRMLSliceNodeGreen\")\n",
    "psis_symph_axis = (pub_super_c - psis_c)/np.linalg.norm(pub_super_c - psis_c)\n",
    "setSlicePoseFromSliceNormalAndPosition(greenSliceNode, psis_symph_axis , pub_super_c)"
   ]
  },
  {
   "cell_type": "code",
   "execution_count": 20,
   "id": "1a7d7413",
   "metadata": {},
   "outputs": [],
   "source": [
    "# reorient red slice again so that it is perpendicular to the pubic symphyis and passess through pub_sup_c:\n",
    "redSliceNode = slicer.util.getNode(\"vtkMRMLSliceNodeRed\")\n",
    "symph_axis = (pub_super_c - pub_infer_c)/np.linalg.norm(pub_super_c - pub_infer_c)\n",
    "setSlicePoseFromSliceNormalAndPosition(redSliceNode, symph_axis, pub_super_c)"
   ]
  },
  {
   "cell_type": "markdown",
   "id": "78d1f92f",
   "metadata": {},
   "source": [
    "<div class=\"alert alert-block alert-info\">pubic tubercle points should lie on the line of the red/green crossection at the point of the pub_super_c</div>"
   ]
  },
  {
   "cell_type": "code",
   "execution_count": 29,
   "id": "8e3e1d48",
   "metadata": {},
   "outputs": [],
   "source": [
    "# reorient red slice to make it anterior as in Rajagopal et al 2016 passessing through pub_sup_c:\n",
    "redSliceNode = slicer.util.getNode(\"vtkMRMLSliceNodeRed\")\n",
    "pelvis_origin_to_symph = (pub_super_c - pelvis_origin)/np.linalg.norm(pub_super_c - pelvis_origin)\n",
    "fronal_norm = np.cross(asis_axis, pelvis_origin_to_symph)\n",
    "\n",
    "setSlicePoseFromSliceNormalAndPosition(redSliceNode, fronal_norm, pub_super_c)"
   ]
  },
  {
   "cell_type": "markdown",
   "id": "c4a985bb",
   "metadata": {},
   "source": [
    "# Warp the template to the space of the MRI"
   ]
  },
  {
   "cell_type": "markdown",
   "id": "a3ea5c54",
   "metadata": {},
   "source": [
    "<div class=\"alert alert-block alert-info\">\n",
    "<b> Create a new lm markup, name it any way you like, and do the following:</b>\n",
    "    \n",
    "1) From _orientation_template_, copy points that match those already in lms to the new lm markup; \n",
    "2) Change the list position of the points so that your new markup is identical to lms;\n",
    "3) Use module 'IGT' -> 'fiducial registration' to create new transform from your new markup to lms (warping); \n",
    "4) Move the _orientation_template_ landmarks to the transform dependancy to check points fit the image; \n",
    "5) If the above answer is 'yes', return _orientation_template_ to the independent position, clone it and rename the clone to 'orientation'.\n",
    "6) Move the 'orientation' clone to the transform dependentcy and harden the transform.\n",
    "\n",
    "Superimposed landmarks should fit exactly.\n",
    "</div>"
   ]
  },
  {
   "cell_type": "markdown",
   "id": "858bd359",
   "metadata": {},
   "source": [
    "# Adjust the position of warped landmarks"
   ]
  },
  {
   "cell_type": "markdown",
   "id": "858720fe",
   "metadata": {},
   "source": [
    "<div class=\"alert alert-block alert-info\">\n",
    "<b>Adjust location of projected landmarks, starting from the top:</b>\n",
    "\n",
    "_gr_troch_as_l_ and _gr_troch_as_r_** -- greater trochanter anterosuperior -- defined as the anterior point on the smallest red crossection through the greater trochanter, roughly corresponds with the superior point of the greater trochanter anatomically; one needs to be careful to distinguish between the bone, fat and tendons\n",
    "\n",
    "_gr_troch_lat_l_ and _gr_troch_lat_r_** -- greater trochanter lateral -- defined as the lateralmost point on the green slice through greater trochanter, it should lie posteriorly to the gr_troch_as point\n",
    "\n",
    "**__NB position of trochanter points is likely to be influenced by the rotaion of the femur: watch the effects__\n",
    "\n",
    "_isch_tuber_l_ and _isch_tuber_r_ -- ischial tuberosity -- defined as the posteriormost landmark on ischial tuberosity, on the green slice is marked as black endpoint of the bone\n",
    "\n",
    "_pub_infer_c_ -- pubis inferior central -- inferiormost point of the pubic sympysis impriz on the central yellow slice (controlled by the red and green)\n",
    "\n",
    "_isch_infer_l_ and _isch_infer-r_ -- ischial [bone] inferior -- defined as infero-anteriormost point of the imprint of the ischio-pubic arch on the red slice (control on the green and yellow)\n",
    "\n",
    "**__Here, one needs to skip midshaft points as their position depends on the axis of the femur and therefore its inclination relative to slices - they will be adjusted later__\n",
    "\n",
    "_knee_l_med_ and _knee_r_med_ -- knee medial, defined as the medial-most point of femur medial epicondyle on the red slice; this point should be roughly inline with the lateral knee point and the center of the intercondylar fossa\n",
    "\n",
    "_ankle_l_med_ and _ankle_r_med_ -- medial malleolus on left and right tibias; defined as the most medially prominent point on tibial malleolus\n",
    "</div>"
   ]
  },
  {
   "cell_type": "markdown",
   "id": "1936b0ab-7f58-4bf5-b09d-7507052331b8",
   "metadata": {},
   "source": [
    "## Calculate and update central points for the knee and the ankle"
   ]
  },
  {
   "cell_type": "code",
   "execution_count": 14,
   "id": "9e3db2f3",
   "metadata": {},
   "outputs": [],
   "source": [
    "## note that knee needs two sets of points updated: the ones that will be in child and \n",
    "## the ones that will be in parent frames\n",
    "\n",
    "lms = slicer.util.getNode('orientation')\n",
    "lms_list = slicer.util.arrayFromMarkupsControlPoints(lms)\n",
    "\n",
    "knee_l_lat = lms_list[lms.GetControlPointIndexByLabel('knee_l_lat')]\n",
    "knee_l_med = lms_list[lms.GetControlPointIndexByLabel('knee_l_med')]\n",
    "knee_l_center = lms.GetControlPointIndexByLabel('knee_l_center')\n",
    "knee_l_center_in_femur_l = lms.GetControlPointIndexByLabel('knee_l_center_in_femur_l')\n",
    "temp1 = np.mean((knee_l_lat, knee_l_med), axis = 0)\n",
    "lms.SetNthControlPointPosition(knee_l_center, temp1[0], temp1[1], temp1[2])\n",
    "lms.SetNthControlPointPosition(knee_l_center_in_femur_l, temp1[0], temp1[1], temp1[2])\n",
    "\n",
    "knee_r_lat = lms_list[lms.GetControlPointIndexByLabel('knee_r_lat')]\n",
    "knee_r_med = lms_list[lms.GetControlPointIndexByLabel('knee_r_med')]\n",
    "knee_r_center = lms.GetControlPointIndexByLabel('knee_r_center')\n",
    "knee_r_center_in_femur_r = lms.GetControlPointIndexByLabel('knee_r_center_in_femur_r')\n",
    "temp2 = np.mean((knee_r_lat, knee_r_med), axis = 0)\n",
    "lms.SetNthControlPointPosition(knee_r_center, temp2[0], temp2[1], temp2[2])\n",
    "lms.SetNthControlPointPosition(knee_r_center_in_femur_r, temp2[0], temp2[1], temp2[2])\n",
    "\n",
    "ankle_l_lat = lms_list[lms.GetControlPointIndexByLabel('ankle_l_lat')]\n",
    "ankle_l_med = lms_list[lms.GetControlPointIndexByLabel('ankle_l_med')]\n",
    "ankle_l_center = lms.GetControlPointIndexByLabel('ankle_l_center')\n",
    "temp3 = np.mean((ankle_l_lat, ankle_l_med), axis = 0)\n",
    "lms.SetNthControlPointPosition(ankle_l_center, temp3[0], temp3[1], temp3[2])\n",
    "\n",
    "ankle_r_lat = lms_list[lms.GetControlPointIndexByLabel('ankle_r_lat')]\n",
    "ankle_r_med = lms_list[lms.GetControlPointIndexByLabel('ankle_r_med')]\n",
    "ankle_r_center = lms.GetControlPointIndexByLabel('ankle_r_center')\n",
    "temp4 = np.mean((ankle_r_lat, ankle_r_med), axis = 0)\n",
    "lms.SetNthControlPointPosition(ankle_r_center, temp4[0], temp4[1], temp4[2])"
   ]
  },
  {
   "cell_type": "markdown",
   "id": "f44e8c81",
   "metadata": {},
   "source": [
    "## Locate lat and med points on tibias, and update locations of patella landmarks"
   ]
  },
  {
   "cell_type": "markdown",
   "id": "4ec91b91",
   "metadata": {},
   "source": [
    "### Left tibia"
   ]
  },
  {
   "cell_type": "code",
   "execution_count": 4,
   "id": "0eacc37a",
   "metadata": {},
   "outputs": [],
   "source": [
    "# First, calculate tibial axes\n",
    "lms = slicer.util.getNode('orientation')\n",
    "lms_list = slicer.util.arrayFromMarkupsControlPoints(lms)\n",
    "\n",
    "knee_l_center = lms_list[lms.GetControlPointIndexByLabel('knee_l_center')]\n",
    "ankle_l_center = lms_list[lms.GetControlPointIndexByLabel('ankle_l_center')]\n",
    "tibia_l_normal = (knee_l_center-ankle_l_center)/np.linalg.norm(knee_l_center-ankle_l_center)"
   ]
  },
  {
   "cell_type": "code",
   "execution_count": 5,
   "id": "7ba83332",
   "metadata": {},
   "outputs": [],
   "source": [
    "# Second, reorient the red slice perpendicular to the ankle-knee axis for the left tibia\n",
    "redSliceNode = slicer.util.getNode(\"vtkMRMLSliceNodeRed\")\n",
    "setSlicePoseFromSliceNormalAndPosition(redSliceNode, tibia_l_normal, knee_l_center)"
   ]
  },
  {
   "cell_type": "markdown",
   "id": "4ed5216b-f305-4c54-8faa-ea5cba855df9",
   "metadata": {},
   "source": [
    "<div class=\"alert alert-block alert-info\">\n",
    "    <b>In 3dSclicer GUI</b>, move the red slice to intersect with the uppermost part of the tibial plateau, and place the lateral and medial across the longest axis.\n",
    "        </div>"
   ]
  },
  {
   "cell_type": "code",
   "execution_count": 6,
   "id": "ca8fe735-a3cb-4865-90e0-350c2710df8a",
   "metadata": {},
   "outputs": [],
   "source": [
    "# import medial and lateral points into jupyter\n",
    "lms = slicer.util.getNode('orientation')\n",
    "lms_list = slicer.util.arrayFromMarkupsControlPoints(lms)\n",
    "\n",
    "tibia_l_lat = lms_list[lms.GetControlPointIndexByLabel('tibia_l_lat')]\n",
    "tibia_l_med = lms_list[lms.GetControlPointIndexByLabel('tibia_l_med')]\n"
   ]
  },
  {
   "cell_type": "markdown",
   "id": "c5d5d156-f822-43df-95fb-3561186b485f",
   "metadata": {},
   "source": [
    "<div class=\"alert alert-block alert-info\">\n",
    "<b>While here</b>, adjust the position of landmarks on fibula: <em>fibula_l_as</em> is the anterior tip of the proximal end of the bone; <em>fibula_l_sup</em> - is the superior tip of the proximal head. These are best seen on the yellow slice but can be also controlled on the red slice.\n",
    "</div>\n",
    "<div class=\"alert alert-block alert-info\">\n",
    "    <b>Contunue using the same orientation of the red slice</b>, move the slice up so that it cuts across the widest part of the left patella, and adjust the lateral, medial, and anterior points of the patella in this view. The anterior point should be roughly in the middle of the frontal surface. Then, follow the code below to adjust the orientation of the yellow slice :\n",
    "    </div>"
   ]
  },
  {
   "cell_type": "code",
   "execution_count": 7,
   "id": "85f3abc1-0ebc-4ff9-8464-6e3c4831d899",
   "metadata": {},
   "outputs": [],
   "source": [
    "lms = slicer.util.getNode('orientation')\n",
    "lms_list = slicer.util.arrayFromMarkupsControlPoints(lms)\n",
    "\n",
    "patella_lat_l = lms_list[lms.GetControlPointIndexByLabel('patella_lat_l')]\n",
    "patella_med_l = lms_list[lms.GetControlPointIndexByLabel('patella_med_l')]\n",
    "patella_l_anter = lms_list[lms.GetControlPointIndexByLabel('patella_l_anter')]\n",
    "\n",
    "yellowSliceNode = slicer.util.getNode(\"vtkMRMLSliceNodeYellow\")\n",
    "patella_l_normal = (patella_med_l - patella_lat_l)/np.linalg.norm(patella_med_l - patella_lat_l)\n",
    "setSlicePoseFromSliceNormalAndPosition(yellowSliceNode, patella_l_normal, patella_l_anter)"
   ]
  },
  {
   "cell_type": "markdown",
   "id": "5c79cc43-7cfa-498d-ac95-7356f139044a",
   "metadata": {},
   "source": [
    "<div class=\"alert alert-block alert-info\">\n",
    " Then, <b>switch to the yellow slice</b> and display the anterior point of the patella on it. From here, move the slice so that the lowest tip of the patella is visible and adjust the position of <em>patella_l</em> landmark. Move <em>patella_sup_l</em> such that it demarcates the top of the left patella on the same yellow slice as <em>patella_l</em>. \n",
    "</div>"
   ]
  },
  {
   "cell_type": "code",
   "execution_count": 8,
   "id": "2030165a",
   "metadata": {},
   "outputs": [],
   "source": [
    "# rotate the green slice so that it is parallel to patella mediolateral axis and center it on the ankle:\n",
    "# the frontal plane should go through the ankle center and through the medial and lateral points on the tibial plateau\n",
    "tibia_l_frontal_plane_normal = np.cross(tibia_l_normal, patella_l_normal)\n",
    "\n",
    "greenSliceNode = slicer.util.getNode(\"vtkMRMLSliceNodeGreen\")\n",
    "\n",
    "setSlicePoseFromSliceNormalAndPosition(greenSliceNode, tibia_l_frontal_plane_normal, ankle_l_center)"
   ]
  },
  {
   "cell_type": "markdown",
   "id": "98cb5a66",
   "metadata": {},
   "source": [
    "<div class=\"alert alert-block alert-info\">\n",
    " <b>As you look at the green slice, move the location of the red slice </b> so that it cuts across tha tibial epiphysis just below the joint surface. Adjust the position of <em>tibia_l_lat</em> and <em>tibia_l_med</em> so that they are visible on both, green and red slices, i.e to the plane that goes through the ankle centre.\n",
    "</div>"
   ]
  },
  {
   "cell_type": "code",
   "execution_count": 9,
   "id": "3e39a1c8",
   "metadata": {},
   "outputs": [],
   "source": [
    "# import new locations of the tibia medial and lateral points into jupyter\n",
    "# and recalculate the position of the tibial plateau center\n",
    "\n",
    "lms = slicer.util.getNode('orientation')\n",
    "lms_list = slicer.util.arrayFromMarkupsControlPoints(lms)\n",
    "\n",
    "tibia_l_lat = lms_list[lms.GetControlPointIndexByLabel('tibia_l_lat')]\n",
    "tibia_l_med = lms_list[lms.GetControlPointIndexByLabel('tibia_l_med')]\n",
    "\n",
    "tibia_l_center = np.mean((tibia_l_lat, tibia_l_med), axis=0)\n",
    "\n",
    "lms.SetNthControlPointPosition(lms.GetControlPointIndexByLabel('tibia_l_center'), \n",
    "                               tibia_l_center[0], \n",
    "                               tibia_l_center[1], \n",
    "                               tibia_l_center[2])"
   ]
  },
  {
   "cell_type": "code",
   "execution_count": 10,
   "id": "9cfff55d",
   "metadata": {},
   "outputs": [],
   "source": [
    "# Reorient yellow slice to be strictly perpendicular to medio-lateral axis of the tibia \n",
    "# and center it at the center of the bone.\n",
    "yellowSliceNode = slicer.util.getNode(\"vtkMRMLSliceNodeYellow\")\n",
    "tibia_l_sagittal_plane_normal = (tibia_l_med - tibia_l_lat)/np.linalg.norm(tibia_l_med - tibia_l_lat)\n",
    "setSlicePoseFromSliceNormalAndPosition(yellowSliceNode, tibia_l_sagittal_plane_normal, tibia_l_center) "
   ]
  },
  {
   "cell_type": "markdown",
   "id": "e8c5dacb",
   "metadata": {},
   "source": [
    "<div class=\"alert alert-block alert-info\">\n",
    " <b>Now that red, green and yellow slices are all aligned with the tibia axes, </b> place a number of landmarks that witll help a better description of the tibial shape. The toughest part is to describe the shape of the central and medial side of the tibial ephiphysis. Therefore, keep placement of the new markers strictly on the slices that coinside with the bone axes. \n",
    "    <p>on the yellow slice:  \n",
    "    <li> <em>tibia_l_epiph_yellow_posteriormost</em> </li> \n",
    "    <li> <em>tibia_l_epiph_yellow_anterior_plate</em> </li> \n",
    "    <li> <em>tibia_l_epiph_yellow_patel_tend_point</em> </li> \n",
    "    <li> <em>tibia_l_ankle_yellow_anter</em> </li> \n",
    "    </p> \n",
    "    <p>on the green slice: \n",
    "    <li> <em>tibia_l_epiph_green_medial_lower_epiph</em> </li></p>\n",
    "\n",
    "</div>"
   ]
  },
  {
   "cell_type": "code",
   "execution_count": 13,
   "id": "461068ce-f8e2-4dc2-9614-df4018db8741",
   "metadata": {},
   "outputs": [],
   "source": [
    "# return slices into the default positions\n",
    "setSlicePoseFromSliceNormalAndPosition(redSliceNode, np.array([0,0,1]), knee_l_center)\n",
    "setSlicePoseFromSliceNormalAndPosition(yellowSliceNode, np.array([1,0,0]), knee_l_center)\n",
    "setSlicePoseFromSliceNormalAndPosition(greenSliceNode, np.array([0,1,0]), knee_l_center)"
   ]
  },
  {
   "cell_type": "markdown",
   "id": "069430d2",
   "metadata": {},
   "source": [
    "### Right tibia"
   ]
  },
  {
   "cell_type": "code",
   "execution_count": 14,
   "id": "6e9d97a0",
   "metadata": {},
   "outputs": [],
   "source": [
    "# First, calculate tibial axes\n",
    "lms = slicer.util.getNode('orientation')\n",
    "lms_list = slicer.util.arrayFromMarkupsControlPoints(lms)\n",
    "\n",
    "knee_r_center = lms_list[lms.GetControlPointIndexByLabel('knee_r_center')]\n",
    "ankle_r_center = lms_list[lms.GetControlPointIndexByLabel('ankle_r_center')]\n",
    "tibia_r_normal = (knee_r_center-ankle_r_center)/np.linalg.norm(knee_r_center-ankle_r_center)"
   ]
  },
  {
   "cell_type": "code",
   "execution_count": 15,
   "id": "212139a1",
   "metadata": {},
   "outputs": [],
   "source": [
    "# Third, reorient red slice perpendicular to ankle-knee axis for the right tibia\n",
    "\n",
    "redSliceNode = slicer.util.getNode(\"vtkMRMLSliceNodeRed\")\n",
    "setSlicePoseFromSliceNormalAndPosition(redSliceNode, tibia_r_normal, knee_r_center)\n"
   ]
  },
  {
   "cell_type": "markdown",
   "id": "a9218ef0",
   "metadata": {},
   "source": [
    "<div class=\"alert alert-block alert-info\">\n",
    "    <b>In 3dSclicer GUI</b>, move the red slice to intersect with the uppermost part of the tibial plateau, and place the lateral and medial across the longest axis.\n",
    "        </div>"
   ]
  },
  {
   "cell_type": "code",
   "execution_count": 16,
   "id": "80d899e6-4cd6-496a-8661-01333a276055",
   "metadata": {},
   "outputs": [],
   "source": [
    "# import medial and lateral points into jupyter\n",
    "lms = slicer.util.getNode('orientation')\n",
    "lms_list = slicer.util.arrayFromMarkupsControlPoints(lms)\n",
    "\n",
    "tibia_r_lat = lms_list[lms.GetControlPointIndexByLabel('tibia_r_lat')]\n",
    "tibia_r_med = lms_list[lms.GetControlPointIndexByLabel('tibia_r_med')]\n",
    "\n"
   ]
  },
  {
   "cell_type": "markdown",
   "id": "d1224bae",
   "metadata": {},
   "source": [
    "<div class=\"alert alert-block alert-info\">\n",
    "<b>While here</b>, adjust the position of landmarks on fibula: <em>fibula_r_as</em> is the anterior tip of the proximal end of the bone; <em>fibula_r_sup</em> - is the superior tip of the proximal head. These are best seen on the yellow slice but can be also controlled on the red slice.\n",
    "</div>\n",
    "<div class=\"alert alert-block alert-info\">\n",
    "    <b>Contunue using the same orientation of the red slice</b>, move the slice up so that it cuts across the widest part of the left patella, and adjust the lateral, medial, and anterior points of the patella in this view. The anterior point should be roughly in the middle of the frontal surface. Then, follow the code below to adjust the orientation of the yellow slice :\n",
    "    </div>"
   ]
  },
  {
   "cell_type": "code",
   "execution_count": 17,
   "id": "e2ecd72a-0522-46d7-9cb3-9a2089b2a7eb",
   "metadata": {},
   "outputs": [],
   "source": [
    "lms = slicer.util.getNode('orientation')\n",
    "lms_list = slicer.util.arrayFromMarkupsControlPoints(lms)\n",
    "\n",
    "patella_lat_r = lms_list[lms.GetControlPointIndexByLabel('patella_lat_r')]\n",
    "patella_med_r = lms_list[lms.GetControlPointIndexByLabel('patella_med_r')]\n",
    "patella_r_anter = lms_list[lms.GetControlPointIndexByLabel('patella_r_anter')]\n",
    "\n",
    "yellowSliceNode = slicer.util.getNode(\"vtkMRMLSliceNodeYellow\")\n",
    "patella_r_normal = (patella_med_r - patella_lat_r)/np.linalg.norm(patella_med_r - patella_lat_r)\n",
    "setSlicePoseFromSliceNormalAndPosition(yellowSliceNode, patella_r_normal, patella_r_anter)"
   ]
  },
  {
   "cell_type": "markdown",
   "id": "2ac09e5c",
   "metadata": {},
   "source": [
    "<div class=\"alert alert-block alert-info\">\n",
    " Then, <b>switch to the yellow slice</b> and display the anterior point of the patella on it. From here, move the slice so that the lowest tip of the patella is visible and adjust the position of <em>patella_r</em> landmark. Move <em>patella_sup_r</em> such that it demarcates the top of the left patella on the same yellow slice as <em>patella_r</em>.\n",
    "</div>"
   ]
  },
  {
   "cell_type": "code",
   "execution_count": 18,
   "id": "1df43ccc",
   "metadata": {},
   "outputs": [],
   "source": [
    "# rotate the green slice so that it is parallel to patella mediolateral axis and center it at the ankle:\n",
    "# the frontal plane should go through the ankle center and through the medial and lateral points on the tibial plateau\n",
    "tibia_r_frontal_plane_normal = np.cross(tibia_r_normal, patella_r_normal)\n",
    "\n",
    "greenSliceNode = slicer.util.getNode(\"vtkMRMLSliceNodeGreen\")\n",
    "setSlicePoseFromSliceNormalAndPosition(greenSliceNode, tibia_r_frontal_plane_normal, ankle_r_center)"
   ]
  },
  {
   "cell_type": "markdown",
   "id": "7bc7ac1a",
   "metadata": {},
   "source": [
    "<div class=\"alert alert-block alert-info\">\n",
    " <b>As you look at the green slice, move the location of the red slice </b> so that it cuts across tha tibial epiphysis just below the joint surface. Adjust the position of <em>tibia_r_lat</em> and <em>tibia_r_med</em> so that they are visible on both, green and red slices, i.e to the plane that goes through the ankle centre.\n",
    "</div>"
   ]
  },
  {
   "cell_type": "code",
   "execution_count": 19,
   "id": "fdab66c7",
   "metadata": {},
   "outputs": [],
   "source": [
    "# import new locations of the tibia medial and lateral points into jupyter\n",
    "# and recalculate the position of the tibial plateau center\n",
    "\n",
    "lms = slicer.util.getNode('orientation')\n",
    "lms_list = slicer.util.arrayFromMarkupsControlPoints(lms)\n",
    "\n",
    "tibia_r_lat = lms_list[lms.GetControlPointIndexByLabel('tibia_r_lat')]\n",
    "tibia_r_med = lms_list[lms.GetControlPointIndexByLabel('tibia_r_med')]\n",
    "\n",
    "tibia_r_center = np.mean((tibia_r_lat, tibia_r_med), axis=0)\n",
    "\n",
    "lms.SetNthControlPointPosition(lms.GetControlPointIndexByLabel('tibia_r_center'), \n",
    "                               tibia_r_center[0], \n",
    "                               tibia_r_center[1], \n",
    "                               tibia_r_center[2])"
   ]
  },
  {
   "cell_type": "code",
   "execution_count": 20,
   "id": "48b6683c",
   "metadata": {},
   "outputs": [],
   "source": [
    "# Reorient yellow slice to be strictly perpendicular to medio-lateral axis of the tibia \n",
    "# and center it at the center of the bone.\n",
    "yellowSliceNode = slicer.util.getNode(\"vtkMRMLSliceNodeYellow\")\n",
    "tibia_r_sagittal_plane_normal = (tibia_r_med - tibia_r_lat)/np.linalg.norm(tibia_r_med - tibia_r_lat)\n",
    "setSlicePoseFromSliceNormalAndPosition(yellowSliceNode, tibia_r_sagittal_plane_normal, tibia_r_center) "
   ]
  },
  {
   "cell_type": "markdown",
   "id": "e6f6891c",
   "metadata": {},
   "source": [
    "<div class=\"alert alert-block alert-info\">\n",
    " <b>Now that red, green and yellow slices are all aligned with the tibia axes, </b> place a number of landmarks that witll help a better description of the tibial shape. The toughest part is to describe the shape of the central and medial side of the tibial ephiphysis. Therefore, keep placement of the new markers strictly on the slices that coinside with the bone axes. \n",
    "    <p>on the yellow slice:  \n",
    "    <li> <em>tibia_r_epiph_yellow_posteriormost</em> </li> \n",
    "    <li> <em>tibia_r_epiph_yellow_anterior_plate</em> </li> \n",
    "    <li> <em>tibia_r_epiph_yellow_patel_tend_point</em> </li> \n",
    "    <li> <em>tibia_r_ankle_yellow_anter</em> </li> \n",
    "    </p> \n",
    "    <p>on the green slice: \n",
    "    <li> <em>tibia_r_epiph_green_medial_lower_epiph</em> </li></p>\n",
    "\n",
    "</div>"
   ]
  },
  {
   "cell_type": "code",
   "execution_count": 21,
   "id": "523159aa",
   "metadata": {},
   "outputs": [],
   "source": [
    "# return slices into the default positions\n",
    "setSlicePoseFromSliceNormalAndPosition(redSliceNode, np.array([0,0,1]), knee_r_center)\n",
    "setSlicePoseFromSliceNormalAndPosition(yellowSliceNode, np.array([1,0,0]), knee_r_center)\n",
    "setSlicePoseFromSliceNormalAndPosition(greenSliceNode, np.array([0,1,0]), knee_r_center)"
   ]
  },
  {
   "cell_type": "markdown",
   "id": "ebfa6c4d",
   "metadata": {},
   "source": [
    "## Locate midshaft points on tibias, fibulas and femora"
   ]
  },
  {
   "cell_type": "code",
   "execution_count": 10,
   "id": "14a85b41",
   "metadata": {},
   "outputs": [],
   "source": [
    "## Left tibia\n",
    "fibula_l_midshaft_anter = lms.GetControlPointIndexByLabel('fibula_l_midshaft_anter')\n",
    "tibia_l_midshaft_anter = lms.GetControlPointIndexByLabel('tibia_l_midshaft_anter')\n",
    "tibia_l_midshaft_poster = lms.GetControlPointIndexByLabel('tibia_l_midshaft_poster')\n",
    "tibia_l_mean = np.mean((knee_l_center,ankle_l_center), axis=0)"
   ]
  },
  {
   "cell_type": "code",
   "execution_count": 29,
   "id": "6b128dc7",
   "metadata": {},
   "outputs": [],
   "source": [
    "### the next step will locate midshaft landmarks APPROXIMATELY in the middle of diaphisis\n",
    "lms.SetNthControlPointPosition(fibula_l_midshaft_anter, \n",
    "                               lms_list[fibula_l_midshaft_anter][0], \n",
    "                               lms_list[fibula_l_midshaft_anter][1], \n",
    "                               tibia_l_mean[2])\n",
    "lms.SetNthControlPointPosition(tibia_l_midshaft_anter, \n",
    "                               lms_list[tibia_l_midshaft_anter][0], \n",
    "                               lms_list[tibia_l_midshaft_anter][1], \n",
    "                               tibia_l_mean[2])\n",
    "lms.SetNthControlPointPosition(tibia_l_midshaft_poster, \n",
    "                               lms_list[tibia_l_midshaft_poster][0], \n",
    "                               lms_list[tibia_l_midshaft_poster][1], \n",
    "                               tibia_l_mean[2])"
   ]
  },
  {
   "cell_type": "code",
   "execution_count": 11,
   "id": "f13b4a76",
   "metadata": {},
   "outputs": [],
   "source": [
    "### reorient the red slice:\n",
    "setSlicePoseFromSliceNormalAndPosition(redSliceNode, tibia_l_normal, tibia_l_mean)"
   ]
  },
  {
   "cell_type": "markdown",
   "id": "e3f2e737",
   "metadata": {},
   "source": [
    "<div class=\"alert alert-block alert-info\">\n",
    "<b>In 3dSlicer GUI</b>, adjust landmarks position to fit on the above slice exactly anterior or posterior of the shaft.\n",
    "</div>"
   ]
  },
  {
   "cell_type": "code",
   "execution_count": 13,
   "id": "f792a06c",
   "metadata": {},
   "outputs": [],
   "source": [
    "## Right tibia\n",
    "fibula_r_midshaft_anter = lms.GetControlPointIndexByLabel('fibula_r_midshaft_anter')\n",
    "tibia_r_midshaft_anter = lms.GetControlPointIndexByLabel('tibia_r_midshaft_anter')\n",
    "tibia_r_midshaft_poster = lms.GetControlPointIndexByLabel('tibia_r_midshaft_poster')\n",
    "tibia_r_mean = np.mean((knee_r_center,ankle_r_center), axis=0)"
   ]
  },
  {
   "cell_type": "code",
   "execution_count": 32,
   "id": "0d0f1024",
   "metadata": {},
   "outputs": [],
   "source": [
    "### the next step will locate midshaft landmars APPROXIMATELY in the middle of diaphisis\n",
    "lms.SetNthControlPointPosition(fibula_r_midshaft_anter, \n",
    "                               lms_list[fibula_r_midshaft_anter][0], \n",
    "                               lms_list[fibula_r_midshaft_anter][1], \n",
    "                               tibia_r_mean[2])\n",
    "lms.SetNthControlPointPosition(tibia_r_midshaft_anter, \n",
    "                               lms_list[tibia_r_midshaft_anter][0], \n",
    "                               lms_list[tibia_r_midshaft_anter][1], \n",
    "                               tibia_r_mean[2])\n",
    "lms.SetNthControlPointPosition(tibia_r_midshaft_poster, \n",
    "                               lms_list[tibia_r_midshaft_poster][0], \n",
    "                               lms_list[tibia_r_midshaft_poster][1], \n",
    "                               tibia_r_mean[2])"
   ]
  },
  {
   "cell_type": "code",
   "execution_count": 14,
   "id": "85a7b62a",
   "metadata": {},
   "outputs": [],
   "source": [
    "### reorient the red slice:\n",
    "setSlicePoseFromSliceNormalAndPosition(redSliceNode, tibia_r_normal, tibia_r_mean)"
   ]
  },
  {
   "cell_type": "markdown",
   "id": "18a3b5b5",
   "metadata": {},
   "source": [
    "<div class=\"alert alert-block alert-info\">\n",
    "<b>In 3dSlicer GUI</b>, adjust landmarks position to fit on this slice\n",
    "</div>"
   ]
  },
  {
   "cell_type": "code",
   "execution_count": 34,
   "id": "5a623d8a",
   "metadata": {},
   "outputs": [],
   "source": [
    "## Left femur\n",
    "lms = slicer.util.getNode('orientation')\n",
    "lms_list = slicer.util.arrayFromMarkupsControlPoints(lms)\n",
    "\n",
    "knee_l_center_coords = lms_list[lms.GetControlPointIndexByLabel('knee_l_center')]\n",
    "femur_l_center_coords = lms_list[lms.GetControlPointIndexByLabel('femur_l_center')]\n",
    "femur_l_mean = np.mean((knee_l_center_coords, femur_l_center_coords), axis = 0)\n",
    "\n",
    "femur_l_midshaft_anter = lms.GetControlPointIndexByLabel('femur_l_midshaft_anter')\n",
    "lms.SetNthControlPointPosition(femur_l_midshaft_anter, \n",
    "                               lms_list[femur_l_midshaft_anter][0], \n",
    "                               lms_list[femur_l_midshaft_anter][1], \n",
    "                               femur_l_mean[2])\n",
    "\n",
    "femur_l_midshaft_poster = lms.GetControlPointIndexByLabel('femur_l_midshaft_poster')\n",
    "lms.SetNthControlPointPosition(femur_l_midshaft_poster, \n",
    "                               lms_list[femur_l_midshaft_poster][0], \n",
    "                               lms_list[femur_l_midshaft_poster][1], \n",
    "                               femur_l_mean[2])"
   ]
  },
  {
   "cell_type": "code",
   "execution_count": null,
   "id": "d2dd4e81",
   "metadata": {},
   "outputs": [],
   "source": [
    "### reorient the red slice:\n",
    "femur_l_normal = (femur_l_center_coords-knee_l_center_coords)/np.linalg.norm(femur_l_center_coords - knee_l_center_coords)\n",
    "setSlicePoseFromSliceNormalAndPosition(redSliceNode, femur_l_normal, femur_l_mean)"
   ]
  },
  {
   "cell_type": "markdown",
   "id": "45a60592",
   "metadata": {},
   "source": [
    "<div class=\"alert alert-block alert-info\">\n",
    "<b>In 3dSlicer</b>, adjust landmarks position to fit on the above slice.\n",
    "</div>"
   ]
  },
  {
   "cell_type": "code",
   "execution_count": 35,
   "id": "3bcb3f3e",
   "metadata": {},
   "outputs": [],
   "source": [
    "## Right femur\n",
    "lms = slicer.util.getNode('orientation')\n",
    "lms_list = slicer.util.arrayFromMarkupsControlPoints(lms)\n",
    "\n",
    "knee_r_center_coords = lms_list[lms.GetControlPointIndexByLabel('knee_r_center')]\n",
    "femur_r_center_coords = lms_list[lms.GetControlPointIndexByLabel('femur_r_center')]\n",
    "femur_r_mean = np.mean((knee_r_center_coords, femur_r_center_coords), axis = 0)\n",
    "\n",
    "femur_r_midshaft_anter = lms.GetControlPointIndexByLabel('femur_r_midshaft_anter')\n",
    "lms.SetNthControlPointPosition(femur_r_midshaft_anter, \n",
    "                               lms_list[femur_r_midshaft_anter][0], \n",
    "                               lms_list[femur_r_midshaft_anter][1], \n",
    "                               femur_r_mean[2])\n",
    "\n",
    "femur_r_midshaft_poster = lms.GetControlPointIndexByLabel('femur_r_midshaft_poster')\n",
    "lms.SetNthControlPointPosition(femur_r_midshaft_poster, \n",
    "                               lms_list[femur_r_midshaft_poster][0], \n",
    "                               lms_list[femur_r_midshaft_poster][1], \n",
    "                               femur_r_mean[2])"
   ]
  },
  {
   "cell_type": "code",
   "execution_count": 36,
   "id": "7bdf8d03",
   "metadata": {},
   "outputs": [],
   "source": [
    "### reorient the red slice:\n",
    "femur_r_normal = (femur_r_center_coords-knee_r_center_coords)/np.linalg.norm(femur_r_center_coords - knee_r_center_coords)\n",
    "setSlicePoseFromSliceNormalAndPosition(redSliceNode, femur_r_normal, femur_r_mean)"
   ]
  },
  {
   "cell_type": "markdown",
   "id": "b5696275",
   "metadata": {},
   "source": [
    "<div class=\"alert alert-block alert-info\">\n",
    "<b>In 3dSlicer</b>, adjust landmarks position to fit on the above slice.\n",
    "</div>"
   ]
  },
  {
   "cell_type": "code",
   "execution_count": null,
   "id": "1c1bfa7e",
   "metadata": {},
   "outputs": [],
   "source": [
    "### return red slice to normal orientation\n",
    "setSlicePoseFromSliceNormalAndPosition(redSliceNode, np.array([0,0,1]), femur_r_mean)"
   ]
  },
  {
   "cell_type": "code",
   "execution_count": 16,
   "id": "17ac03c5",
   "metadata": {},
   "outputs": [],
   "source": [
    "# Update location of joints in parent frames that were previousely omitted -- these should have been projected into the correct location anyway but just to make sure\n",
    "lms = slicer.util.getNode('orientation')\n",
    "lms_list = slicer.util.arrayFromMarkupsControlPoints(lms)\n",
    "\n",
    "pelvis_origin_in_ground_index = lms.GetControlPointIndexByLabel('pelvis_origin_in_ground')\n",
    "pelvis_origin_coords = lms_list[lms.GetControlPointIndexByLabel('pelvis_origin')]\n",
    "lms.SetNthControlPointPosition(pelvis_origin_in_ground_index, \n",
    "                               pelvis_origin_coords[0], \n",
    "                               pelvis_origin_coords[1], \n",
    "                               pelvis_origin_coords[2])\n",
    "\n",
    "femur_l_center_coords = lms_list[lms.GetControlPointIndexByLabel('femur_l_center')]\n",
    "femur_l_center_in_pelvis_index = lms.GetControlPointIndexByLabel('femur_l_center_in_pelvis')\n",
    "lms.SetNthControlPointPosition(femur_l_center_in_pelvis_index, \n",
    "                               femur_l_center_coords[0], \n",
    "                               femur_l_center_coords[1], \n",
    "                               femur_l_center_coords[2])\n",
    "\n",
    "femur_r_center_coords = lms_list[lms.GetControlPointIndexByLabel('femur_r_center')]\n",
    "femur_r_center_in_pelvis_index = lms.GetControlPointIndexByLabel('femur_r_center_in_pelvis')\n",
    "lms.SetNthControlPointPosition(femur_r_center_in_pelvis_index, \n",
    "                               femur_r_center_coords[0], \n",
    "                               femur_r_center_coords[1], \n",
    "                               femur_r_center_coords[2])"
   ]
  }
 ],
 "metadata": {
  "kernelspec": {
   "display_name": "Slicer 5.6",
   "language": "python",
   "name": "slicer-5.6"
  },
  "language_info": {
   "file_extension": ".py",
   "mimetype": "text/x-python",
   "name": "python",
   "version": "3.9.10"
  }
 },
 "nbformat": 4,
 "nbformat_minor": 5
}
