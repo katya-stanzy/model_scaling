{
 "cells": [
  {
   "cell_type": "code",
   "execution_count": 304,
   "metadata": {},
   "outputs": [],
   "source": [
    "import numpy as np\n",
    "import math as m"
   ]
  },
  {
   "cell_type": "code",
   "execution_count": 305,
   "metadata": {},
   "outputs": [],
   "source": [
    "\n",
    "import opensim as osim\n",
    "import xml.etree.ElementTree as ET\n",
    "import numpy as np\n",
    "import pandas as pd\n",
    "import json\n",
    "import os"
   ]
  },
  {
   "cell_type": "markdown",
   "metadata": {},
   "source": [
    "### Import Transformed Markers"
   ]
  },
  {
   "cell_type": "code",
   "execution_count": 306,
   "metadata": {},
   "outputs": [],
   "source": [
    "markers_df = pd.read_csv('model_update/tps_warping_results/markers_transformed.csv', index_col=1)"
   ]
  },
  {
   "cell_type": "code",
   "execution_count": 307,
   "metadata": {},
   "outputs": [
    {
     "data": {
      "text/html": [
       "<div>\n",
       "<style scoped>\n",
       "    .dataframe tbody tr th:only-of-type {\n",
       "        vertical-align: middle;\n",
       "    }\n",
       "\n",
       "    .dataframe tbody tr th {\n",
       "        vertical-align: top;\n",
       "    }\n",
       "\n",
       "    .dataframe thead th {\n",
       "        text-align: right;\n",
       "    }\n",
       "</style>\n",
       "<table border=\"1\" class=\"dataframe\">\n",
       "  <thead>\n",
       "    <tr style=\"text-align: right;\">\n",
       "      <th></th>\n",
       "      <th>body</th>\n",
       "      <th>location</th>\n",
       "    </tr>\n",
       "    <tr>\n",
       "      <th>name</th>\n",
       "      <th></th>\n",
       "      <th></th>\n",
       "    </tr>\n",
       "  </thead>\n",
       "  <tbody>\n",
       "    <tr>\n",
       "      <th>ASIS_r</th>\n",
       "      <td>pelvis</td>\n",
       "      <td>[-0.00279209 -0.006827    0.1093674 ]</td>\n",
       "    </tr>\n",
       "    <tr>\n",
       "      <th>ASIS_l</th>\n",
       "      <td>pelvis</td>\n",
       "      <td>[ 0.00279209  0.006827   -0.1093674 ]</td>\n",
       "    </tr>\n",
       "    <tr>\n",
       "      <th>PSIS_r</th>\n",
       "      <td>pelvis</td>\n",
       "      <td>[-0.12988813  0.00789047  0.03996727]</td>\n",
       "    </tr>\n",
       "    <tr>\n",
       "      <th>PSIS_l</th>\n",
       "      <td>pelvis</td>\n",
       "      <td>[-0.12774221  0.01410826 -0.04601452]</td>\n",
       "    </tr>\n",
       "    <tr>\n",
       "      <th>femur_l_center_in_pelvis</th>\n",
       "      <td>pelvis</td>\n",
       "      <td>[-0.03951082 -0.07010434 -0.09239859]</td>\n",
       "    </tr>\n",
       "    <tr>\n",
       "      <th>femur_r_center_in_pelvis</th>\n",
       "      <td>pelvis</td>\n",
       "      <td>[-0.04875945 -0.08137492  0.07899979]</td>\n",
       "    </tr>\n",
       "    <tr>\n",
       "      <th>ilium_r</th>\n",
       "      <td>pelvis</td>\n",
       "      <td>[-0.0621728   0.0392263   0.11088392]</td>\n",
       "    </tr>\n",
       "    <tr>\n",
       "      <th>ilium_l</th>\n",
       "      <td>pelvis</td>\n",
       "      <td>[-0.0585356   0.05442049 -0.11038004]</td>\n",
       "    </tr>\n",
       "    <tr>\n",
       "      <th>isch_spine_r</th>\n",
       "      <td>pelvis</td>\n",
       "      <td>[-0.09318305 -0.08050016  0.04363959]</td>\n",
       "    </tr>\n",
       "    <tr>\n",
       "      <th>isch_spine_l</th>\n",
       "      <td>pelvis</td>\n",
       "      <td>[-0.08988851 -0.07266706 -0.05943559]</td>\n",
       "    </tr>\n",
       "    <tr>\n",
       "      <th>isch_tuber_r</th>\n",
       "      <td>pelvis</td>\n",
       "      <td>[-0.0939862  -0.11544616  0.05014004]</td>\n",
       "    </tr>\n",
       "    <tr>\n",
       "      <th>isch_tuber_l</th>\n",
       "      <td>pelvis</td>\n",
       "      <td>[-0.08888493 -0.10708868 -0.07273063]</td>\n",
       "    </tr>\n",
       "    <tr>\n",
       "      <th>isch_infer_r</th>\n",
       "      <td>pelvis</td>\n",
       "      <td>[-0.06211167 -0.13741183  0.03295085]</td>\n",
       "    </tr>\n",
       "    <tr>\n",
       "      <th>isch_infer_l</th>\n",
       "      <td>pelvis</td>\n",
       "      <td>[-0.05901981 -0.13028531 -0.0597949 ]</td>\n",
       "    </tr>\n",
       "    <tr>\n",
       "      <th>pub_infer_c</th>\n",
       "      <td>pelvis</td>\n",
       "      <td>[-0.02156785 -0.10691737 -0.00679299]</td>\n",
       "    </tr>\n",
       "  </tbody>\n",
       "</table>\n",
       "</div>"
      ],
      "text/plain": [
       "                            body                               location\n",
       "name                                                                   \n",
       "ASIS_r                    pelvis  [-0.00279209 -0.006827    0.1093674 ]\n",
       "ASIS_l                    pelvis  [ 0.00279209  0.006827   -0.1093674 ]\n",
       "PSIS_r                    pelvis  [-0.12988813  0.00789047  0.03996727]\n",
       "PSIS_l                    pelvis  [-0.12774221  0.01410826 -0.04601452]\n",
       "femur_l_center_in_pelvis  pelvis  [-0.03951082 -0.07010434 -0.09239859]\n",
       "femur_r_center_in_pelvis  pelvis  [-0.04875945 -0.08137492  0.07899979]\n",
       "ilium_r                   pelvis  [-0.0621728   0.0392263   0.11088392]\n",
       "ilium_l                   pelvis  [-0.0585356   0.05442049 -0.11038004]\n",
       "isch_spine_r              pelvis  [-0.09318305 -0.08050016  0.04363959]\n",
       "isch_spine_l              pelvis  [-0.08988851 -0.07266706 -0.05943559]\n",
       "isch_tuber_r              pelvis  [-0.0939862  -0.11544616  0.05014004]\n",
       "isch_tuber_l              pelvis  [-0.08888493 -0.10708868 -0.07273063]\n",
       "isch_infer_r              pelvis  [-0.06211167 -0.13741183  0.03295085]\n",
       "isch_infer_l              pelvis  [-0.05901981 -0.13028531 -0.0597949 ]\n",
       "pub_infer_c               pelvis  [-0.02156785 -0.10691737 -0.00679299]"
      ]
     },
     "execution_count": 307,
     "metadata": {},
     "output_type": "execute_result"
    }
   ],
   "source": [
    "markers_df[markers_df['body']=='pelvis']"
   ]
  },
  {
   "cell_type": "markdown",
   "metadata": {},
   "source": [
    "### Import Transformed Muscle Paths"
   ]
  },
  {
   "cell_type": "code",
   "execution_count": 308,
   "metadata": {},
   "outputs": [],
   "source": [
    "mscles_df = pd.read_csv('model_update/tps_warping_results/muscles_transformed.csv', index_col=1)"
   ]
  },
  {
   "cell_type": "markdown",
   "metadata": {},
   "source": [
    "### Import Transformed Wrapping Surfaces"
   ]
  },
  {
   "cell_type": "code",
   "execution_count": 309,
   "metadata": {},
   "outputs": [],
   "source": [
    "wrp_df = pd.read_csv('model_update/tps_warping_results/wrp_transformed.csv', index_col=1)"
   ]
  },
  {
   "cell_type": "markdown",
   "metadata": {},
   "source": [
    "### Parse current scaled model"
   ]
  },
  {
   "cell_type": "code",
   "execution_count": 310,
   "metadata": {},
   "outputs": [],
   "source": [
    "tree=ET.parse(\"rajagopal_p03_1_forces_scaled.osim\")\n",
    "root = tree.getroot()"
   ]
  },
  {
   "cell_type": "markdown",
   "metadata": {},
   "source": [
    "### Update reference geometry"
   ]
  },
  {
   "cell_type": "code",
   "execution_count": 311,
   "metadata": {},
   "outputs": [],
   "source": [
    "ref_geom_dic = {'body': [], 'Mesh name' : [], 'Mesh file' : []}\n",
    "\n",
    "ref_geom_dic['body'].append(\"pelvis\"); ref_geom_dic['Mesh name'].append(\"pelvis_geom_1\"); ref_geom_dic['Mesh file'].append('model_update\\\\tps_warping_results\\\\r_pelvis.stl')\n",
    "ref_geom_dic['body'].append(\"pelvis\"); ref_geom_dic['Mesh name'].append(\"pelvis_geom_2\"); ref_geom_dic['Mesh file'].append('model_update\\\\tps_warping_results\\\\l_pelvis.stl')\n",
    "ref_geom_dic['body'].append(\"pelvis\"); ref_geom_dic['Mesh name'].append(\"pelvis_geom_3\"); ref_geom_dic['Mesh file'].append('model_update\\\\tps_warping_results\\\\sacrum.stl')\n",
    "\n",
    "ref_geom_dic['body'].append(\"femur_r\"); ref_geom_dic['Mesh name'].append(\"femur_r_geom_1\"); ref_geom_dic['Mesh file'].append('model_update\\\\tps_warping_results\\\\femur_r.stl')\n",
    "ref_geom_dic['body'].append(\"femur_l\"); ref_geom_dic['Mesh name'].append(\"femur_l_geom_1\"); ref_geom_dic['Mesh file'].append('model_update\\\\tps_warping_results\\\\femur_l.stl')\n",
    "\n",
    "ref_geom_dic['body'].append(\"tibia_r\"); ref_geom_dic['Mesh name'].append(\"tibia_r_geom_1\"); ref_geom_dic['Mesh file'].append('model_update\\\\tps_warping_results\\\\tibia_r.stl')\n",
    "ref_geom_dic['body'].append(\"tibia_r\"); ref_geom_dic['Mesh name'].append(\"tibia_r_geom_2\"); ref_geom_dic['Mesh file'].append('model_update\\\\tps_warping_results\\\\fibula_r.stl')\n",
    "\n",
    "ref_geom_dic['body'].append(\"tibia_l\"); ref_geom_dic['Mesh name'].append(\"tibia_l_geom_1\"); ref_geom_dic['Mesh file'].append('model_update\\\\tps_warping_results\\\\tibia_l.stl')\n",
    "ref_geom_dic['body'].append(\"tibia_l\"); ref_geom_dic['Mesh name'].append(\"tibia_l_geom_2\"); ref_geom_dic['Mesh file'].append('model_update\\\\tps_warping_results\\\\fibula_l.stl')\n",
    "\n",
    "ref_geom_dic['body'].append(\"patella_r\"); ref_geom_dic['Mesh name'].append(\"patella_r_geom_1\"); ref_geom_dic['Mesh file'].append('model_update\\\\tps_warping_results\\\\patella_r.stl')\n",
    "ref_geom_dic['body'].append(\"patella_l\"); ref_geom_dic['Mesh name'].append(\"patella_l_geom_1\"); ref_geom_dic['Mesh file'].append('model_update\\\\tps_warping_results\\\\patella_l.stl')"
   ]
  },
  {
   "cell_type": "code",
   "execution_count": 312,
   "metadata": {},
   "outputs": [],
   "source": [
    "ref_geom_df = pd.DataFrame(ref_geom_dic).set_index('Mesh name')"
   ]
  },
  {
   "cell_type": "code",
   "execution_count": 313,
   "metadata": {},
   "outputs": [],
   "source": [
    "for Mesh in root.iter('Mesh'):\n",
    "    point = Mesh.attrib['name']\n",
    "    if point in ref_geom_df.index:\n",
    "        new_text = ref_geom_df.loc[point, 'Mesh file']\n",
    "        # print(point, new_text)\n",
    "        Mesh.find('mesh_file').text = new_text\n",
    "        Mesh.find('scale_factors').text = '1 1 1'\n",
    "    else: pass"
   ]
  },
  {
   "cell_type": "markdown",
   "metadata": {},
   "source": [
    "### Update muscle paths"
   ]
  },
  {
   "cell_type": "code",
   "execution_count": 314,
   "metadata": {},
   "outputs": [],
   "source": [
    "for PathPoint in root.iter('PathPoint'):\n",
    "    point = PathPoint.attrib['name']\n",
    "    if point in mscles_df.index:\n",
    "        location = mscles_df.loc[point, 'location']\n",
    "        new_text = location[1:-1]\n",
    "        # print(point, new_text)\n",
    "        PathPoint.find('location').text = new_text\n",
    "    else: pass"
   ]
  },
  {
   "cell_type": "markdown",
   "metadata": {},
   "source": [
    "### Update Translation of joint centres"
   ]
  },
  {
   "cell_type": "code",
   "execution_count": 315,
   "metadata": {},
   "outputs": [],
   "source": [
    "femur_r_center_in_pelvis = markers_df.loc['femur_r_center_in_pelvis', 'location']\n",
    "femur_l_center_in_pelvis = markers_df.loc['femur_l_center_in_pelvis', 'location']\n",
    "knee_l_center_in_femur = markers_df.loc['knee_l_center_in_femur_l', 'location']\n",
    "knee_r_center_in_femur = markers_df.loc['knee_r_center_in_femur_r', 'location']\n",
    "patella_l_center_in_femur = markers_df.loc['patella_l_in_femur_l', 'location']\n",
    "patella_r_center_in_femur = markers_df.loc['patella_r_in_femur_r', 'location']\n",
    "\n",
    "talus_l_center_in_tibia = markers_df.loc['talus_l_center_in_tibia', 'location']\n",
    "talus_r_center_in_tibia = markers_df.loc['talus_r_center_in_tibia', 'location']"
   ]
  },
  {
   "cell_type": "code",
   "execution_count": 316,
   "metadata": {},
   "outputs": [
    {
     "name": "stdout",
     "output_type": "stream",
     "text": [
      "old r hip translation 0 0 0\n",
      "new r hip translation -0.04875945 -0.08137492  0.07899979\n",
      "old r hip translation -0.054749578125778159 -0.067104381248515976 0.075164411223214517\n",
      "new r hip translation -0.04875945 -0.08137492  0.07899979\n",
      "old r walker knee translation in femur -0.0076018198061946138 -0.38334220125280033 -0.0025840549403010121\n",
      "new r walker knee translation in femur  5.47117907e-16 -3.74675888e-01 -1.11910481e-16\n",
      "patellofemoral r old -0.0076018198061946138 -0.38334220125280033 -0.0025840549403010121\n",
      "patellofemoral r new  5.47117907e-16 -3.74675888e-01 -1.11910481e-16\n",
      "ankle r old -0.0097593388562149525 -0.3903735542485981 0\n",
      "ankle r new -0.00258989 -0.39920996 -0.00206685\n"
     ]
    }
   ],
   "source": [
    "for joint in root.iter('CustomJoint'):\n",
    "    \n",
    "    name = joint.attrib['name']\n",
    "    #ground_pelvis\n",
    "    if joint.attrib['name'] ==  \"ground_pelvis\":\n",
    "        for frame in joint.iter('PhysicalOffsetFrame'):\n",
    "            if frame.attrib['name'] == \"pelvis_offset\":\n",
    "                new_text = femur_r_center_in_pelvis[1:-1]\n",
    "                print('old r hip translation', frame.find('translation').text)\n",
    "                frame.find('translation').text = new_text\n",
    "                print('new r hip translation', frame.find('translation').text)\n",
    "            else: pass\n",
    "\n",
    "    if joint.attrib['name'] ==  \"hip_r\":\n",
    "        for frame in joint.iter('PhysicalOffsetFrame'):\n",
    "            if frame.attrib['name'] == \"pelvis_offset\":\n",
    "                new_text = femur_r_center_in_pelvis[1:-1]\n",
    "                print('old r hip translation', frame.find('translation').text)\n",
    "                frame.find('translation').text = new_text\n",
    "                print('new r hip translation', frame.find('translation').text)\n",
    "            else: pass\n",
    "    \n",
    "    elif joint.attrib['name'] ==  \"hip_l\":\n",
    "        for frame in joint.iter('PhysicalOffsetFrame'):\n",
    "            if frame.attrib['name'] == \"pelvis_offset\":\n",
    "                new_text = femur_l_center_in_pelvis[1:-1]\n",
    "                frame.find('translation').text = new_text\n",
    "            else: pass\n",
    "            \n",
    "    elif joint.attrib['name'] ==  \"walker_knee_r\":\n",
    "        for frame in joint.iter('PhysicalOffsetFrame'):\n",
    "            if frame.attrib['name'] == \"femur_r_offset\":\n",
    "                new_text = knee_r_center_in_femur[1:-1]\n",
    "                print('old r walker knee translation in femur',frame.find('translation').text)\n",
    "                frame.find('translation').text = new_text\n",
    "                print('new r walker knee translation in femur',frame.find('translation').text)\n",
    "            #if frame.attrib['name'] == \"tibia_r_offset\":\n",
    "            #    new_text = f\"{walker_knee_r_tibia_r_offset[0]}, {walker_knee_r_tibia_r_offset[1]}, {walker_knee_r_tibia_r_offset[2]}\"\n",
    "            #    print ('old r tibia translation', frame.find('translation').text)\n",
    "            #    frame.find('translation').text = new_text\n",
    "            #    print ('new r tibia translation', frame.find('translation').text)\n",
    "            else: pass    \n",
    "    \n",
    "    elif joint.attrib['name'] ==  \"walker_knee_l\":\n",
    "        for frame in joint.iter('PhysicalOffsetFrame'):\n",
    "            if frame.attrib['name'] == \"femur_l_offset\":\n",
    "                new_text = knee_l_center_in_femur[1:-1]\n",
    "                frame.find('translation').text = new_text\n",
    "    #        if frame.attrib['name'] == \"tibia_l_offset\":\n",
    "    #            new_text = f\"{walker_knee_l_tibia_l_offset[0]}, {walker_knee_l_tibia_l_offset[1]}, {walker_knee_l_tibia_l_offset[2]}\"\n",
    "    #            frame.find('translation').text = new_text\n",
    "            else: pass\n",
    "\n",
    "    elif joint.attrib['name'] ==  \"patellofemoral_r\":\n",
    "       for frame in joint.iter('PhysicalOffsetFrame'):\n",
    "           if frame.attrib['name'] == \"femur_r_offset\":\n",
    "               new_text = knee_r_center_in_femur[1:-1]\n",
    "               print('patellofemoral r old', frame.find('translation').text)\n",
    "               frame.find('translation').text = new_text\n",
    "               print('patellofemoral r new', frame.find('translation').text)\n",
    "           else: pass\n",
    "    \n",
    "    elif joint.attrib['name'] ==  \"patellofemoral_l\":\n",
    "       for frame in joint.iter('PhysicalOffsetFrame'):\n",
    "           if frame.attrib['name'] == \"femur_l_offset\":\n",
    "               new_text = knee_l_center_in_femur[1:-1]\n",
    "               frame.find('translation').text = new_text\n",
    "           else: pass\n",
    "\n",
    "for joint in root.iter('PinJoint'):\n",
    "    \n",
    "    name = joint.attrib['name']\n",
    "\n",
    "    if joint.attrib['name'] ==  \"ankle_r\":\n",
    "       for frame in joint.iter('PhysicalOffsetFrame'):\n",
    "           if frame.attrib['name'] == \"tibia_r_offset\":\n",
    "               new_text = talus_r_center_in_tibia [1:-1]\n",
    "               print('ankle r old', frame.find('translation').text)\n",
    "               frame.find('translation').text = new_text\n",
    "               print('ankle r new', frame.find('translation').text)\n",
    "           else: pass\n",
    "    \n",
    "    elif joint.attrib['name'] ==  \"ankle_l\":\n",
    "       for frame in joint.iter('PhysicalOffsetFrame'):\n",
    "           if frame.attrib['name'] == \"tibia_l_offset\":\n",
    "               new_text = talus_l_center_in_tibia [1:-1]\n",
    "               frame.find('translation').text = new_text\n",
    "           else: pass\n",
    "    else: pass"
   ]
  },
  {
   "cell_type": "markdown",
   "metadata": {},
   "source": [
    "### Update locations of muscle wrapping surfaces"
   ]
  },
  {
   "cell_type": "code",
   "execution_count": 317,
   "metadata": {},
   "outputs": [
    {
     "data": {
      "text/html": [
       "<div>\n",
       "<style scoped>\n",
       "    .dataframe tbody tr th:only-of-type {\n",
       "        vertical-align: middle;\n",
       "    }\n",
       "\n",
       "    .dataframe tbody tr th {\n",
       "        vertical-align: top;\n",
       "    }\n",
       "\n",
       "    .dataframe thead th {\n",
       "        text-align: right;\n",
       "    }\n",
       "</style>\n",
       "<table border=\"1\" class=\"dataframe\">\n",
       "  <thead>\n",
       "    <tr style=\"text-align: right;\">\n",
       "      <th></th>\n",
       "      <th>body</th>\n",
       "      <th>translation</th>\n",
       "      <th>rotation</th>\n",
       "      <th>length</th>\n",
       "      <th>radius</th>\n",
       "    </tr>\n",
       "    <tr>\n",
       "      <th>name</th>\n",
       "      <th></th>\n",
       "      <th></th>\n",
       "      <th></th>\n",
       "      <th></th>\n",
       "      <th></th>\n",
       "    </tr>\n",
       "  </thead>\n",
       "  <tbody>\n",
       "    <tr>\n",
       "      <th>Gmax1_at_pelvis_r</th>\n",
       "      <td>pelvis</td>\n",
       "      <td>[-0.0627, -0.1045, 0.0585]</td>\n",
       "      <td>[-0.55311, -0.11383, 0.00116]</td>\n",
       "      <td>0.1614</td>\n",
       "      <td>0.0336</td>\n",
       "    </tr>\n",
       "    <tr>\n",
       "      <th>Gmax2_at_pelvis_r</th>\n",
       "      <td>pelvis</td>\n",
       "      <td>[-0.0676, -0.0897, 0.0672]</td>\n",
       "      <td>[-0.70373, -0.12605, 0.00116]</td>\n",
       "      <td>0.1030</td>\n",
       "      <td>0.0339</td>\n",
       "    </tr>\n",
       "    <tr>\n",
       "      <th>Gmax3_at_pelvis_r</th>\n",
       "      <td>pelvis</td>\n",
       "      <td>[-0.0696, -0.0947, 0.0667]</td>\n",
       "      <td>[-0.13117, -0.05397, 0.00051]</td>\n",
       "      <td>0.1066</td>\n",
       "      <td>0.0339</td>\n",
       "    </tr>\n",
       "    <tr>\n",
       "      <th>Gmax1_at_pelvis_l</th>\n",
       "      <td>pelvis</td>\n",
       "      <td>[-0.0563, -0.095, -0.0773]</td>\n",
       "      <td>[0.63639, 0.01766, 0.0]</td>\n",
       "      <td>0.1666</td>\n",
       "      <td>0.0344</td>\n",
       "    </tr>\n",
       "    <tr>\n",
       "      <th>Gmax2_at_pelvis_l</th>\n",
       "      <td>pelvis</td>\n",
       "      <td>[-0.0604, -0.0793, -0.0833]</td>\n",
       "      <td>[0.79343, 0.04523, 5e-05]</td>\n",
       "      <td>0.1068</td>\n",
       "      <td>0.0349</td>\n",
       "    </tr>\n",
       "  </tbody>\n",
       "</table>\n",
       "</div>"
      ],
      "text/plain": [
       "                     body                  translation  \\\n",
       "name                                                     \n",
       "Gmax1_at_pelvis_r  pelvis   [-0.0627, -0.1045, 0.0585]   \n",
       "Gmax2_at_pelvis_r  pelvis   [-0.0676, -0.0897, 0.0672]   \n",
       "Gmax3_at_pelvis_r  pelvis   [-0.0696, -0.0947, 0.0667]   \n",
       "Gmax1_at_pelvis_l  pelvis   [-0.0563, -0.095, -0.0773]   \n",
       "Gmax2_at_pelvis_l  pelvis  [-0.0604, -0.0793, -0.0833]   \n",
       "\n",
       "                                        rotation  length  radius  \n",
       "name                                                              \n",
       "Gmax1_at_pelvis_r  [-0.55311, -0.11383, 0.00116]  0.1614  0.0336  \n",
       "Gmax2_at_pelvis_r  [-0.70373, -0.12605, 0.00116]  0.1030  0.0339  \n",
       "Gmax3_at_pelvis_r  [-0.13117, -0.05397, 0.00051]  0.1066  0.0339  \n",
       "Gmax1_at_pelvis_l        [0.63639, 0.01766, 0.0]  0.1666  0.0344  \n",
       "Gmax2_at_pelvis_l      [0.79343, 0.04523, 5e-05]  0.1068  0.0349  "
      ]
     },
     "execution_count": 317,
     "metadata": {},
     "output_type": "execute_result"
    }
   ],
   "source": [
    "wrp_df.head()"
   ]
  },
  {
   "cell_type": "code",
   "execution_count": 318,
   "metadata": {},
   "outputs": [],
   "source": [
    "for WrapCylinder in root.iter('WrapCylinder'):\n",
    "    point = WrapCylinder.attrib['name']\n",
    "    if point in wrp_df.index:\n",
    "        translation = wrp_df.loc[point, 'translation']\n",
    "        new_text = translation[1:-1]\n",
    "        # print(point, new_text)\n",
    "        WrapCylinder.find('translation').text = new_text\n",
    "    else: pass"
   ]
  },
  {
   "cell_type": "markdown",
   "metadata": {},
   "source": [
    "### Export transformed model"
   ]
  },
  {
   "cell_type": "code",
   "execution_count": 319,
   "metadata": {},
   "outputs": [],
   "source": [
    "tree.write('p03_tps_transformed_1.osim')"
   ]
  }
 ],
 "metadata": {
  "kernelspec": {
   "display_name": "py38",
   "language": "python",
   "name": "python3"
  },
  "language_info": {
   "codemirror_mode": {
    "name": "ipython",
    "version": 3
   },
   "file_extension": ".py",
   "mimetype": "text/x-python",
   "name": "python",
   "nbconvert_exporter": "python",
   "pygments_lexer": "ipython3",
   "version": "3.8.18"
  }
 },
 "nbformat": 4,
 "nbformat_minor": 2
}
